{
 "cells": [
  {
   "cell_type": "code",
   "execution_count": 1,
   "metadata": {},
   "outputs": [],
   "source": [
    "import pandas as pd"
   ]
  },
  {
   "cell_type": "code",
   "execution_count": 2,
   "metadata": {},
   "outputs": [],
   "source": [
    "#Leer el archivo de excel\n",
    "df = pd.read_excel(\"data (3).xlsx\")"
   ]
  },
  {
   "cell_type": "code",
   "execution_count": 3,
   "metadata": {},
   "outputs": [
    {
     "data": {
      "text/html": [
       "<div>\n",
       "<style scoped>\n",
       "    .dataframe tbody tr th:only-of-type {\n",
       "        vertical-align: middle;\n",
       "    }\n",
       "\n",
       "    .dataframe tbody tr th {\n",
       "        vertical-align: top;\n",
       "    }\n",
       "\n",
       "    .dataframe thead th {\n",
       "        text-align: right;\n",
       "    }\n",
       "</style>\n",
       "<table border=\"1\" class=\"dataframe\">\n",
       "  <thead>\n",
       "    <tr style=\"text-align: right;\">\n",
       "      <th></th>\n",
       "      <th>Tipo Error</th>\n",
       "      <th>#Incidencia</th>\n",
       "      <th>Resumen</th>\n",
       "      <th>Soporte+Calidad</th>\n",
       "      <th>Estado</th>\n",
       "      <th>Usuario Asignado</th>\n",
       "      <th>Año</th>\n",
       "      <th>Mes</th>\n",
       "    </tr>\n",
       "  </thead>\n",
       "  <tbody>\n",
       "    <tr>\n",
       "      <th>0</th>\n",
       "      <td>REQUERIMIENTO</td>\n",
       "      <td>49618</td>\n",
       "      <td>Existe un pedido que se encuentra en estado ap...</td>\n",
       "      <td>1.0</td>\n",
       "      <td>cerrada</td>\n",
       "      <td>xvasquez</td>\n",
       "      <td>2023.0</td>\n",
       "      <td>9.0</td>\n",
       "    </tr>\n",
       "    <tr>\n",
       "      <th>1</th>\n",
       "      <td>ERROR CLIENTE</td>\n",
       "      <td>52517</td>\n",
       "      <td>ERROR EN COSTOS INDIRECTOS OF-021460, OF-02136...</td>\n",
       "      <td>3.5</td>\n",
       "      <td>cerrada</td>\n",
       "      <td>xvasquez</td>\n",
       "      <td>2023.0</td>\n",
       "      <td>9.0</td>\n",
       "    </tr>\n",
       "    <tr>\n",
       "      <th>2</th>\n",
       "      <td>CONSULTA</td>\n",
       "      <td>RG-GC0000016024</td>\n",
       "      <td>Reunión verificación consumos de bodega</td>\n",
       "      <td>0.5</td>\n",
       "      <td>NaN</td>\n",
       "      <td>xvasquez</td>\n",
       "      <td>2023.0</td>\n",
       "      <td>2.0</td>\n",
       "    </tr>\n",
       "    <tr>\n",
       "      <th>3</th>\n",
       "      <td>CONSULTA</td>\n",
       "      <td>RG-GC0000016025</td>\n",
       "      <td>Nueva Capacitación Flujo Compras</td>\n",
       "      <td>2.0</td>\n",
       "      <td>NaN</td>\n",
       "      <td>xvasquez</td>\n",
       "      <td>2023.0</td>\n",
       "      <td>2.0</td>\n",
       "    </tr>\n",
       "    <tr>\n",
       "      <th>4</th>\n",
       "      <td>CONSULTA</td>\n",
       "      <td>RG-GC0000017654</td>\n",
       "      <td>Reunión de mesa solventar la firma electrónica...</td>\n",
       "      <td>2.0</td>\n",
       "      <td>NaN</td>\n",
       "      <td>xvasquez</td>\n",
       "      <td>2023.0</td>\n",
       "      <td>6.0</td>\n",
       "    </tr>\n",
       "  </tbody>\n",
       "</table>\n",
       "</div>"
      ],
      "text/plain": [
       "      Tipo Error      #Incidencia  \\\n",
       "0  REQUERIMIENTO            49618   \n",
       "1  ERROR CLIENTE            52517   \n",
       "2       CONSULTA  RG-GC0000016024   \n",
       "3       CONSULTA  RG-GC0000016025   \n",
       "4       CONSULTA  RG-GC0000017654   \n",
       "\n",
       "                                             Resumen  Soporte+Calidad  \\\n",
       "0  Existe un pedido que se encuentra en estado ap...              1.0   \n",
       "1  ERROR EN COSTOS INDIRECTOS OF-021460, OF-02136...              3.5   \n",
       "2            Reunión verificación consumos de bodega              0.5   \n",
       "3                   Nueva Capacitación Flujo Compras              2.0   \n",
       "4  Reunión de mesa solventar la firma electrónica...              2.0   \n",
       "\n",
       "    Estado Usuario Asignado     Año  Mes  \n",
       "0  cerrada         xvasquez  2023.0  9.0  \n",
       "1  cerrada         xvasquez  2023.0  9.0  \n",
       "2      NaN         xvasquez  2023.0  2.0  \n",
       "3      NaN         xvasquez  2023.0  2.0  \n",
       "4      NaN         xvasquez  2023.0  6.0  "
      ]
     },
     "execution_count": 3,
     "metadata": {},
     "output_type": "execute_result"
    }
   ],
   "source": [
    "df.head()"
   ]
  },
  {
   "cell_type": "code",
   "execution_count": 4,
   "metadata": {},
   "outputs": [],
   "source": [
    "#Eliminar todos los datos que en la columna resumen digan \"Vacaciones\"\n",
    "df = df[df[\"Resumen\"] != \"VACACIONES\"]"
   ]
  },
  {
   "cell_type": "code",
   "execution_count": 7,
   "metadata": {},
   "outputs": [
    {
     "data": {
      "text/html": [
       "<div>\n",
       "<style scoped>\n",
       "    .dataframe tbody tr th:only-of-type {\n",
       "        vertical-align: middle;\n",
       "    }\n",
       "\n",
       "    .dataframe tbody tr th {\n",
       "        vertical-align: top;\n",
       "    }\n",
       "\n",
       "    .dataframe thead th {\n",
       "        text-align: right;\n",
       "    }\n",
       "</style>\n",
       "<table border=\"1\" class=\"dataframe\">\n",
       "  <thead>\n",
       "    <tr style=\"text-align: right;\">\n",
       "      <th></th>\n",
       "      <th>Tipo Error</th>\n",
       "      <th>#Incidencia</th>\n",
       "      <th>Resumen</th>\n",
       "      <th>Soporte+Calidad</th>\n",
       "      <th>Estado</th>\n",
       "      <th>Usuario Asignado</th>\n",
       "      <th>Año</th>\n",
       "      <th>Mes</th>\n",
       "    </tr>\n",
       "  </thead>\n",
       "  <tbody>\n",
       "    <tr>\n",
       "      <th>0</th>\n",
       "      <td>REQUERIMIENTO</td>\n",
       "      <td>49618</td>\n",
       "      <td>Existe un pedido que se encuentra en estado ap...</td>\n",
       "      <td>1.0</td>\n",
       "      <td>cerrada</td>\n",
       "      <td>xvasquez</td>\n",
       "      <td>2023.0</td>\n",
       "      <td>9.0</td>\n",
       "    </tr>\n",
       "    <tr>\n",
       "      <th>1</th>\n",
       "      <td>ERROR CLIENTE</td>\n",
       "      <td>52517</td>\n",
       "      <td>ERROR EN COSTOS INDIRECTOS OF-021460, OF-02136...</td>\n",
       "      <td>3.5</td>\n",
       "      <td>cerrada</td>\n",
       "      <td>xvasquez</td>\n",
       "      <td>2023.0</td>\n",
       "      <td>9.0</td>\n",
       "    </tr>\n",
       "    <tr>\n",
       "      <th>2</th>\n",
       "      <td>CONSULTA</td>\n",
       "      <td>RG-GC0000016024</td>\n",
       "      <td>Reunión verificación consumos de bodega</td>\n",
       "      <td>0.5</td>\n",
       "      <td>NaN</td>\n",
       "      <td>xvasquez</td>\n",
       "      <td>2023.0</td>\n",
       "      <td>2.0</td>\n",
       "    </tr>\n",
       "    <tr>\n",
       "      <th>3</th>\n",
       "      <td>CONSULTA</td>\n",
       "      <td>RG-GC0000016025</td>\n",
       "      <td>Nueva Capacitación Flujo Compras</td>\n",
       "      <td>2.0</td>\n",
       "      <td>NaN</td>\n",
       "      <td>xvasquez</td>\n",
       "      <td>2023.0</td>\n",
       "      <td>2.0</td>\n",
       "    </tr>\n",
       "    <tr>\n",
       "      <th>4</th>\n",
       "      <td>CONSULTA</td>\n",
       "      <td>RG-GC0000017654</td>\n",
       "      <td>Reunión de mesa solventar la firma electrónica...</td>\n",
       "      <td>2.0</td>\n",
       "      <td>NaN</td>\n",
       "      <td>xvasquez</td>\n",
       "      <td>2023.0</td>\n",
       "      <td>6.0</td>\n",
       "    </tr>\n",
       "  </tbody>\n",
       "</table>\n",
       "</div>"
      ],
      "text/plain": [
       "      Tipo Error      #Incidencia  \\\n",
       "0  REQUERIMIENTO            49618   \n",
       "1  ERROR CLIENTE            52517   \n",
       "2       CONSULTA  RG-GC0000016024   \n",
       "3       CONSULTA  RG-GC0000016025   \n",
       "4       CONSULTA  RG-GC0000017654   \n",
       "\n",
       "                                             Resumen  Soporte+Calidad  \\\n",
       "0  Existe un pedido que se encuentra en estado ap...              1.0   \n",
       "1  ERROR EN COSTOS INDIRECTOS OF-021460, OF-02136...              3.5   \n",
       "2            Reunión verificación consumos de bodega              0.5   \n",
       "3                   Nueva Capacitación Flujo Compras              2.0   \n",
       "4  Reunión de mesa solventar la firma electrónica...              2.0   \n",
       "\n",
       "    Estado Usuario Asignado     Año  Mes  \n",
       "0  cerrada         xvasquez  2023.0  9.0  \n",
       "1  cerrada         xvasquez  2023.0  9.0  \n",
       "2      NaN         xvasquez  2023.0  2.0  \n",
       "3      NaN         xvasquez  2023.0  2.0  \n",
       "4      NaN         xvasquez  2023.0  6.0  "
      ]
     },
     "execution_count": 7,
     "metadata": {},
     "output_type": "execute_result"
    }
   ],
   "source": [
    "df.head()"
   ]
  },
  {
   "cell_type": "code",
   "execution_count": 12,
   "metadata": {},
   "outputs": [
    {
     "name": "stdout",
     "output_type": "stream",
     "text": [
      "['¿', 'Cuánto', 'tiempo', 'pasó', 'desde', 'que', 'comí', 'una', 'manzana', '?']\n",
      "['#', 'Oscar', 'a', 'Mejor', 'Película', 'Internacional', ';', '😩😔😁', 'un', 'filme', 'ecuatoriano', 'figura', 'en', 'la', 'lista', '»', 'https', '://', 't', '.', 'co', '/', 'cb5p6eX3DZ', 'https', '://', 't', '.', 'co', '/', 'kQ0nVAbyOn']\n",
      "['#', 'Oscar', 'a', 'Mejor', 'Película', 'Internacional', ';', '😩😔😁', 'un', 'filme', 'ecuatoriano', 'figura', 'en', 'la', 'lista', '»', 'https', ':', '//t.co/cb5p6eX3DZ', 'https', ':', '//t.co/kQ0nVAbyOn']\n",
      "['#', 'Oscar', 'a', 'Mejor', 'Película', 'Internacional', ';', '😩😔😁', 'un', 'filme', 'ecuatoriano', 'figura', 'en', 'la', 'lista', '»', 'https', '://', 't', '.', 'co', '/', 'cb5p6eX3DZ', 'https', '://', 't', '.', 'co', '/', 'kQ0nVAbyOn']\n"
     ]
    }
   ],
   "source": [
    "import nltk\n",
    "from nltk.tokenize import WordPunctTokenizer\n",
    "from nltk.tokenize import TreebankWordTokenizer\n",
    "\n",
    "texto = \"¿Cuánto tiempo pasó desde que comí una manzana?\"\n",
    "tweet = ' #Oscar a Mejor Película Internacional; 😩😔😁 un filme ecuatoriano figura en la lista » https://t.co/cb5p6eX3DZ https://t.co/kQ0nVAbyOn'\n",
    "\n",
    "print(WordPunctTokenizer().tokenize(texto))\n",
    "print(WordPunctTokenizer().tokenize(tweet))\n",
    "print(TreebankWordTokenizer().tokenize(tweet))\n",
    "print(WordPunctTokenizer().tokenize(tweet))\n"
   ]
  },
  {
   "cell_type": "code",
   "execution_count": 18,
   "metadata": {},
   "outputs": [
    {
     "name": "stdout",
     "output_type": "stream",
     "text": [
      "['Emill', 'el', 'mejor']\n"
     ]
    },
    {
     "ename": "TypeError",
     "evalue": "expected string or bytes-like object, got 'float'",
     "output_type": "error",
     "traceback": [
      "\u001b[1;31m---------------------------------------------------------------------------\u001b[0m",
      "\u001b[1;31mTypeError\u001b[0m                                 Traceback (most recent call last)",
      "\u001b[1;32mc:\\Users\\elogrono\\Documents\\Github\\Maestria\\Business_Analytics\\dani\\index.ipynb Cell 7\u001b[0m line \u001b[0;36m6\n\u001b[0;32m      <a href='vscode-notebook-cell:/c%3A/Users/elogrono/Documents/Github/Maestria/Business_Analytics/dani/index.ipynb#W6sZmlsZQ%3D%3D?line=3'>4</a>\u001b[0m \u001b[39mprint\u001b[39m(WordPunctTokenizer()\u001b[39m.\u001b[39mtokenize(texto_emill))\n\u001b[0;32m      <a href='vscode-notebook-cell:/c%3A/Users/elogrono/Documents/Github/Maestria/Business_Analytics/dani/index.ipynb#W6sZmlsZQ%3D%3D?line=4'>5</a>\u001b[0m \u001b[39m# Ahora voy a tokenizar la columna resumen\u001b[39;00m\n\u001b[1;32m----> <a href='vscode-notebook-cell:/c%3A/Users/elogrono/Documents/Github/Maestria/Business_Analytics/dani/index.ipynb#W6sZmlsZQ%3D%3D?line=5'>6</a>\u001b[0m df[\u001b[39m\"\u001b[39m\u001b[39mResumen\u001b[39m\u001b[39m\"\u001b[39m] \u001b[39m=\u001b[39m df[\u001b[39m\"\u001b[39;49m\u001b[39mResumen\u001b[39;49m\u001b[39m\"\u001b[39;49m]\u001b[39m.\u001b[39;49mapply(\u001b[39mlambda\u001b[39;49;00m x: WordPunctTokenizer()\u001b[39m.\u001b[39;49mtokenize(x))\n",
      "File \u001b[1;32mc:\\Users\\elogrono\\Documents\\Github\\Maestria\\venv\\Lib\\site-packages\\pandas\\core\\series.py:4765\u001b[0m, in \u001b[0;36mSeries.apply\u001b[1;34m(self, func, convert_dtype, args, by_row, **kwargs)\u001b[0m\n\u001b[0;32m   4625\u001b[0m \u001b[39mdef\u001b[39;00m \u001b[39mapply\u001b[39m(\n\u001b[0;32m   4626\u001b[0m     \u001b[39mself\u001b[39m,\n\u001b[0;32m   4627\u001b[0m     func: AggFuncType,\n\u001b[1;32m   (...)\u001b[0m\n\u001b[0;32m   4632\u001b[0m     \u001b[39m*\u001b[39m\u001b[39m*\u001b[39mkwargs,\n\u001b[0;32m   4633\u001b[0m ) \u001b[39m-\u001b[39m\u001b[39m>\u001b[39m DataFrame \u001b[39m|\u001b[39m Series:\n\u001b[0;32m   4634\u001b[0m \u001b[39m    \u001b[39m\u001b[39m\"\"\"\u001b[39;00m\n\u001b[0;32m   4635\u001b[0m \u001b[39m    Invoke function on values of Series.\u001b[39;00m\n\u001b[0;32m   4636\u001b[0m \n\u001b[1;32m   (...)\u001b[0m\n\u001b[0;32m   4756\u001b[0m \u001b[39m    dtype: float64\u001b[39;00m\n\u001b[0;32m   4757\u001b[0m \u001b[39m    \"\"\"\u001b[39;00m\n\u001b[0;32m   4758\u001b[0m     \u001b[39mreturn\u001b[39;00m SeriesApply(\n\u001b[0;32m   4759\u001b[0m         \u001b[39mself\u001b[39;49m,\n\u001b[0;32m   4760\u001b[0m         func,\n\u001b[0;32m   4761\u001b[0m         convert_dtype\u001b[39m=\u001b[39;49mconvert_dtype,\n\u001b[0;32m   4762\u001b[0m         by_row\u001b[39m=\u001b[39;49mby_row,\n\u001b[0;32m   4763\u001b[0m         args\u001b[39m=\u001b[39;49margs,\n\u001b[0;32m   4764\u001b[0m         kwargs\u001b[39m=\u001b[39;49mkwargs,\n\u001b[1;32m-> 4765\u001b[0m     )\u001b[39m.\u001b[39;49mapply()\n",
      "File \u001b[1;32mc:\\Users\\elogrono\\Documents\\Github\\Maestria\\venv\\Lib\\site-packages\\pandas\\core\\apply.py:1201\u001b[0m, in \u001b[0;36mSeriesApply.apply\u001b[1;34m(self)\u001b[0m\n\u001b[0;32m   1198\u001b[0m     \u001b[39mreturn\u001b[39;00m \u001b[39mself\u001b[39m\u001b[39m.\u001b[39mapply_compat()\n\u001b[0;32m   1200\u001b[0m \u001b[39m# self.func is Callable\u001b[39;00m\n\u001b[1;32m-> 1201\u001b[0m \u001b[39mreturn\u001b[39;00m \u001b[39mself\u001b[39;49m\u001b[39m.\u001b[39;49mapply_standard()\n",
      "File \u001b[1;32mc:\\Users\\elogrono\\Documents\\Github\\Maestria\\venv\\Lib\\site-packages\\pandas\\core\\apply.py:1281\u001b[0m, in \u001b[0;36mSeriesApply.apply_standard\u001b[1;34m(self)\u001b[0m\n\u001b[0;32m   1275\u001b[0m \u001b[39m# row-wise access\u001b[39;00m\n\u001b[0;32m   1276\u001b[0m \u001b[39m# apply doesn't have a `na_action` keyword and for backward compat reasons\u001b[39;00m\n\u001b[0;32m   1277\u001b[0m \u001b[39m# we need to give `na_action=\"ignore\"` for categorical data.\u001b[39;00m\n\u001b[0;32m   1278\u001b[0m \u001b[39m# TODO: remove the `na_action=\"ignore\"` when that default has been changed in\u001b[39;00m\n\u001b[0;32m   1279\u001b[0m \u001b[39m#  Categorical (GH51645).\u001b[39;00m\n\u001b[0;32m   1280\u001b[0m action \u001b[39m=\u001b[39m \u001b[39m\"\u001b[39m\u001b[39mignore\u001b[39m\u001b[39m\"\u001b[39m \u001b[39mif\u001b[39;00m \u001b[39misinstance\u001b[39m(obj\u001b[39m.\u001b[39mdtype, CategoricalDtype) \u001b[39melse\u001b[39;00m \u001b[39mNone\u001b[39;00m\n\u001b[1;32m-> 1281\u001b[0m mapped \u001b[39m=\u001b[39m obj\u001b[39m.\u001b[39;49m_map_values(\n\u001b[0;32m   1282\u001b[0m     mapper\u001b[39m=\u001b[39;49mcurried, na_action\u001b[39m=\u001b[39;49maction, convert\u001b[39m=\u001b[39;49m\u001b[39mself\u001b[39;49m\u001b[39m.\u001b[39;49mconvert_dtype\n\u001b[0;32m   1283\u001b[0m )\n\u001b[0;32m   1285\u001b[0m \u001b[39mif\u001b[39;00m \u001b[39mlen\u001b[39m(mapped) \u001b[39mand\u001b[39;00m \u001b[39misinstance\u001b[39m(mapped[\u001b[39m0\u001b[39m], ABCSeries):\n\u001b[0;32m   1286\u001b[0m     warnings\u001b[39m.\u001b[39mwarn(\n\u001b[0;32m   1287\u001b[0m         \u001b[39m\"\u001b[39m\u001b[39mReturning a DataFrame from Series.apply when the supplied function \u001b[39m\u001b[39m\"\u001b[39m\n\u001b[0;32m   1288\u001b[0m         \u001b[39m\"\u001b[39m\u001b[39mreturns a Series is deprecated and will be removed in a future \u001b[39m\u001b[39m\"\u001b[39m\n\u001b[1;32m   (...)\u001b[0m\n\u001b[0;32m   1291\u001b[0m         stacklevel\u001b[39m=\u001b[39mfind_stack_level(),\n\u001b[0;32m   1292\u001b[0m     )  \u001b[39m# GH52116\u001b[39;00m\n",
      "File \u001b[1;32mc:\\Users\\elogrono\\Documents\\Github\\Maestria\\venv\\Lib\\site-packages\\pandas\\core\\base.py:921\u001b[0m, in \u001b[0;36mIndexOpsMixin._map_values\u001b[1;34m(self, mapper, na_action, convert)\u001b[0m\n\u001b[0;32m    918\u001b[0m \u001b[39mif\u001b[39;00m \u001b[39misinstance\u001b[39m(arr, ExtensionArray):\n\u001b[0;32m    919\u001b[0m     \u001b[39mreturn\u001b[39;00m arr\u001b[39m.\u001b[39mmap(mapper, na_action\u001b[39m=\u001b[39mna_action)\n\u001b[1;32m--> 921\u001b[0m \u001b[39mreturn\u001b[39;00m algorithms\u001b[39m.\u001b[39;49mmap_array(arr, mapper, na_action\u001b[39m=\u001b[39;49mna_action, convert\u001b[39m=\u001b[39;49mconvert)\n",
      "File \u001b[1;32mc:\\Users\\elogrono\\Documents\\Github\\Maestria\\venv\\Lib\\site-packages\\pandas\\core\\algorithms.py:1812\u001b[0m, in \u001b[0;36mmap_array\u001b[1;34m(arr, mapper, na_action, convert)\u001b[0m\n\u001b[0;32m   1810\u001b[0m values \u001b[39m=\u001b[39m arr\u001b[39m.\u001b[39mastype(\u001b[39mobject\u001b[39m, copy\u001b[39m=\u001b[39m\u001b[39mFalse\u001b[39;00m)\n\u001b[0;32m   1811\u001b[0m \u001b[39mif\u001b[39;00m na_action \u001b[39mis\u001b[39;00m \u001b[39mNone\u001b[39;00m:\n\u001b[1;32m-> 1812\u001b[0m     \u001b[39mreturn\u001b[39;00m lib\u001b[39m.\u001b[39;49mmap_infer(values, mapper, convert\u001b[39m=\u001b[39;49mconvert)\n\u001b[0;32m   1813\u001b[0m \u001b[39melse\u001b[39;00m:\n\u001b[0;32m   1814\u001b[0m     \u001b[39mreturn\u001b[39;00m lib\u001b[39m.\u001b[39mmap_infer_mask(\n\u001b[0;32m   1815\u001b[0m         values, mapper, mask\u001b[39m=\u001b[39misna(values)\u001b[39m.\u001b[39mview(np\u001b[39m.\u001b[39muint8), convert\u001b[39m=\u001b[39mconvert\n\u001b[0;32m   1816\u001b[0m     )\n",
      "File \u001b[1;32mlib.pyx:2917\u001b[0m, in \u001b[0;36mpandas._libs.lib.map_infer\u001b[1;34m()\u001b[0m\n",
      "\u001b[1;32mc:\\Users\\elogrono\\Documents\\Github\\Maestria\\Business_Analytics\\dani\\index.ipynb Cell 7\u001b[0m line \u001b[0;36m6\n\u001b[0;32m      <a href='vscode-notebook-cell:/c%3A/Users/elogrono/Documents/Github/Maestria/Business_Analytics/dani/index.ipynb#W6sZmlsZQ%3D%3D?line=3'>4</a>\u001b[0m \u001b[39mprint\u001b[39m(WordPunctTokenizer()\u001b[39m.\u001b[39mtokenize(texto_emill))\n\u001b[0;32m      <a href='vscode-notebook-cell:/c%3A/Users/elogrono/Documents/Github/Maestria/Business_Analytics/dani/index.ipynb#W6sZmlsZQ%3D%3D?line=4'>5</a>\u001b[0m \u001b[39m# Ahora voy a tokenizar la columna resumen\u001b[39;00m\n\u001b[1;32m----> <a href='vscode-notebook-cell:/c%3A/Users/elogrono/Documents/Github/Maestria/Business_Analytics/dani/index.ipynb#W6sZmlsZQ%3D%3D?line=5'>6</a>\u001b[0m df[\u001b[39m\"\u001b[39m\u001b[39mResumen\u001b[39m\u001b[39m\"\u001b[39m] \u001b[39m=\u001b[39m df[\u001b[39m\"\u001b[39m\u001b[39mResumen\u001b[39m\u001b[39m\"\u001b[39m]\u001b[39m.\u001b[39mapply(\u001b[39mlambda\u001b[39;00m x: WordPunctTokenizer()\u001b[39m.\u001b[39;49mtokenize(x))\n",
      "File \u001b[1;32mc:\\Users\\elogrono\\Documents\\Github\\Maestria\\venv\\Lib\\site-packages\\nltk\\tokenize\\regexp.py:133\u001b[0m, in \u001b[0;36mRegexpTokenizer.tokenize\u001b[1;34m(self, text)\u001b[0m\n\u001b[0;32m    129\u001b[0m         \u001b[39mreturn\u001b[39;00m \u001b[39mself\u001b[39m\u001b[39m.\u001b[39m_regexp\u001b[39m.\u001b[39msplit(text)\n\u001b[0;32m    131\u001b[0m \u001b[39m# If our regexp matches tokens, use re.findall:\u001b[39;00m\n\u001b[0;32m    132\u001b[0m \u001b[39melse\u001b[39;00m:\n\u001b[1;32m--> 133\u001b[0m     \u001b[39mreturn\u001b[39;00m \u001b[39mself\u001b[39m\u001b[39m.\u001b[39m_regexp\u001b[39m.\u001b[39mfindall(text)\n",
      "\u001b[1;31mTypeError\u001b[0m: expected string or bytes-like object, got 'float'"
     ]
    }
   ],
   "source": [
    "# Ahora lo hago para la columna resumen\n",
    "texto_emill = 'Emill el mejor'\n",
    "\n",
    "print(WordPunctTokenizer().tokenize(texto_emill))\n",
    "# Ahora voy a tokenizar la columna resumen\n",
    "\n",
    "\n"
   ]
  }
 ],
 "metadata": {
  "kernelspec": {
   "display_name": "venv",
   "language": "python",
   "name": "python3"
  },
  "language_info": {
   "codemirror_mode": {
    "name": "ipython",
    "version": 3
   },
   "file_extension": ".py",
   "mimetype": "text/x-python",
   "name": "python",
   "nbconvert_exporter": "python",
   "pygments_lexer": "ipython3",
   "version": "3.11.4"
  }
 },
 "nbformat": 4,
 "nbformat_minor": 2
}
