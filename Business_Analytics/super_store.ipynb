{
 "cells": [
  {
   "cell_type": "code",
   "execution_count": 1,
   "metadata": {},
   "outputs": [],
   "source": [
    "import pandas as pd\n",
    "import numpy as np\n",
    "import seaborn as sns"
   ]
  },
  {
   "cell_type": "code",
   "execution_count": 2,
   "metadata": {},
   "outputs": [],
   "source": [
    "# leer el archivo de excel\n",
    "df = pd.read_excel('superstore.xlsx')"
   ]
  },
  {
   "cell_type": "code",
   "execution_count": 3,
   "metadata": {},
   "outputs": [
    {
     "name": "stdout",
     "output_type": "stream",
     "text": [
      "   Row ID        Order ID Order Date  Ship Date       Ship Mode Customer ID  \\\n",
      "0       1  CA-2016-152156 2016-11-08 2016-11-11    Second Class    CG-12520   \n",
      "1       2  CA-2016-152156 2016-11-08 2016-11-11    Second Class    CG-12520   \n",
      "2       3  CA-2016-138688 2016-06-12 2016-06-16    Second Class    DV-13045   \n",
      "3       4  US-2015-108966 2015-10-11 2015-10-18  Standard Class    SO-20335   \n",
      "4       5  US-2015-108966 2015-10-11 2015-10-18  Standard Class    SO-20335   \n",
      "\n",
      "     Customer Name    Segment        Country             City  ...  \\\n",
      "0      Claire Gute   Consumer  United States        Henderson  ...   \n",
      "1      Claire Gute   Consumer  United States        Henderson  ...   \n",
      "2  Darrin Van Huff  Corporate  United States      Los Angeles  ...   \n",
      "3   Sean O'Donnell   Consumer  United States  Fort Lauderdale  ...   \n",
      "4   Sean O'Donnell   Consumer  United States  Fort Lauderdale  ...   \n",
      "\n",
      "  Postal Code  Region       Product ID         Category Sub-Category  \\\n",
      "0       42420   South  FUR-BO-10001798        Furniture    Bookcases   \n",
      "1       42420   South  FUR-CH-10000454        Furniture       Chairs   \n",
      "2       90036    West  OFF-LA-10000240  Office Supplies       Labels   \n",
      "3       33311   South  FUR-TA-10000577        Furniture       Tables   \n",
      "4       33311   South  OFF-ST-10000760  Office Supplies      Storage   \n",
      "\n",
      "                                        Product Name     Sales  Quantity  \\\n",
      "0                  Bush Somerset Collection Bookcase  261.9600         2   \n",
      "1  Hon Deluxe Fabric Upholstered Stacking Chairs,...  731.9400         3   \n",
      "2  Self-Adhesive Address Labels for Typewriters b...   14.6200         2   \n",
      "3      Bretford CR4500 Series Slim Rectangular Table  957.5775         5   \n",
      "4                     Eldon Fold 'N Roll Cart System   22.3680         2   \n",
      "\n",
      "   Discount    Profit  \n",
      "0      0.00   41.9136  \n",
      "1      0.00  219.5820  \n",
      "2      0.00    6.8714  \n",
      "3      0.45 -383.0310  \n",
      "4      0.20    2.5164  \n",
      "\n",
      "[5 rows x 21 columns]\n"
     ]
    }
   ],
   "source": [
    "print(df.head())"
   ]
  },
  {
   "cell_type": "code",
   "execution_count": 4,
   "metadata": {},
   "outputs": [
    {
     "data": {
      "text/plain": [
       "Index(['Row ID', 'Order ID', 'Order Date', 'Ship Date', 'Ship Mode',\n",
       "       'Customer ID', 'Customer Name', 'Segment', 'Country', 'City', 'State',\n",
       "       'Postal Code', 'Region', 'Product ID', 'Category', 'Sub-Category',\n",
       "       'Product Name', 'Sales', 'Quantity', 'Discount', 'Profit'],\n",
       "      dtype='object')"
      ]
     },
     "execution_count": 4,
     "metadata": {},
     "output_type": "execute_result"
    }
   ],
   "source": [
    "df.columns"
   ]
  },
  {
   "cell_type": "markdown",
   "metadata": {},
   "source": [
    " - Transformar toda la columna Order Date a datetime"
   ]
  },
  {
   "cell_type": "code",
   "execution_count": 5,
   "metadata": {},
   "outputs": [],
   "source": [
    "df['Order Date'] = pd.to_datetime(df['Order Date'])"
   ]
  },
  {
   "cell_type": "markdown",
   "metadata": {},
   "source": [
    "<h1>Recency </h1>"
   ]
  },
  {
   "cell_type": "code",
   "execution_count": 6,
   "metadata": {},
   "outputs": [
    {
     "data": {
      "text/plain": [
       "Timestamp('2017-12-30 00:00:00')"
      ]
     },
     "execution_count": 6,
     "metadata": {},
     "output_type": "execute_result"
    }
   ],
   "source": [
    "# Calcula la fecha máxima de order Date\n",
    "last_order_date = df['Order Date'].max()\n",
    "last_order_date\n"
   ]
  },
  {
   "cell_type": "markdown",
   "metadata": {},
   "source": [
    "<h1>Última orden por cada cliente </h1>"
   ]
  },
  {
   "cell_type": "code",
   "execution_count": 7,
   "metadata": {},
   "outputs": [
    {
     "data": {
      "text/plain": [
       "Customer ID\n",
       "AA-10315   2017-06-29\n",
       "AA-10375   2017-12-11\n",
       "AA-10480   2017-04-15\n",
       "AA-10645   2017-11-05\n",
       "AB-10015   2016-11-10\n",
       "              ...    \n",
       "XP-21865   2017-11-17\n",
       "YC-21895   2017-12-26\n",
       "YS-21880   2017-12-21\n",
       "ZC-21910   2017-11-06\n",
       "ZD-21925   2017-06-11\n",
       "Name: Order Date, Length: 793, dtype: datetime64[ns]"
      ]
     },
     "execution_count": 7,
     "metadata": {},
     "output_type": "execute_result"
    }
   ],
   "source": [
    "last_order = df.groupby('Customer ID')['Order Date'].max()\n",
    "last_order"
   ]
  },
  {
   "cell_type": "markdown",
   "metadata": {},
   "source": [
    "<h1>Resta entre fechas </h1>"
   ]
  },
  {
   "cell_type": "code",
   "execution_count": 8,
   "metadata": {},
   "outputs": [
    {
     "data": {
      "text/plain": [
       "Customer ID\n",
       "AA-10315   184 days\n",
       "AA-10375    19 days\n",
       "AA-10480   259 days\n",
       "AA-10645    55 days\n",
       "AB-10015   415 days\n",
       "             ...   \n",
       "XP-21865    43 days\n",
       "YC-21895     4 days\n",
       "YS-21880     9 days\n",
       "ZC-21910    54 days\n",
       "ZD-21925   202 days\n",
       "Name: Order Date, Length: 793, dtype: timedelta64[ns]"
      ]
     },
     "execution_count": 8,
     "metadata": {},
     "output_type": "execute_result"
    }
   ],
   "source": [
    "resta = last_order_date - last_order\n",
    "resta"
   ]
  },
  {
   "cell_type": "markdown",
   "metadata": {},
   "source": [
    "<h1>Monetary</h1>"
   ]
  },
  {
   "cell_type": "code",
   "execution_count": 9,
   "metadata": {},
   "outputs": [],
   "source": [
    "how_much_sales = df.groupby('Customer ID')['Sales'].sum()"
   ]
  },
  {
   "cell_type": "code",
   "execution_count": 10,
   "metadata": {},
   "outputs": [
    {
     "data": {
      "text/plain": [
       "Customer ID\n",
       "AA-10315    5563.560\n",
       "AA-10375    1056.390\n",
       "AA-10480    1790.512\n",
       "AA-10645    5086.935\n",
       "AB-10015     886.156\n",
       "Name: Sales, dtype: float64"
      ]
     },
     "execution_count": 10,
     "metadata": {},
     "output_type": "execute_result"
    }
   ],
   "source": [
    "how_much_sales.head()"
   ]
  },
  {
   "cell_type": "markdown",
   "metadata": {},
   "source": [
    "<h1>Frecuency </h1>"
   ]
  },
  {
   "cell_type": "code",
   "execution_count": 11,
   "metadata": {},
   "outputs": [
    {
     "data": {
      "text/plain": [
       "Customer ID\n",
       "AA-10315    30\n",
       "AA-10375    41\n",
       "AA-10480    36\n",
       "AA-10645    64\n",
       "AB-10015    13\n",
       "Name: Quantity, dtype: int64"
      ]
     },
     "execution_count": 11,
     "metadata": {},
     "output_type": "execute_result"
    }
   ],
   "source": [
    "quantity = df.groupby('Customer ID')['Quantity'].sum()\n",
    "quantity.head()"
   ]
  },
  {
   "cell_type": "code",
   "execution_count": 12,
   "metadata": {},
   "outputs": [
    {
     "name": "stdout",
     "output_type": "stream",
     "text": [
      "            Order Date     Sales  Quantity\n",
      "Customer ID                               \n",
      "AA-10315      184 days  5563.560        30\n",
      "AA-10375       19 days  1056.390        41\n",
      "AA-10480      259 days  1790.512        36\n",
      "AA-10645       55 days  5086.935        64\n",
      "AB-10015      415 days   886.156        13\n",
      "...                ...       ...       ...\n",
      "XP-21865       43 days  2374.658       100\n",
      "YC-21895        4 days  5454.350        31\n",
      "YS-21880        9 days  6720.444        58\n",
      "ZC-21910       54 days  8025.707       105\n",
      "ZD-21925      202 days  1493.944        32\n",
      "\n",
      "[793 rows x 3 columns]\n"
     ]
    }
   ],
   "source": [
    "new_df = pd.concat([resta, how_much_sales, quantity], axis=1)\n",
    "#df['frequency'] = df[quantity]\n",
    "print(new_df)"
   ]
  },
  {
   "cell_type": "code",
   "execution_count": 13,
   "metadata": {},
   "outputs": [
    {
     "data": {
      "text/html": [
       "<div>\n",
       "<style scoped>\n",
       "    .dataframe tbody tr th:only-of-type {\n",
       "        vertical-align: middle;\n",
       "    }\n",
       "\n",
       "    .dataframe tbody tr th {\n",
       "        vertical-align: top;\n",
       "    }\n",
       "\n",
       "    .dataframe thead th {\n",
       "        text-align: right;\n",
       "    }\n",
       "</style>\n",
       "<table border=\"1\" class=\"dataframe\">\n",
       "  <thead>\n",
       "    <tr style=\"text-align: right;\">\n",
       "      <th></th>\n",
       "      <th>Order Date</th>\n",
       "      <th>Sales</th>\n",
       "      <th>Quantity</th>\n",
       "    </tr>\n",
       "    <tr>\n",
       "      <th>Customer ID</th>\n",
       "      <th></th>\n",
       "      <th></th>\n",
       "      <th></th>\n",
       "    </tr>\n",
       "  </thead>\n",
       "  <tbody>\n",
       "    <tr>\n",
       "      <th>AA-10315</th>\n",
       "      <td>184</td>\n",
       "      <td>5563.560</td>\n",
       "      <td>30</td>\n",
       "    </tr>\n",
       "    <tr>\n",
       "      <th>AA-10375</th>\n",
       "      <td>19</td>\n",
       "      <td>1056.390</td>\n",
       "      <td>41</td>\n",
       "    </tr>\n",
       "    <tr>\n",
       "      <th>AA-10480</th>\n",
       "      <td>259</td>\n",
       "      <td>1790.512</td>\n",
       "      <td>36</td>\n",
       "    </tr>\n",
       "    <tr>\n",
       "      <th>AA-10645</th>\n",
       "      <td>55</td>\n",
       "      <td>5086.935</td>\n",
       "      <td>64</td>\n",
       "    </tr>\n",
       "    <tr>\n",
       "      <th>AB-10015</th>\n",
       "      <td>415</td>\n",
       "      <td>886.156</td>\n",
       "      <td>13</td>\n",
       "    </tr>\n",
       "  </tbody>\n",
       "</table>\n",
       "</div>"
      ],
      "text/plain": [
       "             Order Date     Sales  Quantity\n",
       "Customer ID                                \n",
       "AA-10315            184  5563.560        30\n",
       "AA-10375             19  1056.390        41\n",
       "AA-10480            259  1790.512        36\n",
       "AA-10645             55  5086.935        64\n",
       "AB-10015            415   886.156        13"
      ]
     },
     "execution_count": 13,
     "metadata": {},
     "output_type": "execute_result"
    }
   ],
   "source": [
    "# transform timedelta to int\n",
    "new_df['Order Date'] = new_df['Order Date'].dt.days\n",
    "new_df.head()"
   ]
  },
  {
   "cell_type": "code",
   "execution_count": 14,
   "metadata": {},
   "outputs": [
    {
     "data": {
      "text/plain": [
       "Order Date      int64\n",
       "Sales         float64\n",
       "Quantity        int64\n",
       "dtype: object"
      ]
     },
     "execution_count": 14,
     "metadata": {},
     "output_type": "execute_result"
    }
   ],
   "source": [
    "new_df.dtypes"
   ]
  },
  {
   "cell_type": "markdown",
   "metadata": {},
   "source": []
  },
  {
   "cell_type": "code",
   "execution_count": 15,
   "metadata": {},
   "outputs": [],
   "source": [
    "# Crear lista de etiquetas para las columnas\n",
    "recency_labels = ['Más Reciente', 'Reciente', 'Antiguo', 'Más Antiguo']\n",
    "frecuency_labels = ['Menos Frecuente', 'Frecuente', 'Muy Frecuente', 'Más Frecuente']\n",
    "monetary_labels = ['Menos Gasto', 'Gasto', 'Mucho Gasto', 'Más Gasto']"
   ]
  },
  {
   "cell_type": "code",
   "execution_count": 16,
   "metadata": {},
   "outputs": [],
   "source": [
    "# Crear una nueva tabla para las etiquetas\n",
    "new_df['R'] = pd.qcut(new_df['Order Date'], q=4, labels=recency_labels)\n",
    "new_df['F'] = pd.qcut(new_df['Quantity'], q=4, labels=frecuency_labels)\n",
    "new_df['M'] = pd.qcut(new_df['Sales'], q=4, labels=monetary_labels)"
   ]
  },
  {
   "cell_type": "code",
   "execution_count": 17,
   "metadata": {},
   "outputs": [
    {
     "data": {
      "text/html": [
       "<div>\n",
       "<style scoped>\n",
       "    .dataframe tbody tr th:only-of-type {\n",
       "        vertical-align: middle;\n",
       "    }\n",
       "\n",
       "    .dataframe tbody tr th {\n",
       "        vertical-align: top;\n",
       "    }\n",
       "\n",
       "    .dataframe thead th {\n",
       "        text-align: right;\n",
       "    }\n",
       "</style>\n",
       "<table border=\"1\" class=\"dataframe\">\n",
       "  <thead>\n",
       "    <tr style=\"text-align: right;\">\n",
       "      <th></th>\n",
       "      <th>Order Date</th>\n",
       "      <th>Sales</th>\n",
       "      <th>Quantity</th>\n",
       "      <th>R</th>\n",
       "      <th>F</th>\n",
       "      <th>M</th>\n",
       "    </tr>\n",
       "    <tr>\n",
       "      <th>Customer ID</th>\n",
       "      <th></th>\n",
       "      <th></th>\n",
       "      <th></th>\n",
       "      <th></th>\n",
       "      <th></th>\n",
       "      <th></th>\n",
       "    </tr>\n",
       "  </thead>\n",
       "  <tbody>\n",
       "    <tr>\n",
       "      <th>AA-10315</th>\n",
       "      <td>184</td>\n",
       "      <td>5563.560</td>\n",
       "      <td>30</td>\n",
       "      <td>Más Antiguo</td>\n",
       "      <td>Menos Frecuente</td>\n",
       "      <td>Más Gasto</td>\n",
       "    </tr>\n",
       "    <tr>\n",
       "      <th>AA-10375</th>\n",
       "      <td>19</td>\n",
       "      <td>1056.390</td>\n",
       "      <td>41</td>\n",
       "      <td>Más Reciente</td>\n",
       "      <td>Frecuente</td>\n",
       "      <td>Menos Gasto</td>\n",
       "    </tr>\n",
       "    <tr>\n",
       "      <th>AA-10480</th>\n",
       "      <td>259</td>\n",
       "      <td>1790.512</td>\n",
       "      <td>36</td>\n",
       "      <td>Más Antiguo</td>\n",
       "      <td>Frecuente</td>\n",
       "      <td>Gasto</td>\n",
       "    </tr>\n",
       "    <tr>\n",
       "      <th>AA-10645</th>\n",
       "      <td>55</td>\n",
       "      <td>5086.935</td>\n",
       "      <td>64</td>\n",
       "      <td>Reciente</td>\n",
       "      <td>Más Frecuente</td>\n",
       "      <td>Más Gasto</td>\n",
       "    </tr>\n",
       "    <tr>\n",
       "      <th>AB-10015</th>\n",
       "      <td>415</td>\n",
       "      <td>886.156</td>\n",
       "      <td>13</td>\n",
       "      <td>Más Antiguo</td>\n",
       "      <td>Menos Frecuente</td>\n",
       "      <td>Menos Gasto</td>\n",
       "    </tr>\n",
       "  </tbody>\n",
       "</table>\n",
       "</div>"
      ],
      "text/plain": [
       "             Order Date     Sales  Quantity             R                F  \\\n",
       "Customer ID                                                                  \n",
       "AA-10315            184  5563.560        30   Más Antiguo  Menos Frecuente   \n",
       "AA-10375             19  1056.390        41  Más Reciente        Frecuente   \n",
       "AA-10480            259  1790.512        36   Más Antiguo        Frecuente   \n",
       "AA-10645             55  5086.935        64      Reciente    Más Frecuente   \n",
       "AB-10015            415   886.156        13   Más Antiguo  Menos Frecuente   \n",
       "\n",
       "                       M  \n",
       "Customer ID               \n",
       "AA-10315       Más Gasto  \n",
       "AA-10375     Menos Gasto  \n",
       "AA-10480           Gasto  \n",
       "AA-10645       Más Gasto  \n",
       "AB-10015     Menos Gasto  "
      ]
     },
     "execution_count": 17,
     "metadata": {},
     "output_type": "execute_result"
    }
   ],
   "source": [
    "new_df.head()"
   ]
  },
  {
   "cell_type": "code",
   "execution_count": 18,
   "metadata": {},
   "outputs": [
    {
     "data": {
      "text/html": [
       "<div>\n",
       "<style scoped>\n",
       "    .dataframe tbody tr th:only-of-type {\n",
       "        vertical-align: middle;\n",
       "    }\n",
       "\n",
       "    .dataframe tbody tr th {\n",
       "        vertical-align: top;\n",
       "    }\n",
       "\n",
       "    .dataframe thead th {\n",
       "        text-align: right;\n",
       "    }\n",
       "</style>\n",
       "<table border=\"1\" class=\"dataframe\">\n",
       "  <thead>\n",
       "    <tr style=\"text-align: right;\">\n",
       "      <th></th>\n",
       "      <th>Order Date</th>\n",
       "      <th>Sales</th>\n",
       "      <th>Quantity</th>\n",
       "      <th>R</th>\n",
       "      <th>F</th>\n",
       "      <th>M</th>\n",
       "    </tr>\n",
       "    <tr>\n",
       "      <th>Customer ID</th>\n",
       "      <th></th>\n",
       "      <th></th>\n",
       "      <th></th>\n",
       "      <th></th>\n",
       "      <th></th>\n",
       "      <th></th>\n",
       "    </tr>\n",
       "  </thead>\n",
       "  <tbody>\n",
       "    <tr>\n",
       "      <th>RM-19750</th>\n",
       "      <td>299</td>\n",
       "      <td>98.350</td>\n",
       "      <td>4</td>\n",
       "      <td>Más Antiguo</td>\n",
       "      <td>Menos Frecuente</td>\n",
       "      <td>Menos Gasto</td>\n",
       "    </tr>\n",
       "    <tr>\n",
       "      <th>JO-15145</th>\n",
       "      <td>57</td>\n",
       "      <td>3254.949</td>\n",
       "      <td>59</td>\n",
       "      <td>Reciente</td>\n",
       "      <td>Muy Frecuente</td>\n",
       "      <td>Mucho Gasto</td>\n",
       "    </tr>\n",
       "    <tr>\n",
       "      <th>PO-19180</th>\n",
       "      <td>160</td>\n",
       "      <td>4893.043</td>\n",
       "      <td>65</td>\n",
       "      <td>Antiguo</td>\n",
       "      <td>Más Frecuente</td>\n",
       "      <td>Más Gasto</td>\n",
       "    </tr>\n",
       "    <tr>\n",
       "      <th>DB-13360</th>\n",
       "      <td>264</td>\n",
       "      <td>1081.466</td>\n",
       "      <td>28</td>\n",
       "      <td>Más Antiguo</td>\n",
       "      <td>Menos Frecuente</td>\n",
       "      <td>Menos Gasto</td>\n",
       "    </tr>\n",
       "    <tr>\n",
       "      <th>AR-10570</th>\n",
       "      <td>534</td>\n",
       "      <td>88.150</td>\n",
       "      <td>6</td>\n",
       "      <td>Más Antiguo</td>\n",
       "      <td>Menos Frecuente</td>\n",
       "      <td>Menos Gasto</td>\n",
       "    </tr>\n",
       "    <tr>\n",
       "      <th>SV-20935</th>\n",
       "      <td>2</td>\n",
       "      <td>1903.491</td>\n",
       "      <td>66</td>\n",
       "      <td>Más Reciente</td>\n",
       "      <td>Más Frecuente</td>\n",
       "      <td>Gasto</td>\n",
       "    </tr>\n",
       "  </tbody>\n",
       "</table>\n",
       "</div>"
      ],
      "text/plain": [
       "             Order Date     Sales  Quantity             R                F  \\\n",
       "Customer ID                                                                  \n",
       "RM-19750            299    98.350         4   Más Antiguo  Menos Frecuente   \n",
       "JO-15145             57  3254.949        59      Reciente    Muy Frecuente   \n",
       "PO-19180            160  4893.043        65       Antiguo    Más Frecuente   \n",
       "DB-13360            264  1081.466        28   Más Antiguo  Menos Frecuente   \n",
       "AR-10570            534    88.150         6   Más Antiguo  Menos Frecuente   \n",
       "SV-20935              2  1903.491        66  Más Reciente    Más Frecuente   \n",
       "\n",
       "                       M  \n",
       "Customer ID               \n",
       "RM-19750     Menos Gasto  \n",
       "JO-15145     Mucho Gasto  \n",
       "PO-19180       Más Gasto  \n",
       "DB-13360     Menos Gasto  \n",
       "AR-10570     Menos Gasto  \n",
       "SV-20935           Gasto  "
      ]
     },
     "execution_count": 18,
     "metadata": {},
     "output_type": "execute_result"
    }
   ],
   "source": [
    "\n",
    "new_df.sample(6)"
   ]
  },
  {
   "cell_type": "code",
   "execution_count": 19,
   "metadata": {},
   "outputs": [],
   "source": [
    "# Cambiar el orden de las columnas\n",
    "new_df = new_df[['Order Date', 'R', 'Sales', 'M', 'Quantity', 'F']]"
   ]
  },
  {
   "cell_type": "code",
   "execution_count": 20,
   "metadata": {},
   "outputs": [
    {
     "data": {
      "text/html": [
       "<div>\n",
       "<style scoped>\n",
       "    .dataframe tbody tr th:only-of-type {\n",
       "        vertical-align: middle;\n",
       "    }\n",
       "\n",
       "    .dataframe tbody tr th {\n",
       "        vertical-align: top;\n",
       "    }\n",
       "\n",
       "    .dataframe thead th {\n",
       "        text-align: right;\n",
       "    }\n",
       "</style>\n",
       "<table border=\"1\" class=\"dataframe\">\n",
       "  <thead>\n",
       "    <tr style=\"text-align: right;\">\n",
       "      <th></th>\n",
       "      <th>Order Date</th>\n",
       "      <th>R</th>\n",
       "      <th>Sales</th>\n",
       "      <th>M</th>\n",
       "      <th>Quantity</th>\n",
       "      <th>F</th>\n",
       "    </tr>\n",
       "    <tr>\n",
       "      <th>Customer ID</th>\n",
       "      <th></th>\n",
       "      <th></th>\n",
       "      <th></th>\n",
       "      <th></th>\n",
       "      <th></th>\n",
       "      <th></th>\n",
       "    </tr>\n",
       "  </thead>\n",
       "  <tbody>\n",
       "    <tr>\n",
       "      <th>AH-10465</th>\n",
       "      <td>230</td>\n",
       "      <td>Más Antiguo</td>\n",
       "      <td>2495.3916</td>\n",
       "      <td>Mucho Gasto</td>\n",
       "      <td>35</td>\n",
       "      <td>Frecuente</td>\n",
       "    </tr>\n",
       "    <tr>\n",
       "      <th>NZ-18565</th>\n",
       "      <td>85</td>\n",
       "      <td>Antiguo</td>\n",
       "      <td>2488.3100</td>\n",
       "      <td>Mucho Gasto</td>\n",
       "      <td>77</td>\n",
       "      <td>Más Frecuente</td>\n",
       "    </tr>\n",
       "    <tr>\n",
       "      <th>DK-13150</th>\n",
       "      <td>10</td>\n",
       "      <td>Más Reciente</td>\n",
       "      <td>797.8320</td>\n",
       "      <td>Menos Gasto</td>\n",
       "      <td>20</td>\n",
       "      <td>Menos Frecuente</td>\n",
       "    </tr>\n",
       "    <tr>\n",
       "      <th>BB-10990</th>\n",
       "      <td>105</td>\n",
       "      <td>Antiguo</td>\n",
       "      <td>744.3400</td>\n",
       "      <td>Menos Gasto</td>\n",
       "      <td>26</td>\n",
       "      <td>Menos Frecuente</td>\n",
       "    </tr>\n",
       "    <tr>\n",
       "      <th>GB-14575</th>\n",
       "      <td>13</td>\n",
       "      <td>Más Reciente</td>\n",
       "      <td>4716.2880</td>\n",
       "      <td>Más Gasto</td>\n",
       "      <td>63</td>\n",
       "      <td>Muy Frecuente</td>\n",
       "    </tr>\n",
       "    <tr>\n",
       "      <th>SG-20890</th>\n",
       "      <td>226</td>\n",
       "      <td>Más Antiguo</td>\n",
       "      <td>47.9460</td>\n",
       "      <td>Menos Gasto</td>\n",
       "      <td>17</td>\n",
       "      <td>Menos Frecuente</td>\n",
       "    </tr>\n",
       "    <tr>\n",
       "      <th>GM-14440</th>\n",
       "      <td>83</td>\n",
       "      <td>Antiguo</td>\n",
       "      <td>3582.8200</td>\n",
       "      <td>Mucho Gasto</td>\n",
       "      <td>43</td>\n",
       "      <td>Frecuente</td>\n",
       "    </tr>\n",
       "    <tr>\n",
       "      <th>MS-17770</th>\n",
       "      <td>121</td>\n",
       "      <td>Antiguo</td>\n",
       "      <td>3144.6780</td>\n",
       "      <td>Mucho Gasto</td>\n",
       "      <td>73</td>\n",
       "      <td>Más Frecuente</td>\n",
       "    </tr>\n",
       "    <tr>\n",
       "      <th>FA-14230</th>\n",
       "      <td>97</td>\n",
       "      <td>Antiguo</td>\n",
       "      <td>2984.0540</td>\n",
       "      <td>Mucho Gasto</td>\n",
       "      <td>58</td>\n",
       "      <td>Muy Frecuente</td>\n",
       "    </tr>\n",
       "    <tr>\n",
       "      <th>MH-17785</th>\n",
       "      <td>98</td>\n",
       "      <td>Antiguo</td>\n",
       "      <td>2203.7780</td>\n",
       "      <td>Gasto</td>\n",
       "      <td>42</td>\n",
       "      <td>Frecuente</td>\n",
       "    </tr>\n",
       "  </tbody>\n",
       "</table>\n",
       "</div>"
      ],
      "text/plain": [
       "             Order Date             R      Sales            M  Quantity  \\\n",
       "Customer ID                                                               \n",
       "AH-10465            230   Más Antiguo  2495.3916  Mucho Gasto        35   \n",
       "NZ-18565             85       Antiguo  2488.3100  Mucho Gasto        77   \n",
       "DK-13150             10  Más Reciente   797.8320  Menos Gasto        20   \n",
       "BB-10990            105       Antiguo   744.3400  Menos Gasto        26   \n",
       "GB-14575             13  Más Reciente  4716.2880    Más Gasto        63   \n",
       "SG-20890            226   Más Antiguo    47.9460  Menos Gasto        17   \n",
       "GM-14440             83       Antiguo  3582.8200  Mucho Gasto        43   \n",
       "MS-17770            121       Antiguo  3144.6780  Mucho Gasto        73   \n",
       "FA-14230             97       Antiguo  2984.0540  Mucho Gasto        58   \n",
       "MH-17785             98       Antiguo  2203.7780        Gasto        42   \n",
       "\n",
       "                           F  \n",
       "Customer ID                   \n",
       "AH-10465           Frecuente  \n",
       "NZ-18565       Más Frecuente  \n",
       "DK-13150     Menos Frecuente  \n",
       "BB-10990     Menos Frecuente  \n",
       "GB-14575       Muy Frecuente  \n",
       "SG-20890     Menos Frecuente  \n",
       "GM-14440           Frecuente  \n",
       "MS-17770       Más Frecuente  \n",
       "FA-14230       Muy Frecuente  \n",
       "MH-17785           Frecuente  "
      ]
     },
     "execution_count": 20,
     "metadata": {},
     "output_type": "execute_result"
    }
   ],
   "source": [
    "new_df.sample(10)"
   ]
  },
  {
   "cell_type": "code",
   "execution_count": 21,
   "metadata": {},
   "outputs": [
    {
     "name": "stderr",
     "output_type": "stream",
     "text": [
      "c:\\Users\\elogrono\\Documents\\Github\\Maestria\\venv\\Lib\\site-packages\\seaborn\\_oldcore.py:1498: FutureWarning: is_categorical_dtype is deprecated and will be removed in a future version. Use isinstance(dtype, CategoricalDtype) instead\n",
      "  if pd.api.types.is_categorical_dtype(vector):\n",
      "c:\\Users\\elogrono\\Documents\\Github\\Maestria\\venv\\Lib\\site-packages\\seaborn\\_oldcore.py:1498: FutureWarning: is_categorical_dtype is deprecated and will be removed in a future version. Use isinstance(dtype, CategoricalDtype) instead\n",
      "  if pd.api.types.is_categorical_dtype(vector):\n",
      "c:\\Users\\elogrono\\Documents\\Github\\Maestria\\venv\\Lib\\site-packages\\seaborn\\categorical.py:641: FutureWarning: The default of observed=False is deprecated and will be changed to True in a future version of pandas. Pass observed=False to retain current behavior or observed=True to adopt the future default and silence this warning.\n",
      "  grouped_vals = vals.groupby(grouper)\n"
     ]
    },
    {
     "data": {
      "text/plain": [
       "<Axes: xlabel='Sales', ylabel='M'>"
      ]
     },
     "execution_count": 21,
     "metadata": {},
     "output_type": "execute_result"
    },
    {
     "data": {
      "image/png": "[encoded data removed]",
      "text/plain": [
       "<Figure size 640x480 with 1 Axes>"
      ]
     },
     "metadata": {},
     "output_type": "display_data"
    }
   ],
   "source": [
    "sns.boxplot(x='Sales', y='M', data=new_df, palette='rainbow')"
   ]
  },
  {
   "cell_type": "code",
   "execution_count": 30,
   "metadata": {},
   "outputs": [],
   "source": [
    "mediana_sales = new_df['Sales'].median()"
   ]
  },
  {
   "cell_type": "code",
   "execution_count": 31,
   "metadata": {},
   "outputs": [
    {
     "data": {
      "text/plain": [
       "2256.3940000000002"
      ]
     },
     "execution_count": 31,
     "metadata": {},
     "output_type": "execute_result"
    }
   ],
   "source": [
    "mediana_sales"
   ]
  },
  {
   "cell_type": "code",
   "execution_count": 28,
   "metadata": {},
   "outputs": [],
   "source": [
    "cantidad_cliente_de_mucho_gasto = new_df[new_df['M'] == 'Más Gasto' ].value_counts()"
   ]
  },
  {
   "cell_type": "code",
   "execution_count": 29,
   "metadata": {},
   "outputs": [
    {
     "data": {
      "text/plain": [
       "Order Date  R             Sales       M          Quantity  F            \n",
       "1           Más Reciente  3805.7140   Más Gasto  45        Muy Frecuente    1\n",
       "84          Antiguo       4867.2000   Más Gasto  88        Más Frecuente    1\n",
       "90          Antiguo       4358.1280   Más Gasto  41        Frecuente        1\n",
       "92          Antiguo       6491.0260   Más Gasto  87        Más Frecuente    1\n",
       "95          Antiguo       3949.6560   Más Gasto  104       Más Frecuente    1\n",
       "                                                                           ..\n",
       "36          Reciente      4159.7700   Más Gasto  54        Muy Frecuente    1\n",
       "                          11820.1200  Más Gasto  106       Más Frecuente    1\n",
       "                          11891.7510  Más Gasto  59        Muy Frecuente    1\n",
       "37          Reciente      4256.2720   Más Gasto  65        Más Frecuente    1\n",
       "1035        Más Antiguo   3984.4524   Más Gasto  57        Muy Frecuente    1\n",
       "Name: count, Length: 198, dtype: int64"
      ]
     },
     "execution_count": 29,
     "metadata": {},
     "output_type": "execute_result"
    }
   ],
   "source": [
    "cantidad_cliente_de_mucho_gasto"
   ]
  },
  {
   "cell_type": "code",
   "execution_count": 32,
   "metadata": {},
   "outputs": [
    {
     "data": {
      "text/plain": [
       "47.75914249684742"
      ]
     },
     "execution_count": 32,
     "metadata": {},
     "output_type": "execute_result"
    }
   ],
   "source": [
    "new_df['Quantity'].mean() "
   ]
  },
  {
   "cell_type": "code",
   "execution_count": 37,
   "metadata": {},
   "outputs": [
    {
     "data": {
      "text/html": [
       "<div>\n",
       "<style scoped>\n",
       "    .dataframe tbody tr th:only-of-type {\n",
       "        vertical-align: middle;\n",
       "    }\n",
       "\n",
       "    .dataframe tbody tr th {\n",
       "        vertical-align: top;\n",
       "    }\n",
       "\n",
       "    .dataframe thead th {\n",
       "        text-align: right;\n",
       "    }\n",
       "</style>\n",
       "<table border=\"1\" class=\"dataframe\">\n",
       "  <thead>\n",
       "    <tr style=\"text-align: right;\">\n",
       "      <th></th>\n",
       "      <th>Order Date</th>\n",
       "      <th>R</th>\n",
       "      <th>Sales</th>\n",
       "      <th>M</th>\n",
       "      <th>Quantity</th>\n",
       "      <th>F</th>\n",
       "      <th>clientes_frecuentes</th>\n",
       "    </tr>\n",
       "    <tr>\n",
       "      <th>Customer ID</th>\n",
       "      <th></th>\n",
       "      <th></th>\n",
       "      <th></th>\n",
       "      <th></th>\n",
       "      <th></th>\n",
       "      <th></th>\n",
       "      <th></th>\n",
       "    </tr>\n",
       "  </thead>\n",
       "  <tbody>\n",
       "    <tr>\n",
       "      <th>AA-10645</th>\n",
       "      <td>55</td>\n",
       "      <td>Reciente</td>\n",
       "      <td>5086.935</td>\n",
       "      <td>Más Gasto</td>\n",
       "      <td>64</td>\n",
       "      <td>Más Frecuente</td>\n",
       "      <td>True</td>\n",
       "    </tr>\n",
       "    <tr>\n",
       "      <th>AB-10105</th>\n",
       "      <td>41</td>\n",
       "      <td>Reciente</td>\n",
       "      <td>14473.571</td>\n",
       "      <td>Más Gasto</td>\n",
       "      <td>73</td>\n",
       "      <td>Más Frecuente</td>\n",
       "      <td>True</td>\n",
       "    </tr>\n",
       "    <tr>\n",
       "      <th>AG-10900</th>\n",
       "      <td>96</td>\n",
       "      <td>Antiguo</td>\n",
       "      <td>4510.797</td>\n",
       "      <td>Más Gasto</td>\n",
       "      <td>92</td>\n",
       "      <td>Más Frecuente</td>\n",
       "      <td>True</td>\n",
       "    </tr>\n",
       "    <tr>\n",
       "      <th>AH-10690</th>\n",
       "      <td>410</td>\n",
       "      <td>Más Antiguo</td>\n",
       "      <td>7888.294</td>\n",
       "      <td>Más Gasto</td>\n",
       "      <td>102</td>\n",
       "      <td>Más Frecuente</td>\n",
       "      <td>True</td>\n",
       "    </tr>\n",
       "    <tr>\n",
       "      <th>AI-10855</th>\n",
       "      <td>13</td>\n",
       "      <td>Más Reciente</td>\n",
       "      <td>4375.786</td>\n",
       "      <td>Más Gasto</td>\n",
       "      <td>72</td>\n",
       "      <td>Más Frecuente</td>\n",
       "      <td>True</td>\n",
       "    </tr>\n",
       "    <tr>\n",
       "      <th>...</th>\n",
       "      <td>...</td>\n",
       "      <td>...</td>\n",
       "      <td>...</td>\n",
       "      <td>...</td>\n",
       "      <td>...</td>\n",
       "      <td>...</td>\n",
       "      <td>...</td>\n",
       "    </tr>\n",
       "    <tr>\n",
       "      <th>TT-21070</th>\n",
       "      <td>31</td>\n",
       "      <td>Reciente</td>\n",
       "      <td>4915.602</td>\n",
       "      <td>Más Gasto</td>\n",
       "      <td>66</td>\n",
       "      <td>Más Frecuente</td>\n",
       "      <td>True</td>\n",
       "    </tr>\n",
       "    <tr>\n",
       "      <th>VD-21670</th>\n",
       "      <td>581</td>\n",
       "      <td>Más Antiguo</td>\n",
       "      <td>6442.254</td>\n",
       "      <td>Más Gasto</td>\n",
       "      <td>71</td>\n",
       "      <td>Más Frecuente</td>\n",
       "      <td>True</td>\n",
       "    </tr>\n",
       "    <tr>\n",
       "      <th>VW-21775</th>\n",
       "      <td>28</td>\n",
       "      <td>Más Reciente</td>\n",
       "      <td>6134.038</td>\n",
       "      <td>Más Gasto</td>\n",
       "      <td>77</td>\n",
       "      <td>Más Frecuente</td>\n",
       "      <td>True</td>\n",
       "    </tr>\n",
       "    <tr>\n",
       "      <th>WB-21850</th>\n",
       "      <td>20</td>\n",
       "      <td>Más Reciente</td>\n",
       "      <td>6160.102</td>\n",
       "      <td>Más Gasto</td>\n",
       "      <td>146</td>\n",
       "      <td>Más Frecuente</td>\n",
       "      <td>True</td>\n",
       "    </tr>\n",
       "    <tr>\n",
       "      <th>ZC-21910</th>\n",
       "      <td>54</td>\n",
       "      <td>Reciente</td>\n",
       "      <td>8025.707</td>\n",
       "      <td>Más Gasto</td>\n",
       "      <td>105</td>\n",
       "      <td>Más Frecuente</td>\n",
       "      <td>True</td>\n",
       "    </tr>\n",
       "  </tbody>\n",
       "</table>\n",
       "<p>107 rows × 7 columns</p>\n",
       "</div>"
      ],
      "text/plain": [
       "             Order Date             R      Sales          M  Quantity  \\\n",
       "Customer ID                                                             \n",
       "AA-10645             55      Reciente   5086.935  Más Gasto        64   \n",
       "AB-10105             41      Reciente  14473.571  Más Gasto        73   \n",
       "AG-10900             96       Antiguo   4510.797  Más Gasto        92   \n",
       "AH-10690            410   Más Antiguo   7888.294  Más Gasto       102   \n",
       "AI-10855             13  Más Reciente   4375.786  Más Gasto        72   \n",
       "...                 ...           ...        ...        ...       ...   \n",
       "TT-21070             31      Reciente   4915.602  Más Gasto        66   \n",
       "VD-21670            581   Más Antiguo   6442.254  Más Gasto        71   \n",
       "VW-21775             28  Más Reciente   6134.038  Más Gasto        77   \n",
       "WB-21850             20  Más Reciente   6160.102  Más Gasto       146   \n",
       "ZC-21910             54      Reciente   8025.707  Más Gasto       105   \n",
       "\n",
       "                         F  clientes_frecuentes  \n",
       "Customer ID                                      \n",
       "AA-10645     Más Frecuente                 True  \n",
       "AB-10105     Más Frecuente                 True  \n",
       "AG-10900     Más Frecuente                 True  \n",
       "AH-10690     Más Frecuente                 True  \n",
       "AI-10855     Más Frecuente                 True  \n",
       "...                    ...                  ...  \n",
       "TT-21070     Más Frecuente                 True  \n",
       "VD-21670     Más Frecuente                 True  \n",
       "VW-21775     Más Frecuente                 True  \n",
       "WB-21850     Más Frecuente                 True  \n",
       "ZC-21910     Más Frecuente                 True  \n",
       "\n",
       "[107 rows x 7 columns]"
      ]
     },
     "execution_count": 37,
     "metadata": {},
     "output_type": "execute_result"
    }
   ],
   "source": [
    "# Como añadir dos condiciones a un dataframe\n",
    "new_df[(new_df['M'] == 'Más Gasto') & (new_df['F'] == 'Más Frecuente')]"
   ]
  },
  {
   "cell_type": "code",
   "execution_count": 33,
   "metadata": {},
   "outputs": [],
   "source": [
    "new_df['clientes_frecuentes'] = new_df['Quantity']>new_df['Quantity'].mean()"
   ]
  },
  {
   "cell_type": "code",
   "execution_count": 34,
   "metadata": {},
   "outputs": [
    {
     "data": {
      "text/html": [
       "<div>\n",
       "<style scoped>\n",
       "    .dataframe tbody tr th:only-of-type {\n",
       "        vertical-align: middle;\n",
       "    }\n",
       "\n",
       "    .dataframe tbody tr th {\n",
       "        vertical-align: top;\n",
       "    }\n",
       "\n",
       "    .dataframe thead th {\n",
       "        text-align: right;\n",
       "    }\n",
       "</style>\n",
       "<table border=\"1\" class=\"dataframe\">\n",
       "  <thead>\n",
       "    <tr style=\"text-align: right;\">\n",
       "      <th></th>\n",
       "      <th>Order Date</th>\n",
       "      <th>R</th>\n",
       "      <th>Sales</th>\n",
       "      <th>M</th>\n",
       "      <th>Quantity</th>\n",
       "      <th>F</th>\n",
       "      <th>clientes_frecuentes</th>\n",
       "    </tr>\n",
       "    <tr>\n",
       "      <th>Customer ID</th>\n",
       "      <th></th>\n",
       "      <th></th>\n",
       "      <th></th>\n",
       "      <th></th>\n",
       "      <th></th>\n",
       "      <th></th>\n",
       "      <th></th>\n",
       "    </tr>\n",
       "  </thead>\n",
       "  <tbody>\n",
       "    <tr>\n",
       "      <th>AA-10315</th>\n",
       "      <td>184</td>\n",
       "      <td>Más Antiguo</td>\n",
       "      <td>5563.560</td>\n",
       "      <td>Más Gasto</td>\n",
       "      <td>30</td>\n",
       "      <td>Menos Frecuente</td>\n",
       "      <td>False</td>\n",
       "    </tr>\n",
       "    <tr>\n",
       "      <th>AA-10375</th>\n",
       "      <td>19</td>\n",
       "      <td>Más Reciente</td>\n",
       "      <td>1056.390</td>\n",
       "      <td>Menos Gasto</td>\n",
       "      <td>41</td>\n",
       "      <td>Frecuente</td>\n",
       "      <td>False</td>\n",
       "    </tr>\n",
       "    <tr>\n",
       "      <th>AA-10480</th>\n",
       "      <td>259</td>\n",
       "      <td>Más Antiguo</td>\n",
       "      <td>1790.512</td>\n",
       "      <td>Gasto</td>\n",
       "      <td>36</td>\n",
       "      <td>Frecuente</td>\n",
       "      <td>False</td>\n",
       "    </tr>\n",
       "    <tr>\n",
       "      <th>AA-10645</th>\n",
       "      <td>55</td>\n",
       "      <td>Reciente</td>\n",
       "      <td>5086.935</td>\n",
       "      <td>Más Gasto</td>\n",
       "      <td>64</td>\n",
       "      <td>Más Frecuente</td>\n",
       "      <td>True</td>\n",
       "    </tr>\n",
       "    <tr>\n",
       "      <th>AB-10015</th>\n",
       "      <td>415</td>\n",
       "      <td>Más Antiguo</td>\n",
       "      <td>886.156</td>\n",
       "      <td>Menos Gasto</td>\n",
       "      <td>13</td>\n",
       "      <td>Menos Frecuente</td>\n",
       "      <td>False</td>\n",
       "    </tr>\n",
       "  </tbody>\n",
       "</table>\n",
       "</div>"
      ],
      "text/plain": [
       "             Order Date             R     Sales            M  Quantity  \\\n",
       "Customer ID                                                              \n",
       "AA-10315            184   Más Antiguo  5563.560    Más Gasto        30   \n",
       "AA-10375             19  Más Reciente  1056.390  Menos Gasto        41   \n",
       "AA-10480            259   Más Antiguo  1790.512        Gasto        36   \n",
       "AA-10645             55      Reciente  5086.935    Más Gasto        64   \n",
       "AB-10015            415   Más Antiguo   886.156  Menos Gasto        13   \n",
       "\n",
       "                           F  clientes_frecuentes  \n",
       "Customer ID                                        \n",
       "AA-10315     Menos Frecuente                False  \n",
       "AA-10375           Frecuente                False  \n",
       "AA-10480           Frecuente                False  \n",
       "AA-10645       Más Frecuente                 True  \n",
       "AB-10015     Menos Frecuente                False  "
      ]
     },
     "execution_count": 34,
     "metadata": {},
     "output_type": "execute_result"
    }
   ],
   "source": [
    "new_df.head()"
   ]
  },
  {
   "cell_type": "code",
   "execution_count": 36,
   "metadata": {},
   "outputs": [
    {
     "data": {
      "text/plain": [
       "M\n",
       "Menos Gasto    199\n",
       "Gasto          198\n",
       "Mucho Gasto    198\n",
       "Más Gasto      198\n",
       "Name: count, dtype: int64"
      ]
     },
     "execution_count": 36,
     "metadata": {},
     "output_type": "execute_result"
    }
   ],
   "source": [
    "new_df['M'].value_counts()"
   ]
  },
  {
   "cell_type": "code",
   "execution_count": 35,
   "metadata": {},
   "outputs": [
    {
     "data": {
      "text/plain": [
       "clientes_frecuentes\n",
       "False    436\n",
       "True     357\n",
       "Name: count, dtype: int64"
      ]
     },
     "execution_count": 35,
     "metadata": {},
     "output_type": "execute_result"
    }
   ],
   "source": [
    "# A cuanta gente tenemos que llamar de la columna cliente_frecuentes que esten false\n",
    "new_df['clientes_frecuentes'].value_counts()"
   ]
  }
 ],
 "metadata": {
  "kernelspec": {
   "display_name": "venv",
   "language": "python",
   "name": "python3"
  },
  "language_info": {
   "codemirror_mode": {
    "name": "ipython",
    "version": 3
   },
   "file_extension": ".py",
   "mimetype": "text/x-python",
   "name": "python",
   "nbconvert_exporter": "python",
   "pygments_lexer": "ipython3",
   "version": "3.11.4"
  },
  "orig_nbformat": 4
 },
 "nbformat": 4,
 "nbformat_minor": 2
}
