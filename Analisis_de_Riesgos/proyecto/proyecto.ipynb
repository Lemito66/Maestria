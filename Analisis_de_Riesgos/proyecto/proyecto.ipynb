{
 "cells": [
  {
   "cell_type": "code",
   "execution_count": 1,
   "metadata": {},
   "outputs": [],
   "source": [
    "import pandas as pd\n",
    "import numpy as np\n",
    "import matplotlib.pyplot as plt\n",
    "import seaborn as sns"
   ]
  },
  {
   "cell_type": "code",
   "execution_count": 2,
   "metadata": {},
   "outputs": [],
   "source": [
    "df = pd.read_excel('./dataset.xlsx', sheet_name='emergencia')"
   ]
  },
  {
   "cell_type": "code",
   "execution_count": 10,
   "metadata": {},
   "outputs": [
    {
     "data": {
      "text/html": [
       "<div>\n",
       "<style scoped>\n",
       "    .dataframe tbody tr th:only-of-type {\n",
       "        vertical-align: middle;\n",
       "    }\n",
       "\n",
       "    .dataframe tbody tr th {\n",
       "        vertical-align: top;\n",
       "    }\n",
       "\n",
       "    .dataframe thead th {\n",
       "        text-align: right;\n",
       "    }\n",
       "</style>\n",
       "<table border=\"1\" class=\"dataframe\">\n",
       "  <thead>\n",
       "    <tr style=\"text-align: right;\">\n",
       "      <th></th>\n",
       "      <th>ID_ATENCION</th>\n",
       "      <th>INICIO_ATENCION</th>\n",
       "      <th>FIN_ATENCION</th>\n",
       "      <th>GENERO</th>\n",
       "      <th>ID_PACIENTE</th>\n",
       "    </tr>\n",
       "  </thead>\n",
       "  <tbody>\n",
       "    <tr>\n",
       "      <th>0</th>\n",
       "      <td>37437</td>\n",
       "      <td>2023-01-01 00:32:37</td>\n",
       "      <td>2023-01-01 06:55:00</td>\n",
       "      <td>M</td>\n",
       "      <td>793160</td>\n",
       "    </tr>\n",
       "    <tr>\n",
       "      <th>1</th>\n",
       "      <td>37438</td>\n",
       "      <td>2023-01-01 02:13:29</td>\n",
       "      <td>2023-01-01 06:56:00</td>\n",
       "      <td>M</td>\n",
       "      <td>982156</td>\n",
       "    </tr>\n",
       "    <tr>\n",
       "      <th>2</th>\n",
       "      <td>37439</td>\n",
       "      <td>2023-01-01 02:24:01</td>\n",
       "      <td>2023-01-01 04:41:00</td>\n",
       "      <td>F</td>\n",
       "      <td>731265</td>\n",
       "    </tr>\n",
       "    <tr>\n",
       "      <th>3</th>\n",
       "      <td>37440</td>\n",
       "      <td>2023-01-01 03:50:46</td>\n",
       "      <td>2023-01-01 06:50:00</td>\n",
       "      <td>F</td>\n",
       "      <td>985821</td>\n",
       "    </tr>\n",
       "    <tr>\n",
       "      <th>4</th>\n",
       "      <td>37441</td>\n",
       "      <td>2023-01-01 04:43:02</td>\n",
       "      <td>2023-01-01 08:25:00</td>\n",
       "      <td>F</td>\n",
       "      <td>733123</td>\n",
       "    </tr>\n",
       "  </tbody>\n",
       "</table>\n",
       "</div>"
      ],
      "text/plain": [
       "   ID_ATENCION     INICIO_ATENCION        FIN_ATENCION GENERO  ID_PACIENTE\n",
       "0        37437 2023-01-01 00:32:37 2023-01-01 06:55:00      M       793160\n",
       "1        37438 2023-01-01 02:13:29 2023-01-01 06:56:00      M       982156\n",
       "2        37439 2023-01-01 02:24:01 2023-01-01 04:41:00      F       731265\n",
       "3        37440 2023-01-01 03:50:46 2023-01-01 06:50:00      F       985821\n",
       "4        37441 2023-01-01 04:43:02 2023-01-01 08:25:00      F       733123"
      ]
     },
     "execution_count": 10,
     "metadata": {},
     "output_type": "execute_result"
    }
   ],
   "source": [
    "df.head()"
   ]
  },
  {
   "cell_type": "code",
   "execution_count": 4,
   "metadata": {},
   "outputs": [
    {
     "data": {
      "text/plain": [
       "ID_ATENCION                 int64\n",
       "INICIO_ATENCION    datetime64[ns]\n",
       "FIN_ATENCION       datetime64[ns]\n",
       "GENERO                     object\n",
       "ID_PACIENTE                 int64\n",
       "dtype: object"
      ]
     },
     "execution_count": 4,
     "metadata": {},
     "output_type": "execute_result"
    }
   ],
   "source": [
    "# saber los tipos de datos\n",
    "df.dtypes"
   ]
  },
  {
   "cell_type": "code",
   "execution_count": 5,
   "metadata": {},
   "outputs": [
    {
     "data": {
      "text/plain": [
       "ID_ATENCION         0\n",
       "INICIO_ATENCION     0\n",
       "FIN_ATENCION       94\n",
       "GENERO              0\n",
       "ID_PACIENTE         0\n",
       "dtype: int64"
      ]
     },
     "execution_count": 5,
     "metadata": {},
     "output_type": "execute_result"
    }
   ],
   "source": [
    "# vamos a contar los valores nulos\n",
    "df.isnull().sum()"
   ]
  },
  {
   "cell_type": "code",
   "execution_count": 7,
   "metadata": {},
   "outputs": [
    {
     "data": {
      "text/plain": [
       "F    10720\n",
       "M     8871\n",
       "Name: GENERO, dtype: int64"
      ]
     },
     "execution_count": 7,
     "metadata": {},
     "output_type": "execute_result"
    }
   ],
   "source": [
    "#saber cuantos hombres y mujeres hay\n",
    "df['GENERO'].value_counts()"
   ]
  },
  {
   "cell_type": "code",
   "execution_count": 11,
   "metadata": {},
   "outputs": [
    {
     "data": {
      "text/html": [
       "<div>\n",
       "<style scoped>\n",
       "    .dataframe tbody tr th:only-of-type {\n",
       "        vertical-align: middle;\n",
       "    }\n",
       "\n",
       "    .dataframe tbody tr th {\n",
       "        vertical-align: top;\n",
       "    }\n",
       "\n",
       "    .dataframe thead th {\n",
       "        text-align: right;\n",
       "    }\n",
       "</style>\n",
       "<table border=\"1\" class=\"dataframe\">\n",
       "  <thead>\n",
       "    <tr style=\"text-align: right;\">\n",
       "      <th></th>\n",
       "      <th>ID_ATENCION</th>\n",
       "      <th>INICIO_ATENCION</th>\n",
       "      <th>FIN_ATENCION</th>\n",
       "      <th>GENERO</th>\n",
       "      <th>ID_PACIENTE</th>\n",
       "    </tr>\n",
       "  </thead>\n",
       "  <tbody>\n",
       "    <tr>\n",
       "      <th>19586</th>\n",
       "      <td>120140</td>\n",
       "      <td>2023-12-31 21:20:02</td>\n",
       "      <td>2024-01-01 01:59:00</td>\n",
       "      <td>M</td>\n",
       "      <td>984279</td>\n",
       "    </tr>\n",
       "    <tr>\n",
       "      <th>19587</th>\n",
       "      <td>120141</td>\n",
       "      <td>2023-12-31 21:28:27</td>\n",
       "      <td>2024-01-01 00:37:00</td>\n",
       "      <td>M</td>\n",
       "      <td>434966</td>\n",
       "    </tr>\n",
       "    <tr>\n",
       "      <th>19588</th>\n",
       "      <td>120142</td>\n",
       "      <td>2023-12-31 21:45:54</td>\n",
       "      <td>2024-01-01 02:00:00</td>\n",
       "      <td>M</td>\n",
       "      <td>995075</td>\n",
       "    </tr>\n",
       "    <tr>\n",
       "      <th>19589</th>\n",
       "      <td>120146</td>\n",
       "      <td>2023-12-31 22:34:01</td>\n",
       "      <td>2024-01-01 04:57:00</td>\n",
       "      <td>M</td>\n",
       "      <td>2144</td>\n",
       "    </tr>\n",
       "    <tr>\n",
       "      <th>19590</th>\n",
       "      <td>120147</td>\n",
       "      <td>2023-12-31 23:12:58</td>\n",
       "      <td>2024-01-01 02:11:00</td>\n",
       "      <td>M</td>\n",
       "      <td>848887</td>\n",
       "    </tr>\n",
       "  </tbody>\n",
       "</table>\n",
       "</div>"
      ],
      "text/plain": [
       "       ID_ATENCION     INICIO_ATENCION        FIN_ATENCION GENERO  ID_PACIENTE\n",
       "19586       120140 2023-12-31 21:20:02 2024-01-01 01:59:00      M       984279\n",
       "19587       120141 2023-12-31 21:28:27 2024-01-01 00:37:00      M       434966\n",
       "19588       120142 2023-12-31 21:45:54 2024-01-01 02:00:00      M       995075\n",
       "19589       120146 2023-12-31 22:34:01 2024-01-01 04:57:00      M         2144\n",
       "19590       120147 2023-12-31 23:12:58 2024-01-01 02:11:00      M       848887"
      ]
     },
     "execution_count": 11,
     "metadata": {},
     "output_type": "execute_result"
    }
   ],
   "source": [
    "df.tail()"
   ]
  },
  {
   "cell_type": "code",
   "execution_count": 12,
   "metadata": {},
   "outputs": [
    {
     "data": {
      "text/plain": [
       "519207    20\n",
       "17774     19\n",
       "252360    13\n",
       "986080    12\n",
       "853193    12\n",
       "          ..\n",
       "468276     1\n",
       "820787     1\n",
       "811520     1\n",
       "490502     1\n",
       "2144       1\n",
       "Name: ID_PACIENTE, Length: 15531, dtype: int64"
      ]
     },
     "execution_count": 12,
     "metadata": {},
     "output_type": "execute_result"
    }
   ],
   "source": [
    "# saber si una persona fue más de una vez al hospital\n",
    "df['ID_PACIENTE'].value_counts()"
   ]
  },
  {
   "cell_type": "code",
   "execution_count": 13,
   "metadata": {},
   "outputs": [
    {
     "data": {
      "image/png": "[encoded data removed]",
      "text/plain": [
       "<Figure size 640x480 with 1 Axes>"
      ]
     },
     "metadata": {},
     "output_type": "display_data"
    }
   ],
   "source": [
    "# Graficar la cantidad de personas que fueron al hospital por mes\n",
    "df['INICIO_ATENCION'].groupby(df['INICIO_ATENCION'].dt.month).count().plot(kind='bar')\n",
    "plt.xlabel('Mes')\n",
    "plt.ylabel('Cantidad de personas')\n",
    "plt.title('Cantidad de personas que fueron al hospital por mes')\n",
    "plt.show()\n"
   ]
  },
  {
   "cell_type": "code",
   "execution_count": 22,
   "metadata": {},
   "outputs": [
    {
     "data": {
      "image/png": "[encoded data removed]",
      "text/plain": [
       "<Figure size 640x480 with 1 Axes>"
      ]
     },
     "metadata": {},
     "output_type": "display_data"
    }
   ],
   "source": [
    "# cantidad de personas que van por día al hospital\n",
    "df['INICIO_ATENCION'].groupby(df['INICIO_ATENCION'].dt.day).count().plot(kind='bar')\n",
    "plt.xlabel('Día')\n",
    "plt.ylabel('Cantidad de personas')\n",
    "plt.title('Cantidad de personas que fueron al hospital por día')\n",
    "plt.show()"
   ]
  },
  {
   "cell_type": "code",
   "execution_count": 14,
   "metadata": {},
   "outputs": [
    {
     "data": {
      "text/plain": [
       "INICIO_ATENCION\n",
       "1     1645\n",
       "2     1579\n",
       "3     1785\n",
       "4     1618\n",
       "5     1795\n",
       "6     1668\n",
       "7     1512\n",
       "8     1357\n",
       "9     1559\n",
       "10    1567\n",
       "11    1785\n",
       "12    1721\n",
       "Name: INICIO_ATENCION, dtype: int64"
      ]
     },
     "execution_count": 14,
     "metadata": {},
     "output_type": "execute_result"
    }
   ],
   "source": [
    "# cuantas personas fueron al hospital por mes\n",
    "df['INICIO_ATENCION'].groupby(df['INICIO_ATENCION'].dt.month).count()"
   ]
  }
 ],
 "metadata": {
  "kernelspec": {
   "display_name": "venv",
   "language": "python",
   "name": "python3"
  },
  "language_info": {
   "codemirror_mode": {
    "name": "ipython",
    "version": 3
   },
   "file_extension": ".py",
   "mimetype": "text/x-python",
   "name": "python",
   "nbconvert_exporter": "python",
   "pygments_lexer": "ipython3",
   "version": "3.11.6"
  }
 },
 "nbformat": 4,
 "nbformat_minor": 2
}
