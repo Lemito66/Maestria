{
  "cells": [
    {
      "cell_type": "markdown",
      "metadata": {
        "id": "MPYfNc03WIv4"
      },
      "source": [
        "<a href=\"https://kaggle.com/kernels/welcome?src=https://github.com/mayait/ClaseAnalisisDatos/blob/main/python101/EstadisticaDescriptivaPython.ipynb\"><img src=\"https://kaggle.com/static/images/open-in-kaggle.svg\" width=120 /></a>\n",
        "\n",
        "<a href=\"https://colab.research.google.com/github/mayait/ClaseAnalisisDatos/blob/main/python101/EstadisticaDescriptivaPython.ipynb\"><img src=\"https://colab.research.google.com/assets/colab-badge.svg\" width=120 /></a>"
      ]
    },
    {
      "cell_type": "code",
      "execution_count": null,
      "metadata": {
        "cellView": "form",
        "id": "oEfCT92oL7bC"
      },
      "outputs": [],
      "source": [
        "#@title Nombre del estudiante\n",
        "Estudiante = \"\" #@param {type:\"string\"}\n",
        "Código = \"\" #@param {type:\"string\"}"
      ]
    },
    {
      "cell_type": "markdown",
      "metadata": {
        "id": "ctZCniXyXg3f"
      },
      "source": [
        "<img src=\"https://usfq.leanlabs.co/static/img/logo-bp.png\" width=\"200\"/>\n",
        "\n",
        "# **Estadística Descriptiva**"
      ]
    },
    {
      "cell_type": "markdown",
      "metadata": {
        "id": "1X8LpWtdd5No"
      },
      "source": [
        "# <center>    </center>\n",
        "\n",
        "\n",
        "---\n",
        "\n",
        "\n",
        "\n",
        "## Descripción\n",
        "Conceptos asociados a la estadística descriptiva implementando Python\n",
        "\n",
        "## Contenido\n",
        "\n",
        "* Medidas de Tendencia Central\n",
        "* Medidas de Dispersión\n",
        "* Medidas de Posición\n",
        "* Medidas de Forma\n",
        "* Distribución Normal\n",
        "* Covarianza y correlación\n",
        "\n",
        "## Referencias importantes:\n",
        "* [Seaborn Charts](https://seaborn.pydata.org/tutorial/distributions.html)\n",
        "* <a href='https://rdrr.io/cran/ISLR/man/Credit.html'>\n",
        "  Dataset </a>\n",
        "* https://storage.googleapis.com/datasets-academy/Credit.csv\n",
        "\n"
      ]
    },
    {
      "cell_type": "markdown",
      "metadata": {
        "id": "tnS4aC2iIyQ9"
      },
      "source": [
        "## 1. Dataset de Trabajo\n",
        "\n",
        "**Credit:** conjunto de datos simulados que contiene información sobre diez mil clientes de una entidad financiera\n",
        "\n",
        "<a href='https://rdrr.io/cran/ISLR/man/Credit.html'>\n",
        "  Documentación de las variables </a>\n",
        "\n",
        "**Diccionario de datos**\n",
        "* ID: Código de identificación del cliente\n",
        "* Income: Ingresos del cliente en $10,000's\n",
        "* Limit: Límite de crédito\n",
        "* Rating: Puntaje crediticio\n",
        "* Cards: Número de tarjetas de crédito\n",
        "* Age: Edad en años\n",
        "* Education: Número de años de educación\n",
        "* Gender: Masculino (Male) o Femenino (Female)\n",
        "* Student: Si el cliente es estudiantes (Yes) o no lo es (No)\n",
        "* Married: Si el cliente está casado (Yes) o no está (No)\n",
        "* Ethnicity: Africano (African), Americano (American), Asiático (Asian) y Caucásico (Caucasian)\n",
        "* Balance: Promedio del saldo de la tarjeta de crédito en dólares\n"
      ]
    },
    {
      "cell_type": "code",
      "execution_count": null,
      "metadata": {
        "id": "fkzf3Ay1ITwc"
      },
      "outputs": [],
      "source": [
        "import sys\n",
        "import numpy as np\n",
        "import pandas as pd\n",
        "# Librería para medidas de posición y forma\n",
        "import scipy\n",
        "import scipy.stats as stats\n",
        "# Librerías para visualización\n",
        "import seaborn as sns\n",
        "\n",
        "import matplotlib\n",
        "import matplotlib.pyplot as plt"
      ]
    },
    {
      "cell_type": "markdown",
      "metadata": {
        "id": "kPK3xE8auNy6"
      },
      "source": [
        "## Descargando el dataset\n",
        "https://raw.githubusercontent.com/mayait/ClaseAnalisisDatos/main/python101/data/Credit.csv"
      ]
    },
    {
      "cell_type": "code",
      "execution_count": null,
      "metadata": {
        "id": "G91eSSE8aXcw"
      },
      "outputs": [],
      "source": []
    },
    {
      "cell_type": "markdown",
      "metadata": {
        "id": "mGZqNql3uC2_"
      },
      "source": [
        "## Importar dataset\n",
        "pd.read_csv() permite importar un archivo de texto a Pandas"
      ]
    },
    {
      "cell_type": "code",
      "execution_count": null,
      "metadata": {
        "id": "DLJLDZY_Iz41"
      },
      "outputs": [],
      "source": [
        "Credit = 🌶️🌶️🌶️🌶️🌶️🌶️🌶️"
      ]
    },
    {
      "cell_type": "code",
      "execution_count": null,
      "metadata": {
        "id": "XdhnUiPkJCmD"
      },
      "outputs": [],
      "source": [
        "# Dimensiones del dataset\n",
        "print(Credit.shape)"
      ]
    },
    {
      "cell_type": "code",
      "execution_count": null,
      "metadata": {
        "id": "sQpRehCIg56U"
      },
      "outputs": [],
      "source": [
        "Credit.sample(4)"
      ]
    },
    {
      "cell_type": "code",
      "execution_count": null,
      "metadata": {
        "id": "sNdePlqRfnnh"
      },
      "outputs": [],
      "source": [
        "# Muestra los 20 primeros\n",
        "Credit.head(5)"
      ]
    },
    {
      "cell_type": "code",
      "execution_count": null,
      "metadata": {
        "id": "C4fItGLBubA4"
      },
      "outputs": [],
      "source": [
        "Credit[\"Income\"]"
      ]
    },
    {
      "cell_type": "markdown",
      "metadata": {
        "id": "y9iw0cqIJ72F"
      },
      "source": [
        "## 2. Medidas de Tendencia Central\n",
        "\n",
        "Empezaremos visualizando la distribución de los ingresos por medio de un histograma.\n",
        "\n",
        "**Ejercicio:** Identificar las características de la distribución."
      ]
    },
    {
      "cell_type": "code",
      "source": [
        "sns.displot(Credit, x='Income', bins=20, kde=True)\n",
        "plt.title(\"Ingresos\")\n",
        "plt.xlabel(\"Dólares\")\n",
        "plt.ylabel(\"Frecuencia Relativa\")\n",
        "plt.show()\n"
      ],
      "metadata": {
        "id": "knI3hEGjJhRN"
      },
      "execution_count": null,
      "outputs": []
    },
    {
      "cell_type": "code",
      "source": [
        "sns.displot(Credit, x='Income', hue='Student', kde=True) #hue crea un histograma por cada una de las categorías de manufactorer_name\n",
        "plt.title(\"Ingresos\")\n",
        "plt.xlabel(\"Dólares\")\n",
        "plt.ylabel(\"Frecuencia Relativa\")\n",
        "plt.show()\n"
      ],
      "metadata": {
        "id": "OTJgChyQOZcV"
      },
      "execution_count": null,
      "outputs": []
    },
    {
      "cell_type": "code",
      "source": [
        "Credit.groupby('Gender').count()\n"
      ],
      "metadata": {
        "id": "j1SjIclMPP0g"
      },
      "execution_count": null,
      "outputs": []
    },
    {
      "cell_type": "code",
      "execution_count": null,
      "metadata": {
        "id": "GZlldcsdKpjx"
      },
      "outputs": [],
      "source": [
        "# Medidas de tendencia central\n",
        "media_income    = Credit[\"Income\"].🌶️🌶️🌶️🌶️🌶️🌶️🌶️\n",
        "mediana_income  = 🌶️🌶️🌶️🌶️🌶️🌶️🌶️\n",
        "moda_income     = 🌶️🌶️🌶️🌶️🌶️🌶️🌶️\n",
        "\n",
        "print('Media: ', media_income, '\\nMediana: ', mediana_income, '\\nModa: ', moda_income[0])"
      ]
    },
    {
      "cell_type": "markdown",
      "metadata": {
        "id": "VFVzvQh6LKHh"
      },
      "source": [
        "**¿Cuál de las medidas de tendencia central resumen correctamente a los ingresos?**"
      ]
    },
    {
      "cell_type": "code",
      "execution_count": null,
      "metadata": {
        "id": "ezc6VRqVK6EU"
      },
      "outputs": [],
      "source": [
        "sns.histplot(Credit[\"Income\"], bins='fd', kde=True)\n",
        "plt.title(\"Ingresos\")\n",
        "plt.xlabel(\"Dólares\")\n",
        "plt.ylabel(\"Frecuencia Relativa\")\n",
        "plt.axvline(media_income, color='red', label='Promedio')\n",
        "plt.axvline(mediana_income, color='yellow', label='Mediana')\n",
        "plt.axvline(moda_income[0], color='green', label='Moda')\n",
        "plt.legend()\n",
        "plt.show()"
      ]
    },
    {
      "cell_type": "markdown",
      "metadata": {
        "id": "JpwBk1DDMrrZ"
      },
      "source": [
        "# 🌶 1\n",
        "**Ejercicio 1:** Obtener el promedio, mediana y moda de la columna `Limit` del  DataFrame `Credit`\n",
        "\n",
        "\n",
        "```\n",
        "Respuesta:\n",
        "Promedio: 4735.6\n",
        "Mediana: 4622.5\n",
        "Moda: 855\n",
        "```\n",
        "\n"
      ]
    },
    {
      "cell_type": "code",
      "execution_count": null,
      "metadata": {
        "id": "INGiY4_FMARD"
      },
      "outputs": [],
      "source": [
        "# Obtener el promedio, mediana y moda de la columna `Limit` del  DataFrame `Credit`\n",
        "🌶️🌶️🌶️🌶️🌶️🌶️🌶️\n",
        "🌶️🌶️🌶️🌶️🌶️🌶️🌶️\n",
        "🌶️🌶️🌶️🌶️🌶️🌶️🌶️\n",
        "print('Media: ', 🌶️🌶️🌶️🌶️🌶️🌶️🌶️, '\\nMediana: ', 🌶️🌶️🌶️🌶️🌶️🌶️🌶️, '\\nModa: ', 🌶️🌶️🌶️🌶️🌶️🌶️🌶️[0])\n",
        "\n"
      ]
    },
    {
      "cell_type": "markdown",
      "metadata": {
        "id": "1EC_3M4FNwYn"
      },
      "source": [
        "## 3. Medidas de Dispersión"
      ]
    },
    {
      "cell_type": "markdown",
      "metadata": {
        "id": "eFS__vYuN1AI"
      },
      "source": [
        "### Rango"
      ]
    },
    {
      "cell_type": "code",
      "execution_count": null,
      "metadata": {
        "id": "Iao-7Rj-v0t7"
      },
      "outputs": [],
      "source": [
        "Credit[\"Income\"].min()"
      ]
    },
    {
      "cell_type": "code",
      "execution_count": null,
      "metadata": {
        "id": "1NUUOyU2v14Z"
      },
      "outputs": [],
      "source": [
        "Credit[\"Income\"].max()"
      ]
    },
    {
      "cell_type": "code",
      "execution_count": null,
      "metadata": {
        "id": "mhMsIqHnNuZe"
      },
      "outputs": [],
      "source": [
        "print(\"El ingreso mínimo es de:\", Credit[\"Income\"].min())\n",
        "print(\"El ingreso máximo es de:\", Credit[\"Income\"].max())\n",
        "print(\"El rango es igual a:\", Credit[\"Income\"].max() - Credit[\"Income\"].min())"
      ]
    },
    {
      "cell_type": "markdown",
      "metadata": {
        "id": "2Axzgsb8OAr-"
      },
      "source": [
        "### Varianza y Desviación Estándar\n",
        "* El argumento ```ddof``` hace referencia al denominador: ```N-ddof```\n",
        "* ```ddof=0``` si trabajamos con la población\n",
        "* ```ddof=1``` si trabajamos con la muestra"
      ]
    },
    {
      "cell_type": "code",
      "execution_count": null,
      "metadata": {
        "id": "Szg37-DgOB17"
      },
      "outputs": [],
      "source": [
        "print(\"La varianza en la población es igual a:\", Credit[\"Income\"].var(ddof=0))\n",
        "print(\"La desviación estandar en la población es igual a:\", Credit[\"Income\"].std(ddof=0))"
      ]
    },
    {
      "cell_type": "code",
      "execution_count": null,
      "metadata": {
        "id": "z5DeNPN3OKtS"
      },
      "outputs": [],
      "source": [
        "print(\"La varianza en la muestra es igual a:\", Credit[\"Income\"].var())\n",
        "print(\"La desviación estandar en la muestra es igual a:\", Credit[\"Income\"].std())"
      ]
    },
    {
      "cell_type": "markdown",
      "metadata": {
        "id": "M__qQdLSPNlf"
      },
      "source": [
        "# 🌶 2\n",
        "\n",
        "---\n",
        "\n",
        "\n",
        "**Ejercicio 2:** Obtener el rango, la varianza muestral y la desviación estándar muestral de la columna `Balance` del  DataFrame `Credit`\n",
        "\n",
        "\n",
        "```\n",
        "Respuesta:\n",
        "Rango: 1999\n",
        "Varianza muestral: 211378.22533834586\n",
        "Desv. estándar muestral: 459.75887738938314\n",
        "```\n",
        "\n"
      ]
    },
    {
      "cell_type": "code",
      "execution_count": null,
      "metadata": {
        "id": "i_im4JN2PSxJ"
      },
      "outputs": [],
      "source": [
        "# Obtener el rango, la varianza muestral y la desviación estándar muestral de la columna `Balance` del  DataFrame `Credit`\n",
        "\n",
        "🌶️🌶️🌶️🌶️🌶️🌶️🌶️🌶️🌶️🌶️🌶️🌶️🌶️🌶️\n",
        "\n"
      ]
    },
    {
      "cell_type": "markdown",
      "source": [
        "Jointplot muestra un scatterplot y la distribución de los datos.\n",
        "\n",
        "Documentación de jointplot: http://seaborn.pydata.org/generated/seaborn.jointplot.html"
      ],
      "metadata": {
        "id": "e79h84j5Qlkt"
      }
    },
    {
      "cell_type": "code",
      "source": [
        "sns.jointplot(data=Credit, x='Income', y='Rating', hue='Ethnicity')\n"
      ],
      "metadata": {
        "id": "eGs8vhJKP1XW"
      },
      "execution_count": null,
      "outputs": []
    },
    {
      "cell_type": "markdown",
      "metadata": {
        "id": "eLMJyxEhR_L2"
      },
      "source": [
        "## 4. Medidas de Posición\n",
        "El método ```describe()``` muestra de forma predeterminada los cuartiles sin embargo, podemos requerir otras medidas de posición de acuerdo a lo que se necesite."
      ]
    },
    {
      "cell_type": "code",
      "execution_count": null,
      "metadata": {
        "id": "8mK3CTRTSEyC"
      },
      "outputs": [],
      "source": [
        "Credit[\"Income\"].describe()"
      ]
    },
    {
      "cell_type": "code",
      "execution_count": null,
      "metadata": {
        "id": "YTMskCImSkU6"
      },
      "outputs": [],
      "source": [
        "# Percentil 90\n",
        "Credit[\"Income\"].quantile(0.90)"
      ]
    },
    {
      "cell_type": "markdown",
      "metadata": {
        "id": "XURZWg0qTkuV"
      },
      "source": [
        "### Rango Intercuartil (IQR)\n",
        "Medida de dispersión a ser utilizada cuando se emplea la mediana como medida de tendencia central.\n",
        "Se define como la diferencia entre el tercer cuartil (Q3) y el primer cuartil (Q1), es decir: $$IRQ = Q3 - Q1$$.\n",
        "\n",
        "![image.png](data:image/png;base64,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)\n",
        "\n",
        "Source:makemeanalyst.com\n"
      ]
    },
    {
      "cell_type": "code",
      "execution_count": null,
      "metadata": {
        "id": "ITTbM5qiTkCq"
      },
      "outputs": [],
      "source": [
        "stats.iqr(Credit[\"Income\"])"
      ]
    },
    {
      "cell_type": "code",
      "execution_count": null,
      "metadata": {
        "id": "V96GA-j9Tzo-"
      },
      "outputs": [],
      "source": [
        "Credit[\"Income\"].quantile(0.75) - Credit[\"Income\"].quantile(0.25)"
      ]
    },
    {
      "cell_type": "markdown",
      "metadata": {
        "id": "EtP9vu703v7M"
      },
      "source": [
        "## BOX-PLOT :\n",
        "\n",
        "Un diagrama de caja es una forma muy útil y estandarizada de mostrar la distribución de datos basada en un resumen de cinco números (mínimo, primer cuartil, segundo cuartil (mediana), tercer cuartil, máximo).\n",
        "\n",
        "![image.png](data:image/png;base64,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)\n",
        "\n",
        "Source: biostats.w.uib.no\n"
      ]
    },
    {
      "cell_type": "code",
      "execution_count": null,
      "metadata": {
        "id": "MX9fnYJv3vKe"
      },
      "outputs": [],
      "source": []
    },
    {
      "cell_type": "code",
      "execution_count": null,
      "metadata": {
        "id": "56P1fYooT4DC"
      },
      "outputs": [],
      "source": [
        "sns.boxplot(x=Credit[\"Income\"],color = \"pink\")\n",
        "plt.title(\"Boxplot de los Ingresos\")\n",
        "plt.xlabel(\"Dólares\")\n",
        "plt.show()"
      ]
    },
    {
      "cell_type": "code",
      "execution_count": null,
      "metadata": {
        "id": "4PdR7PBTUGOU"
      },
      "outputs": [],
      "source": [
        "sns.boxplot(x=Credit[\"Income\"], color=\"pink\")\n",
        "plt.title(\"Boxplot de los Ingresos\")\n",
        "plt.xlabel(\"Dólares\")\n",
        "\n",
        "#Pongamosle las lineas\n",
        "plt.axvline(🌶️🌶️🌶️🌶️🌶️🌶️🌶️, color='green', label='Q1')\n",
        "plt.axvline(🌶️🌶️🌶️🌶️🌶️🌶️🌶️, color='blue', label='Q2/Mediana')\n",
        "plt.axvline(🌶️🌶️🌶️🌶️🌶️🌶️🌶️, color='red', label='Q3')\n",
        "plt.legend()\n",
        "plt.show()"
      ]
    },
    {
      "cell_type": "code",
      "execution_count": null,
      "metadata": {
        "id": "fDDHkoSxUdIK"
      },
      "outputs": [],
      "source": [
        "sns.boxplot(x=Credit[\"Income\"], y=Credit[\"Gender\"])\n",
        "plt.title(\"Boxplot de los Ingresos\")\n",
        "plt.xlabel(\"Dólares\")\n",
        "plt.show()"
      ]
    },
    {
      "cell_type": "code",
      "execution_count": null,
      "metadata": {
        "id": "P0RNk2oLUnLp"
      },
      "outputs": [],
      "source": [
        "sns.boxplot(x=Credit[\"Income\"], y=Credit[\"Ethnicity\"])\n",
        "plt.title(\"Boxplot de los Ingresos por Etnia\")\n",
        "plt.xlabel(\"Dólares\")\n",
        "plt.show()"
      ]
    },
    {
      "cell_type": "markdown",
      "metadata": {
        "id": "t9d-yzQyVGJy"
      },
      "source": [
        "### Valores atípicos/extremos/outliers\n",
        "Se definen como observaciones extremas a aquellas que se encuentran fuera del rango $$[Q_1-(1.5 \\times IQR) ; Q_3 +(1.5 \\times IQR)]$$"
      ]
    },
    {
      "cell_type": "code",
      "execution_count": null,
      "metadata": {
        "id": "wO5m1yCRU56P"
      },
      "outputs": [],
      "source": [
        "IQR  = stats.iqr(Credit[\"Income\"])\n",
        "whis = 1.5\n",
        "cons = IQR * whis\n",
        "\n",
        "#Cuartiles\n",
        "Q1   = Credit[\"Income\"].quantile(0.25)\n",
        "Q3   = Credit[\"Income\"].quantile(0.75)\n",
        "\n",
        "print(\"El límite inferior para valores extremos es:\", (Q1-cons))\n",
        "print(\"El límite superior para valores extremos es:\", (Q3+cons))"
      ]
    },
    {
      "cell_type": "code",
      "execution_count": null,
      "metadata": {
        "id": "PggOvWN6U_mW"
      },
      "outputs": [],
      "source": [
        "sns.boxplot(x=Credit[\"Income\"], color=\"pink\", whis=1.5)\n",
        "plt.title(\"Boxplot de los Ingresos\")\n",
        "plt.xlabel(\"Dólares\")\n",
        "plt.axvline(Q3+cons, color='blue', label='Lim. Superior')\n",
        "plt.legend()\n",
        "plt.show()"
      ]
    },
    {
      "cell_type": "code",
      "execution_count": null,
      "metadata": {
        "id": "wUCPvQhaVZp8"
      },
      "outputs": [],
      "source": [
        "sns.histplot(Credit[\"Income\"], color =\"darkblue\", kde=True)\n",
        "plt.title(\"Ingresos\")\n",
        "plt.xlabel(\"Dólares\")\n",
        "plt.ylabel(\"Frecuencia Relativa\")\n",
        "plt.axvline(🌶️🌶️🌶️🌶️🌶️🌶️🌶️, color='blue', label='Lim. Superior')\n",
        "plt.legend()\n",
        "plt.show()"
      ]
    },
    {
      "cell_type": "markdown",
      "metadata": {
        "id": "RHfq5hWlV4XH"
      },
      "source": [
        "# 🌶 3\n",
        "**Ejercicio 3:** Encuentre los quintiles y el rango intercuartil de la columna `Education` del  DataFrame `Credit`\n",
        "\n",
        "\n",
        "```\n",
        "Respuesta:\n",
        "Quintiles:\n",
        "0.2    11.0\n",
        "0.4    13.0\n",
        "0.6    15.0\n",
        "0.8    16.0\n",
        "Name: Education, dtype: float64\n",
        "\n",
        "IQR Educación: 5.0\n",
        "```\n",
        "\n"
      ]
    },
    {
      "cell_type": "code",
      "execution_count": null,
      "metadata": {
        "id": "c5BrvjFJV5_h"
      },
      "outputs": [],
      "source": [
        "# Encuentre los quintiles y el rango intercuartil de la columna `Education` del  DataFrame `Credit`\n",
        "\n"
      ]
    },
    {
      "cell_type": "markdown",
      "metadata": {
        "id": "dXDGcY1GWXuj"
      },
      "source": [
        "## 5. Medidas de Forma\n",
        "Interprete el coeficiente de asimetría y la curtosis\n",
        "\n",
        "[Asimentria wikipedia](https://es.wikipedia.org/wiki/Asimetr%C3%ADa_estad%C3%ADstica)\n",
        "\n",
        "[Curtosis wikipedia](https://es.wikipedia.org/wiki/Curtosis)"
      ]
    },
    {
      "cell_type": "markdown",
      "metadata": {
        "id": "GokY88Lw06ag"
      },
      "source": [
        "La asimetría de los datos representa la medida en que los valores de los datos no son simétricos con respecto a la media. Una forma de medir la asimetría es comparando la media y la mediana de la distribución.\n",
        "\n",
        "*   Mean > Median: Distribución positiva o sesgada a la derecha\n",
        "*   Mean = Median: Zero skewness o distribución simetrica\n",
        "*   Mean < Median: Distribución Negativa o sesgada a la izquierda\n",
        "\n",
        "<img src=\"https://miro.medium.com/max/1028/1*h5hWyG0USsED8TOOc5D4fA.png\">\n",
        "\n",
        "![image.png](data:image/png;base64,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)\n",
        "\n",
        "![image.png](data:image/png;base64,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)\n",
        "\n",
        "Source : tekmarathon.com\n",
        "\n"
      ]
    },
    {
      "cell_type": "code",
      "execution_count": null,
      "metadata": {
        "id": "dK5S8eYIV8RU"
      },
      "outputs": [],
      "source": [
        "print(\"El coeficiente de asimetría es igual a:\", Credit[\"Income\"].skew())\n",
        "print(\"La curtosis es igual a:\", Credit[\"Income\"].kurtosis())"
      ]
    },
    {
      "cell_type": "code",
      "execution_count": null,
      "metadata": {
        "id": "0ysoXpUCWjT5"
      },
      "outputs": [],
      "source": [
        "sns.distplot(Credit[\"Income\"], color=\"darkred\", kde=True)\n",
        "plt.title(\"Ingresos\")\n",
        "plt.xlabel(\"Dólares\")\n",
        "plt.ylabel(\"Frecuencia Relativa\")\n",
        "plt.axvline(media, color='red', label='Promedio')\n",
        "plt.axvline(mediana, color='yellow', label='Mediana')\n",
        "plt.axvline(moda[0], color='green', label='Moda')\n",
        "plt.legend()\n",
        "plt.show()"
      ]
    },
    {
      "cell_type": "markdown",
      "metadata": {
        "id": "lPBIW8UVYayo"
      },
      "source": [
        "# 🌶 4\n",
        "\n",
        "Ejercicio 4: Obtenga el coeficiente de asimetría y la curtosis de la columna Rating del DataFrame Credit\n",
        "\n",
        "\n",
        "```\n",
        "Respuesta:\n",
        "Coeficiente de asimetría: 0.8653935227370102\n",
        "Curtosis: 1.0609469816702823\n",
        "```\n",
        "\n"
      ]
    },
    {
      "cell_type": "code",
      "execution_count": null,
      "metadata": {
        "id": "Bcm3o4nZYX0i"
      },
      "outputs": [],
      "source": [
        "# Tu magia aquí"
      ]
    },
    {
      "cell_type": "markdown",
      "metadata": {
        "id": "3gB1akVda4KC"
      },
      "source": [
        "## 6. Covarianza y correlación\n",
        "\n",
        "Analizar las relaciones **lineales** entre dos variables cuantitativas por medio de la covarianza y correlación.\n",
        "\n",
        "- **Covarianza**: Nos da el signo de la relación entre dos variables, pero no podemos determinar la intensidad en la relación entre las mismas\n",
        "- **Coeficiente de correlación de Person**: Nos permite entender la relación entre las variables tanto su dirección (signo) e intensidad (valor). Se encuentra entre los valores de -1 y 1\n",
        "\n",
        "Es importante comprender que la correlación no representa causalidad, analicemos algunos ejemplos: [Correlación Espuria](https://www.tylervigen.com/spurious-correlations)"
      ]
    },
    {
      "cell_type": "code",
      "execution_count": null,
      "metadata": {
        "id": "9nfji-sWa-tk"
      },
      "outputs": [],
      "source": [
        "# Matriz de varianzas y covarianzas\n",
        "Credit.cov().round(decimals=2)"
      ]
    },
    {
      "cell_type": "markdown",
      "metadata": {
        "id": "e75GaPiS2ps0"
      },
      "source": [
        "A diferencia de la covarianza, el coeficiente de correlación es independiente de la escala y puede tomar un valor entre -1 y +1. Un valor más cercano a -1 indica una correlación negativa entre las variables. Por ejemplo, la correlación entre Rango y Valor es igual a -0,48. Esto indica que a medida que aumenta el Valor, disminuye el Rango (que sería mayor ya que el Rango 1 se considera el más alto)."
      ]
    },
    {
      "cell_type": "code",
      "execution_count": null,
      "metadata": {
        "id": "Dy5c6vT7bFhu"
      },
      "outputs": [],
      "source": [
        "# Matriz de correlaciones\n",
        "Credit.corr().round(decimals=2)"
      ]
    },
    {
      "cell_type": "code",
      "execution_count": null,
      "metadata": {
        "id": "uIG3I4bqyE55"
      },
      "outputs": [],
      "source": [
        "plt.figure(figsize=(16, 10))\n",
        "sns.heatmap(Credit.corr(), vmin=-1, vmax=1, annot=True, cmap='vlag_r',);"
      ]
    },
    {
      "cell_type": "code",
      "execution_count": null,
      "metadata": {
        "id": "e2LJcPB00h0T"
      },
      "outputs": [],
      "source": []
    }
  ],
  "metadata": {
    "colab": {
      "name": "Copia de EstadisticaDescriptiva.ipynb",
      "provenance": []
    },
    "kernelspec": {
      "display_name": "tensorflow",
      "language": "python",
      "name": "python3"
    },
    "language_info": {
      "codemirror_mode": {
        "name": "ipython",
        "version": 3
      },
      "file_extension": ".py",
      "mimetype": "text/x-python",
      "name": "python",
      "nbconvert_exporter": "python",
      "pygments_lexer": "ipython3",
      "version": "3.10.8"
    },
    "vscode": {
      "interpreter": {
        "hash": "ef347fa111a972b42709d754011b73804350168ffd20ad9dbaeb269a26ad840f"
      }
    }
  },
  "nbformat": 4,
  "nbformat_minor": 0
}