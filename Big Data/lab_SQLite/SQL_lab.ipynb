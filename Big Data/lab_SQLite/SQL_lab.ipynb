{
 "cells": [
  {
   "cell_type": "code",
   "execution_count": null,
   "id": "639053d7",
   "metadata": {},
   "outputs": [],
   "source": [
    "##Capítulo 17"
   ]
  },
  {
   "cell_type": "markdown",
   "id": "36411888",
   "metadata": {},
   "source": [
    "Paul J. Deitel and Harvey Deitel. \"Intro to Python for Computer Science and Data Science: Learning to Program with AI, Big Data and The Cloud\". Pearson (2020)"
   ]
  },
  {
   "cell_type": "code",
   "execution_count": null,
   "id": "09b86e27",
   "metadata": {},
   "outputs": [],
   "source": [
    "import sqlite3\n",
    "import pandas as pd"
   ]
  },
  {
   "cell_type": "code",
   "execution_count": null,
   "id": "64029af8",
   "metadata": {},
   "outputs": [],
   "source": [
    "#llamar a la función connect de sqlite3 para conectarnos a la bdd y obtener el objeto Connection\n",
    "connection = sqlite3.connect('books.db')"
   ]
  },
  {
   "cell_type": "code",
   "execution_count": 3,
   "id": "d5393750",
   "metadata": {},
   "outputs": [
    {
     "name": "stdout",
     "output_type": "stream",
     "text": [
      "Connection Successful <sqlite3.Connection object at 0x0000019B4DCEFC40>\n"
     ]
    }
   ],
   "source": [
    "print(\"Connection Successful\", connection) #si la conexión es correcta"
   ]
  },
  {
   "cell_type": "code",
   "execution_count": 4,
   "id": "01c429de",
   "metadata": {},
   "outputs": [],
   "source": [
    "cur = connection.cursor() "
   ]
  },
  {
   "cell_type": "code",
   "execution_count": 5,
   "id": "8b02b391",
   "metadata": {},
   "outputs": [
    {
     "name": "stdout",
     "output_type": "stream",
     "text": [
      "[('sqlite_sequence',), ('authors',), ('titles',), ('author_ISBN',)]\n"
     ]
    }
   ],
   "source": [
    "# listando las tablas de la bdd\n",
    "query = ''' SELECT name FROM sqlite_master WHERE type='table' '''\n",
    "sth = cur.execute(query) \n",
    "results = sth.fetchall() \n",
    "print(results)"
   ]
  },
  {
   "cell_type": "markdown",
   "id": "0cd5a07b",
   "metadata": {},
   "source": [
    "## Tabla authors\n",
    "\n",
    "La base de datos tiene tres tablas: authors, author_ISBN y titles. La tabla authors almacena todos los autores y tiene tres columnas:\n",
    "\n",
    "• id: el número de identificación exclusivo del autor. Esta columna entera se define como autoincrementada: para cada fila insertada en la tabla, SQLite aumenta el valor de id en 1 para garantizar que cada fila tenga un valor único. Esta columna es la clave principal de la tabla.\n",
    "\n",
    "• first: el nombre del autor (una cadena).\n",
    "\n",
    "• last: el apellido del autor (una cadena)."
   ]
  },
  {
   "cell_type": "code",
   "execution_count": 6,
   "id": "8f061d4f",
   "metadata": {},
   "outputs": [
    {
     "name": "stdout",
     "output_type": "stream",
     "text": [
      "[(1, 'Paul', 'Deitel'), (2, 'Harvey', 'Deitel'), (3, 'Abbey', 'Deitel'), (4, 'Dan', 'Quirk'), (5, 'Alexander', 'Wald')]\n"
     ]
    }
   ],
   "source": [
    "# listando observaciones de tabla authors\n",
    "query = ''' SELECT * FROM authors ''' \n",
    "sth = cur.execute(query) \n",
    "results = sth.fetchall() \n",
    "print(results)"
   ]
  },
  {
   "cell_type": "code",
   "execution_count": 7,
   "id": "23f27152",
   "metadata": {},
   "outputs": [
    {
     "data": {
      "text/html": [
       "<div>\n",
       "<style scoped>\n",
       "    .dataframe tbody tr th:only-of-type {\n",
       "        vertical-align: middle;\n",
       "    }\n",
       "\n",
       "    .dataframe tbody tr th {\n",
       "        vertical-align: top;\n",
       "    }\n",
       "\n",
       "    .dataframe thead th {\n",
       "        text-align: right;\n",
       "    }\n",
       "</style>\n",
       "<table border=\"1\" class=\"dataframe\">\n",
       "  <thead>\n",
       "    <tr style=\"text-align: right;\">\n",
       "      <th></th>\n",
       "      <th>first</th>\n",
       "      <th>last</th>\n",
       "    </tr>\n",
       "    <tr>\n",
       "      <th>id</th>\n",
       "      <th></th>\n",
       "      <th></th>\n",
       "    </tr>\n",
       "  </thead>\n",
       "  <tbody>\n",
       "    <tr>\n",
       "      <th>1</th>\n",
       "      <td>Paul</td>\n",
       "      <td>Deitel</td>\n",
       "    </tr>\n",
       "    <tr>\n",
       "      <th>2</th>\n",
       "      <td>Harvey</td>\n",
       "      <td>Deitel</td>\n",
       "    </tr>\n",
       "    <tr>\n",
       "      <th>3</th>\n",
       "      <td>Abbey</td>\n",
       "      <td>Deitel</td>\n",
       "    </tr>\n",
       "    <tr>\n",
       "      <th>4</th>\n",
       "      <td>Dan</td>\n",
       "      <td>Quirk</td>\n",
       "    </tr>\n",
       "    <tr>\n",
       "      <th>5</th>\n",
       "      <td>Alexander</td>\n",
       "      <td>Wald</td>\n",
       "    </tr>\n",
       "  </tbody>\n",
       "</table>\n",
       "</div>"
      ],
      "text/plain": [
       "        first    last\n",
       "id                   \n",
       "1        Paul  Deitel\n",
       "2      Harvey  Deitel\n",
       "3       Abbey  Deitel\n",
       "4         Dan   Quirk\n",
       "5   Alexander    Wald"
      ]
     },
     "execution_count": 7,
     "metadata": {},
     "output_type": "execute_result"
    }
   ],
   "source": [
    "#Ver el contenido de la tabla authors\n",
    "#Usemos una consulta SQL y pandas para ver el contenido de la tabla authors\n",
    "pd.read_sql('SELECT * FROM authors', connection, index_col=['id'])"
   ]
  },
  {
   "cell_type": "markdown",
   "id": "f8c8eca6",
   "metadata": {},
   "source": [
    "La función de Pandas read_sql ejecuta una consulta SQL y devuelve un DataFrame que contiene los resultados de la consulta. Los argumentos de la función son:\n",
    "\n",
    "• una cadena que representa la consulta SQL a ejecutar,\n",
    "\n",
    "• el objeto Connection de la base de datos SQLite, y en este caso\n",
    "\n",
    "• un argumento de palabra clave index_col que indica qué columna debe usarse como índices de fila del DataFrame (los valores de identificación del autor en este caso). Cuando no se pasa index_col, los valores de índice que comienzan desde 0 aparecen a la izquierda de las filas del DataFrame.\n",
    "\n",
    "Una consulta SQL SELECT obtiene filas y columnas de una o más tablas en una base de datos. En la consulta:\n",
    "\n",
    "SELECT * FROM authors\n",
    "\n",
    "el asterisco (*) es un comodín que indica que la consulta debe obtener todas las columnas de la tabla authors."
   ]
  },
  {
   "cell_type": "markdown",
   "id": "340b6537",
   "metadata": {},
   "source": [
    "## Tabla titles\n",
    "La tabla de títulos almacena todos los libros y tiene cuatro columnas:\n",
    "\n",
    "• isbn: el ISBN del libro (una cadena) es la clave principal de esta tabla. ISBN es una abreviatura de “International Standard Book Number”, que es un esquema de numeración que utilizan los editores para dar a cada libro un número de identificación único.\n",
    "\n",
    "• title: el título del libro (una cadena).\n",
    "\n",
    "• edition: el número de edición del libro (un número entero).\n",
    "\n",
    "• copyright: el año de copyright del libro (una cadena)."
   ]
  },
  {
   "cell_type": "code",
   "execution_count": 11,
   "id": "418cf004",
   "metadata": {},
   "outputs": [
    {
     "data": {
      "text/html": [
       "<div>\n",
       "<style scoped>\n",
       "    .dataframe tbody tr th:only-of-type {\n",
       "        vertical-align: middle;\n",
       "    }\n",
       "\n",
       "    .dataframe tbody tr th {\n",
       "        vertical-align: top;\n",
       "    }\n",
       "\n",
       "    .dataframe thead th {\n",
       "        text-align: right;\n",
       "    }\n",
       "</style>\n",
       "<table border=\"1\" class=\"dataframe\">\n",
       "  <thead>\n",
       "    <tr style=\"text-align: right;\">\n",
       "      <th></th>\n",
       "      <th>title</th>\n",
       "      <th>edition</th>\n",
       "      <th>copyright</th>\n",
       "    </tr>\n",
       "    <tr>\n",
       "      <th>isbn</th>\n",
       "      <th></th>\n",
       "      <th></th>\n",
       "      <th></th>\n",
       "    </tr>\n",
       "  </thead>\n",
       "  <tbody>\n",
       "    <tr>\n",
       "      <th>0135404673</th>\n",
       "      <td>Intro to Python for CS and DS</td>\n",
       "      <td>1</td>\n",
       "      <td>2020</td>\n",
       "    </tr>\n",
       "    <tr>\n",
       "      <th>0132151006</th>\n",
       "      <td>Internet &amp; WWW How to Program</td>\n",
       "      <td>5</td>\n",
       "      <td>2012</td>\n",
       "    </tr>\n",
       "    <tr>\n",
       "      <th>0134743350</th>\n",
       "      <td>Java How to Program</td>\n",
       "      <td>11</td>\n",
       "      <td>2018</td>\n",
       "    </tr>\n",
       "    <tr>\n",
       "      <th>0133976890</th>\n",
       "      <td>C How to Program</td>\n",
       "      <td>8</td>\n",
       "      <td>2016</td>\n",
       "    </tr>\n",
       "    <tr>\n",
       "      <th>0133406954</th>\n",
       "      <td>Visual Basic 2012 How to Program</td>\n",
       "      <td>6</td>\n",
       "      <td>2014</td>\n",
       "    </tr>\n",
       "    <tr>\n",
       "      <th>0134601548</th>\n",
       "      <td>Visual C# How to Program</td>\n",
       "      <td>6</td>\n",
       "      <td>2017</td>\n",
       "    </tr>\n",
       "    <tr>\n",
       "      <th>0136151574</th>\n",
       "      <td>Visual C++ How to Program</td>\n",
       "      <td>2</td>\n",
       "      <td>2008</td>\n",
       "    </tr>\n",
       "    <tr>\n",
       "      <th>0134448235</th>\n",
       "      <td>C++ How to Program</td>\n",
       "      <td>10</td>\n",
       "      <td>2017</td>\n",
       "    </tr>\n",
       "    <tr>\n",
       "      <th>0134444302</th>\n",
       "      <td>Android How to Program</td>\n",
       "      <td>3</td>\n",
       "      <td>2017</td>\n",
       "    </tr>\n",
       "    <tr>\n",
       "      <th>0134289366</th>\n",
       "      <td>Android 6 for Programmers</td>\n",
       "      <td>3</td>\n",
       "      <td>2016</td>\n",
       "    </tr>\n",
       "  </tbody>\n",
       "</table>\n",
       "</div>"
      ],
      "text/plain": [
       "                                       title  edition copyright\n",
       "isbn                                                           \n",
       "0135404673     Intro to Python for CS and DS        1      2020\n",
       "0132151006     Internet & WWW How to Program        5      2012\n",
       "0134743350               Java How to Program       11      2018\n",
       "0133976890                  C How to Program        8      2016\n",
       "0133406954  Visual Basic 2012 How to Program        6      2014\n",
       "0134601548          Visual C# How to Program        6      2017\n",
       "0136151574         Visual C++ How to Program        2      2008\n",
       "0134448235                C++ How to Program       10      2017\n",
       "0134444302            Android How to Program        3      2017\n",
       "0134289366         Android 6 for Programmers        3      2016"
      ]
     },
     "execution_count": 11,
     "metadata": {},
     "output_type": "execute_result"
    }
   ],
   "source": [
    "pd.read_sql('SELECT * FROM titles', connection, index_col=['isbn'])"
   ]
  },
  {
   "cell_type": "code",
   "execution_count": 12,
   "id": "71250bac",
   "metadata": {},
   "outputs": [
    {
     "data": {
      "text/html": [
       "<div>\n",
       "<style scoped>\n",
       "    .dataframe tbody tr th:only-of-type {\n",
       "        vertical-align: middle;\n",
       "    }\n",
       "\n",
       "    .dataframe tbody tr th {\n",
       "        vertical-align: top;\n",
       "    }\n",
       "\n",
       "    .dataframe thead th {\n",
       "        text-align: right;\n",
       "    }\n",
       "</style>\n",
       "<table border=\"1\" class=\"dataframe\">\n",
       "  <thead>\n",
       "    <tr style=\"text-align: right;\">\n",
       "      <th></th>\n",
       "      <th>copyright</th>\n",
       "    </tr>\n",
       "  </thead>\n",
       "  <tbody>\n",
       "    <tr>\n",
       "      <th>0</th>\n",
       "      <td>2020</td>\n",
       "    </tr>\n",
       "    <tr>\n",
       "      <th>1</th>\n",
       "      <td>2012</td>\n",
       "    </tr>\n",
       "    <tr>\n",
       "      <th>2</th>\n",
       "      <td>2018</td>\n",
       "    </tr>\n",
       "    <tr>\n",
       "      <th>3</th>\n",
       "      <td>2016</td>\n",
       "    </tr>\n",
       "    <tr>\n",
       "      <th>4</th>\n",
       "      <td>2014</td>\n",
       "    </tr>\n",
       "    <tr>\n",
       "      <th>5</th>\n",
       "      <td>2017</td>\n",
       "    </tr>\n",
       "    <tr>\n",
       "      <th>6</th>\n",
       "      <td>2008</td>\n",
       "    </tr>\n",
       "  </tbody>\n",
       "</table>\n",
       "</div>"
      ],
      "text/plain": [
       "  copyright\n",
       "0      2020\n",
       "1      2012\n",
       "2      2018\n",
       "3      2016\n",
       "4      2014\n",
       "5      2017\n",
       "6      2008"
      ]
     },
     "execution_count": 12,
     "metadata": {},
     "output_type": "execute_result"
    }
   ],
   "source": [
    "pd.read_sql('SELECT DISTINCT copyright FROM titles', connection)"
   ]
  },
  {
   "cell_type": "code",
   "execution_count": 15,
   "id": "076aea7e",
   "metadata": {},
   "outputs": [
    {
     "data": {
      "text/html": [
       "<div>\n",
       "<style scoped>\n",
       "    .dataframe tbody tr th:only-of-type {\n",
       "        vertical-align: middle;\n",
       "    }\n",
       "\n",
       "    .dataframe tbody tr th {\n",
       "        vertical-align: top;\n",
       "    }\n",
       "\n",
       "    .dataframe thead th {\n",
       "        text-align: right;\n",
       "    }\n",
       "</style>\n",
       "<table border=\"1\" class=\"dataframe\">\n",
       "  <thead>\n",
       "    <tr style=\"text-align: right;\">\n",
       "      <th></th>\n",
       "      <th>CONTEO</th>\n",
       "    </tr>\n",
       "  </thead>\n",
       "  <tbody>\n",
       "    <tr>\n",
       "      <th>0</th>\n",
       "      <td>7</td>\n",
       "    </tr>\n",
       "  </tbody>\n",
       "</table>\n",
       "</div>"
      ],
      "text/plain": [
       "   CONTEO\n",
       "0       7"
      ]
     },
     "execution_count": 15,
     "metadata": {},
     "output_type": "execute_result"
    }
   ],
   "source": [
    "pd.read_sql('SELECT COUNT(DISTINCT copyright) CONTEO FROM titles', connection)"
   ]
  },
  {
   "cell_type": "markdown",
   "id": "b2d0312d",
   "metadata": {},
   "source": [
    "## Tabla author_ISBN\n",
    "La tabla author_ISBN utiliza las siguientes columnas para asociar a los autores de la tabla authors con sus libros en la tabla titles:\n",
    "\n",
    "• id: la identificación de un autor (un número entero).\n",
    "\n",
    "• isbn: el ISBN del libro (una cadena).\n",
    "\n",
    "La columna de identificación es una foreign key, que es una columna en esta tabla que coincide con una columna primary key en otra tabla, es decir, la columna de identificación de la tabla authors. La columna isbn también es una foreign key: coincide con la columna de clave primaria isbn de la tabla titles. \n",
    "\n",
    "Una base de datos puede tener muchas tablas. Un objetivo al diseñar una base de datos es minimizar la duplicación de datos entre las tablas. Para hacer esto, cada tabla representa una entidad específica y las claves externas (foreign keys) ayudan a vincular los datos de varias tablas. Las claves primarias y las claves externas se designan cuando crea las tablas de la base de datos.\n",
    "\n",
    "Juntas, las columnas id e isbn de esta tabla forman una clave primaria compuesta. Cada fila de esta tabla hace coincidir de forma única un autor con el ISBN de un libro. Esta tabla contiene muchas entradas, así que usemos SQL y pandas para ver solo las primeras filas:"
   ]
  },
  {
   "cell_type": "code",
   "execution_count": 30,
   "id": "c121d58e",
   "metadata": {},
   "outputs": [],
   "source": [
    "df = pd.read_sql('SELECT * FROM author_ISBN', connection)"
   ]
  },
  {
   "cell_type": "code",
   "execution_count": 32,
   "id": "0265d710",
   "metadata": {},
   "outputs": [],
   "source": [
    "df = pd.read_sql('SELECT COUNT( DISTINCT isbn) FROM author_ISBN', connection)"
   ]
  },
  {
   "cell_type": "code",
   "execution_count": 33,
   "id": "0819f8c4",
   "metadata": {},
   "outputs": [
    {
     "data": {
      "text/html": [
       "<div>\n",
       "<style scoped>\n",
       "    .dataframe tbody tr th:only-of-type {\n",
       "        vertical-align: middle;\n",
       "    }\n",
       "\n",
       "    .dataframe tbody tr th {\n",
       "        vertical-align: top;\n",
       "    }\n",
       "\n",
       "    .dataframe thead th {\n",
       "        text-align: right;\n",
       "    }\n",
       "</style>\n",
       "<table border=\"1\" class=\"dataframe\">\n",
       "  <thead>\n",
       "    <tr style=\"text-align: right;\">\n",
       "      <th></th>\n",
       "      <th>COUNT( DISTINCT isbn)</th>\n",
       "    </tr>\n",
       "  </thead>\n",
       "  <tbody>\n",
       "    <tr>\n",
       "      <th>0</th>\n",
       "      <td>10</td>\n",
       "    </tr>\n",
       "  </tbody>\n",
       "</table>\n",
       "</div>"
      ],
      "text/plain": [
       "   COUNT( DISTINCT isbn)\n",
       "0                     10"
      ]
     },
     "execution_count": 33,
     "metadata": {},
     "output_type": "execute_result"
    }
   ],
   "source": [
    "df.head(15)"
   ]
  },
  {
   "cell_type": "markdown",
   "id": "93e1ccc0",
   "metadata": {},
   "source": [
    "##\n",
    "\n",
    "Existe una relación de uno a muchos entre una clave principal y una clave externa correspondiente: un autor puede escribir muchos libros y, de manera similar, muchos autores pueden escribir un libro. \n",
    "\n",
    "Por lo tanto, una clave externa puede aparecer muchas veces en su tabla, pero solo una vez (como clave principal) en otra tabla. \n",
    "\n",
    "Por ejemplo, en la base de datos de libros, el ISBN 0134289366 aparece en varias filas author_ISBN porque este libro tiene varios autores, pero aparece solo una vez como clave principal en titles."
   ]
  },
  {
   "attachments": {
    "20f69eaf-8821-4708-a382-f4a6ea6508fe.png": {
     "image/png": "[encoded data removed]"
    }
   },
   "cell_type": "markdown",
   "id": "2f0cab7b",
   "metadata": {},
   "source": [
    "Diagrama Entidad - Relación\n",
    "![image.png](attachment:20f69eaf-8821-4708-a382-f4a6ea6508fe.png)"
   ]
  },
  {
   "attachments": {
    "3343c38b-b778-4252-97ae-8b5549b55d0a.png": {
     "image/png": "[encoded data removed]"
    },
    "e9821df6-8148-4475-b5b7-fde7864a9ecb.png": {
     "image/png": "[encoded data removed]"
    }
   },
   "cell_type": "markdown",
   "id": "8db7c354",
   "metadata": {},
   "source": [
    "![image.png](attachment:3343c38b-b778-4252-97ae-8b5549b55d0a.png)\n",
    "![image.png](attachment:e9821df6-8148-4475-b5b7-fde7864a9ecb.png)"
   ]
  },
  {
   "cell_type": "markdown",
   "id": "ea262272",
   "metadata": {},
   "source": [
    "Anteriormente se usó declaraciones SELECT y el carácter * para obtener todas las columnas de una tabla. Por lo general, solo necesita un subconjunto de las columnas, especialmente en big data, donde podría tener docenas, cientos, miles o más columnas. \n",
    "\n",
    "Para recuperar solo columnas específicas, coloque una lista de nombres de columna separados por comas. Por ejemplo, recuperemos solo las columnas first y last de la tabla authors:"
   ]
  },
  {
   "cell_type": "code",
   "execution_count": 34,
   "id": "2739a46a",
   "metadata": {},
   "outputs": [
    {
     "data": {
      "text/html": [
       "<div>\n",
       "<style scoped>\n",
       "    .dataframe tbody tr th:only-of-type {\n",
       "        vertical-align: middle;\n",
       "    }\n",
       "\n",
       "    .dataframe tbody tr th {\n",
       "        vertical-align: top;\n",
       "    }\n",
       "\n",
       "    .dataframe thead th {\n",
       "        text-align: right;\n",
       "    }\n",
       "</style>\n",
       "<table border=\"1\" class=\"dataframe\">\n",
       "  <thead>\n",
       "    <tr style=\"text-align: right;\">\n",
       "      <th></th>\n",
       "      <th>first</th>\n",
       "      <th>last</th>\n",
       "    </tr>\n",
       "  </thead>\n",
       "  <tbody>\n",
       "    <tr>\n",
       "      <th>0</th>\n",
       "      <td>Paul</td>\n",
       "      <td>Deitel</td>\n",
       "    </tr>\n",
       "    <tr>\n",
       "      <th>1</th>\n",
       "      <td>Harvey</td>\n",
       "      <td>Deitel</td>\n",
       "    </tr>\n",
       "    <tr>\n",
       "      <th>2</th>\n",
       "      <td>Abbey</td>\n",
       "      <td>Deitel</td>\n",
       "    </tr>\n",
       "    <tr>\n",
       "      <th>3</th>\n",
       "      <td>Dan</td>\n",
       "      <td>Quirk</td>\n",
       "    </tr>\n",
       "    <tr>\n",
       "      <th>4</th>\n",
       "      <td>Alexander</td>\n",
       "      <td>Wald</td>\n",
       "    </tr>\n",
       "  </tbody>\n",
       "</table>\n",
       "</div>"
      ],
      "text/plain": [
       "       first    last\n",
       "0       Paul  Deitel\n",
       "1     Harvey  Deitel\n",
       "2      Abbey  Deitel\n",
       "3        Dan   Quirk\n",
       "4  Alexander    Wald"
      ]
     },
     "execution_count": 34,
     "metadata": {},
     "output_type": "execute_result"
    }
   ],
   "source": [
    "pd.read_sql('SELECT first, last FROM authors', connection)"
   ]
  },
  {
   "cell_type": "markdown",
   "id": "07b31b06",
   "metadata": {},
   "source": [
    "A menudo, seleccionará filas en una base de datos que satisfagan ciertos criterios de selección, especialmente en big data donde una base de datos puede contener millones o miles de millones de filas. Solo se seleccionan las filas que satisfacen los criterios de selección (formalmente llamados predicados). \n",
    "\n",
    "La cláusula WHERE de SQL especifica los criterios de selección de una consulta. Seleccionemos el título, la edición y los derechos de autor para todos los libros con copyright superiores a 2016. \n",
    "\n",
    "Los valores de cadena en las consultas SQL están delimitados por comillas simples ('), como en' 2016 ':"
   ]
  },
  {
   "cell_type": "code",
   "execution_count": 38,
   "id": "e1dfe024",
   "metadata": {},
   "outputs": [
    {
     "data": {
      "text/html": [
       "<div>\n",
       "<style scoped>\n",
       "    .dataframe tbody tr th:only-of-type {\n",
       "        vertical-align: middle;\n",
       "    }\n",
       "\n",
       "    .dataframe tbody tr th {\n",
       "        vertical-align: top;\n",
       "    }\n",
       "\n",
       "    .dataframe thead th {\n",
       "        text-align: right;\n",
       "    }\n",
       "</style>\n",
       "<table border=\"1\" class=\"dataframe\">\n",
       "  <thead>\n",
       "    <tr style=\"text-align: right;\">\n",
       "      <th></th>\n",
       "      <th>title</th>\n",
       "      <th>edition</th>\n",
       "      <th>copyright</th>\n",
       "    </tr>\n",
       "  </thead>\n",
       "  <tbody>\n",
       "    <tr>\n",
       "      <th>0</th>\n",
       "      <td>Intro to Python for CS and DS</td>\n",
       "      <td>1</td>\n",
       "      <td>2020</td>\n",
       "    </tr>\n",
       "    <tr>\n",
       "      <th>1</th>\n",
       "      <td>Java How to Program</td>\n",
       "      <td>11</td>\n",
       "      <td>2018</td>\n",
       "    </tr>\n",
       "    <tr>\n",
       "      <th>2</th>\n",
       "      <td>Visual C# How to Program</td>\n",
       "      <td>6</td>\n",
       "      <td>2017</td>\n",
       "    </tr>\n",
       "    <tr>\n",
       "      <th>3</th>\n",
       "      <td>C++ How to Program</td>\n",
       "      <td>10</td>\n",
       "      <td>2017</td>\n",
       "    </tr>\n",
       "    <tr>\n",
       "      <th>4</th>\n",
       "      <td>Android How to Program</td>\n",
       "      <td>3</td>\n",
       "      <td>2017</td>\n",
       "    </tr>\n",
       "  </tbody>\n",
       "</table>\n",
       "</div>"
      ],
      "text/plain": [
       "                           title  edition copyright\n",
       "0  Intro to Python for CS and DS        1      2020\n",
       "1            Java How to Program       11      2018\n",
       "2       Visual C# How to Program        6      2017\n",
       "3             C++ How to Program       10      2017\n",
       "4         Android How to Program        3      2017"
      ]
     },
     "execution_count": 38,
     "metadata": {},
     "output_type": "execute_result"
    }
   ],
   "source": [
    "pd.read_sql(''' SELECT title, edition, copyright\n",
    "                FROM titles\n",
    "                WHERE copyright > '2016' ''', \n",
    "            connection)"
   ]
  },
  {
   "cell_type": "markdown",
   "id": "ced1d1b7",
   "metadata": {},
   "source": [
    "## Coincidencia de patrones: cero o más caracteres\n",
    "La cláusula WHERE puede contener los operadores <,>, <=,> =, =, <> (no igual) y LIKE. El operador LIKE se utiliza para la coincidencia de patrones, buscando cadenas que coincidan con un patrón dado. \n",
    "\n",
    "Un patrón que contiene el carácter de porcentaje (%) busca cadenas que tengan cero o más caracteres en la posición del carácter de porcentaje en el patrón. Por ejemplo, busquemos todos los autores cuyo apellido comience con la letra D:"
   ]
  },
  {
   "cell_type": "code",
   "execution_count": 39,
   "id": "71bbdbba",
   "metadata": {},
   "outputs": [
    {
     "data": {
      "text/html": [
       "<div>\n",
       "<style scoped>\n",
       "    .dataframe tbody tr th:only-of-type {\n",
       "        vertical-align: middle;\n",
       "    }\n",
       "\n",
       "    .dataframe tbody tr th {\n",
       "        vertical-align: top;\n",
       "    }\n",
       "\n",
       "    .dataframe thead th {\n",
       "        text-align: right;\n",
       "    }\n",
       "</style>\n",
       "<table border=\"1\" class=\"dataframe\">\n",
       "  <thead>\n",
       "    <tr style=\"text-align: right;\">\n",
       "      <th></th>\n",
       "      <th>first</th>\n",
       "      <th>last</th>\n",
       "    </tr>\n",
       "    <tr>\n",
       "      <th>id</th>\n",
       "      <th></th>\n",
       "      <th></th>\n",
       "    </tr>\n",
       "  </thead>\n",
       "  <tbody>\n",
       "    <tr>\n",
       "      <th>1</th>\n",
       "      <td>Paul</td>\n",
       "      <td>Deitel</td>\n",
       "    </tr>\n",
       "    <tr>\n",
       "      <th>2</th>\n",
       "      <td>Harvey</td>\n",
       "      <td>Deitel</td>\n",
       "    </tr>\n",
       "    <tr>\n",
       "      <th>3</th>\n",
       "      <td>Abbey</td>\n",
       "      <td>Deitel</td>\n",
       "    </tr>\n",
       "  </tbody>\n",
       "</table>\n",
       "</div>"
      ],
      "text/plain": [
       "     first    last\n",
       "id                \n",
       "1     Paul  Deitel\n",
       "2   Harvey  Deitel\n",
       "3    Abbey  Deitel"
      ]
     },
     "execution_count": 39,
     "metadata": {},
     "output_type": "execute_result"
    }
   ],
   "source": [
    "pd.read_sql(\"\"\" SELECT id, first, last\n",
    "                FROM authors\n",
    "                WHERE last LIKE 'D%' \"\"\",\n",
    "           connection, index_col=['id'])"
   ]
  },
  {
   "cell_type": "markdown",
   "id": "f69eaef3",
   "metadata": {},
   "source": [
    "## Coincidencia de patrones: un caracter\n",
    "Un guión bajo (_) en la cadena del patrón indica un único carácter comodín en esa posición. \n",
    "\n",
    "Seleccionemos las filas de todos los autores cuyos nombres comiencen con cualquier carácter, seguido de la letra b, seguido de cualquier número de caracteres adicionales (especificado por %):"
   ]
  },
  {
   "cell_type": "code",
   "execution_count": 40,
   "id": "d9c0723f",
   "metadata": {},
   "outputs": [
    {
     "data": {
      "text/html": [
       "<div>\n",
       "<style scoped>\n",
       "    .dataframe tbody tr th:only-of-type {\n",
       "        vertical-align: middle;\n",
       "    }\n",
       "\n",
       "    .dataframe tbody tr th {\n",
       "        vertical-align: top;\n",
       "    }\n",
       "\n",
       "    .dataframe thead th {\n",
       "        text-align: right;\n",
       "    }\n",
       "</style>\n",
       "<table border=\"1\" class=\"dataframe\">\n",
       "  <thead>\n",
       "    <tr style=\"text-align: right;\">\n",
       "      <th></th>\n",
       "      <th>first</th>\n",
       "      <th>last</th>\n",
       "    </tr>\n",
       "    <tr>\n",
       "      <th>id</th>\n",
       "      <th></th>\n",
       "      <th></th>\n",
       "    </tr>\n",
       "  </thead>\n",
       "  <tbody>\n",
       "    <tr>\n",
       "      <th>3</th>\n",
       "      <td>Abbey</td>\n",
       "      <td>Deitel</td>\n",
       "    </tr>\n",
       "  </tbody>\n",
       "</table>\n",
       "</div>"
      ],
      "text/plain": [
       "    first    last\n",
       "id               \n",
       "3   Abbey  Deitel"
      ]
     },
     "execution_count": 40,
     "metadata": {},
     "output_type": "execute_result"
    }
   ],
   "source": [
    "pd.read_sql(\"\"\" SELECT id, first, last\n",
    "                FROM authors\n",
    "                WHERE first LIKE '_b%' \"\"\", \n",
    "            connection, index_col=['id'])"
   ]
  },
  {
   "cell_type": "code",
   "execution_count": 41,
   "id": "dc1c372f",
   "metadata": {},
   "outputs": [
    {
     "data": {
      "text/html": [
       "<div>\n",
       "<style scoped>\n",
       "    .dataframe tbody tr th:only-of-type {\n",
       "        vertical-align: middle;\n",
       "    }\n",
       "\n",
       "    .dataframe tbody tr th {\n",
       "        vertical-align: top;\n",
       "    }\n",
       "\n",
       "    .dataframe thead th {\n",
       "        text-align: right;\n",
       "    }\n",
       "</style>\n",
       "<table border=\"1\" class=\"dataframe\">\n",
       "  <thead>\n",
       "    <tr style=\"text-align: right;\">\n",
       "      <th></th>\n",
       "      <th>first</th>\n",
       "      <th>last</th>\n",
       "    </tr>\n",
       "    <tr>\n",
       "      <th>id</th>\n",
       "      <th></th>\n",
       "      <th></th>\n",
       "    </tr>\n",
       "  </thead>\n",
       "  <tbody>\n",
       "    <tr>\n",
       "      <th>2</th>\n",
       "      <td>Harvey</td>\n",
       "      <td>Deitel</td>\n",
       "    </tr>\n",
       "    <tr>\n",
       "      <th>3</th>\n",
       "      <td>Abbey</td>\n",
       "      <td>Deitel</td>\n",
       "    </tr>\n",
       "  </tbody>\n",
       "</table>\n",
       "</div>"
      ],
      "text/plain": [
       "     first    last\n",
       "id                \n",
       "2   Harvey  Deitel\n",
       "3    Abbey  Deitel"
      ]
     },
     "execution_count": 41,
     "metadata": {},
     "output_type": "execute_result"
    }
   ],
   "source": [
    "pd.read_sql(\"\"\" SELECT id, first, last\n",
    "                FROM authors\n",
    "                WHERE first LIKE '%y' \"\"\", \n",
    "            connection, index_col=['id'])"
   ]
  },
  {
   "cell_type": "markdown",
   "id": "665ac4e4",
   "metadata": {},
   "source": [
    "## Cláusula ORDER BY\n",
    "La cláusula ORDER BY ordena los resultados de una consulta en orden ascendente (de menor a mayor) o descendente (de mayor a menor), especificado con ASC y DESC, respectivamente. El orden de clasificación predeterminado es ascendente, por lo que ASC es opcional. Ordenemos los títulos en orden descendente:"
   ]
  },
  {
   "cell_type": "code",
   "execution_count": 42,
   "id": "df76d99f",
   "metadata": {},
   "outputs": [
    {
     "data": {
      "text/html": [
       "<div>\n",
       "<style scoped>\n",
       "    .dataframe tbody tr th:only-of-type {\n",
       "        vertical-align: middle;\n",
       "    }\n",
       "\n",
       "    .dataframe tbody tr th {\n",
       "        vertical-align: top;\n",
       "    }\n",
       "\n",
       "    .dataframe thead th {\n",
       "        text-align: right;\n",
       "    }\n",
       "</style>\n",
       "<table border=\"1\" class=\"dataframe\">\n",
       "  <thead>\n",
       "    <tr style=\"text-align: right;\">\n",
       "      <th></th>\n",
       "      <th>title</th>\n",
       "    </tr>\n",
       "  </thead>\n",
       "  <tbody>\n",
       "    <tr>\n",
       "      <th>0</th>\n",
       "      <td>Visual C++ How to Program</td>\n",
       "    </tr>\n",
       "    <tr>\n",
       "      <th>1</th>\n",
       "      <td>Visual C# How to Program</td>\n",
       "    </tr>\n",
       "    <tr>\n",
       "      <th>2</th>\n",
       "      <td>Visual Basic 2012 How to Program</td>\n",
       "    </tr>\n",
       "    <tr>\n",
       "      <th>3</th>\n",
       "      <td>Java How to Program</td>\n",
       "    </tr>\n",
       "    <tr>\n",
       "      <th>4</th>\n",
       "      <td>Intro to Python for CS and DS</td>\n",
       "    </tr>\n",
       "    <tr>\n",
       "      <th>5</th>\n",
       "      <td>Internet &amp; WWW How to Program</td>\n",
       "    </tr>\n",
       "    <tr>\n",
       "      <th>6</th>\n",
       "      <td>C++ How to Program</td>\n",
       "    </tr>\n",
       "    <tr>\n",
       "      <th>7</th>\n",
       "      <td>C How to Program</td>\n",
       "    </tr>\n",
       "    <tr>\n",
       "      <th>8</th>\n",
       "      <td>Android How to Program</td>\n",
       "    </tr>\n",
       "    <tr>\n",
       "      <th>9</th>\n",
       "      <td>Android 6 for Programmers</td>\n",
       "    </tr>\n",
       "  </tbody>\n",
       "</table>\n",
       "</div>"
      ],
      "text/plain": [
       "                              title\n",
       "0         Visual C++ How to Program\n",
       "1          Visual C# How to Program\n",
       "2  Visual Basic 2012 How to Program\n",
       "3               Java How to Program\n",
       "4     Intro to Python for CS and DS\n",
       "5     Internet & WWW How to Program\n",
       "6                C++ How to Program\n",
       "7                  C How to Program\n",
       "8            Android How to Program\n",
       "9         Android 6 for Programmers"
      ]
     },
     "execution_count": 42,
     "metadata": {},
     "output_type": "execute_result"
    }
   ],
   "source": [
    "pd.read_sql('SELECT title FROM titles ORDER BY title DESC',\n",
    "            connection)"
   ]
  },
  {
   "cell_type": "markdown",
   "id": "034001b8",
   "metadata": {},
   "source": [
    "## Ordenar por varias columnas\n",
    "Para ordenar por varias columnas, especifique una lista separada por comas de nombres de columna después de las palabras clave ORDER BY. Ordenemos los nombres de los autores por apellido y luego por el nombre de los autores que tengan el mismo apellido:"
   ]
  },
  {
   "cell_type": "code",
   "execution_count": 43,
   "id": "0142995a",
   "metadata": {},
   "outputs": [
    {
     "data": {
      "text/html": [
       "<div>\n",
       "<style scoped>\n",
       "    .dataframe tbody tr th:only-of-type {\n",
       "        vertical-align: middle;\n",
       "    }\n",
       "\n",
       "    .dataframe tbody tr th {\n",
       "        vertical-align: top;\n",
       "    }\n",
       "\n",
       "    .dataframe thead th {\n",
       "        text-align: right;\n",
       "    }\n",
       "</style>\n",
       "<table border=\"1\" class=\"dataframe\">\n",
       "  <thead>\n",
       "    <tr style=\"text-align: right;\">\n",
       "      <th></th>\n",
       "      <th>first</th>\n",
       "      <th>last</th>\n",
       "    </tr>\n",
       "    <tr>\n",
       "      <th>id</th>\n",
       "      <th></th>\n",
       "      <th></th>\n",
       "    </tr>\n",
       "  </thead>\n",
       "  <tbody>\n",
       "    <tr>\n",
       "      <th>3</th>\n",
       "      <td>Abbey</td>\n",
       "      <td>Deitel</td>\n",
       "    </tr>\n",
       "    <tr>\n",
       "      <th>2</th>\n",
       "      <td>Harvey</td>\n",
       "      <td>Deitel</td>\n",
       "    </tr>\n",
       "    <tr>\n",
       "      <th>1</th>\n",
       "      <td>Paul</td>\n",
       "      <td>Deitel</td>\n",
       "    </tr>\n",
       "    <tr>\n",
       "      <th>4</th>\n",
       "      <td>Dan</td>\n",
       "      <td>Quirk</td>\n",
       "    </tr>\n",
       "    <tr>\n",
       "      <th>5</th>\n",
       "      <td>Alexander</td>\n",
       "      <td>Wald</td>\n",
       "    </tr>\n",
       "  </tbody>\n",
       "</table>\n",
       "</div>"
      ],
      "text/plain": [
       "        first    last\n",
       "id                   \n",
       "3       Abbey  Deitel\n",
       "2      Harvey  Deitel\n",
       "1        Paul  Deitel\n",
       "4         Dan   Quirk\n",
       "5   Alexander    Wald"
      ]
     },
     "execution_count": 43,
     "metadata": {},
     "output_type": "execute_result"
    }
   ],
   "source": [
    "pd.read_sql(\"\"\" SELECT id, first, last\n",
    "                FROM authors\n",
    "                ORDER BY last, first \"\"\",\n",
    "            connection, index_col=['id'])"
   ]
  },
  {
   "cell_type": "markdown",
   "id": "dc604bf4",
   "metadata": {},
   "source": [
    "El orden puede variar según la columna. Ordenemos a los autores en orden descendente por apellido y en orden ascendente por nombre de cualquier autor que tenga el mismo apellido:"
   ]
  },
  {
   "cell_type": "code",
   "execution_count": 44,
   "id": "565cef61",
   "metadata": {},
   "outputs": [
    {
     "data": {
      "text/html": [
       "<div>\n",
       "<style scoped>\n",
       "    .dataframe tbody tr th:only-of-type {\n",
       "        vertical-align: middle;\n",
       "    }\n",
       "\n",
       "    .dataframe tbody tr th {\n",
       "        vertical-align: top;\n",
       "    }\n",
       "\n",
       "    .dataframe thead th {\n",
       "        text-align: right;\n",
       "    }\n",
       "</style>\n",
       "<table border=\"1\" class=\"dataframe\">\n",
       "  <thead>\n",
       "    <tr style=\"text-align: right;\">\n",
       "      <th></th>\n",
       "      <th>first</th>\n",
       "      <th>last</th>\n",
       "    </tr>\n",
       "    <tr>\n",
       "      <th>id</th>\n",
       "      <th></th>\n",
       "      <th></th>\n",
       "    </tr>\n",
       "  </thead>\n",
       "  <tbody>\n",
       "    <tr>\n",
       "      <th>5</th>\n",
       "      <td>Alexander</td>\n",
       "      <td>Wald</td>\n",
       "    </tr>\n",
       "    <tr>\n",
       "      <th>4</th>\n",
       "      <td>Dan</td>\n",
       "      <td>Quirk</td>\n",
       "    </tr>\n",
       "    <tr>\n",
       "      <th>3</th>\n",
       "      <td>Abbey</td>\n",
       "      <td>Deitel</td>\n",
       "    </tr>\n",
       "    <tr>\n",
       "      <th>2</th>\n",
       "      <td>Harvey</td>\n",
       "      <td>Deitel</td>\n",
       "    </tr>\n",
       "    <tr>\n",
       "      <th>1</th>\n",
       "      <td>Paul</td>\n",
       "      <td>Deitel</td>\n",
       "    </tr>\n",
       "  </tbody>\n",
       "</table>\n",
       "</div>"
      ],
      "text/plain": [
       "        first    last\n",
       "id                   \n",
       "5   Alexander    Wald\n",
       "4         Dan   Quirk\n",
       "3       Abbey  Deitel\n",
       "2      Harvey  Deitel\n",
       "1        Paul  Deitel"
      ]
     },
     "execution_count": 44,
     "metadata": {},
     "output_type": "execute_result"
    }
   ],
   "source": [
    "pd.read_sql(\"\"\" SELECT id, first, last\n",
    "                FROM authors\n",
    "                ORDER BY last DESC, first ASC \"\"\",\n",
    "            connection, index_col=['id'])"
   ]
  },
  {
   "cell_type": "markdown",
   "id": "2b24ae60",
   "metadata": {},
   "source": [
    "## Combinando las cláusulas WHERE y ORDER BY\n",
    "Las cláusulas WHERE y ORDER BY se pueden combinar en una consulta. \n",
    "\n",
    "Obtengamos el isbn, el título, la edición y copyright de cada libro en la tabla de títulos que tiene un título que termina en \"How to Program\" y pongalos en orden ascendente por título."
   ]
  },
  {
   "cell_type": "code",
   "execution_count": 45,
   "id": "d0d007b4",
   "metadata": {},
   "outputs": [
    {
     "data": {
      "text/html": [
       "<div>\n",
       "<style scoped>\n",
       "    .dataframe tbody tr th:only-of-type {\n",
       "        vertical-align: middle;\n",
       "    }\n",
       "\n",
       "    .dataframe tbody tr th {\n",
       "        vertical-align: top;\n",
       "    }\n",
       "\n",
       "    .dataframe thead th {\n",
       "        text-align: right;\n",
       "    }\n",
       "</style>\n",
       "<table border=\"1\" class=\"dataframe\">\n",
       "  <thead>\n",
       "    <tr style=\"text-align: right;\">\n",
       "      <th></th>\n",
       "      <th>isbn</th>\n",
       "      <th>title</th>\n",
       "      <th>edition</th>\n",
       "      <th>copyright</th>\n",
       "    </tr>\n",
       "  </thead>\n",
       "  <tbody>\n",
       "    <tr>\n",
       "      <th>0</th>\n",
       "      <td>0134444302</td>\n",
       "      <td>Android How to Program</td>\n",
       "      <td>3</td>\n",
       "      <td>2017</td>\n",
       "    </tr>\n",
       "    <tr>\n",
       "      <th>1</th>\n",
       "      <td>0133976890</td>\n",
       "      <td>C How to Program</td>\n",
       "      <td>8</td>\n",
       "      <td>2016</td>\n",
       "    </tr>\n",
       "    <tr>\n",
       "      <th>2</th>\n",
       "      <td>0134448235</td>\n",
       "      <td>C++ How to Program</td>\n",
       "      <td>10</td>\n",
       "      <td>2017</td>\n",
       "    </tr>\n",
       "    <tr>\n",
       "      <th>3</th>\n",
       "      <td>0132151006</td>\n",
       "      <td>Internet &amp; WWW How to Program</td>\n",
       "      <td>5</td>\n",
       "      <td>2012</td>\n",
       "    </tr>\n",
       "    <tr>\n",
       "      <th>4</th>\n",
       "      <td>0134743350</td>\n",
       "      <td>Java How to Program</td>\n",
       "      <td>11</td>\n",
       "      <td>2018</td>\n",
       "    </tr>\n",
       "    <tr>\n",
       "      <th>5</th>\n",
       "      <td>0133406954</td>\n",
       "      <td>Visual Basic 2012 How to Program</td>\n",
       "      <td>6</td>\n",
       "      <td>2014</td>\n",
       "    </tr>\n",
       "    <tr>\n",
       "      <th>6</th>\n",
       "      <td>0134601548</td>\n",
       "      <td>Visual C# How to Program</td>\n",
       "      <td>6</td>\n",
       "      <td>2017</td>\n",
       "    </tr>\n",
       "    <tr>\n",
       "      <th>7</th>\n",
       "      <td>0136151574</td>\n",
       "      <td>Visual C++ How to Program</td>\n",
       "      <td>2</td>\n",
       "      <td>2008</td>\n",
       "    </tr>\n",
       "  </tbody>\n",
       "</table>\n",
       "</div>"
      ],
      "text/plain": [
       "         isbn                             title  edition copyright\n",
       "0  0134444302            Android How to Program        3      2017\n",
       "1  0133976890                  C How to Program        8      2016\n",
       "2  0134448235                C++ How to Program       10      2017\n",
       "3  0132151006     Internet & WWW How to Program        5      2012\n",
       "4  0134743350               Java How to Program       11      2018\n",
       "5  0133406954  Visual Basic 2012 How to Program        6      2014\n",
       "6  0134601548          Visual C# How to Program        6      2017\n",
       "7  0136151574         Visual C++ How to Program        2      2008"
      ]
     },
     "execution_count": 45,
     "metadata": {},
     "output_type": "execute_result"
    }
   ],
   "source": [
    "pd.read_sql(\"\"\" SELECT isbn, title, edition, copyright\n",
    "                FROM titles\n",
    "                WHERE title LIKE '%How to Program'\n",
    "                ORDER BY title \"\"\", \n",
    "            connection)"
   ]
  },
  {
   "cell_type": "markdown",
   "id": "01d19e9f",
   "metadata": {},
   "source": [
    "## Fusionar datos de varias tablas: INNER JOIN\n",
    "Recuerde que la tabla author_ISBN de la base de datos de books vincula a los autores con sus títulos correspondientes. Si no separamos esta información en tablas individuales, tendremos que incluir la información del autor con cada entrada en la tabla de títulos. Esto resultaría en el almacenamiento de información de autor duplicada para los autores que escribieron varios libros.\n",
    "\n",
    "Puede fusionar datos de varias tablas, lo que se denomina unir las tablas, con INNER JOIN. Produzcamos una lista de autores acompañada de los ISBN de los libros escritos por cada autor. Debido a que hay muchos resultados para esta consulta, solo mostramos 15 resultados:"
   ]
  },
  {
   "cell_type": "code",
   "execution_count": 46,
   "id": "6f3e1850",
   "metadata": {},
   "outputs": [
    {
     "data": {
      "text/html": [
       "<div>\n",
       "<style scoped>\n",
       "    .dataframe tbody tr th:only-of-type {\n",
       "        vertical-align: middle;\n",
       "    }\n",
       "\n",
       "    .dataframe tbody tr th {\n",
       "        vertical-align: top;\n",
       "    }\n",
       "\n",
       "    .dataframe thead th {\n",
       "        text-align: right;\n",
       "    }\n",
       "</style>\n",
       "<table border=\"1\" class=\"dataframe\">\n",
       "  <thead>\n",
       "    <tr style=\"text-align: right;\">\n",
       "      <th></th>\n",
       "      <th>first</th>\n",
       "      <th>last</th>\n",
       "      <th>isbn</th>\n",
       "    </tr>\n",
       "  </thead>\n",
       "  <tbody>\n",
       "    <tr>\n",
       "      <th>0</th>\n",
       "      <td>Abbey</td>\n",
       "      <td>Deitel</td>\n",
       "      <td>0132151006</td>\n",
       "    </tr>\n",
       "    <tr>\n",
       "      <th>1</th>\n",
       "      <td>Abbey</td>\n",
       "      <td>Deitel</td>\n",
       "      <td>0133406954</td>\n",
       "    </tr>\n",
       "    <tr>\n",
       "      <th>2</th>\n",
       "      <td>Harvey</td>\n",
       "      <td>Deitel</td>\n",
       "      <td>0134289366</td>\n",
       "    </tr>\n",
       "    <tr>\n",
       "      <th>3</th>\n",
       "      <td>Harvey</td>\n",
       "      <td>Deitel</td>\n",
       "      <td>0135404673</td>\n",
       "    </tr>\n",
       "    <tr>\n",
       "      <th>4</th>\n",
       "      <td>Harvey</td>\n",
       "      <td>Deitel</td>\n",
       "      <td>0132151006</td>\n",
       "    </tr>\n",
       "    <tr>\n",
       "      <th>5</th>\n",
       "      <td>Harvey</td>\n",
       "      <td>Deitel</td>\n",
       "      <td>0134743350</td>\n",
       "    </tr>\n",
       "    <tr>\n",
       "      <th>6</th>\n",
       "      <td>Harvey</td>\n",
       "      <td>Deitel</td>\n",
       "      <td>0133976890</td>\n",
       "    </tr>\n",
       "    <tr>\n",
       "      <th>7</th>\n",
       "      <td>Harvey</td>\n",
       "      <td>Deitel</td>\n",
       "      <td>0133406954</td>\n",
       "    </tr>\n",
       "    <tr>\n",
       "      <th>8</th>\n",
       "      <td>Harvey</td>\n",
       "      <td>Deitel</td>\n",
       "      <td>0134601548</td>\n",
       "    </tr>\n",
       "    <tr>\n",
       "      <th>9</th>\n",
       "      <td>Harvey</td>\n",
       "      <td>Deitel</td>\n",
       "      <td>0136151574</td>\n",
       "    </tr>\n",
       "    <tr>\n",
       "      <th>10</th>\n",
       "      <td>Harvey</td>\n",
       "      <td>Deitel</td>\n",
       "      <td>0134448235</td>\n",
       "    </tr>\n",
       "    <tr>\n",
       "      <th>11</th>\n",
       "      <td>Harvey</td>\n",
       "      <td>Deitel</td>\n",
       "      <td>0134444302</td>\n",
       "    </tr>\n",
       "    <tr>\n",
       "      <th>12</th>\n",
       "      <td>Paul</td>\n",
       "      <td>Deitel</td>\n",
       "      <td>0134289366</td>\n",
       "    </tr>\n",
       "    <tr>\n",
       "      <th>13</th>\n",
       "      <td>Paul</td>\n",
       "      <td>Deitel</td>\n",
       "      <td>0135404673</td>\n",
       "    </tr>\n",
       "    <tr>\n",
       "      <th>14</th>\n",
       "      <td>Paul</td>\n",
       "      <td>Deitel</td>\n",
       "      <td>0132151006</td>\n",
       "    </tr>\n",
       "  </tbody>\n",
       "</table>\n",
       "</div>"
      ],
      "text/plain": [
       "     first    last        isbn\n",
       "0    Abbey  Deitel  0132151006\n",
       "1    Abbey  Deitel  0133406954\n",
       "2   Harvey  Deitel  0134289366\n",
       "3   Harvey  Deitel  0135404673\n",
       "4   Harvey  Deitel  0132151006\n",
       "5   Harvey  Deitel  0134743350\n",
       "6   Harvey  Deitel  0133976890\n",
       "7   Harvey  Deitel  0133406954\n",
       "8   Harvey  Deitel  0134601548\n",
       "9   Harvey  Deitel  0136151574\n",
       "10  Harvey  Deitel  0134448235\n",
       "11  Harvey  Deitel  0134444302\n",
       "12    Paul  Deitel  0134289366\n",
       "13    Paul  Deitel  0135404673\n",
       "14    Paul  Deitel  0132151006"
      ]
     },
     "execution_count": 46,
     "metadata": {},
     "output_type": "execute_result"
    }
   ],
   "source": [
    "pd.read_sql(\"\"\" SELECT first, last, isbn\n",
    "                FROM authors\n",
    "                INNER JOIN author_ISBN\n",
    "                ON authors.id = author_ISBN.id\n",
    "                ORDER BY last, first \"\"\", \n",
    "            connection).head(15)"
   ]
  },
  {
   "cell_type": "markdown",
   "id": "7d44d9bb",
   "metadata": {},
   "source": [
    "La cláusula ON de INNER JOIN usa una columna de clave primaria en una tabla y una columna de clave externa en la otra tabla para determinar qué filas fusionar de cada tabla. \n",
    "\n",
    "Esta consulta fusiona las columans first y last de la tabla authors con la columna isbn de la tabla author_ISBN y ordena los resultados en orden ascendente por last y luego first.\n",
    "\n",
    "Tenga en cuenta la sintaxis authors.id (nombre_tabla.nombre_columna) en la cláusula ON. Esta sintaxis de nombre calificado es necesaria si las columnas tienen el mismo nombre en ambas tablas. Esta sintaxis se puede utilizar en cualquier declaración SQL para distinguir columnas en diferentes tablas que tienen el mismo nombre. En algunos sistemas, los nombres de tablas calificados con el nombre de la base de datos se pueden utilizar para realizar consultas entre bases de datos. Como siempre, la consulta puede contener una cláusula ORDER BY."
   ]
  },
  {
   "cell_type": "code",
   "execution_count": 47,
   "id": "772c7bfa",
   "metadata": {},
   "outputs": [
    {
     "data": {
      "text/html": [
       "<div>\n",
       "<style scoped>\n",
       "    .dataframe tbody tr th:only-of-type {\n",
       "        vertical-align: middle;\n",
       "    }\n",
       "\n",
       "    .dataframe tbody tr th {\n",
       "        vertical-align: top;\n",
       "    }\n",
       "\n",
       "    .dataframe thead th {\n",
       "        text-align: right;\n",
       "    }\n",
       "</style>\n",
       "<table border=\"1\" class=\"dataframe\">\n",
       "  <thead>\n",
       "    <tr style=\"text-align: right;\">\n",
       "      <th></th>\n",
       "      <th>first</th>\n",
       "      <th>last</th>\n",
       "      <th>title</th>\n",
       "    </tr>\n",
       "  </thead>\n",
       "  <tbody>\n",
       "    <tr>\n",
       "      <th>0</th>\n",
       "      <td>Paul</td>\n",
       "      <td>Deitel</td>\n",
       "      <td>Android 6 for Programmers</td>\n",
       "    </tr>\n",
       "    <tr>\n",
       "      <th>1</th>\n",
       "      <td>Harvey</td>\n",
       "      <td>Deitel</td>\n",
       "      <td>Android 6 for Programmers</td>\n",
       "    </tr>\n",
       "    <tr>\n",
       "      <th>2</th>\n",
       "      <td>Alexander</td>\n",
       "      <td>Wald</td>\n",
       "      <td>Android 6 for Programmers</td>\n",
       "    </tr>\n",
       "    <tr>\n",
       "      <th>3</th>\n",
       "      <td>Paul</td>\n",
       "      <td>Deitel</td>\n",
       "      <td>Android How to Program</td>\n",
       "    </tr>\n",
       "    <tr>\n",
       "      <th>4</th>\n",
       "      <td>Harvey</td>\n",
       "      <td>Deitel</td>\n",
       "      <td>Android How to Program</td>\n",
       "    </tr>\n",
       "    <tr>\n",
       "      <th>5</th>\n",
       "      <td>Paul</td>\n",
       "      <td>Deitel</td>\n",
       "      <td>C How to Program</td>\n",
       "    </tr>\n",
       "    <tr>\n",
       "      <th>6</th>\n",
       "      <td>Harvey</td>\n",
       "      <td>Deitel</td>\n",
       "      <td>C How to Program</td>\n",
       "    </tr>\n",
       "    <tr>\n",
       "      <th>7</th>\n",
       "      <td>Paul</td>\n",
       "      <td>Deitel</td>\n",
       "      <td>C++ How to Program</td>\n",
       "    </tr>\n",
       "    <tr>\n",
       "      <th>8</th>\n",
       "      <td>Harvey</td>\n",
       "      <td>Deitel</td>\n",
       "      <td>C++ How to Program</td>\n",
       "    </tr>\n",
       "    <tr>\n",
       "      <th>9</th>\n",
       "      <td>Paul</td>\n",
       "      <td>Deitel</td>\n",
       "      <td>Internet &amp; WWW How to Program</td>\n",
       "    </tr>\n",
       "    <tr>\n",
       "      <th>10</th>\n",
       "      <td>Harvey</td>\n",
       "      <td>Deitel</td>\n",
       "      <td>Internet &amp; WWW How to Program</td>\n",
       "    </tr>\n",
       "    <tr>\n",
       "      <th>11</th>\n",
       "      <td>Abbey</td>\n",
       "      <td>Deitel</td>\n",
       "      <td>Internet &amp; WWW How to Program</td>\n",
       "    </tr>\n",
       "    <tr>\n",
       "      <th>12</th>\n",
       "      <td>Paul</td>\n",
       "      <td>Deitel</td>\n",
       "      <td>Intro to Python for CS and DS</td>\n",
       "    </tr>\n",
       "    <tr>\n",
       "      <th>13</th>\n",
       "      <td>Harvey</td>\n",
       "      <td>Deitel</td>\n",
       "      <td>Intro to Python for CS and DS</td>\n",
       "    </tr>\n",
       "    <tr>\n",
       "      <th>14</th>\n",
       "      <td>Paul</td>\n",
       "      <td>Deitel</td>\n",
       "      <td>Java How to Program</td>\n",
       "    </tr>\n",
       "    <tr>\n",
       "      <th>15</th>\n",
       "      <td>Harvey</td>\n",
       "      <td>Deitel</td>\n",
       "      <td>Java How to Program</td>\n",
       "    </tr>\n",
       "    <tr>\n",
       "      <th>16</th>\n",
       "      <td>Paul</td>\n",
       "      <td>Deitel</td>\n",
       "      <td>Visual Basic 2012 How to Program</td>\n",
       "    </tr>\n",
       "    <tr>\n",
       "      <th>17</th>\n",
       "      <td>Harvey</td>\n",
       "      <td>Deitel</td>\n",
       "      <td>Visual Basic 2012 How to Program</td>\n",
       "    </tr>\n",
       "    <tr>\n",
       "      <th>18</th>\n",
       "      <td>Abbey</td>\n",
       "      <td>Deitel</td>\n",
       "      <td>Visual Basic 2012 How to Program</td>\n",
       "    </tr>\n",
       "    <tr>\n",
       "      <th>19</th>\n",
       "      <td>Paul</td>\n",
       "      <td>Deitel</td>\n",
       "      <td>Visual C# How to Program</td>\n",
       "    </tr>\n",
       "  </tbody>\n",
       "</table>\n",
       "</div>"
      ],
      "text/plain": [
       "        first    last                             title\n",
       "0        Paul  Deitel         Android 6 for Programmers\n",
       "1      Harvey  Deitel         Android 6 for Programmers\n",
       "2   Alexander    Wald         Android 6 for Programmers\n",
       "3        Paul  Deitel            Android How to Program\n",
       "4      Harvey  Deitel            Android How to Program\n",
       "5        Paul  Deitel                  C How to Program\n",
       "6      Harvey  Deitel                  C How to Program\n",
       "7        Paul  Deitel                C++ How to Program\n",
       "8      Harvey  Deitel                C++ How to Program\n",
       "9        Paul  Deitel     Internet & WWW How to Program\n",
       "10     Harvey  Deitel     Internet & WWW How to Program\n",
       "11      Abbey  Deitel     Internet & WWW How to Program\n",
       "12       Paul  Deitel     Intro to Python for CS and DS\n",
       "13     Harvey  Deitel     Intro to Python for CS and DS\n",
       "14       Paul  Deitel               Java How to Program\n",
       "15     Harvey  Deitel               Java How to Program\n",
       "16       Paul  Deitel  Visual Basic 2012 How to Program\n",
       "17     Harvey  Deitel  Visual Basic 2012 How to Program\n",
       "18      Abbey  Deitel  Visual Basic 2012 How to Program\n",
       "19       Paul  Deitel          Visual C# How to Program"
      ]
     },
     "execution_count": 47,
     "metadata": {},
     "output_type": "execute_result"
    }
   ],
   "source": [
    "pd.read_sql(\"\"\" SELECT first, last, title\n",
    "                FROM authors\n",
    "                INNER JOIN author_ISBN\n",
    "                ON authors.id = author_ISBN.id\n",
    "                INNER JOIN titles\n",
    "                ON titles.isbn = author_ISBN.isbn\n",
    "                ORDER BY title \"\"\", \n",
    "            connection).head(20)"
   ]
  },
  {
   "cell_type": "code",
   "execution_count": null,
   "id": "3fd14e0d",
   "metadata": {},
   "outputs": [],
   "source": [
    "pd.read_sql(\"\"\" SELECT first, last, title\n",
    "                FROM authors\n",
    "                INNER JOIN author_ISBN\n",
    "                ON authors.id = author_ISBN.id\n",
    "                INNER JOIN titles\n",
    "                ON titles.isbn = author_ISBN.isbn\n",
    "                WHERE first LIKE '%y'\n",
    "                ORDER BY title \"\"\", \n",
    "            connection).head(20)"
   ]
  },
  {
   "cell_type": "markdown",
   "id": "1bc53746",
   "metadata": {},
   "source": [
    "## insert"
   ]
  },
  {
   "cell_type": "code",
   "execution_count": null,
   "id": "f24969eb",
   "metadata": {},
   "outputs": [],
   "source": [
    "#insert\n",
    "#objeto Cursor de sqlite3, que se obtiene llamando al método cursor() de Connection\n",
    "\n",
    "# cur = connection.cursor() \n",
    "cursor = cur.execute(\"\"\" INSERT INTO authors (first, last)\n",
    "                         VALUES ('Jane', 'Doe') \"\"\")\n",
    "\n",
    "pd.read_sql('SELECT * FROM authors', connection, index_col=['id'])"
   ]
  },
  {
   "cell_type": "markdown",
   "id": "0013612d",
   "metadata": {},
   "source": [
    "## NOTA\n",
    "El método read_sql de pandas en realidad usa un Cursor detrás de escena para ejecutar consultas y acceder a las filas de los resultados."
   ]
  },
  {
   "cell_type": "markdown",
   "id": "3af5568f",
   "metadata": {},
   "source": [
    "## update"
   ]
  },
  {
   "cell_type": "code",
   "execution_count": null,
   "id": "e795cc7b",
   "metadata": {},
   "outputs": [],
   "source": [
    "#actualice solo las filas en las que el apellido sea 'Doe' y el nombre sea 'Jane'.\n",
    "cursor = cursor.execute(\"\"\" UPDATE authors SET last='Black'\n",
    "                            WHERE last='Doe' AND first='Jane' \"\"\")\n",
    " "
   ]
  },
  {
   "cell_type": "code",
   "execution_count": null,
   "id": "97373525",
   "metadata": {},
   "outputs": [],
   "source": [
    "#El atributo de rowcount del objeto Cursor contiene un valor entero que representa \n",
    "#el número de filas que se modificaron. Si este valor es 0, no se realizaron cambios. Lo siguiente \n",
    "#confirma que UPDATE modificó una fila:\n",
    "\n",
    "cursor.rowcount\n",
    " "
   ]
  },
  {
   "cell_type": "code",
   "execution_count": null,
   "id": "38a0b3c3",
   "metadata": {},
   "outputs": [],
   "source": [
    "pd.read_sql('SELECT * FROM authors', connection, index_col=['id'])"
   ]
  },
  {
   "cell_type": "markdown",
   "id": "dda29259",
   "metadata": {},
   "source": [
    "## delete"
   ]
  },
  {
   "cell_type": "code",
   "execution_count": null,
   "id": "be45973e",
   "metadata": {},
   "outputs": [],
   "source": [
    "cursor = cursor.execute('DELETE FROM authors WHERE id=6')\n",
    "cursor.rowcount\n",
    "\n",
    "pd.read_sql('SELECT id, first, last FROM authors', \n",
    "            connection, index_col=['id'])"
   ]
  },
  {
   "cell_type": "raw",
   "id": "e4df68bd",
   "metadata": {},
   "source": [
    "EJERCICIOS"
   ]
  },
  {
   "cell_type": "markdown",
   "id": "6b22559d",
   "metadata": {},
   "source": [
    "1. Seleccione de la tabla titles todos los títulos y sus números de edición en orden descendente por número de edición. Muestre solo los tres primeros resultados.\n"
   ]
  },
  {
   "cell_type": "markdown",
   "id": "18c48256",
   "metadata": {},
   "source": [
    "2. La palabra clave NOT de SQL invierte el valor de la condición de una cláusula WHERE. Seleccione de la tabla titles todos los títulos que NO terminen con 'How to Program'"
   ]
  }
 ],
 "metadata": {
  "kernelspec": {
   "display_name": "Python 3",
   "language": "python",
   "name": "python3"
  },
  "language_info": {
   "codemirror_mode": {
    "name": "ipython",
    "version": 3
   },
   "file_extension": ".py",
   "mimetype": "text/x-python",
   "name": "python",
   "nbconvert_exporter": "python",
   "pygments_lexer": "ipython3",
   "version": "3.11.4"
  }
 },
 "nbformat": 4,
 "nbformat_minor": 5
}
