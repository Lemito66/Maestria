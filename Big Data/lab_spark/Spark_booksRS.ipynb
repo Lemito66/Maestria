{
 "cells": [
  {
   "cell_type": "markdown",
   "metadata": {},
   "source": [
    "# LAB: Sistema de Recomendación de libros con PySpark"
   ]
  },
  {
   "cell_type": "markdown",
   "metadata": {},
   "source": [
    "Algunos recursos para consulta:\n",
    "- https://spark.apache.org/docs/latest/api/python/reference/api/pyspark.ml.recommendation.ALS.html\n",
    "- https://www.geeksforgeeks.org/recommender-system-using-pyspark-python/\n",
    "- https://spark.apache.org/docs/3.0.0/ml-collaborative-filtering.html"
   ]
  },
  {
   "cell_type": "code",
   "execution_count": 1,
   "metadata": {
    "colab": {
     "base_uri": "https://localhost:8080/"
    },
    "executionInfo": {
     "elapsed": 48188,
     "status": "ok",
     "timestamp": 1699804181258,
     "user": {
      "displayName": "Lore Recalde",
      "userId": "16874401589232760083"
     },
     "user_tz": 300
    },
    "id": "cltJ39ZZN7o8",
    "outputId": "f73b913f-5fee-407f-fc25-a23a4b3f783d"
   },
   "outputs": [],
   "source": [
    "# !pip install pyspark"
   ]
  },
  {
   "cell_type": "code",
   "execution_count": 2,
   "metadata": {
    "colab": {
     "base_uri": "https://localhost:8080/",
     "height": 221
    },
    "executionInfo": {
     "elapsed": 238,
     "status": "ok",
     "timestamp": 1699810770386,
     "user": {
      "displayName": "Lore Recalde",
      "userId": "16874401589232760083"
     },
     "user_tz": 300
    },
    "id": "6eSts0-COLTW",
    "outputId": "7c86ccee-e0a3-48e4-9500-ccc50374489d"
   },
   "outputs": [
    {
     "ename": "PySparkRuntimeError",
     "evalue": "[JAVA_GATEWAY_EXITED] Java gateway process exited before sending its port number.",
     "output_type": "error",
     "traceback": [
      "\u001b[1;31m---------------------------------------------------------------------------\u001b[0m",
      "\u001b[1;31mPySparkRuntimeError\u001b[0m                       Traceback (most recent call last)",
      "\u001b[1;32mc:\\Users\\elogrono\\Documents\\Github\\Maestria\\Big Data\\lab_spark\\Spark_booksRS.ipynb Cell 4\u001b[0m line \u001b[0;36m7\n\u001b[0;32m      <a href='vscode-notebook-cell:/c%3A/Users/elogrono/Documents/Github/Maestria/Big%20Data/lab_spark/Spark_booksRS.ipynb#W3sZmlsZQ%3D%3D?line=3'>4</a>\u001b[0m \u001b[39mfrom\u001b[39;00m \u001b[39mpyspark\u001b[39;00m\u001b[39m.\u001b[39;00m\u001b[39mml\u001b[39;00m\u001b[39m.\u001b[39;00m\u001b[39mrecommendation\u001b[39;00m \u001b[39mimport\u001b[39;00m ALS\n\u001b[0;32m      <a href='vscode-notebook-cell:/c%3A/Users/elogrono/Documents/Github/Maestria/Big%20Data/lab_spark/Spark_booksRS.ipynb#W3sZmlsZQ%3D%3D?line=5'>6</a>\u001b[0m \u001b[39m#Prepara la sesión Spark Session\u001b[39;00m\n\u001b[1;32m----> <a href='vscode-notebook-cell:/c%3A/Users/elogrono/Documents/Github/Maestria/Big%20Data/lab_spark/Spark_booksRS.ipynb#W3sZmlsZQ%3D%3D?line=6'>7</a>\u001b[0m spark \u001b[39m=\u001b[39m SparkSession\u001b[39m.\u001b[39;49mbuilder\u001b[39m.\u001b[39;49mappName(\u001b[39m'\u001b[39;49m\u001b[39mRecommender\u001b[39;49m\u001b[39m'\u001b[39;49m)\u001b[39m.\u001b[39;49mgetOrCreate()\n\u001b[0;32m      <a href='vscode-notebook-cell:/c%3A/Users/elogrono/Documents/Github/Maestria/Big%20Data/lab_spark/Spark_booksRS.ipynb#W3sZmlsZQ%3D%3D?line=7'>8</a>\u001b[0m spark\n",
      "File \u001b[1;32mc:\\Users\\elogrono\\Documents\\Github\\Maestria\\venv\\Lib\\site-packages\\pyspark\\sql\\session.py:497\u001b[0m, in \u001b[0;36mSparkSession.Builder.getOrCreate\u001b[1;34m(self)\u001b[0m\n\u001b[0;32m    495\u001b[0m     sparkConf\u001b[39m.\u001b[39mset(key, value)\n\u001b[0;32m    496\u001b[0m \u001b[39m# This SparkContext may be an existing one.\u001b[39;00m\n\u001b[1;32m--> 497\u001b[0m sc \u001b[39m=\u001b[39m SparkContext\u001b[39m.\u001b[39;49mgetOrCreate(sparkConf)\n\u001b[0;32m    498\u001b[0m \u001b[39m# Do not update `SparkConf` for existing `SparkContext`, as it's shared\u001b[39;00m\n\u001b[0;32m    499\u001b[0m \u001b[39m# by all sessions.\u001b[39;00m\n\u001b[0;32m    500\u001b[0m session \u001b[39m=\u001b[39m SparkSession(sc, options\u001b[39m=\u001b[39m\u001b[39mself\u001b[39m\u001b[39m.\u001b[39m_options)\n",
      "File \u001b[1;32mc:\\Users\\elogrono\\Documents\\Github\\Maestria\\venv\\Lib\\site-packages\\pyspark\\context.py:515\u001b[0m, in \u001b[0;36mSparkContext.getOrCreate\u001b[1;34m(cls, conf)\u001b[0m\n\u001b[0;32m    513\u001b[0m \u001b[39mwith\u001b[39;00m SparkContext\u001b[39m.\u001b[39m_lock:\n\u001b[0;32m    514\u001b[0m     \u001b[39mif\u001b[39;00m SparkContext\u001b[39m.\u001b[39m_active_spark_context \u001b[39mis\u001b[39;00m \u001b[39mNone\u001b[39;00m:\n\u001b[1;32m--> 515\u001b[0m         SparkContext(conf\u001b[39m=\u001b[39;49mconf \u001b[39mor\u001b[39;49;00m SparkConf())\n\u001b[0;32m    516\u001b[0m     \u001b[39massert\u001b[39;00m SparkContext\u001b[39m.\u001b[39m_active_spark_context \u001b[39mis\u001b[39;00m \u001b[39mnot\u001b[39;00m \u001b[39mNone\u001b[39;00m\n\u001b[0;32m    517\u001b[0m     \u001b[39mreturn\u001b[39;00m SparkContext\u001b[39m.\u001b[39m_active_spark_context\n",
      "File \u001b[1;32mc:\\Users\\elogrono\\Documents\\Github\\Maestria\\venv\\Lib\\site-packages\\pyspark\\context.py:201\u001b[0m, in \u001b[0;36mSparkContext.__init__\u001b[1;34m(self, master, appName, sparkHome, pyFiles, environment, batchSize, serializer, conf, gateway, jsc, profiler_cls, udf_profiler_cls, memory_profiler_cls)\u001b[0m\n\u001b[0;32m    195\u001b[0m \u001b[39mif\u001b[39;00m gateway \u001b[39mis\u001b[39;00m \u001b[39mnot\u001b[39;00m \u001b[39mNone\u001b[39;00m \u001b[39mand\u001b[39;00m gateway\u001b[39m.\u001b[39mgateway_parameters\u001b[39m.\u001b[39mauth_token \u001b[39mis\u001b[39;00m \u001b[39mNone\u001b[39;00m:\n\u001b[0;32m    196\u001b[0m     \u001b[39mraise\u001b[39;00m \u001b[39mValueError\u001b[39;00m(\n\u001b[0;32m    197\u001b[0m         \u001b[39m\"\u001b[39m\u001b[39mYou are trying to pass an insecure Py4j gateway to Spark. This\u001b[39m\u001b[39m\"\u001b[39m\n\u001b[0;32m    198\u001b[0m         \u001b[39m\"\u001b[39m\u001b[39m is not allowed as it is a security risk.\u001b[39m\u001b[39m\"\u001b[39m\n\u001b[0;32m    199\u001b[0m     )\n\u001b[1;32m--> 201\u001b[0m SparkContext\u001b[39m.\u001b[39;49m_ensure_initialized(\u001b[39mself\u001b[39;49m, gateway\u001b[39m=\u001b[39;49mgateway, conf\u001b[39m=\u001b[39;49mconf)\n\u001b[0;32m    202\u001b[0m \u001b[39mtry\u001b[39;00m:\n\u001b[0;32m    203\u001b[0m     \u001b[39mself\u001b[39m\u001b[39m.\u001b[39m_do_init(\n\u001b[0;32m    204\u001b[0m         master,\n\u001b[0;32m    205\u001b[0m         appName,\n\u001b[1;32m   (...)\u001b[0m\n\u001b[0;32m    215\u001b[0m         memory_profiler_cls,\n\u001b[0;32m    216\u001b[0m     )\n",
      "File \u001b[1;32mc:\\Users\\elogrono\\Documents\\Github\\Maestria\\venv\\Lib\\site-packages\\pyspark\\context.py:436\u001b[0m, in \u001b[0;36mSparkContext._ensure_initialized\u001b[1;34m(cls, instance, gateway, conf)\u001b[0m\n\u001b[0;32m    434\u001b[0m \u001b[39mwith\u001b[39;00m SparkContext\u001b[39m.\u001b[39m_lock:\n\u001b[0;32m    435\u001b[0m     \u001b[39mif\u001b[39;00m \u001b[39mnot\u001b[39;00m SparkContext\u001b[39m.\u001b[39m_gateway:\n\u001b[1;32m--> 436\u001b[0m         SparkContext\u001b[39m.\u001b[39m_gateway \u001b[39m=\u001b[39m gateway \u001b[39mor\u001b[39;00m launch_gateway(conf)\n\u001b[0;32m    437\u001b[0m         SparkContext\u001b[39m.\u001b[39m_jvm \u001b[39m=\u001b[39m SparkContext\u001b[39m.\u001b[39m_gateway\u001b[39m.\u001b[39mjvm\n\u001b[0;32m    439\u001b[0m     \u001b[39mif\u001b[39;00m instance:\n",
      "File \u001b[1;32mc:\\Users\\elogrono\\Documents\\Github\\Maestria\\venv\\Lib\\site-packages\\pyspark\\java_gateway.py:107\u001b[0m, in \u001b[0;36mlaunch_gateway\u001b[1;34m(conf, popen_kwargs)\u001b[0m\n\u001b[0;32m    104\u001b[0m     time\u001b[39m.\u001b[39msleep(\u001b[39m0.1\u001b[39m)\n\u001b[0;32m    106\u001b[0m \u001b[39mif\u001b[39;00m \u001b[39mnot\u001b[39;00m os\u001b[39m.\u001b[39mpath\u001b[39m.\u001b[39misfile(conn_info_file):\n\u001b[1;32m--> 107\u001b[0m     \u001b[39mraise\u001b[39;00m PySparkRuntimeError(\n\u001b[0;32m    108\u001b[0m         error_class\u001b[39m=\u001b[39m\u001b[39m\"\u001b[39m\u001b[39mJAVA_GATEWAY_EXITED\u001b[39m\u001b[39m\"\u001b[39m,\n\u001b[0;32m    109\u001b[0m         message_parameters\u001b[39m=\u001b[39m{},\n\u001b[0;32m    110\u001b[0m     )\n\u001b[0;32m    112\u001b[0m \u001b[39mwith\u001b[39;00m \u001b[39mopen\u001b[39m(conn_info_file, \u001b[39m\"\u001b[39m\u001b[39mrb\u001b[39m\u001b[39m\"\u001b[39m) \u001b[39mas\u001b[39;00m info:\n\u001b[0;32m    113\u001b[0m     gateway_port \u001b[39m=\u001b[39m read_int(info)\n",
      "\u001b[1;31mPySparkRuntimeError\u001b[0m: [JAVA_GATEWAY_EXITED] Java gateway process exited before sending its port number."
     ]
    }
   ],
   "source": [
    "#importar los paquetes necesarios de pyspark\n",
    "from pyspark.sql import SparkSession\n",
    "from pyspark.ml.evaluation import RegressionEvaluator\n",
    "from pyspark.ml.recommendation import ALS\n",
    "\n",
    "#Prepara la sesión Spark Session\n",
    "spark = SparkSession.builder.appName('Recommender').getOrCreate()\n",
    "spark"
   ]
  },
  {
   "cell_type": "code",
   "execution_count": 3,
   "metadata": {
    "colab": {
     "base_uri": "https://localhost:8080/"
    },
    "executionInfo": {
     "elapsed": 3192,
     "status": "ok",
     "timestamp": 1699810779018,
     "user": {
      "displayName": "Lore Recalde",
      "userId": "16874401589232760083"
     },
     "user_tz": 300
    },
    "id": "A14Pj9QNQdb4",
    "outputId": "e67d453a-b3fd-45db-dddb-905815e0fbc4"
   },
   "outputs": [
    {
     "name": "stdout",
     "output_type": "stream",
     "text": [
      "+-------+-------+------+\n",
      "|book_id|user_id|rating|\n",
      "+-------+-------+------+\n",
      "|      1|    314|     5|\n",
      "|      1|    439|     3|\n",
      "|      1|    588|     5|\n",
      "|      1|   1169|     4|\n",
      "|      1|   1185|     4|\n",
      "+-------+-------+------+\n",
      "only showing top 5 rows\n",
      "\n"
     ]
    }
   ],
   "source": [
    "data = spark.read.csv('book_ratings.csv',\n",
    "                      inferSchema=True,header=True)\n",
    "\n",
    "#cargar el archivo csv que tiene la data en formato item, user, rating\n",
    "#data = spark.read.csv('drive/MyDrive/Colab Notebooks/book_ratings.csv',\n",
    "#                      inferSchema=True,header=True)\n",
    "\n",
    "data.show(5)"
   ]
  },
  {
   "cell_type": "code",
   "execution_count": 4,
   "metadata": {
    "colab": {
     "base_uri": "https://localhost:8080/"
    },
    "executionInfo": {
     "elapsed": 3447,
     "status": "ok",
     "timestamp": 1699810787037,
     "user": {
      "displayName": "Lore Recalde",
      "userId": "16874401589232760083"
     },
     "user_tz": 300
    },
    "id": "yYWBV_T3T3aA",
    "outputId": "2f7f0e70-12ce-4310-af33-8ae8e2ee6e61"
   },
   "outputs": [
    {
     "name": "stdout",
     "output_type": "stream",
     "text": [
      "+-------+-----------------+------------------+------------------+\n",
      "|summary|          book_id|           user_id|            rating|\n",
      "+-------+-----------------+------------------+------------------+\n",
      "|  count|           981756|            981756|            981756|\n",
      "|   mean|4943.275635697668|25616.759933221696|3.8565335989797873|\n",
      "| stddev|2873.207414896143|15228.338825882149|0.9839408559619973|\n",
      "|    min|                1|                 1|                 1|\n",
      "|    max|            10000|             53424|                 5|\n",
      "+-------+-----------------+------------------+------------------+\n",
      "\n"
     ]
    }
   ],
   "source": [
    "data.describe().show()"
   ]
  },
  {
   "cell_type": "code",
   "execution_count": 5,
   "metadata": {
    "executionInfo": {
     "elapsed": 263,
     "status": "ok",
     "timestamp": 1699810817094,
     "user": {
      "displayName": "Lore Recalde",
      "userId": "16874401589232760083"
     },
     "user_tz": 300
    },
    "id": "uwlw1_v6T4Bh"
   },
   "outputs": [],
   "source": [
    "# Con los ratings observados podemos entrenar y evaluar el modelo\n",
    "train_data, test_data = data.randomSplit([0.8, 0.2], seed = 1)"
   ]
  },
  {
   "cell_type": "code",
   "execution_count": 6,
   "metadata": {
    "executionInfo": {
     "elapsed": 33705,
     "status": "ok",
     "timestamp": 1699810892615,
     "user": {
      "displayName": "Lore Recalde",
      "userId": "16874401589232760083"
     },
     "user_tz": 300
    },
    "id": "L95SkCEQVBJV"
   },
   "outputs": [],
   "source": [
    "als = ALS(maxIter=5,\n",
    "          regParam=0.01,\n",
    "          userCol=\"user_id\",\n",
    "          itemCol=\"book_id\",\n",
    "          ratingCol=\"rating\",\n",
    "          coldStartStrategy=\"drop\")\n",
    "\n",
    "#Ajuste del modelo\n",
    "model = als.fit(train_data)"
   ]
  },
  {
   "cell_type": "code",
   "execution_count": 7,
   "metadata": {
    "colab": {
     "base_uri": "https://localhost:8080/"
    },
    "executionInfo": {
     "elapsed": 7060,
     "status": "ok",
     "timestamp": 1699810952073,
     "user": {
      "displayName": "Lore Recalde",
      "userId": "16874401589232760083"
     },
     "user_tz": 300
    },
    "id": "u3T0mwlcVuqM",
    "outputId": "ad1f7277-c12c-49d1-99a4-4b865032360d"
   },
   "outputs": [
    {
     "name": "stdout",
     "output_type": "stream",
     "text": [
      "+-------+-------+------+----------+\n",
      "|book_id|user_id|rating|prediction|\n",
      "+-------+-------+------+----------+\n",
      "|      3|  32592|     5| 3.4869146|\n",
      "|      4|  32592|     5| 4.5206113|\n",
      "|      7|  19984|     5|  4.280432|\n",
      "|     17|  19984|     5|  4.958942|\n",
      "|     20|  32592|     4|  4.188769|\n",
      "|     25|  32592|     4|  4.537844|\n",
      "|     29|  19984|     5| 5.1295385|\n",
      "|     38|  19984|     5| 4.9099345|\n",
      "|     54|  35982|     3| 4.5072126|\n",
      "|     56|  32592|     4| 3.8695033|\n",
      "|     62|  35982|     5|  4.370805|\n",
      "|     65|  35982|     5| 3.9962554|\n",
      "|     72|  19984|     4|  4.916008|\n",
      "|     74|  35982|     2| 3.1854703|\n",
      "|     78|   1088|     2| 3.2281656|\n",
      "|     89|   1088|     4| 4.5375175|\n",
      "|     89|  19984|     5|   5.69235|\n",
      "|     91|  35982|     2| 2.2963731|\n",
      "|     96|   6397|     3|   3.47771|\n",
      "|     99|   6658|     3| 2.5265248|\n",
      "+-------+-------+------+----------+\n",
      "only showing top 20 rows\n",
      "\n"
     ]
    }
   ],
   "source": [
    "# Calcula las predicciones o ratings para la data destinada al testing\n",
    "predictions = model.transform(test_data)\n",
    "\n",
    "#Mira las predicciones hechas\n",
    "predictions.show()"
   ]
  },
  {
   "cell_type": "code",
   "execution_count": 8,
   "metadata": {
    "colab": {
     "base_uri": "https://localhost:8080/"
    },
    "executionInfo": {
     "elapsed": 6829,
     "status": "ok",
     "timestamp": 1699811131879,
     "user": {
      "displayName": "Lore Recalde",
      "userId": "16874401589232760083"
     },
     "user_tz": 300
    },
    "id": "UN67Hx8PWk4D",
    "outputId": "081d2c5e-de85-40f7-e0e1-2efb7af75df7"
   },
   "outputs": [
    {
     "name": "stdout",
     "output_type": "stream",
     "text": [
      "Mean Absolute error = 1.2839760669496554\n"
     ]
    }
   ],
   "source": [
    "# Evalúa el modelo calculando el error de la predicción con el método MAE\n",
    "evaluator = RegressionEvaluator(metricName=\"mae\", labelCol=\"rating\", predictionCol=\"prediction\")\n",
    "mae = evaluator.evaluate(predictions)\n",
    "print(\"Mean Absolute error = \" + str(mae))"
   ]
  },
  {
   "cell_type": "code",
   "execution_count": 9,
   "metadata": {
    "colab": {
     "base_uri": "https://localhost:8080/"
    },
    "executionInfo": {
     "elapsed": 4693,
     "status": "ok",
     "timestamp": 1699810989345,
     "user": {
      "displayName": "Lore Recalde",
      "userId": "16874401589232760083"
     },
     "user_tz": 300
    },
    "id": "6dRg3GRhXFcr",
    "outputId": "28b1d73f-77b8-4836-b7dc-556dd65432be"
   },
   "outputs": [
    {
     "name": "stdout",
     "output_type": "stream",
     "text": [
      "Root-mean-square error = 1.9146746934151253\n"
     ]
    }
   ],
   "source": [
    "# Evalúa el modelo calculando el error de la predicción con el método RMSE\n",
    "evaluator = RegressionEvaluator(metricName=\"rmse\", labelCol=\"rating\", predictionCol=\"prediction\")\n",
    "rmse = evaluator.evaluate(predictions)\n",
    "print(\"Root-mean-square error = \" + str(rmse))"
   ]
  },
  {
   "cell_type": "markdown",
   "metadata": {},
   "source": [
    "### Analizaremos los ratings de un usuario en específico, para observar el comportamiento predictivo del modelo "
   ]
  },
  {
   "cell_type": "code",
   "execution_count": 10,
   "metadata": {
    "colab": {
     "base_uri": "https://localhost:8080/"
    },
    "executionInfo": {
     "elapsed": 2808,
     "status": "ok",
     "timestamp": 1699811618135,
     "user": {
      "displayName": "Lore Recalde",
      "userId": "16874401589232760083"
     },
     "user_tz": 300
    },
    "id": "YOmGvpympcJF",
    "outputId": "a960a02a-4b29-402e-cfb8-636cba87cf62"
   },
   "outputs": [
    {
     "name": "stdout",
     "output_type": "stream",
     "text": [
      "+-------+-------+------+\n",
      "|book_id|user_id|rating|\n",
      "+-------+-------+------+\n",
      "|   6702|   5461|     5|\n",
      "|     19|   5461|     5|\n",
      "|     60|   5461|     5|\n",
      "|     65|   5461|     5|\n",
      "|     93|   5461|     5|\n",
      "|    118|   5461|     5|\n",
      "|    401|   5461|     5|\n",
      "|    757|   5461|     5|\n",
      "|   3613|   5461|     4|\n",
      "|     31|   5461|     4|\n",
      "|   4250|   5461|     4|\n",
      "|     33|   5461|     4|\n",
      "|   4759|   5461|     4|\n",
      "|     47|   5461|     4|\n",
      "|     82|   5461|     4|\n",
      "|    180|   5461|     4|\n",
      "|    231|   5461|     4|\n",
      "|    233|   5461|     4|\n",
      "|    304|   5461|     4|\n",
      "|    306|   5461|     4|\n",
      "|    375|   5461|     4|\n",
      "|    561|   5461|     4|\n",
      "|    669|   5461|     4|\n",
      "|    876|   5461|     4|\n",
      "|   1644|   5461|     4|\n",
      "|   2128|   5461|     4|\n",
      "|   3579|   5461|     3|\n",
      "|    454|   5461|     3|\n",
      "|   6404|   5461|     3|\n",
      "|    885|   5461|     3|\n",
      "|    935|   5461|     3|\n",
      "|   1567|   5461|     3|\n",
      "+-------+-------+------+\n",
      "\n"
     ]
    }
   ],
   "source": [
    "#Trabajaremos con el usuario con user id \"5461\" y extraeremos toda su data\n",
    "user1 = test_data.filter(test_data['user_id']==5461).select(['book_id','user_id', 'rating'])\n",
    "\n",
    "#Desplegar user1 data en orden descendente de rating\n",
    "user1.orderBy('rating',ascending=False).show(40)"
   ]
  },
  {
   "cell_type": "code",
   "execution_count": 11,
   "metadata": {
    "colab": {
     "base_uri": "https://localhost:8080/"
    },
    "executionInfo": {
     "elapsed": 5940,
     "status": "ok",
     "timestamp": 1699811460286,
     "user": {
      "displayName": "Lore Recalde",
      "userId": "16874401589232760083"
     },
     "user_tz": 300
    },
    "id": "h8HJG1HApcQX",
    "outputId": "c2c5b1f5-fbe1-45b2-fd51-492dc3e3d68c"
   },
   "outputs": [
    {
     "name": "stdout",
     "output_type": "stream",
     "text": [
      "+-------+-------+------+----------+\n",
      "|book_id|user_id|rating|prediction|\n",
      "+-------+-------+------+----------+\n",
      "|    669|   5461|     4| 4.9032736|\n",
      "|     65|   5461|     5| 4.8290267|\n",
      "|    561|   5461|     4| 4.6410017|\n",
      "|   3613|   5461|     4|  4.602353|\n",
      "|     19|   5461|     5| 4.5782886|\n",
      "|     60|   5461|     5|  4.540062|\n",
      "|     31|   5461|     4| 4.5013084|\n",
      "|    118|   5461|     5| 4.4586267|\n",
      "|     47|   5461|     4|  4.438166|\n",
      "|     93|   5461|     5| 4.4379635|\n",
      "|    231|   5461|     4| 4.4179544|\n",
      "|     82|   5461|     4| 4.3998127|\n",
      "|    757|   5461|     5| 4.3322215|\n",
      "|    233|   5461|     4|  4.192278|\n",
      "|    375|   5461|     4| 4.1898785|\n",
      "|    401|   5461|     5| 4.1572857|\n",
      "|   4250|   5461|     4|  4.141159|\n",
      "|    304|   5461|     4|  4.129478|\n",
      "|   1644|   5461|     4|  4.042882|\n",
      "|    885|   5461|     3|  4.034915|\n",
      "+-------+-------+------+----------+\n",
      "only showing top 20 rows\n",
      "\n"
     ]
    }
   ],
   "source": [
    "#Comparemos las predicciones hechas con el modelo respecto a la data que se usó para testing\n",
    "recommendations = model.transform(user1)\n",
    "\n",
    "#Desplegar user1 predictions en orden descendente de predicción de rating\n",
    "recommendations.orderBy('prediction',ascending=False).show()"
   ]
  },
  {
   "cell_type": "markdown",
   "metadata": {},
   "source": [
    "### Cálculo de las RECOMENDACIONES para el usuario"
   ]
  },
  {
   "cell_type": "code",
   "execution_count": 12,
   "metadata": {
    "colab": {
     "base_uri": "https://localhost:8080/"
    },
    "executionInfo": {
     "elapsed": 201,
     "status": "ok",
     "timestamp": 1699812217695,
     "user": {
      "displayName": "Lore Recalde",
      "userId": "16874401589232760083"
     },
     "user_tz": 300
    },
    "id": "xFGgVec-s--n",
    "outputId": "c6783615-10d9-4f3f-e1c3-8a584c09c23e"
   },
   "outputs": [
    {
     "data": {
      "text/plain": [
       "pyspark.sql.dataframe.DataFrame"
      ]
     },
     "execution_count": 12,
     "metadata": {},
     "output_type": "execute_result"
    }
   ],
   "source": [
    "type(recommendations)"
   ]
  },
  {
   "cell_type": "code",
   "execution_count": 13,
   "metadata": {
    "colab": {
     "base_uri": "https://localhost:8080/"
    },
    "executionInfo": {
     "elapsed": 3498,
     "status": "ok",
     "timestamp": 1699812929385,
     "user": {
      "displayName": "Lore Recalde",
      "userId": "16874401589232760083"
     },
     "user_tz": 300
    },
    "id": "IiaLAi4WtCeY",
    "outputId": "54adc656-fcc2-4d19-e33f-a1fe4a5e10ff"
   },
   "outputs": [
    {
     "name": "stdout",
     "output_type": "stream",
     "text": [
      "+-------+\n",
      "|user_id|\n",
      "+-------+\n",
      "|  32592|\n",
      "|  19984|\n",
      "|  35982|\n",
      "|   1088|\n",
      "|   3918|\n",
      "|   6397|\n",
      "|   6658|\n",
      "|   4900|\n",
      "|  11317|\n",
      "|  15727|\n",
      "|  39285|\n",
      "|   1645|\n",
      "|  22373|\n",
      "|  51123|\n",
      "|  46521|\n",
      "|  40383|\n",
      "|  47217|\n",
      "|  18498|\n",
      "|  35912|\n",
      "|  44822|\n",
      "+-------+\n",
      "only showing top 20 rows\n",
      "\n"
     ]
    }
   ],
   "source": [
    "#Vamos los ids de usuarios (valores únicos)\n",
    "users = data.select(als.getUserCol()).distinct()\n",
    "users.show()"
   ]
  },
  {
   "cell_type": "code",
   "execution_count": 14,
   "metadata": {
    "colab": {
     "base_uri": "https://localhost:8080/"
    },
    "executionInfo": {
     "elapsed": 2666,
     "status": "ok",
     "timestamp": 1699813034311,
     "user": {
      "displayName": "Lore Recalde",
      "userId": "16874401589232760083"
     },
     "user_tz": 300
    },
    "id": "NHWjSLgovwfT",
    "outputId": "8f1f029b-1449-4f8a-84a7-b27c19f1c3a7"
   },
   "outputs": [
    {
     "name": "stdout",
     "output_type": "stream",
     "text": [
      "+-------+\n",
      "|user_id|\n",
      "+-------+\n",
      "|   5461|\n",
      "+-------+\n",
      "\n"
     ]
    }
   ],
   "source": [
    "#almacenaremos al user en la variable propia de spark\n",
    "user = users[users['user_id'] == 5461]\n",
    "user.show()"
   ]
  },
  {
   "cell_type": "code",
   "execution_count": 15,
   "metadata": {
    "colab": {
     "base_uri": "https://localhost:8080/"
    },
    "executionInfo": {
     "elapsed": 5899,
     "status": "ok",
     "timestamp": 1699813093839,
     "user": {
      "displayName": "Lore Recalde",
      "userId": "16874401589232760083"
     },
     "user_tz": 300
    },
    "id": "IhppN5jLvDq0",
    "outputId": "0bc7d5c3-456a-4fe2-e46d-292fd82d4ff0"
   },
   "outputs": [
    {
     "name": "stdout",
     "output_type": "stream",
     "text": [
      "+-------+--------------------+\n",
      "|user_id|     recommendations|\n",
      "+-------+--------------------+\n",
      "|   5461|[{7039, 7.3091564...|\n",
      "+-------+--------------------+\n",
      "\n"
     ]
    }
   ],
   "source": [
    "# Con el usuario dado, podemos aplicar la función .recommendForUserSubset() que toma como parámetro\n",
    "# la lista de usuarios para quienes calcular las recomendaciones\n",
    "userTopRecommedations = model.recommendForUserSubset(user, 10)\n",
    "userTopRecommedations.show()"
   ]
  },
  {
   "cell_type": "code",
   "execution_count": 16,
   "metadata": {
    "colab": {
     "base_uri": "https://localhost:8080/"
    },
    "executionInfo": {
     "elapsed": 207,
     "status": "ok",
     "timestamp": 1699814008769,
     "user": {
      "displayName": "Lore Recalde",
      "userId": "16874401589232760083"
     },
     "user_tz": 300
    },
    "id": "d9EB9Bqfz0dC",
    "outputId": "55955bce-1c23-4907-b9d4-cc0b5b38c12f"
   },
   "outputs": [
    {
     "data": {
      "text/plain": [
       "DataFrame[recommendations: array<struct<book_id:int,rating:float>>]"
      ]
     },
     "execution_count": 16,
     "metadata": {},
     "output_type": "execute_result"
    }
   ],
   "source": [
    "#estructura de la data en recommendations\n",
    "userTopRecommedations.select(\"recommendations\")"
   ]
  },
  {
   "cell_type": "code",
   "execution_count": 17,
   "metadata": {
    "colab": {
     "base_uri": "https://localhost:8080/"
    },
    "executionInfo": {
     "elapsed": 9311,
     "status": "ok",
     "timestamp": 1699813942412,
     "user": {
      "displayName": "Lore Recalde",
      "userId": "16874401589232760083"
     },
     "user_tz": 300
    },
    "id": "_mFUkJE8zayH",
    "outputId": "a99c609c-ad1f-4aab-dad0-2890035b25e6"
   },
   "outputs": [
    {
     "data": {
      "text/plain": [
       "Row(book_id=[7039, 5606, 9248, 9423, 9790, 9127, 8903, 5068, 8891, 7593], rating=[7.30915641784668, 6.786949157714844, 6.676485538482666, 6.316593647003174, 6.233674049377441, 6.055983543395996, 5.686757564544678, 5.6472601890563965, 5.623122692108154, 5.4908623695373535])"
      ]
     },
     "execution_count": 17,
     "metadata": {},
     "output_type": "execute_result"
    }
   ],
   "source": [
    "userTopRecommedations.select(\"recommendations.book_id\", \"recommendations.rating\").first()"
   ]
  },
  {
   "cell_type": "markdown",
   "metadata": {},
   "source": [
    "### Podemos generar el top-k recomendaciones para todos los usuarios o para todos los libros"
   ]
  },
  {
   "cell_type": "code",
   "execution_count": 18,
   "metadata": {
    "executionInfo": {
     "elapsed": 459,
     "status": "ok",
     "timestamp": 1699814145353,
     "user": {
      "displayName": "Lore Recalde",
      "userId": "16874401589232760083"
     },
     "user_tz": 300
    },
    "id": "542FbfJrpa9l"
   },
   "outputs": [],
   "source": [
    "# Generate top 10 book recommendations for each user\n",
    "userRecs = model.recommendForAllUsers(10)\n",
    "# Generate top 10 user recommendations for each book\n",
    "bookRecs = model.recommendForAllItems(10)\n"
   ]
  },
  {
   "cell_type": "code",
   "execution_count": 19,
   "metadata": {
    "colab": {
     "base_uri": "https://localhost:8080/"
    },
    "executionInfo": {
     "elapsed": 63460,
     "status": "ok",
     "timestamp": 1699814253502,
     "user": {
      "displayName": "Lore Recalde",
      "userId": "16874401589232760083"
     },
     "user_tz": 300
    },
    "id": "FGR7hgmW0ZFw",
    "outputId": "b07685a8-d0f1-4de2-9f5f-a116610c6918"
   },
   "outputs": [
    {
     "name": "stdout",
     "output_type": "stream",
     "text": [
      "+-------+--------------------+\n",
      "|user_id|     recommendations|\n",
      "+-------+--------------------+\n",
      "|   5461|[{7039, 7.3091564...|\n",
      "+-------+--------------------+\n",
      "\n"
     ]
    }
   ],
   "source": [
    "userRecs[userRecs['user_id']==5461].show()"
   ]
  },
  {
   "cell_type": "markdown",
   "metadata": {},
   "source": [
    "### Podemos generar el top-k recomendaciones para un subset de los usuarios o para un subset de los libros"
   ]
  },
  {
   "cell_type": "code",
   "execution_count": 20,
   "metadata": {
    "executionInfo": {
     "elapsed": 518,
     "status": "ok",
     "timestamp": 1699814584038,
     "user": {
      "displayName": "Lore Recalde",
      "userId": "16874401589232760083"
     },
     "user_tz": 300
    },
    "id": "UiK3NYZJsrzq"
   },
   "outputs": [],
   "source": [
    "# Generate top 10 book recommendations for a specified set of users\n",
    "usersSet = data.select(als.getUserCol()).distinct().limit(3)\n",
    "userSubsetRecs = model.recommendForUserSubset(usersSet, 10)\n",
    "\n",
    "# Generate top 10 user recommendations for a specified set of books\n",
    "booksSet = data.select(als.getItemCol()).distinct().limit(3)\n",
    "bookSubSetRecs = model.recommendForItemSubset(booksSet, 10)"
   ]
  },
  {
   "cell_type": "markdown",
   "metadata": {},
   "source": [
    "# Para resolver\n",
    "1. Qué libro se recomienda como primera opción para estos 3 usuarios?"
   ]
  },
  {
   "cell_type": "code",
   "execution_count": 21,
   "metadata": {
    "colab": {
     "base_uri": "https://localhost:8080/"
    },
    "executionInfo": {
     "elapsed": 2659,
     "status": "ok",
     "timestamp": 1699814420947,
     "user": {
      "displayName": "Lore Recalde",
      "userId": "16874401589232760083"
     },
     "user_tz": 300
    },
    "id": "jfyYwt0n1Yoy",
    "outputId": "a399a91d-6914-4773-9129-5b1a856ea520"
   },
   "outputs": [
    {
     "name": "stdout",
     "output_type": "stream",
     "text": [
      "+-------+\n",
      "|user_id|\n",
      "+-------+\n",
      "|  32592|\n",
      "|  19984|\n",
      "|  35982|\n",
      "+-------+\n",
      "\n"
     ]
    }
   ],
   "source": [
    "usersSet.show() "
   ]
  },
  {
   "cell_type": "markdown",
   "metadata": {},
   "source": [
    "2. A quiénes se puede recomendar estos libros para su compra?"
   ]
  },
  {
   "cell_type": "code",
   "execution_count": 22,
   "metadata": {
    "colab": {
     "base_uri": "https://localhost:8080/"
    },
    "executionInfo": {
     "elapsed": 2787,
     "status": "ok",
     "timestamp": 1699814589143,
     "user": {
      "displayName": "Lore Recalde",
      "userId": "16874401589232760083"
     },
     "user_tz": 300
    },
    "id": "xxE3YfgZ1_AA",
    "outputId": "80212fae-ae7a-4201-f827-b9681ed494e5"
   },
   "outputs": [
    {
     "name": "stdout",
     "output_type": "stream",
     "text": [
      "+-------+\n",
      "|book_id|\n",
      "+-------+\n",
      "|    148|\n",
      "|    463|\n",
      "|    471|\n",
      "+-------+\n",
      "\n"
     ]
    }
   ],
   "source": [
    "booksSet.show() "
   ]
  },
  {
   "cell_type": "markdown",
   "metadata": {
    "id": "Vi6QMv561W-2"
   },
   "source": [
    "3. Cómo se puede intentar mejorar el rendimiento predictivo del sistema?"
   ]
  },
  {
   "cell_type": "code",
   "execution_count": null,
   "metadata": {
    "id": "P2veZ4jp1XKc"
   },
   "outputs": [],
   "source": []
  }
 ],
 "metadata": {
  "colab": {
   "authorship_tag": "ABX9TyNUQ4fUA/HBbqDF0bNWFXe0",
   "mount_file_id": "17nSB-2JWszZbrBs6GF610Em1nHBgs7Nq",
   "provenance": []
  },
  "kernelspec": {
   "display_name": "Python 3",
   "language": "python",
   "name": "python3"
  },
  "language_info": {
   "codemirror_mode": {
    "name": "ipython",
    "version": 3
   },
   "file_extension": ".py",
   "mimetype": "text/x-python",
   "name": "python",
   "nbconvert_exporter": "python",
   "pygments_lexer": "ipython3",
   "version": "3.11.4"
  }
 },
 "nbformat": 4,
 "nbformat_minor": 4
}
