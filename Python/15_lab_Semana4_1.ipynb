{
 "cells": [
  {
   "cell_type": "code",
   "execution_count": 1,
   "id": "5d1cc41a",
   "metadata": {},
   "outputs": [],
   "source": [
    "import numpy as np"
   ]
  },
  {
   "cell_type": "code",
   "execution_count": 2,
   "id": "2df66d77",
   "metadata": {},
   "outputs": [],
   "source": [
    "arreglo = np.array([1,2,3,4,5,6])"
   ]
  },
  {
   "cell_type": "code",
   "execution_count": 3,
   "id": "8d41c379",
   "metadata": {},
   "outputs": [
    {
     "data": {
      "text/plain": [
       "numpy.ndarray"
      ]
     },
     "execution_count": 3,
     "metadata": {},
     "output_type": "execute_result"
    }
   ],
   "source": [
    "type(arreglo)"
   ]
  },
  {
   "cell_type": "code",
   "execution_count": 4,
   "id": "e850cb9f",
   "metadata": {},
   "outputs": [
    {
     "data": {
      "text/plain": [
       "array([1, 2, 3, 4, 5, 6])"
      ]
     },
     "execution_count": 4,
     "metadata": {},
     "output_type": "execute_result"
    }
   ],
   "source": [
    "arreglo"
   ]
  },
  {
   "cell_type": "code",
   "execution_count": 5,
   "id": "8438bfba",
   "metadata": {},
   "outputs": [],
   "source": [
    "arreglo2 = np.array([1.3,2.6,3,4,5,6])"
   ]
  },
  {
   "cell_type": "code",
   "execution_count": 7,
   "id": "b8cef657",
   "metadata": {},
   "outputs": [
    {
     "data": {
      "text/plain": [
       "dtype('float64')"
      ]
     },
     "execution_count": 7,
     "metadata": {},
     "output_type": "execute_result"
    }
   ],
   "source": [
    "arreglo2.dtype"
   ]
  },
  {
   "cell_type": "code",
   "execution_count": 19,
   "id": "e07753f1",
   "metadata": {},
   "outputs": [
    {
     "data": {
      "text/plain": [
       "1"
      ]
     },
     "execution_count": 19,
     "metadata": {},
     "output_type": "execute_result"
    }
   ],
   "source": [
    "arreglo2.ndim"
   ]
  },
  {
   "cell_type": "code",
   "execution_count": 21,
   "id": "cbc8e204",
   "metadata": {},
   "outputs": [
    {
     "data": {
      "text/plain": [
       "(6,)"
      ]
     },
     "execution_count": 21,
     "metadata": {},
     "output_type": "execute_result"
    }
   ],
   "source": [
    "arreglo2.shape"
   ]
  },
  {
   "cell_type": "code",
   "execution_count": 8,
   "id": "e82b7371",
   "metadata": {},
   "outputs": [],
   "source": [
    "arreglo3 = np.array([1.3,2.6,3,'a','b',6])"
   ]
  },
  {
   "cell_type": "code",
   "execution_count": 10,
   "id": "887818d9",
   "metadata": {},
   "outputs": [
    {
     "data": {
      "text/plain": [
       "dtype('<U32')"
      ]
     },
     "execution_count": 10,
     "metadata": {},
     "output_type": "execute_result"
    }
   ],
   "source": [
    "arreglo3.dtype"
   ]
  },
  {
   "cell_type": "code",
   "execution_count": 16,
   "id": "05ed88e0",
   "metadata": {},
   "outputs": [],
   "source": [
    "arreglo = np.array([[1,2,3,4,5,6],[3,4,5,6,7,8]])"
   ]
  },
  {
   "cell_type": "code",
   "execution_count": 17,
   "id": "966e9a64",
   "metadata": {},
   "outputs": [
    {
     "data": {
      "text/plain": [
       "array([[1, 2, 3, 4, 5, 6],\n",
       "       [3, 4, 5, 6, 7, 8]])"
      ]
     },
     "execution_count": 17,
     "metadata": {},
     "output_type": "execute_result"
    }
   ],
   "source": [
    "arreglo"
   ]
  },
  {
   "cell_type": "code",
   "execution_count": 18,
   "id": "71f04b6c",
   "metadata": {},
   "outputs": [
    {
     "data": {
      "text/plain": [
       "2"
      ]
     },
     "execution_count": 18,
     "metadata": {},
     "output_type": "execute_result"
    }
   ],
   "source": [
    "arreglo.ndim"
   ]
  },
  {
   "cell_type": "code",
   "execution_count": 20,
   "id": "4f5425d6",
   "metadata": {},
   "outputs": [
    {
     "data": {
      "text/plain": [
       "(2, 6)"
      ]
     },
     "execution_count": 20,
     "metadata": {},
     "output_type": "execute_result"
    }
   ],
   "source": [
    "arreglo.shape"
   ]
  },
  {
   "cell_type": "code",
   "execution_count": 22,
   "id": "f4e6fa1e",
   "metadata": {},
   "outputs": [
    {
     "data": {
      "text/plain": [
       "12"
      ]
     },
     "execution_count": 22,
     "metadata": {},
     "output_type": "execute_result"
    }
   ],
   "source": [
    "arreglo.size"
   ]
  },
  {
   "cell_type": "code",
   "execution_count": 25,
   "id": "fee89147",
   "metadata": {},
   "outputs": [
    {
     "name": "stdout",
     "output_type": "stream",
     "text": [
      "[1 2 3 4 5 6]\n",
      "1; 2; 3; 4; 5; 6; \n",
      "[3 4 5 6 7 8]\n",
      "3; 4; 5; 6; 7; 8; \n"
     ]
    }
   ],
   "source": [
    "for fila in arreglo:\n",
    "    print(fila)\n",
    "    for columna in fila:\n",
    "        print(columna, end='; ')\n",
    "    print()"
   ]
  },
  {
   "cell_type": "code",
   "execution_count": 27,
   "id": "f268d427",
   "metadata": {},
   "outputs": [
    {
     "name": "stdout",
     "output_type": "stream",
     "text": [
      "1 2 3 4 5 6 3 4 5 6 7 8 "
     ]
    }
   ],
   "source": [
    "for elemento in arreglo.flat:\n",
    "    print(elemento, end=' ')"
   ]
  },
  {
   "cell_type": "code",
   "execution_count": 28,
   "id": "d8815131",
   "metadata": {},
   "outputs": [],
   "source": [
    "ceros = np.zeros(6)"
   ]
  },
  {
   "cell_type": "code",
   "execution_count": 29,
   "id": "6e75db4e",
   "metadata": {},
   "outputs": [
    {
     "data": {
      "text/plain": [
       "array([0., 0., 0., 0., 0., 0.])"
      ]
     },
     "execution_count": 29,
     "metadata": {},
     "output_type": "execute_result"
    }
   ],
   "source": [
    "ceros"
   ]
  },
  {
   "cell_type": "code",
   "execution_count": 30,
   "id": "6b124f1f",
   "metadata": {},
   "outputs": [],
   "source": [
    "unos = np.ones((3,4))"
   ]
  },
  {
   "cell_type": "code",
   "execution_count": 31,
   "id": "7748d7ac",
   "metadata": {},
   "outputs": [
    {
     "data": {
      "text/plain": [
       "array([[1., 1., 1., 1.],\n",
       "       [1., 1., 1., 1.],\n",
       "       [1., 1., 1., 1.]])"
      ]
     },
     "execution_count": 31,
     "metadata": {},
     "output_type": "execute_result"
    }
   ],
   "source": [
    "unos"
   ]
  },
  {
   "cell_type": "code",
   "execution_count": 32,
   "id": "cb7321f5",
   "metadata": {},
   "outputs": [],
   "source": [
    "unos = np.ones((3,4), dtype=int)"
   ]
  },
  {
   "cell_type": "code",
   "execution_count": 33,
   "id": "178c161a",
   "metadata": {},
   "outputs": [
    {
     "data": {
      "text/plain": [
       "array([[1, 1, 1, 1],\n",
       "       [1, 1, 1, 1],\n",
       "       [1, 1, 1, 1]])"
      ]
     },
     "execution_count": 33,
     "metadata": {},
     "output_type": "execute_result"
    }
   ],
   "source": [
    "unos"
   ]
  },
  {
   "cell_type": "code",
   "execution_count": 34,
   "id": "066e2a2a",
   "metadata": {},
   "outputs": [],
   "source": [
    "completo = np.full((2,4), 9)"
   ]
  },
  {
   "cell_type": "code",
   "execution_count": 35,
   "id": "929e287a",
   "metadata": {},
   "outputs": [
    {
     "data": {
      "text/plain": [
       "array([[9, 9, 9, 9],\n",
       "       [9, 9, 9, 9]])"
      ]
     },
     "execution_count": 35,
     "metadata": {},
     "output_type": "execute_result"
    }
   ],
   "source": [
    "completo"
   ]
  },
  {
   "cell_type": "code",
   "execution_count": 37,
   "id": "10e58c4b",
   "metadata": {},
   "outputs": [
    {
     "data": {
      "text/plain": [
       "array([0.5       , 0.55555556, 0.61111111, 0.66666667, 0.72222222,\n",
       "       0.77777778, 0.83333333, 0.88888889, 0.94444444, 1.        ])"
      ]
     },
     "execution_count": 37,
     "metadata": {},
     "output_type": "execute_result"
    }
   ],
   "source": [
    "np.linspace(0.5, 1, num=10)"
   ]
  },
  {
   "cell_type": "code",
   "execution_count": 44,
   "id": "2a36568a",
   "metadata": {},
   "outputs": [],
   "source": [
    "n = np.arange(1,21).reshape(2,10) # Crear un arreglo de dos filas y 10 columnas. Los valores van a ser del 1 al 20"
   ]
  },
  {
   "cell_type": "code",
   "execution_count": 45,
   "id": "6c692c79",
   "metadata": {},
   "outputs": [
    {
     "data": {
      "text/plain": [
       "array([[ 1,  2,  3,  4,  5,  6,  7,  8,  9, 10],\n",
       "       [11, 12, 13, 14, 15, 16, 17, 18, 19, 20]])"
      ]
     },
     "execution_count": 45,
     "metadata": {},
     "output_type": "execute_result"
    }
   ],
   "source": [
    "n"
   ]
  },
  {
   "cell_type": "code",
   "execution_count": 49,
   "id": "3026b0ff",
   "metadata": {},
   "outputs": [
    {
     "name": "stdout",
     "output_type": "stream",
     "text": [
      "[[ 3  6  9 12 15 18 21 24 27 30]\n",
      " [33 36 39 42 45 48 51 54 57 60]]\n"
     ]
    }
   ],
   "source": [
    "n2 = n*3\n",
    "print(n2)"
   ]
  },
  {
   "cell_type": "code",
   "execution_count": 50,
   "id": "5f5e100f",
   "metadata": {},
   "outputs": [
    {
     "data": {
      "text/plain": [
       "array([[ 4,  8, 12, 16, 20, 24, 28, 32, 36, 40],\n",
       "       [44, 48, 52, 56, 60, 64, 68, 72, 76, 80]])"
      ]
     },
     "execution_count": 50,
     "metadata": {},
     "output_type": "execute_result"
    }
   ],
   "source": [
    "n + n2"
   ]
  },
  {
   "cell_type": "code",
   "execution_count": 51,
   "id": "0d260683",
   "metadata": {},
   "outputs": [
    {
     "data": {
      "text/plain": [
       "array([[ True,  True,  True,  True,  True,  True,  True,  True,  True,\n",
       "         True],\n",
       "       [False, False, False, False, False, False, False, False, False,\n",
       "        False]])"
      ]
     },
     "execution_count": 51,
     "metadata": {},
     "output_type": "execute_result"
    }
   ],
   "source": [
    "n <= 10"
   ]
  },
  {
   "cell_type": "code",
   "execution_count": 53,
   "id": "efcfa026",
   "metadata": {},
   "outputs": [],
   "source": [
    "n1 = np.array([1,2,3,4])\n",
    "n2 = np.array([10,2,3,40])"
   ]
  },
  {
   "cell_type": "code",
   "execution_count": 54,
   "id": "892be67e",
   "metadata": {},
   "outputs": [
    {
     "data": {
      "text/plain": [
       "array([ True, False, False,  True])"
      ]
     },
     "execution_count": 54,
     "metadata": {},
     "output_type": "execute_result"
    }
   ],
   "source": [
    "n1 < n2"
   ]
  },
  {
   "cell_type": "code",
   "execution_count": 55,
   "id": "832c164a",
   "metadata": {},
   "outputs": [
    {
     "data": {
      "text/plain": [
       "array([False,  True,  True, False])"
      ]
     },
     "execution_count": 55,
     "metadata": {},
     "output_type": "execute_result"
    }
   ],
   "source": [
    "n1 == n2"
   ]
  },
  {
   "cell_type": "code",
   "execution_count": 56,
   "id": "1fab9236",
   "metadata": {},
   "outputs": [],
   "source": [
    "n1 = np.array([[1,2,3,4], [10,2,3,40]])"
   ]
  },
  {
   "cell_type": "code",
   "execution_count": 57,
   "id": "8d19b3d3",
   "metadata": {},
   "outputs": [
    {
     "data": {
      "text/plain": [
       "array([[ 1,  2,  3,  4],\n",
       "       [10,  2,  3, 40]])"
      ]
     },
     "execution_count": 57,
     "metadata": {},
     "output_type": "execute_result"
    }
   ],
   "source": [
    "n1"
   ]
  },
  {
   "cell_type": "code",
   "execution_count": 58,
   "id": "f1723756",
   "metadata": {},
   "outputs": [
    {
     "data": {
      "text/plain": [
       "array([11,  4,  6, 44])"
      ]
     },
     "execution_count": 58,
     "metadata": {},
     "output_type": "execute_result"
    }
   ],
   "source": [
    "n1.sum(axis = 0)"
   ]
  },
  {
   "cell_type": "code",
   "execution_count": 59,
   "id": "e1ced772",
   "metadata": {},
   "outputs": [
    {
     "data": {
      "text/plain": [
       "array([10, 55])"
      ]
     },
     "execution_count": 59,
     "metadata": {},
     "output_type": "execute_result"
    }
   ],
   "source": [
    "n1.sum(axis = 1)"
   ]
  },
  {
   "cell_type": "code",
   "execution_count": 60,
   "id": "d408cb66",
   "metadata": {},
   "outputs": [
    {
     "data": {
      "text/plain": [
       "array([ 5.5,  2. ,  3. , 22. ])"
      ]
     },
     "execution_count": 60,
     "metadata": {},
     "output_type": "execute_result"
    }
   ],
   "source": [
    "n1.mean(axis = 0)"
   ]
  },
  {
   "cell_type": "code",
   "execution_count": 61,
   "id": "cffd94eb",
   "metadata": {},
   "outputs": [
    {
     "data": {
      "text/plain": [
       "array([ 2.5 , 13.75])"
      ]
     },
     "execution_count": 61,
     "metadata": {},
     "output_type": "execute_result"
    }
   ],
   "source": [
    "n1.mean(axis = 1)"
   ]
  },
  {
   "cell_type": "code",
   "execution_count": 62,
   "id": "5a71668b",
   "metadata": {},
   "outputs": [],
   "source": [
    "n1 = np.array([1,2,3,4])"
   ]
  },
  {
   "cell_type": "code",
   "execution_count": 63,
   "id": "e85a5058",
   "metadata": {},
   "outputs": [
    {
     "data": {
      "text/plain": [
       "4"
      ]
     },
     "execution_count": 63,
     "metadata": {},
     "output_type": "execute_result"
    }
   ],
   "source": [
    "len(n1)"
   ]
  },
  {
   "cell_type": "code",
   "execution_count": 64,
   "id": "99ab7417",
   "metadata": {},
   "outputs": [
    {
     "data": {
      "text/plain": [
       "4"
      ]
     },
     "execution_count": 64,
     "metadata": {},
     "output_type": "execute_result"
    }
   ],
   "source": [
    "n1.size"
   ]
  },
  {
   "cell_type": "code",
   "execution_count": 65,
   "id": "7c07ff03",
   "metadata": {},
   "outputs": [
    {
     "data": {
      "text/plain": [
       "1"
      ]
     },
     "execution_count": 65,
     "metadata": {},
     "output_type": "execute_result"
    }
   ],
   "source": [
    "n1[0]"
   ]
  },
  {
   "cell_type": "code",
   "execution_count": 66,
   "id": "928e57a8",
   "metadata": {},
   "outputs": [],
   "source": [
    "n1[0]=100"
   ]
  },
  {
   "cell_type": "code",
   "execution_count": 67,
   "id": "ce47f5bc",
   "metadata": {},
   "outputs": [
    {
     "data": {
      "text/plain": [
       "array([100,   2,   3,   4])"
      ]
     },
     "execution_count": 67,
     "metadata": {},
     "output_type": "execute_result"
    }
   ],
   "source": [
    "n1"
   ]
  },
  {
   "cell_type": "code",
   "execution_count": 68,
   "id": "8476933c",
   "metadata": {},
   "outputs": [],
   "source": [
    "n = np.arange(1,21).reshape(2,10)"
   ]
  },
  {
   "cell_type": "code",
   "execution_count": 69,
   "id": "5c7a5076",
   "metadata": {},
   "outputs": [
    {
     "data": {
      "text/plain": [
       "2"
      ]
     },
     "execution_count": 69,
     "metadata": {},
     "output_type": "execute_result"
    }
   ],
   "source": [
    "len(n)"
   ]
  },
  {
   "cell_type": "code",
   "execution_count": 70,
   "id": "23c96c4a",
   "metadata": {},
   "outputs": [
    {
     "data": {
      "text/plain": [
       "20"
      ]
     },
     "execution_count": 70,
     "metadata": {},
     "output_type": "execute_result"
    }
   ],
   "source": [
    "n.size"
   ]
  },
  {
   "cell_type": "code",
   "execution_count": 72,
   "id": "d93e7bfb",
   "metadata": {},
   "outputs": [
    {
     "data": {
      "text/plain": [
       "(2, 10)"
      ]
     },
     "execution_count": 72,
     "metadata": {},
     "output_type": "execute_result"
    }
   ],
   "source": [
    "n.shape"
   ]
  },
  {
   "cell_type": "code",
   "execution_count": 73,
   "id": "828c2943",
   "metadata": {},
   "outputs": [
    {
     "data": {
      "text/plain": [
       "array([[ 1,  2,  3,  4,  5,  6,  7,  8,  9, 10],\n",
       "       [11, 12, 13, 14, 15, 16, 17, 18, 19, 20]])"
      ]
     },
     "execution_count": 73,
     "metadata": {},
     "output_type": "execute_result"
    }
   ],
   "source": [
    "n"
   ]
  },
  {
   "cell_type": "code",
   "execution_count": 74,
   "id": "395e3b6f",
   "metadata": {},
   "outputs": [
    {
     "data": {
      "text/plain": [
       "array([ 1,  2,  3,  4,  5,  6,  7,  8,  9, 10])"
      ]
     },
     "execution_count": 74,
     "metadata": {},
     "output_type": "execute_result"
    }
   ],
   "source": [
    "n[0]"
   ]
  },
  {
   "cell_type": "code",
   "execution_count": 75,
   "id": "8291b714",
   "metadata": {},
   "outputs": [
    {
     "data": {
      "text/plain": [
       "10"
      ]
     },
     "execution_count": 75,
     "metadata": {},
     "output_type": "execute_result"
    }
   ],
   "source": [
    "n[0][9]"
   ]
  },
  {
   "cell_type": "code",
   "execution_count": 77,
   "id": "c2a3dfa8",
   "metadata": {},
   "outputs": [],
   "source": [
    "x = np.array([[ 1,  2,  3,  4,  5,  6,  7,  8,  9, 10],\n",
    "       [11.0, 12.0, 13.0, 14.0, 15.0, 16.0, 17.0, 18.0, 19.0, 20.0]])"
   ]
  },
  {
   "cell_type": "code",
   "execution_count": 79,
   "id": "fa9680a4",
   "metadata": {},
   "outputs": [
    {
     "data": {
      "text/plain": [
       "dtype('float64')"
      ]
     },
     "execution_count": 79,
     "metadata": {},
     "output_type": "execute_result"
    }
   ],
   "source": [
    "x.dtype"
   ]
  },
  {
   "cell_type": "code",
   "execution_count": 80,
   "id": "d732b703",
   "metadata": {},
   "outputs": [
    {
     "data": {
      "text/plain": [
       "dtype('float64')"
      ]
     },
     "execution_count": 80,
     "metadata": {},
     "output_type": "execute_result"
    }
   ],
   "source": [
    "x[0].dtype"
   ]
  },
  {
   "cell_type": "code",
   "execution_count": 82,
   "id": "8356dc56",
   "metadata": {},
   "outputs": [
    {
     "data": {
      "text/plain": [
       "dtype('float64')"
      ]
     },
     "execution_count": 82,
     "metadata": {},
     "output_type": "execute_result"
    }
   ],
   "source": [
    "x[0][1].dtype"
   ]
  },
  {
   "cell_type": "code",
   "execution_count": 83,
   "id": "15589cdb",
   "metadata": {},
   "outputs": [
    {
     "data": {
      "text/plain": [
       "array([ 1.,  2.,  3.,  4.,  5.,  6.,  7.,  8.,  9., 10.])"
      ]
     },
     "execution_count": 83,
     "metadata": {},
     "output_type": "execute_result"
    }
   ],
   "source": [
    "x[0]"
   ]
  },
  {
   "cell_type": "code",
   "execution_count": 85,
   "id": "a6a68917",
   "metadata": {},
   "outputs": [
    {
     "data": {
      "text/plain": [
       "array([2., 3., 4., 5., 6.])"
      ]
     },
     "execution_count": 85,
     "metadata": {},
     "output_type": "execute_result"
    }
   ],
   "source": [
    "x[0][1:6]"
   ]
  },
  {
   "cell_type": "code",
   "execution_count": 86,
   "id": "e5298396",
   "metadata": {},
   "outputs": [
    {
     "data": {
      "text/plain": [
       "array([[ 1.,  2.,  3.,  4.,  5.,  6.,  7.,  8.,  9., 10.],\n",
       "       [11., 12., 13., 14., 15., 16., 17., 18., 19., 20.]])"
      ]
     },
     "execution_count": 86,
     "metadata": {},
     "output_type": "execute_result"
    }
   ],
   "source": [
    "x"
   ]
  },
  {
   "cell_type": "code",
   "execution_count": 89,
   "id": "33ddd10d",
   "metadata": {},
   "outputs": [],
   "source": [
    "x = x.T"
   ]
  },
  {
   "cell_type": "code",
   "execution_count": 91,
   "id": "56a41fe2",
   "metadata": {},
   "outputs": [
    {
     "data": {
      "text/plain": [
       "array([[ 1., 11.],\n",
       "       [ 2., 12.],\n",
       "       [ 3., 13.],\n",
       "       [ 4., 14.],\n",
       "       [ 5., 15.],\n",
       "       [ 6., 16.],\n",
       "       [ 7., 17.],\n",
       "       [ 8., 18.],\n",
       "       [ 9., 19.],\n",
       "       [10., 20.]])"
      ]
     },
     "execution_count": 91,
     "metadata": {},
     "output_type": "execute_result"
    }
   ],
   "source": [
    "x"
   ]
  },
  {
   "cell_type": "code",
   "execution_count": 93,
   "id": "dea1e997",
   "metadata": {},
   "outputs": [
    {
     "data": {
      "text/plain": [
       "array([12., 13., 14., 15., 16.])"
      ]
     },
     "execution_count": 93,
     "metadata": {},
     "output_type": "execute_result"
    }
   ],
   "source": [
    "x[1:6, 1]"
   ]
  },
  {
   "cell_type": "code",
   "execution_count": 7,
   "id": "e1ca5e9a",
   "metadata": {},
   "outputs": [],
   "source": [
    "n1 = np.arange(1,11).reshape(2,5)"
   ]
  },
  {
   "cell_type": "code",
   "execution_count": 8,
   "id": "a2dba324",
   "metadata": {},
   "outputs": [
    {
     "data": {
      "text/plain": [
       "array([[ 1,  2,  3,  4,  5],\n",
       "       [ 6,  7,  8,  9, 10]])"
      ]
     },
     "execution_count": 8,
     "metadata": {},
     "output_type": "execute_result"
    }
   ],
   "source": [
    "n1"
   ]
  },
  {
   "cell_type": "code",
   "execution_count": 9,
   "id": "36743d92",
   "metadata": {},
   "outputs": [],
   "source": [
    "n2 = np.array([2,2,2,2,4])"
   ]
  },
  {
   "cell_type": "code",
   "execution_count": 10,
   "id": "c3e428b1",
   "metadata": {},
   "outputs": [],
   "source": [
    "n3 = n1 * n2"
   ]
  },
  {
   "cell_type": "code",
   "execution_count": 11,
   "id": "0e767cbb",
   "metadata": {},
   "outputs": [
    {
     "data": {
      "text/plain": [
       "array([[ 2,  4,  6,  8, 20],\n",
       "       [12, 14, 16, 18, 40]])"
      ]
     },
     "execution_count": 11,
     "metadata": {},
     "output_type": "execute_result"
    }
   ],
   "source": [
    "n3"
   ]
  },
  {
   "cell_type": "code",
   "execution_count": 100,
   "id": "91049360",
   "metadata": {},
   "outputs": [
    {
     "data": {
      "text/plain": [
       "array([[1.41421356, 2.        , 2.44948974, 2.82842712, 3.16227766],\n",
       "       [3.46410162, 3.74165739, 4.        , 4.24264069, 4.47213595]])"
      ]
     },
     "execution_count": 100,
     "metadata": {},
     "output_type": "execute_result"
    }
   ],
   "source": [
    "np.sqrt(n3)"
   ]
  },
  {
   "cell_type": "code",
   "execution_count": 102,
   "id": "257f2e69",
   "metadata": {},
   "outputs": [
    {
     "data": {
      "text/plain": [
       "array([[  4,  16,  36,  64, 100],\n",
       "       [144, 196, 256, 324, 400]])"
      ]
     },
     "execution_count": 102,
     "metadata": {},
     "output_type": "execute_result"
    }
   ],
   "source": [
    "np.power(n3, 2)"
   ]
  },
  {
   "cell_type": "code",
   "execution_count": 12,
   "id": "8854a3e5",
   "metadata": {},
   "outputs": [],
   "source": [
    "n1 = np.array([[ 10,  2,  3,  4,  5],\n",
    "               [ 60,  7,  8,  9, 10]])"
   ]
  },
  {
   "cell_type": "code",
   "execution_count": 13,
   "id": "d19fdc55",
   "metadata": {},
   "outputs": [
    {
     "data": {
      "text/plain": [
       "array([[ 2,  2,  3,  4,  5],\n",
       "       [12,  7,  8,  9, 10]])"
      ]
     },
     "execution_count": 13,
     "metadata": {},
     "output_type": "execute_result"
    }
   ],
   "source": [
    "np.minimum(n3, n1) #element-wise"
   ]
  },
  {
   "cell_type": "code",
   "execution_count": 106,
   "id": "95f4eb1a",
   "metadata": {},
   "outputs": [
    {
     "data": {
      "text/plain": [
       "array([[ 2,  4,  6,  8, 10],\n",
       "       [12, 14, 16, 18, 20]])"
      ]
     },
     "execution_count": 106,
     "metadata": {},
     "output_type": "execute_result"
    }
   ],
   "source": [
    "n3"
   ]
  },
  {
   "cell_type": "code",
   "execution_count": 107,
   "id": "c6ea8ef1",
   "metadata": {},
   "outputs": [],
   "source": [
    "n3[0]=[3,6,9,12,15]"
   ]
  },
  {
   "cell_type": "code",
   "execution_count": 108,
   "id": "049d1cd4",
   "metadata": {},
   "outputs": [
    {
     "data": {
      "text/plain": [
       "array([[ 3,  6,  9, 12, 15],\n",
       "       [12, 14, 16, 18, 20]])"
      ]
     },
     "execution_count": 108,
     "metadata": {},
     "output_type": "execute_result"
    }
   ],
   "source": [
    "n3"
   ]
  },
  {
   "cell_type": "code",
   "execution_count": 109,
   "id": "b4f81740",
   "metadata": {},
   "outputs": [
    {
     "data": {
      "text/plain": [
       "array([[ 3,  9, 15],\n",
       "       [12, 16, 20]])"
      ]
     },
     "execution_count": 109,
     "metadata": {},
     "output_type": "execute_result"
    }
   ],
   "source": [
    "n3[:,[0,2,4]]"
   ]
  },
  {
   "cell_type": "code",
   "execution_count": 110,
   "id": "c1914d01",
   "metadata": {},
   "outputs": [
    {
     "data": {
      "text/plain": [
       "3"
      ]
     },
     "execution_count": 110,
     "metadata": {},
     "output_type": "execute_result"
    }
   ],
   "source": [
    "np.min(n3)"
   ]
  },
  {
   "cell_type": "code",
   "execution_count": 111,
   "id": "9ade9362",
   "metadata": {},
   "outputs": [
    {
     "data": {
      "text/plain": [
       "array([ 3,  6,  9, 12, 15])"
      ]
     },
     "execution_count": 111,
     "metadata": {},
     "output_type": "execute_result"
    }
   ],
   "source": [
    "np.min(n3, axis = 0)"
   ]
  },
  {
   "cell_type": "code",
   "execution_count": 112,
   "id": "7ba3d87f",
   "metadata": {},
   "outputs": [
    {
     "data": {
      "text/plain": [
       "array([ 3, 12])"
      ]
     },
     "execution_count": 112,
     "metadata": {},
     "output_type": "execute_result"
    }
   ],
   "source": [
    "np.min(n3, axis = 1)"
   ]
  },
  {
   "cell_type": "code",
   "execution_count": 116,
   "id": "5933432e",
   "metadata": {},
   "outputs": [],
   "source": [
    "dimens = np.array([[[ 3,  6,  9, 12, 15],\n",
    "                   [12, 14, 16, 18, 20]],\n",
    "                  [[ 3,  6,  9, 12, 15],\n",
    "                   [12, 14, 16, 18, 20]]])"
   ]
  },
  {
   "cell_type": "code",
   "execution_count": 117,
   "id": "72da8c74",
   "metadata": {},
   "outputs": [
    {
     "data": {
      "text/plain": [
       "array([[[ 3,  6,  9, 12, 15],\n",
       "        [12, 14, 16, 18, 20]],\n",
       "\n",
       "       [[ 3,  6,  9, 12, 15],\n",
       "        [12, 14, 16, 18, 20]]])"
      ]
     },
     "execution_count": 117,
     "metadata": {},
     "output_type": "execute_result"
    }
   ],
   "source": [
    "dimens"
   ]
  },
  {
   "cell_type": "code",
   "execution_count": 118,
   "id": "01c9a19e",
   "metadata": {},
   "outputs": [
    {
     "data": {
      "text/plain": [
       "(2, 2, 5)"
      ]
     },
     "execution_count": 118,
     "metadata": {},
     "output_type": "execute_result"
    }
   ],
   "source": [
    "dimens.shape"
   ]
  },
  {
   "cell_type": "code",
   "execution_count": 119,
   "id": "c0ec2fcb",
   "metadata": {},
   "outputs": [
    {
     "data": {
      "text/plain": [
       "array([[ 3,  6,  9, 12, 15],\n",
       "       [12, 14, 16, 18, 20]])"
      ]
     },
     "execution_count": 119,
     "metadata": {},
     "output_type": "execute_result"
    }
   ],
   "source": [
    "dimens[0]"
   ]
  },
  {
   "cell_type": "code",
   "execution_count": 120,
   "id": "a32c5907",
   "metadata": {},
   "outputs": [
    {
     "data": {
      "text/plain": [
       "array([ 3,  6,  9, 12, 15])"
      ]
     },
     "execution_count": 120,
     "metadata": {},
     "output_type": "execute_result"
    }
   ],
   "source": [
    "dimens[0][0]"
   ]
  },
  {
   "cell_type": "code",
   "execution_count": 121,
   "id": "b6bfb3e3",
   "metadata": {},
   "outputs": [
    {
     "data": {
      "text/plain": [
       "3"
      ]
     },
     "execution_count": 121,
     "metadata": {},
     "output_type": "execute_result"
    }
   ],
   "source": [
    "dimens[0][0][0]"
   ]
  },
  {
   "cell_type": "code",
   "execution_count": 14,
   "id": "5552b446",
   "metadata": {},
   "outputs": [],
   "source": [
    "n = np.arange(1,21).reshape(2,2,5)"
   ]
  },
  {
   "cell_type": "code",
   "execution_count": 15,
   "id": "f904e19c",
   "metadata": {},
   "outputs": [
    {
     "data": {
      "text/plain": [
       "array([[[ 1,  2,  3,  4,  5],\n",
       "        [ 6,  7,  8,  9, 10]],\n",
       "\n",
       "       [[11, 12, 13, 14, 15],\n",
       "        [16, 17, 18, 19, 20]]])"
      ]
     },
     "execution_count": 15,
     "metadata": {},
     "output_type": "execute_result"
    }
   ],
   "source": [
    "n"
   ]
  },
  {
   "cell_type": "code",
   "execution_count": null,
   "id": "6ec3d962",
   "metadata": {},
   "outputs": [],
   "source": []
  }
 ],
 "metadata": {
  "kernelspec": {
   "display_name": "Python 3",
   "language": "python",
   "name": "python3"
  },
  "language_info": {
   "codemirror_mode": {
    "name": "ipython",
    "version": 3
   },
   "file_extension": ".py",
   "mimetype": "text/x-python",
   "name": "python",
   "nbconvert_exporter": "python",
   "pygments_lexer": "ipython3",
   "version": "3.11.4"
  }
 },
 "nbformat": 4,
 "nbformat_minor": 5
}
