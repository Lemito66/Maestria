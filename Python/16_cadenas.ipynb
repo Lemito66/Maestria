{
 "cells": [
  {
   "cell_type": "markdown",
   "metadata": {},
   "source": [
    "# Cadenas"
   ]
  },
  {
   "cell_type": "code",
   "execution_count": 1,
   "metadata": {},
   "outputs": [
    {
     "name": "stdout",
     "output_type": "stream",
     "text": [
      "2\n"
     ]
    }
   ],
   "source": [
    "#count\n",
    "\n",
    "cadena = \"Hola Mundo\"\n",
    "print(cadena.count(\"o\"))"
   ]
  },
  {
   "cell_type": "code",
   "execution_count": 2,
   "metadata": {},
   "outputs": [
    {
     "name": "stdout",
     "output_type": "stream",
     "text": [
      "['Hola', 'Mundo']\n"
     ]
    }
   ],
   "source": [
    "#slit\n",
    "cadena = \"Hola Mundo\"\n",
    "print(cadena.split(\" \"))"
   ]
  },
  {
   "cell_type": "code",
   "execution_count": 3,
   "metadata": {},
   "outputs": [
    {
     "name": "stdout",
     "output_type": "stream",
     "text": [
      "Hola Python\n"
     ]
    }
   ],
   "source": [
    "#replace\n",
    "cadena = \"Hola Mundo\"\n",
    "print(cadena.replace(\"Mundo\", \"Python\"))"
   ]
  },
  {
   "cell_type": "code",
   "execution_count": 4,
   "metadata": {},
   "outputs": [
    {
     "name": "stdout",
     "output_type": "stream",
     "text": [
      "('Hola', ' ', 'Mundo')\n"
     ]
    }
   ],
   "source": [
    "#partition\n",
    "cadena = \"Hola Mundo\"\n",
    "print(cadena.partition(\" \"))"
   ]
  },
  {
   "cell_type": "code",
   "execution_count": 7,
   "metadata": {},
   "outputs": [
    {
     "name": "stdout",
     "output_type": "stream",
     "text": [
      "['Esta', 'es', 'una', 'cedna:', 'ser', 'o', 'no', 'ser']\n",
      "Esta es una cedna: ser o no ser\n"
     ]
    }
   ],
   "source": [
    "#join\n",
    "cadena = \"Esta es una cedna: ser o no ser\"\n",
    "otra_cadena = cadena.split(\" \")\n",
    "print(otra_cadena)\n",
    "cadena_final = \" \".join(otra_cadena)\n",
    "print(cadena_final)\n"
   ]
  },
  {
   "cell_type": "code",
   "execution_count": 8,
   "metadata": {},
   "outputs": [
    {
     "name": "stdout",
     "output_type": "stream",
     "text": [
      "HOLA MUNDO\n",
      "hola mundo\n"
     ]
    }
   ],
   "source": [
    "#upper y lower\n",
    "cadena = \"Hola Mundo\"\n",
    "print(cadena.upper())\n",
    "print(cadena.lower())"
   ]
  },
  {
   "cell_type": "code",
   "execution_count": 12,
   "metadata": {},
   "outputs": [
    {
     "name": "stdout",
     "output_type": "stream",
     "text": [
      "29\n",
      "Hola Mundo\n",
      "10\n"
     ]
    }
   ],
   "source": [
    "# Espacios derecha o izquierda\n",
    "cadena = \"Hola Mundo                   \"\n",
    "print(len(cadena))\n",
    "print(cadena.strip())\n",
    "print(len(cadena.strip()))\n"
   ]
  },
  {
   "cell_type": "code",
   "execution_count": 13,
   "metadata": {},
   "outputs": [
    {
     "name": "stdout",
     "output_type": "stream",
     "text": [
      "False\n"
     ]
    }
   ],
   "source": [
    "mi_cadena = \"Hola Mundo24\"\n",
    "print(mi_cadena.isalnum())"
   ]
  },
  {
   "cell_type": "code",
   "execution_count": 14,
   "metadata": {},
   "outputs": [
    {
     "name": "stdout",
     "output_type": "stream",
     "text": [
      "odnuMaloH\n"
     ]
    }
   ],
   "source": [
    "nueva_cadena = \"HolaMundo\"\n",
    "print(nueva_cadena[::-1])"
   ]
  },
  {
   "cell_type": "code",
   "execution_count": 22,
   "metadata": {},
   "outputs": [],
   "source": [
    "#sort \n",
    "cadena = \"Aaa Hola Mundo\"\n",
    "cadena = (cadena.split(' '))"
   ]
  },
  {
   "cell_type": "code",
   "execution_count": 23,
   "metadata": {},
   "outputs": [
    {
     "name": "stdout",
     "output_type": "stream",
     "text": [
      "['Aaa', 'Hola', 'Mundo']\n"
     ]
    }
   ],
   "source": [
    "cadena.sort()\n",
    "print(cadena)"
   ]
  },
  {
   "cell_type": "code",
   "execution_count": 26,
   "metadata": {},
   "outputs": [
    {
     "name": "stdout",
     "output_type": "stream",
     "text": [
      "['Aaa', 'Hola', 'Mundo']\n",
      "['Mundo', 'Hola', 'Aaa']\n"
     ]
    }
   ],
   "source": [
    "cadena.sort(key=str.lower)  # Ordena por minusculas\n",
    "\n",
    "print(cadena)\n",
    "print(cadena[::-1])"
   ]
  }
 ],
 "metadata": {
  "kernelspec": {
   "display_name": "venv",
   "language": "python",
   "name": "python3"
  },
  "language_info": {
   "codemirror_mode": {
    "name": "ipython",
    "version": 3
   },
   "file_extension": ".py",
   "mimetype": "text/x-python",
   "name": "python",
   "nbconvert_exporter": "python",
   "pygments_lexer": "ipython3",
   "version": "3.11.4"
  },
  "orig_nbformat": 4
 },
 "nbformat": 4,
 "nbformat_minor": 2
}
