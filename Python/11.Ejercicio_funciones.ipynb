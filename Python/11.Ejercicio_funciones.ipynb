{
 "cells": [
  {
   "cell_type": "code",
   "execution_count": 1,
   "metadata": {},
   "outputs": [
    {
     "name": "stdout",
     "output_type": "stream",
     "text": [
      "{1: 1, 2: 2, 3: 3}\n"
     ]
    }
   ],
   "source": [
    "'''def count_frecuency(list_of_numbers):\n",
    "    frecuency = {}\n",
    "    for number in list_of_numbers:\n",
    "        if number in frecuency:\n",
    "            frecuency[number] += 1\n",
    "        else:\n",
    "            frecuency[number] = 1\n",
    "    return frecuency '''\n",
    "\n",
    "def count_frecuency(list_of_numbers):\n",
    "    return {number: list_of_numbers.count(number) for number in list_of_numbers}\n",
    "\n",
    "print(count_frecuency([1, 2, 2, 3, 3, 3]))"
   ]
  }
 ],
 "metadata": {
  "kernelspec": {
   "display_name": "venv",
   "language": "python",
   "name": "python3"
  },
  "language_info": {
   "codemirror_mode": {
    "name": "ipython",
    "version": 3
   },
   "file_extension": ".py",
   "mimetype": "text/x-python",
   "name": "python",
   "nbconvert_exporter": "python",
   "pygments_lexer": "ipython3",
   "version": "3.11.4"
  },
  "orig_nbformat": 4
 },
 "nbformat": 4,
 "nbformat_minor": 2
}
