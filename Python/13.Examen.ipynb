{
 "cells": [
  {
   "cell_type": "markdown",
   "metadata": {},
   "source": [
    "# Examen"
   ]
  },
  {
   "cell_type": "markdown",
   "metadata": {},
   "source": [
    "- El siguiente programa tiene como objetivo hacer una simulación de venta de tickets para el partido de fútbol Ecuador vs Uruguay. Por la gran demanda del encuentro, la FEF solo cuenta con los últimos 10 boletos para la localidad de Palco por un valor de $100 dolares cada uno.\n",
    "- La venta solo se realizará hasta agotar stock y solo podrá comprar personas mayores a 18 años"
   ]
  },
  {
   "cell_type": "code",
   "execution_count": 1,
   "metadata": {},
   "outputs": [],
   "source": [
    "MESSAGES = {\n",
    "    'age_prompt': 'Ingrese su edad: ',\n",
    "    'name_prompt': 'Ingrese su nombre: ',\n",
    "    'confirmation_prompt': '¿Desea comprar un boleto? (S/N): ',\n",
    "    'not_enough_tickets': 'No hay boletos suficientes',\n",
    "    'purchase_confirmation': 'Gracias por su compra {name}, disfrute el evento',\n",
    "    'visit_confirmation': 'Gracias por su visita',\n",
    "    'age_restriction': 'Eres menor de edad, no puedes comprar un boleto'\n",
    "}"
   ]
  },
  {
   "cell_type": "code",
   "execution_count": 2,
   "metadata": {},
   "outputs": [],
   "source": [
    "def check_ticket_availability(number_tickets):\n",
    "    return number_tickets['palco'] > 0"
   ]
  },
  {
   "cell_type": "code",
   "execution_count": 3,
   "metadata": {},
   "outputs": [],
   "source": [
    "def sales_tickets(number_tickets):\n",
    "    while check_ticket_availability(number_tickets):\n",
    "        age = int(input(MESSAGES['age_prompt']))\n",
    "        if age >= 18:\n",
    "            name = input(MESSAGES['name_prompt'])\n",
    "            \n",
    "            confirmation = input(MESSAGES['confirmation_prompt'])\n",
    "            if confirmation.upper() == 'S':\n",
    "                how_many_ticket = int(input(f'Al momento tenemos {number_tickets[\"palco\"]} boletos disponibles. ¿Cuantos boletos desea comprar?: '))\n",
    "                if how_many_ticket > number_tickets['palco']:\n",
    "                    print(MESSAGES['not_enough_tickets'])\n",
    "                    break\n",
    "                else:\n",
    "                    number_tickets['palco'] -= how_many_ticket\n",
    "                    print(MESSAGES['purchase_confirmation'].format(name=name))\n",
    "            else:\n",
    "                print(MESSAGES['visit_confirmation'])\n",
    "                break\n",
    "        else:\n",
    "            print(MESSAGES['age_restriction'])\n",
    "            break"
   ]
  },
  {
   "cell_type": "code",
   "execution_count": 4,
   "metadata": {},
   "outputs": [
    {
     "name": "stdout",
     "output_type": "stream",
     "text": [
      "Gracias por su compra Emill, disfrute el evento\n"
     ]
    }
   ],
   "source": [
    "number_of_tickets = {\n",
    "    'palco': 10,\n",
    "}\n",
    "sales_tickets(number_of_tickets)"
   ]
  }
 ],
 "metadata": {
  "kernelspec": {
   "display_name": "venv",
   "language": "python",
   "name": "python3"
  },
  "language_info": {
   "codemirror_mode": {
    "name": "ipython",
    "version": 3
   },
   "file_extension": ".py",
   "mimetype": "text/x-python",
   "name": "python",
   "nbconvert_exporter": "python",
   "pygments_lexer": "ipython3",
   "version": "3.11.4"
  },
  "orig_nbformat": 4
 },
 "nbformat": 4,
 "nbformat_minor": 2
}
