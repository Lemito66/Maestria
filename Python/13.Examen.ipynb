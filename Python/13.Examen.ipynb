{
 "cells": [
  {
   "cell_type": "markdown",
   "metadata": {},
   "source": [
    "# Examen"
   ]
  },
  {
   "cell_type": "markdown",
   "metadata": {},
   "source": [
    "- El siguiente programa tiene como objetivo hacer una simulación de venta de tickets para el partido de fútbol Ecuador vs Uruguay. Por la gran demanda del encuentro, la FEF solo cuenta con los últimos 10 boletos para la localidad de Palco por un valor de $100 dolares cada uno.\n",
    "- La venta solo se realizará hasta agotar stock y solo podrá comprar personas mayores a 18 años"
   ]
  },
  {
   "cell_type": "code",
   "execution_count": 8,
   "metadata": {},
   "outputs": [],
   "source": [
    "MESSAGES = {\n",
    "    'age_prompt': 'Ingrese su edad: ',\n",
    "    'name_prompt': 'Ingrese su nombre: ',\n",
    "    'confirmation_prompt': '¿Desea comprar un boleto? (S/N): ',\n",
    "    'not_enough_tickets': 'No hay boletos suficientes',\n",
    "    'purchase_confirmation': 'Gracias por su compra {name}, disfrute el evento',\n",
    "    'visit_confirmation': 'Gracias por su visita',\n",
    "    'age_restriction': 'Eres menor de edad, no puedes comprar un boleto'\n",
    "}"
   ]
  },
  {
   "cell_type": "code",
   "execution_count": 9,
   "metadata": {},
   "outputs": [],
   "source": [
    "cost_of_ticket = 100"
   ]
  },
  {
   "cell_type": "code",
   "execution_count": 10,
   "metadata": {},
   "outputs": [],
   "source": [
    "number_of_tickets = {\n",
    "    'palco': 10,\n",
    "}"
   ]
  },
  {
   "cell_type": "code",
   "execution_count": 11,
   "metadata": {},
   "outputs": [],
   "source": [
    "def check_ticket_availability(number_tickets):\n",
    "    return number_tickets['palco'] > 0"
   ]
  },
  {
   "cell_type": "code",
   "execution_count": 12,
   "metadata": {},
   "outputs": [],
   "source": [
    "def sales_tickets(number_tickets):\n",
    "    sales = {}\n",
    "    number_person = 1\n",
    "    while check_ticket_availability(number_tickets):\n",
    "        try:\n",
    "            age = int(input(MESSAGES['age_prompt']))\n",
    "            if age >= 18:\n",
    "                name = input(MESSAGES['name_prompt'])\n",
    "                \n",
    "                confirmation = input(MESSAGES['confirmation_prompt'])\n",
    "                if confirmation.upper() == 'S':\n",
    "                    try:\n",
    "                        \n",
    "                        how_many_ticket = int(input(f'Al momento tenemos {number_tickets[\"palco\"]} boletos disponibles con un costo de $100 cada uno. ¿Cuantos boletos desea comprar?: '))\n",
    "                        if how_many_ticket > number_tickets['palco']:\n",
    "                            print(MESSAGES['not_enough_tickets'])\n",
    "                            break\n",
    "                        else:\n",
    "                            number_tickets['palco'] -= how_many_ticket\n",
    "                            print(MESSAGES['purchase_confirmation'].format(name=name))\n",
    "                            sales[number_person] = {'name': name, 'age': age, 'tickets': how_many_ticket, 'total': how_many_ticket * cost_of_ticket}\n",
    "                            number_person += 1\n",
    "                    except ValueError:\n",
    "                        print('Has ingresado un valor incorrecto, intenta de nuevo')\n",
    "                else:\n",
    "                    print(MESSAGES['visit_confirmation'])\n",
    "                    break\n",
    "            else:\n",
    "                print(MESSAGES['age_restriction'])\n",
    "                break\n",
    "    \n",
    "        except ValueError:\n",
    "            print('Has ingresado un valor incorrecto, intenta de nuevo')\n",
    "            break\n",
    "    return sales"
   ]
  },
  {
   "cell_type": "code",
   "execution_count": 13,
   "metadata": {},
   "outputs": [],
   "source": [
    "def view_sales():\n",
    "    sales = sales_tickets(number_of_tickets)\n",
    "    print('Ventas realizadas')\n",
    "    for key, value in sales.items():\n",
    "        print(f'Persona {key}: {value[\"name\"]} - {value[\"age\"]} años - {value[\"tickets\"]} boletos - Total: {value[\"total\"]}')"
   ]
  },
  {
   "cell_type": "code",
   "execution_count": 14,
   "metadata": {},
   "outputs": [
    {
     "name": "stdout",
     "output_type": "stream",
     "text": [
      "Bienvenido al sistema de venta de boletos\n",
      "Gracias por su compra Emill, disfrute el evento\n",
      "Gracias por su compra Lemito66, disfrute el evento\n",
      "Ventas realizadas\n",
      "Persona 1: Emill - 18 años - 9 boletos - Total: 900\n",
      "Persona 2: Lemito66 - 18 años - 1 boletos - Total: 100\n"
     ]
    }
   ],
   "source": [
    "\n",
    "print('Bienvenido al sistema de venta de boletos')\n",
    "view_sales()"
   ]
  }
 ],
 "metadata": {
  "kernelspec": {
   "display_name": "venv",
   "language": "python",
   "name": "python3"
  },
  "language_info": {
   "codemirror_mode": {
    "name": "ipython",
    "version": 3
   },
   "file_extension": ".py",
   "mimetype": "text/x-python",
   "name": "python",
   "nbconvert_exporter": "python",
   "pygments_lexer": "ipython3",
   "version": "3.11.4"
  },
  "orig_nbformat": 4
 },
 "nbformat": 4,
 "nbformat_minor": 2
}
