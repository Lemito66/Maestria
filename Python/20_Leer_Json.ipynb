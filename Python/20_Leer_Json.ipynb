{
 "cells": [
  {
   "cell_type": "code",
   "execution_count": 3,
   "metadata": {},
   "outputs": [],
   "source": [
    "import json"
   ]
  },
  {
   "cell_type": "code",
   "execution_count": 6,
   "metadata": {},
   "outputs": [],
   "source": [
    "with open('Archivos/Archivos/hbacaortiz_10km.json', 'r') as file:\n",
    "    data_hospital = json.load(file)"
   ]
  },
  {
   "cell_type": "code",
   "execution_count": 7,
   "metadata": {},
   "outputs": [
    {
     "name": "stdout",
     "output_type": "stream",
     "text": [
      "{'created_at': 'Wed Jun 22 12:54:17 +0000 2016', 'geo': None, 'in_reply_to_screen_name': None, 'favorite_count': 0, 'text': 'RT @hbacaortiz: Sabías que los niños al nacer ya reconocen la voz de su madre #CuriosidadesMédicas @Salud_CZ9 https://t.co/q8artpgokG', 'in_reply_to_status_id': None, 'is_quote_status': False, 'id': 745600799535923200, 'coordinates': None, 'truncated': False, 'contributors': None, 'retweeted_status': {'created_at': 'Tue Jun 21 17:12:01 +0000 2016', 'geo': None, 'in_reply_to_screen_name': None, 'favorite_count': 8, 'text': 'Sabías que los niños al nacer ya reconocen la voz de su madre #CuriosidadesMédicas @Salud_CZ9 https://t.co/q8artpgokG', 'in_reply_to_status_id': None, 'is_quote_status': False, 'id': 745303271707926528, 'coordinates': None, 'truncated': False, 'contributors': None, 'favorited': False, 'in_reply_to_user_id_str': None, 'id_str': '745303271707926528', 'user': {'profile_banner_url': 'https://pbs.twimg.com/profile_banners/308115043/1402335719', 'created_at': 'Mon May 30 21:14:17 +0000 2011', 'profile_background_image_url_https': 'https://pbs.twimg.com/profile_background_images/669089662/51599334997cfe3e9723ff8a29510474.jpeg', 'contributors_enabled': False, 'following': False, 'screen_name': 'hbacaortiz', 'has_extended_profile': False, 'time_zone': 'Quito', 'is_translation_enabled': False, 'is_translator': False, 'name': 'Hospital Baca Ortiz', 'geo_enabled': True, 'follow_request_sent': False, 'statuses_count': 1108, 'url': 'http://t.co/BrR83pFUci', 'id': 308115043, 'location': 'Quito-Ecuador  ', 'verified': False, 'profile_sidebar_fill_color': 'DDEEF6', 'default_profile': False, 'id_str': '308115043', 'friends_count': 353, 'utc_offset': -18000, 'protected': False, 'profile_sidebar_border_color': 'FFFFFF', 'profile_image_url_https': 'https://pbs.twimg.com/profile_images/2648535213/b41977dde36b43fbc6daef47e4b32877_normal.jpeg', 'description': 'Cuenta Oficial de Twitter del Hospital Pediátrico Baca Ortiz Ecuador', 'followers_count': 4667, 'profile_background_image_url': 'http://pbs.twimg.com/profile_background_images/669089662/51599334997cfe3e9723ff8a29510474.jpeg', 'profile_text_color': '333333', 'lang': 'es', 'default_profile_image': False, 'profile_use_background_image': True, 'notifications': False, 'entities': {'url': {'urls': [{'indices': [0, 22], 'url': 'http://t.co/BrR83pFUci', 'expanded_url': 'http://www.hbo.gob.ec', 'display_url': 'hbo.gob.ec'}]}, 'description': {'urls': []}}, 'profile_image_url': 'http://pbs.twimg.com/profile_images/2648535213/b41977dde36b43fbc6daef47e4b32877_normal.jpeg', 'profile_background_tile': False, 'profile_background_color': 'E2E8EB', 'listed_count': 32, 'favourites_count': 261, 'profile_link_color': '0084B4'}, 'in_reply_to_user_id': None, 'retweeted': False, 'lang': 'es', 'source': '<a href=\"http://twitter.com\" rel=\"nofollow\">Twitter Web Client</a>', 'place': None, 'entities': {'hashtags': [{'indices': [62, 82], 'text': 'CuriosidadesMédicas'}], 'symbols': [], 'urls': [], 'user_mentions': [{'indices': [83, 93], 'screen_name': 'Salud_CZ9', 'id': 388396381, 'id_str': '388396381', 'name': 'Salud_CZ9'}], 'media': [{'indices': [94, 117], 'id_str': '745303088806957056', 'sizes': {'small': {'w': 680, 'h': 351, 'resize': 'fit'}, 'thumb': {'w': 150, 'h': 150, 'resize': 'crop'}, 'large': {'w': 900, 'h': 465, 'resize': 'fit'}, 'medium': {'w': 900, 'h': 465, 'resize': 'fit'}}, 'expanded_url': 'http://twitter.com/hbacaortiz/status/745303271707926528/photo/1', 'display_url': 'pic.twitter.com/q8artpgokG', 'media_url_https': 'https://pbs.twimg.com/media/ClfZNeJXEAAyP4C.jpg', 'type': 'photo', 'url': 'https://t.co/q8artpgokG', 'media_url': 'http://pbs.twimg.com/media/ClfZNeJXEAAyP4C.jpg', 'id': 745303088806957056}]}, 'retweet_count': 18, 'in_reply_to_status_id_str': None, 'possibly_sensitive': False, 'metadata': {'result_type': 'recent', 'iso_language_code': 'es'}}, 'favorited': False, 'in_reply_to_user_id_str': None, 'id_str': '745600799535923200', 'user': {'profile_banner_url': 'https://pbs.twimg.com/profile_banners/738395324105035776/1464986473', 'created_at': 'Thu Jun 02 15:42:18 +0000 2016', 'profile_background_image_url_https': 'https://abs.twimg.com/images/themes/theme1/bg.png', 'contributors_enabled': False, 'following': False, 'screen_name': 'zurita_renato', 'has_extended_profile': True, 'time_zone': 'Pacific Time (US & Canada)', 'is_translation_enabled': False, 'is_translator': False, 'name': 'Renato Zurita', 'geo_enabled': False, 'follow_request_sent': False, 'statuses_count': 85, 'url': None, 'id': 738395324105035776, 'location': 'Quito, Ecuador', 'verified': False, 'profile_sidebar_fill_color': '000000', 'default_profile': False, 'id_str': '738395324105035776', 'friends_count': 60, 'utc_offset': -25200, 'protected': False, 'profile_sidebar_border_color': '000000', 'profile_image_url_https': 'https://pbs.twimg.com/profile_images/738395683040944128/jsETIZRe_normal.jpg', 'description': 'El auténtico marqués de carabás', 'followers_count': 14, 'profile_background_image_url': 'http://abs.twimg.com/images/themes/theme1/bg.png', 'profile_text_color': '000000', 'lang': 'es', 'default_profile_image': False, 'profile_use_background_image': False, 'notifications': False, 'entities': {'description': {'urls': []}}, 'profile_image_url': 'http://pbs.twimg.com/profile_images/738395683040944128/jsETIZRe_normal.jpg', 'profile_background_tile': False, 'profile_background_color': '000000', 'listed_count': 0, 'favourites_count': 88, 'profile_link_color': '575756'}, 'in_reply_to_user_id': None, 'entities': {'hashtags': [{'indices': [78, 98], 'text': 'CuriosidadesMédicas'}], 'symbols': [], 'urls': [], 'user_mentions': [{'indices': [3, 14], 'screen_name': 'hbacaortiz', 'id': 308115043, 'id_str': '308115043', 'name': 'Hospital Baca Ortiz'}, {'indices': [99, 109], 'screen_name': 'Salud_CZ9', 'id': 388396381, 'id_str': '388396381', 'name': 'Salud_CZ9'}], 'media': [{'source_status_id_str': '745303271707926528', 'id_str': '745303088806957056', 'source_status_id': 745303271707926528, 'source_user_id': 308115043, 'sizes': {'small': {'w': 680, 'h': 351, 'resize': 'fit'}, 'thumb': {'w': 150, 'h': 150, 'resize': 'crop'}, 'large': {'w': 900, 'h': 465, 'resize': 'fit'}, 'medium': {'w': 900, 'h': 465, 'resize': 'fit'}}, 'source_user_id_str': '308115043', 'display_url': 'pic.twitter.com/q8artpgokG', 'media_url_https': 'https://pbs.twimg.com/media/ClfZNeJXEAAyP4C.jpg', 'type': 'photo', 'id': 745303088806957056, 'indices': [110, 133], 'url': 'https://t.co/q8artpgokG', 'expanded_url': 'http://twitter.com/hbacaortiz/status/745303271707926528/photo/1', 'media_url': 'http://pbs.twimg.com/media/ClfZNeJXEAAyP4C.jpg'}]}, 'lang': 'es', 'source': '<a href=\"http://twitter.com/download/android\" rel=\"nofollow\">Twitter for Android</a>', 'place': None, 'retweeted': False, 'retweet_count': 18, 'in_reply_to_status_id_str': None, 'possibly_sensitive': False, 'metadata': {'result_type': 'recent', 'iso_language_code': 'es'}}\n"
     ]
    }
   ],
   "source": [
    "print(data_hospital[0])"
   ]
  },
  {
   "cell_type": "code",
   "execution_count": 8,
   "metadata": {},
   "outputs": [
    {
     "name": "stdout",
     "output_type": "stream",
     "text": [
      "dict_keys(['created_at', 'geo', 'in_reply_to_screen_name', 'favorite_count', 'text', 'in_reply_to_status_id', 'is_quote_status', 'id', 'coordinates', 'truncated', 'contributors', 'retweeted_status', 'favorited', 'in_reply_to_user_id_str', 'id_str', 'user', 'in_reply_to_user_id', 'entities', 'lang', 'source', 'place', 'retweeted', 'retweet_count', 'in_reply_to_status_id_str', 'possibly_sensitive', 'metadata'])\n"
     ]
    }
   ],
   "source": [
    "print(data_hospital[0].keys())"
   ]
  },
  {
   "cell_type": "code",
   "execution_count": 10,
   "metadata": {},
   "outputs": [],
   "source": [
    "# Creación de un diccionario con los datos de los hospitales\n",
    "diccionario = {\n",
    "    'vegetariano': {'m1': 4.00,\n",
    "                    'm2': 5.00,\n",
    "                    'm3': 6.00,\n",
    "                    'm4': 7.00,\n",
    "                    },\n",
    "    'tradicional': {'m1': 4.00,\n",
    "                    'm2': 5.00,\n",
    "                    'm3': 6.00,\n",
    "                    'm4': 7.00,\n",
    "                    },\n",
    "}"
   ]
  },
  {
   "cell_type": "code",
   "execution_count": null,
   "metadata": {},
   "outputs": [],
   "source": [
    "# Guardar el diccionario en un archivo json\n",
    "with open('Archivos/Archivos/menu.json', 'w') as file:\n",
    "    json.dump(diccionario, file, indent=4)"
   ]
  }
 ],
 "metadata": {
  "kernelspec": {
   "display_name": "venv",
   "language": "python",
   "name": "python3"
  },
  "language_info": {
   "codemirror_mode": {
    "name": "ipython",
    "version": 3
   },
   "file_extension": ".py",
   "mimetype": "text/x-python",
   "name": "python",
   "nbconvert_exporter": "python",
   "pygments_lexer": "ipython3",
   "version": "3.11.4"
  },
  "orig_nbformat": 4
 },
 "nbformat": 4,
 "nbformat_minor": 2
}
