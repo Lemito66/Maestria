{
 "cells": [
  {
   "cell_type": "code",
   "execution_count": null,
   "metadata": {},
   "outputs": [],
   "source": [
    "sensor = 1\n",
    "\n",
    "sector_sensor = {}\n",
    "\n",
    "while sensor <=5:\n",
    "    sector = input(f'Ubique el sensor {sensor} en el sector: ')\n",
    "    sector_sensor[sector] = sensor\n",
    "    sensor += 1\n",
    "    \n",
    "print(sensor)\n",
    "print(sector_sensor)"
   ]
  },
  {
   "cell_type": "markdown",
   "metadata": {},
   "source": [
    "1. El usuario ingrese una lista de ingredientes para un pastel"
   ]
  },
  {
   "cell_type": "code",
   "execution_count": 3,
   "metadata": {},
   "outputs": [
    {
     "name": "stdout",
     "output_type": "stream",
     "text": [
      "['azucar', 'cocoa', 'res', 'huevo', 'harina']\n"
     ]
    }
   ],
   "source": [
    "bandera = True\n",
    "ingredients = []\n",
    "\n",
    "while bandera:\n",
    "    ingredient = input('Ingrese un ingrediente, presione \"NO\" para salir: ')\n",
    "    if ingredient.upper() == 'NO':\n",
    "        bandera = False\n",
    "    else:\n",
    "        ingredients.append(ingredient)\n",
    "        \n",
    "print(ingredients)"
   ]
  },
  {
   "cell_type": "markdown",
   "metadata": {},
   "source": [
    "# Compression list"
   ]
  },
  {
   "cell_type": "code",
   "execution_count": 4,
   "metadata": {},
   "outputs": [
    {
     "name": "stdout",
     "output_type": "stream",
     "text": [
      "[1, 2, 3, 4, 5, 6, 7, 8, 9, 10]\n"
     ]
    }
   ],
   "source": [
    "positive_numbers = [number for number in range(1, 11)]\n",
    "\n",
    "print(positive_numbers)"
   ]
  },
  {
   "cell_type": "code",
   "execution_count": 5,
   "metadata": {},
   "outputs": [
    {
     "name": "stdout",
     "output_type": "stream",
     "text": [
      "[2, 4, 6, 8, 10]\n"
     ]
    }
   ],
   "source": [
    "# Insertar solo los numeros pares\n",
    "\n",
    "even_numbers = [number for number in range(1, 11) if number % 2 == 0]\n",
    "\n",
    "print(even_numbers)"
   ]
  },
  {
   "cell_type": "code",
   "execution_count": 6,
   "metadata": {},
   "outputs": [
    {
     "name": "stdout",
     "output_type": "stream",
     "text": [
      "['azucarazucar', 'cocoacocoa', 'resres', 'huevohuevo', 'harinaharina']\n"
     ]
    }
   ],
   "source": [
    "duplicados = []\n",
    "for i in ingredients:\n",
    "    duplicados.append(i*2)\n",
    "\n",
    "print(duplicados)"
   ]
  },
  {
   "cell_type": "code",
   "execution_count": 9,
   "metadata": {},
   "outputs": [
    {
     "name": "stdout",
     "output_type": "stream",
     "text": [
      "['azucarazucar', 'cocoacocoa', 'resres', 'huevohuevo', 'harinaharina']\n"
     ]
    }
   ],
   "source": [
    "duplicado = [i*2 for i in ingredients]\n",
    "print(duplicado)"
   ]
  },
  {
   "cell_type": "code",
   "execution_count": 10,
   "metadata": {},
   "outputs": [
    {
     "name": "stdout",
     "output_type": "stream",
     "text": [
      "['azucarazucar']\n"
     ]
    }
   ],
   "source": [
    "duplicado = [i*2 for i in ingredients if i.startswith('a')]\n",
    "print(duplicado)"
   ]
  },
  {
   "cell_type": "code",
   "execution_count": 13,
   "metadata": {},
   "outputs": [
    {
     "name": "stdout",
     "output_type": "stream",
     "text": [
      "\u001b[1;31mSignature:\u001b[0m \u001b[0mduplicado\u001b[0m\u001b[1;33m.\u001b[0m\u001b[0mpop\u001b[0m\u001b[1;33m(\u001b[0m\u001b[0mindex\u001b[0m\u001b[1;33m=\u001b[0m\u001b[1;33m-\u001b[0m\u001b[1;36m1\u001b[0m\u001b[1;33m,\u001b[0m \u001b[1;33m/\u001b[0m\u001b[1;33m)\u001b[0m\u001b[1;33m\u001b[0m\u001b[1;33m\u001b[0m\u001b[0m\n",
      "\u001b[1;31mDocstring:\u001b[0m\n",
      "Remove and return item at index (default last).\n",
      "\n",
      "Raises IndexError if list is empty or index is out of range.\n",
      "\u001b[1;31mType:\u001b[0m      builtin_function_or_method"
     ]
    }
   ],
   "source": [
    "duplicado.pop?"
   ]
  }
 ],
 "metadata": {
  "kernelspec": {
   "display_name": "venv",
   "language": "python",
   "name": "python3"
  },
  "language_info": {
   "codemirror_mode": {
    "name": "ipython",
    "version": 3
   },
   "file_extension": ".py",
   "mimetype": "text/x-python",
   "name": "python",
   "nbconvert_exporter": "python",
   "pygments_lexer": "ipython3",
   "version": "3.11.4"
  },
  "orig_nbformat": 4
 },
 "nbformat": 4,
 "nbformat_minor": 2
}
