{
 "cells": [
  {
   "cell_type": "markdown",
   "metadata": {},
   "source": [
    "# If"
   ]
  },
  {
   "cell_type": "code",
   "execution_count": 3,
   "metadata": {},
   "outputs": [
    {
     "name": "stdout",
     "output_type": "stream",
     "text": [
      "Podemos mejorar\n",
      "Ojo\n"
     ]
    }
   ],
   "source": [
    "number = 20\n",
    "\n",
    "if number >= 40:\n",
    "    print('Felicitaciones')\n",
    "if number == 20:\n",
    "    print('Podemos mejorar')\n",
    "if number > 5:\n",
    "    print('Ojo')"
   ]
  },
  {
   "cell_type": "code",
   "execution_count": 8,
   "metadata": {},
   "outputs": [],
   "source": [
    "list_of_numbers = [2,4,6,8,10]\n",
    "number = int(input('Ingrese un número'))\n",
    "if number % 2 == 0:\n",
    "    if number in list_of_numbers:\n",
    "        print('El número está en la lista y es par')\n",
    "else:\n",
    "    print('El número no es par')"
   ]
  },
  {
   "cell_type": "code",
   "execution_count": 9,
   "metadata": {},
   "outputs": [
    {
     "name": "stdout",
     "output_type": "stream",
     "text": [
      "El número no está en la lista y es par\n"
     ]
    }
   ],
   "source": [
    "# Con más números y mayor tipo de condiciones\n",
    "list_of_numbers_2 = [2,4,6,8,10,3,5,7,9,11]\n",
    "number_2 = int(input('Ingrese un número'))\n",
    "if number_2 % 2 == 0 and number_2 in list_of_numbers_2:\n",
    "    print('El número está en la lista y es par')\n",
    "elif number_2 in list_of_numbers_2:\n",
    "    print('El número está en la lista y es impar')\n",
    "elif number_2 % 2 == 0:\n",
    "    print('El número no está en la lista y es par')\n",
    "else:\n",
    "    print('El número no está en la lista y es impar')"
   ]
  }
 ],
 "metadata": {
  "kernelspec": {
   "display_name": "venv",
   "language": "python",
   "name": "python3"
  },
  "language_info": {
   "codemirror_mode": {
    "name": "ipython",
    "version": 3
   },
   "file_extension": ".py",
   "mimetype": "text/x-python",
   "name": "python",
   "nbconvert_exporter": "python",
   "pygments_lexer": "ipython3",
   "version": "3.11.4"
  },
  "orig_nbformat": 4
 },
 "nbformat": 4,
 "nbformat_minor": 2
}
