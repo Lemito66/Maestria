{
 "cells": [
  {
   "cell_type": "markdown",
   "metadata": {},
   "source": [
    "# Ejercicios"
   ]
  },
  {
   "cell_type": "markdown",
   "metadata": {},
   "source": [
    "3. Cada mes tu empresa gasta en papelería cierto monto. Has un programa que permita verificar en qué mes se gastó más y el valor, en qué mes se gastó menos y el valor, y finalmente el promedio de gasto en el año."
   ]
  },
  {
   "cell_type": "code",
   "execution_count": 3,
   "metadata": {},
   "outputs": [
    {
     "name": "stdout",
     "output_type": "stream",
     "text": [
      "El mes con menor gasto es: septiembre con 1800\n",
      "El mes con mayor gasto es: octubre con 5000\n"
     ]
    }
   ],
   "source": [
    "bills = {\n",
    "    \"enero\": 2200,\n",
    "    \"febrero\": 2350,\n",
    "    \"marzo\": 2600,\n",
    "    \"abril\": 2130,\n",
    "    \"mayo\": 2190,\n",
    "    'junio': 1980,\n",
    "    'julio': 2100,\n",
    "    'agosto': 2100,\n",
    "    'septiembre': 1800,\n",
    "    'octubre': 5000,\n",
    "    'noviembre': 2300,\n",
    "    'diciembre': 2400\n",
    "}\n",
    "\n",
    "max_value = max(bills.values())\n",
    "min_vaue = min(bills.values())\n",
    "\n",
    "for month in bills:\n",
    "    if bills[month] == max_value:\n",
    "        print(f\"El mes con mayor gasto es: {month} con {max_value}\")\n",
    "    if bills[month] == min_vaue:\n",
    "        print(f\"El mes con menor gasto es: {month} con {min_vaue}\")\n",
    "\n",
    "\n"
   ]
  }
 ],
 "metadata": {
  "kernelspec": {
   "display_name": "venv",
   "language": "python",
   "name": "python3"
  },
  "language_info": {
   "codemirror_mode": {
    "name": "ipython",
    "version": 3
   },
   "file_extension": ".py",
   "mimetype": "text/x-python",
   "name": "python",
   "nbconvert_exporter": "python",
   "pygments_lexer": "ipython3",
   "version": "3.11.2"
  },
  "orig_nbformat": 4
 },
 "nbformat": 4,
 "nbformat_minor": 2
}
