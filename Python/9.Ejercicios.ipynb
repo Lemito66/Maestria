{
 "cells": [
  {
   "cell_type": "markdown",
   "metadata": {},
   "source": [
    "# Ejercicios"
   ]
  },
  {
   "cell_type": "markdown",
   "metadata": {},
   "source": [
    "1. "
   ]
  },
  {
   "cell_type": "code",
   "execution_count": 6,
   "metadata": {},
   "outputs": [
    {
     "name": "stdout",
     "output_type": "stream",
     "text": [
      "5000\n",
      "El mes con mayor gasto es octubre con 5000\n"
     ]
    }
   ],
   "source": [
    "gastos = {\n",
    "    \"enero\": 2200,\n",
    "    \"febrero\": 2350,\n",
    "    \"marzo\": 2600,\n",
    "    \"abril\": 2130,\n",
    "    \"mayo\": 2190,\n",
    "    'junio': 1980,\n",
    "    'julio': 2100,\n",
    "    'agosto': 2100,\n",
    "    'septiembre': 1800,\n",
    "    'octubre': 5000,\n",
    "    'noviembre': 2300,\n",
    "    'diciembre': 2400\n",
    "}\n",
    "\n",
    "maximo = float('-inf')\n",
    "\n",
    "\n",
    "for mes in gastos:\n",
    "    if gastos[mes] > maximo:\n",
    "        maximo = gastos[mes]\n",
    "print(maximo)\n",
    "\n",
    "# ahora como saber que mes es el que tiene el gasto maximo\n",
    "for mes in gastos:\n",
    "    if gastos[mes] == maximo:\n",
    "        print(f'El mes con mayor gasto es {mes} con {maximo}')\n",
    "        \n",
    "\n",
    "\n"
   ]
  },
  {
   "cell_type": "code",
   "execution_count": 7,
   "metadata": {},
   "outputs": [
    {
     "name": "stdout",
     "output_type": "stream",
     "text": [
      "El valor de i es 0\n",
      "El valor de i es 1\n",
      "El valor de i es 2\n",
      "El valor de i es 3\n",
      "El valor de i es 4\n"
     ]
    }
   ],
   "source": [
    "for i in range(5):\n",
    "    print(f'El valor de i es {i}')"
   ]
  },
  {
   "cell_type": "code",
   "execution_count": null,
   "metadata": {},
   "outputs": [],
   "source": [
    "minimo = float('inf')\n",
    "\n",
    "for mes in gastos:\n",
    "    if gastos[mes] < minimo:\n",
    "        minimo = gastos[mes]"
   ]
  },
  {
   "cell_type": "code",
   "execution_count": 9,
   "metadata": {},
   "outputs": [
    {
     "name": "stdout",
     "output_type": "stream",
     "text": [
      "Hola\n"
     ]
    }
   ],
   "source": [
    "names = {\n",
    "    'Emill': 'Hola'\n",
    "}\n",
    "\n",
    "print(names['Emill'])"
   ]
  },
  {
   "cell_type": "code",
   "execution_count": 11,
   "metadata": {},
   "outputs": [
    {
     "name": "stdout",
     "output_type": "stream",
     "text": [
      "Hola\n"
     ]
    }
   ],
   "source": [
    "for i in names:\n",
    "    print(names[i])"
   ]
  },
  {
   "cell_type": "code",
   "execution_count": 12,
   "metadata": {},
   "outputs": [
    {
     "name": "stdout",
     "output_type": "stream",
     "text": [
      "Hola\n"
     ]
    }
   ],
   "source": [
    "# Como iterar solo el valor de un diccionario\n",
    "\n",
    "for i in names.values():\n",
    "    print(i)"
   ]
  },
  {
   "cell_type": "code",
   "execution_count": 15,
   "metadata": {},
   "outputs": [
    {
     "name": "stdout",
     "output_type": "stream",
     "text": [
      "[1, 2, 3]\n",
      "[4, 5, 6]\n",
      "[7, 8, 9]\n",
      "Efren\n"
     ]
    }
   ],
   "source": [
    "dictionary = {\n",
    "    'a': [1,2,3],\n",
    "    'b': [4,5,6],\n",
    "    'c': [7,8,9],\n",
    "    'd': 'Efren'\n",
    "}\n",
    "\n",
    "for i in dictionary.values():\n",
    "    print(i)"
   ]
  }
 ],
 "metadata": {
  "kernelspec": {
   "display_name": "venv",
   "language": "python",
   "name": "python3"
  },
  "language_info": {
   "codemirror_mode": {
    "name": "ipython",
    "version": 3
   },
   "file_extension": ".py",
   "mimetype": "text/x-python",
   "name": "python",
   "nbconvert_exporter": "python",
   "pygments_lexer": "ipython3",
   "version": "3.11.4"
  },
  "orig_nbformat": 4
 },
 "nbformat": 4,
 "nbformat_minor": 2
}
