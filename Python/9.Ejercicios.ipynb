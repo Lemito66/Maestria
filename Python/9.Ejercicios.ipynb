{
 "cells": [
  {
   "cell_type": "markdown",
   "metadata": {},
   "source": [
    "# Ejercicios"
   ]
  },
  {
   "cell_type": "markdown",
   "metadata": {},
   "source": [
    "1. Escribir un programa para un restaurante que tiene un menú vegetariano y un menú tradicional (no vegetariano). Debes preguntar al cliente si es vegetariano o no para, en base a su respuesta, presentarle el menú. Para el platillo que decides ofrecer, el cliente podría escoger un ingrediente adicional (de dos o tres ingredientes). Presenta también un pequeño menú de bebidas frías y calientes."
   ]
  },
  {
   "cell_type": "markdown",
   "metadata": {},
   "source": [
    "- Diccionarios"
   ]
  },
  {
   "cell_type": "code",
   "execution_count": 2,
   "metadata": {},
   "outputs": [],
   "source": [
    "menus = {\n",
    "    'tradicional': {\n",
    "        'entrada': 'Sopa',\n",
    "        'fuerte': 'Carne',\n",
    "        'postre': 'Helado',\n",
    "    },\n",
    "    'vegetariano': {\n",
    "        'entrada': 'Ensalada',\n",
    "        'fuerte': 'Pizza',\n",
    "        'postre': 'Fruta',\n",
    "    }\n",
    "}\n",
    "\n",
    "drinks = {\n",
    "    'frias': ['Coca Cola', 'Fanta', 'Sprite'],\n",
    "    'calientes': ['Café', 'Té', 'Chocolate'],\n",
    "}"
   ]
  },
  {
   "cell_type": "markdown",
   "metadata": {},
   "source": [
    "- Funciones"
   ]
  },
  {
   "cell_type": "code",
   "execution_count": 5,
   "metadata": {},
   "outputs": [],
   "source": [
    "def ask_for_ingredients():\n",
    "    list_of_aditional_ingredients = []\n",
    "    how_many_ingredientes = int(\n",
    "        input('¿Cuántos ingredientes quieres agregar? (Máximo 3): '))\n",
    "    while how_many_ingredientes not in [1, 2, 3]:\n",
    "        print('Ingresa un número válido')\n",
    "        how_many_ingredientes = int(\n",
    "            input('¿Cuántos ingredientes quieres agregar? (Máximo 3): '))\n",
    "\n",
    "    for ingredient in range(how_many_ingredientes):\n",
    "        additional_ingredient = input('Ingresa el ingrediente adicional: ')\n",
    "        list_of_aditional_ingredients.append(additional_ingredient)\n",
    "\n",
    "    return list_of_aditional_ingredients\n",
    "\n",
    "\n",
    "def show_drinks_menu(type_of_drinks):\n",
    "\n",
    "    if type_of_drinks == 1:\n",
    "        for number, drink in enumerate(drinks['calientes']):\n",
    "            print(f'{number+1}. {drink}')\n",
    "    elif type_of_drinks == 2:\n",
    "        for number, drink in enumerate(drinks['frias']):\n",
    "            print(f'{number+1}. {drink}')"
   ]
  },
  {
   "cell_type": "markdown",
   "metadata": {},
   "source": [
    "- Ejercicio"
   ]
  },
  {
   "cell_type": "code",
   "execution_count": null,
   "metadata": {},
   "outputs": [],
   "source": [
    "while True:\n",
    "    question = input(\"\"\"¿Qué menú quieres?\n",
    "                     Escribe \"tradicional\" o \"vegetariano\"\n",
    "    \"\"\").lower()\n",
    "\n",
    "    if question in ['tradicional', 'vegetariano']:\n",
    "        menu_type = menus[question]\n",
    "        print(f'El menú {question} es:')\n",
    "        for key, value in menu_type.items():\n",
    "            print(f'{key}: {value}')\n",
    "\n",
    "        if question == 'tradicional':\n",
    "            question_ingredient = input(\n",
    "                '¿Quieres agregar ingredientes adicionales? (S/N): ').lower()\n",
    "            if question_ingredient == 's':\n",
    "                ingredientes_adicionales = ask_for_ingredients()\n",
    "                menu_type['ingredientes adicionales'] = ingredientes_adicionales\n",
    "\n",
    "            drinks_option = int(input(\n",
    "                'Tenemos bebidas calientes y frias, presiona 1 para bebidas calientes y 2 para bebidas frias: ').lower())\n",
    "            while drinks_option not in [1, 2]:\n",
    "                print('Ingresa un número válido')\n",
    "                drinks_option = int(input(\n",
    "                    'Tenemos bebidas calientes y frias, presiona 1 para bebidas calientes y 2 para bebidas frias: ').lower())\n",
    "            show_drinks_menu(drinks_option)\n",
    "            type_of_drink = input('Seleccione el número de la bebida: ')\n",
    "            while int(type_of_drink) not in [1, 2, 3]:\n",
    "                print('Ingresa un número válido')\n",
    "                type_of_drink = input('Seleccione el número de la bebida: ')\n",
    "            menu_type['bebida'] = drinks['calientes'][int(type_of_drink)-1]\n",
    "\n",
    "        elif question == 'vegetariano':\n",
    "            question_ingredient = input(\n",
    "                '¿Quieres agregar ingredientes adicionales? (S/N): ').lower()\n",
    "            if question_ingredient == 's':\n",
    "                ingredientes_adicionales = ask_for_ingredients()\n",
    "                menu_type['ingredientes adicionales'] = ingredientes_adicionales\n",
    "\n",
    "            drinks_option = int(input(\n",
    "                'Tenemos bebidas calientes y frias, presiona 1 para bebidas calientes y 2 para bebidas frias').lower())\n",
    "            while drinks_option not in [1, 2]:\n",
    "                print('Ingresa un número válido')\n",
    "                drinks_option = input(\n",
    "                    'Tenemos bebidas calientes y frias, presiona 1 para bebidas calientes y 2 para bebidas frias').lower()\n",
    "            show_drinks_menu(drinks_option)\n",
    "            type_of_drink = input('Seleccione el número de la bebida: ')\n",
    "            while int(type_of_drink) not in [1, 2, 3]:\n",
    "                print('Ingresa un número válido')\n",
    "                type_of_drink = input('Seleccione el número de la bebida: ')\n",
    "            menu_type['bebida'] = drinks['calientes'][int(type_of_drink)-1]\n",
    "\n",
    "        break\n",
    "    else:\n",
    "        print('Escribe \"tradicional\" o \"vegetariano\"')\n",
    "\n",
    "print('\\nSu orden es la siguiente:')\n",
    "for key, value in menu_type.items():\n",
    "    if key == 'Ingredientes adicionales':\n",
    "        print(f'Ingredientes adicionales: {\", \".join(value)}')\n",
    "    else:\n",
    "        print(f'{key}: {value}')"
   ]
  },
  {
   "cell_type": "markdown",
   "metadata": {},
   "source": [
    "3. Cada mes tu empresa gasta en papelería cierto monto. Has un programa que permita verificar en qué mes se gastó más y el valor, en qué mes se gastó menos y el valor, y finalmente el promedio de gasto en el año."
   ]
  },
  {
   "cell_type": "code",
   "execution_count": null,
   "metadata": {},
   "outputs": [],
   "source": [
    "bills = {\n",
    "    \"enero\": 2200,\n",
    "    \"febrero\": 2350,\n",
    "    \"marzo\": 2600,\n",
    "    \"abril\": 2130,\n",
    "    \"mayo\": 2190,\n",
    "    'junio': 1980,\n",
    "    'julio': 2100,\n",
    "    'agosto': 2100,\n",
    "    'septiembre': 1800,\n",
    "    'octubre': 5000,\n",
    "    'noviembre': 2300,\n",
    "    'diciembre': 2400\n",
    "}\n",
    "\n",
    "max_value = max(bills.values())\n",
    "min_vaue = min(bills.values())\n",
    "\n",
    "for month in bills:\n",
    "    if bills[month] == max_value:\n",
    "        print(f\"El mes con mayor gasto es: {month} con {max_value}\")\n",
    "    if bills[month] == min_vaue:\n",
    "        print(f\"El mes con menor gasto es: {month} con {min_vaue}\")\n",
    "\n",
    "\n"
   ]
  }
 ],
 "metadata": {
  "kernelspec": {
   "display_name": "venv",
   "language": "python",
   "name": "python3"
  },
  "language_info": {
   "codemirror_mode": {
    "name": "ipython",
    "version": 3
   },
   "file_extension": ".py",
   "mimetype": "text/x-python",
   "name": "python",
   "nbconvert_exporter": "python",
   "pygments_lexer": "ipython3",
   "version": "3.11.2"
  },
  "orig_nbformat": 4
 },
 "nbformat": 4,
 "nbformat_minor": 2
}
