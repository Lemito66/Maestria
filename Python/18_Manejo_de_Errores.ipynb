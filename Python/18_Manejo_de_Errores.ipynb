{
 "cells": [
  {
   "cell_type": "markdown",
   "metadata": {},
   "source": [
    "- Manejo de Errores"
   ]
  },
  {
   "cell_type": "code",
   "execution_count": 1,
   "metadata": {},
   "outputs": [],
   "source": [
    "a = 10\n",
    "b = 0"
   ]
  },
  {
   "cell_type": "code",
   "execution_count": 2,
   "metadata": {},
   "outputs": [
    {
     "name": "stdout",
     "output_type": "stream",
     "text": [
      "No se puede dividir por cero\n",
      "Fin del programa\n"
     ]
    }
   ],
   "source": [
    "try:\n",
    "    division = a / b\n",
    "except ZeroDivisionError:\n",
    "    print(\"No se puede dividir por cero\")\n",
    "except:\n",
    "    print(\"Ocurrió un error\")\n",
    "else:\n",
    "    print(\"La división es: \", division)\n",
    "finally:\n",
    "    print(\"Fin del programa\")"
   ]
  },
  {
   "cell_type": "markdown",
   "metadata": {},
   "source": [
    "- Pedir dos número por consola para encontrar el mayor de los dos números"
   ]
  },
  {
   "cell_type": "code",
   "execution_count": 3,
   "metadata": {},
   "outputs": [],
   "source": [
    "def max_number(first_number, second_number):\n",
    "    if first_number > second_number:\n",
    "        return first_number\n",
    "    elif first_number < second_number:\n",
    "        return second_number\n",
    "    else:\n",
    "        return \"Los números son iguales\""
   ]
  },
  {
   "cell_type": "code",
   "execution_count": 7,
   "metadata": {},
   "outputs": [
    {
     "name": "stdout",
     "output_type": "stream",
     "text": [
      "50\n",
      "Fin del programa\n"
     ]
    }
   ],
   "source": [
    "\n",
    "try:\n",
    "    first_number = int(input(\"Ingrese el primer número: \"))\n",
    "    second_number = int(input(\"Ingrese el segundo número: \"))\n",
    "except:\n",
    "    print(\"Ingrese solo números\")\n",
    "else:\n",
    "    print(max_number(first_number, second_number))\n",
    "finally:\n",
    "    print(\"Fin del programa\")\n"
   ]
  }
 ],
 "metadata": {
  "kernelspec": {
   "display_name": "venv",
   "language": "python",
   "name": "python3"
  },
  "language_info": {
   "codemirror_mode": {
    "name": "ipython",
    "version": 3
   },
   "file_extension": ".py",
   "mimetype": "text/x-python",
   "name": "python",
   "nbconvert_exporter": "python",
   "pygments_lexer": "ipython3",
   "version": "3.11.4"
  },
  "orig_nbformat": 4
 },
 "nbformat": 4,
 "nbformat_minor": 2
}
