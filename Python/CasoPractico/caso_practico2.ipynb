{
 "cells": [
  {
   "cell_type": "markdown",
   "metadata": {},
   "source": [
    "1. Proyecto Pandas\n",
    "Escoge un dataset de tu interés. Recuerda que el mayor provecho de Pandas es cuando la data es estructurada o semiestructurada. Plantea al menos 4 preguntas de negocio que puedan resolverse en base a un análisis exploratorio (ej. Cuál es el promedio de ventas en Enero?)\n",
    "- Al explorar los datos puedes aplicar slicing, concatenaciones y filtros\n",
    "- Usa e interpreta ciertas estadísticas descriptivas\n",
    "- Puedes generar una o dos gráficas que ayuden a responder tus preguntas de negocio\n",
    "- Prepara una presentación preliminar donde nos cuentes sobre el caso escogido y preguntas de negocio: 5 minutos de duración"
   ]
  },
  {
   "cell_type": "code",
   "execution_count": 1,
   "metadata": {},
   "outputs": [],
   "source": [
    "import pandas as pd"
   ]
  },
  {
   "cell_type": "code",
   "execution_count": 2,
   "metadata": {},
   "outputs": [],
   "source": [
    "# leer el archivo\n",
    "df = pd.read_csv('datasets/titanic.csv')"
   ]
  },
  {
   "cell_type": "code",
   "execution_count": 3,
   "metadata": {},
   "outputs": [
    {
     "data": {
      "text/plain": [
       "(1309, 11)"
      ]
     },
     "execution_count": 3,
     "metadata": {},
     "output_type": "execute_result"
    }
   ],
   "source": [
    "df.shape"
   ]
  },
  {
   "cell_type": "code",
   "execution_count": 4,
   "metadata": {},
   "outputs": [
    {
     "data": {
      "text/html": [
       "<div>\n",
       "<style scoped>\n",
       "    .dataframe tbody tr th:only-of-type {\n",
       "        vertical-align: middle;\n",
       "    }\n",
       "\n",
       "    .dataframe tbody tr th {\n",
       "        vertical-align: top;\n",
       "    }\n",
       "\n",
       "    .dataframe thead th {\n",
       "        text-align: right;\n",
       "    }\n",
       "</style>\n",
       "<table border=\"1\" class=\"dataframe\">\n",
       "  <thead>\n",
       "    <tr style=\"text-align: right;\">\n",
       "      <th></th>\n",
       "      <th>Name</th>\n",
       "      <th>Sex</th>\n",
       "      <th>Age</th>\n",
       "      <th>Pclass</th>\n",
       "      <th>SibSp</th>\n",
       "      <th>Parch</th>\n",
       "      <th>Ticket</th>\n",
       "      <th>Fare</th>\n",
       "      <th>Cabin</th>\n",
       "      <th>Embarked</th>\n",
       "      <th>Survived</th>\n",
       "    </tr>\n",
       "  </thead>\n",
       "  <tbody>\n",
       "    <tr>\n",
       "      <th>0</th>\n",
       "      <td>Karaic, Mr. Milan</td>\n",
       "      <td>male</td>\n",
       "      <td>30.0</td>\n",
       "      <td>3</td>\n",
       "      <td>0</td>\n",
       "      <td>0</td>\n",
       "      <td>349246</td>\n",
       "      <td>7.8958</td>\n",
       "      <td>NaN</td>\n",
       "      <td>S</td>\n",
       "      <td>0</td>\n",
       "    </tr>\n",
       "    <tr>\n",
       "      <th>1</th>\n",
       "      <td>Dean, Mrs. Bertram</td>\n",
       "      <td>female</td>\n",
       "      <td>33.0</td>\n",
       "      <td>3</td>\n",
       "      <td>1</td>\n",
       "      <td>2</td>\n",
       "      <td>C.A. 2315</td>\n",
       "      <td>20.5750</td>\n",
       "      <td>NaN</td>\n",
       "      <td>S</td>\n",
       "      <td>1</td>\n",
       "    </tr>\n",
       "    <tr>\n",
       "      <th>2</th>\n",
       "      <td>Rice, Mrs. William</td>\n",
       "      <td>female</td>\n",
       "      <td>39.0</td>\n",
       "      <td>3</td>\n",
       "      <td>0</td>\n",
       "      <td>5</td>\n",
       "      <td>382652</td>\n",
       "      <td>29.1250</td>\n",
       "      <td>NaN</td>\n",
       "      <td>Q</td>\n",
       "      <td>0</td>\n",
       "    </tr>\n",
       "    <tr>\n",
       "      <th>3</th>\n",
       "      <td>Davidson, Mrs. Thornton</td>\n",
       "      <td>female</td>\n",
       "      <td>27.0</td>\n",
       "      <td>1</td>\n",
       "      <td>1</td>\n",
       "      <td>2</td>\n",
       "      <td>F.C. 12750</td>\n",
       "      <td>52.0000</td>\n",
       "      <td>B71</td>\n",
       "      <td>S</td>\n",
       "      <td>1</td>\n",
       "    </tr>\n",
       "    <tr>\n",
       "      <th>4</th>\n",
       "      <td>Ridsdale, Miss. Lucy</td>\n",
       "      <td>female</td>\n",
       "      <td>50.0</td>\n",
       "      <td>2</td>\n",
       "      <td>0</td>\n",
       "      <td>0</td>\n",
       "      <td>W./C. 14258</td>\n",
       "      <td>10.5000</td>\n",
       "      <td>NaN</td>\n",
       "      <td>S</td>\n",
       "      <td>1</td>\n",
       "    </tr>\n",
       "  </tbody>\n",
       "</table>\n",
       "</div>"
      ],
      "text/plain": [
       "                      Name     Sex   Age  Pclass  SibSp  Parch       Ticket  \\\n",
       "0        Karaic, Mr. Milan    male  30.0       3      0      0       349246   \n",
       "1       Dean, Mrs. Bertram  female  33.0       3      1      2    C.A. 2315   \n",
       "2       Rice, Mrs. William  female  39.0       3      0      5       382652   \n",
       "3  Davidson, Mrs. Thornton  female  27.0       1      1      2   F.C. 12750   \n",
       "4     Ridsdale, Miss. Lucy  female  50.0       2      0      0  W./C. 14258   \n",
       "\n",
       "      Fare Cabin Embarked  Survived  \n",
       "0   7.8958   NaN        S         0  \n",
       "1  20.5750   NaN        S         1  \n",
       "2  29.1250   NaN        Q         0  \n",
       "3  52.0000   B71        S         1  \n",
       "4  10.5000   NaN        S         1  "
      ]
     },
     "execution_count": 4,
     "metadata": {},
     "output_type": "execute_result"
    }
   ],
   "source": [
    "df.head()"
   ]
  },
  {
   "cell_type": "markdown",
   "metadata": {},
   "source": [
    "<h1> Promedio de edad de la gente del barco</h1>"
   ]
  },
  {
   "cell_type": "code",
   "execution_count": 5,
   "metadata": {},
   "outputs": [
    {
     "name": "stdout",
     "output_type": "stream",
     "text": [
      "29.881137667304014\n"
     ]
    }
   ],
   "source": [
    "# promedio de edad de la gente que murio\n",
    "average = df['Age'].mean()\n",
    "print(average)\n"
   ]
  },
  {
   "cell_type": "markdown",
   "metadata": {},
   "source": [
    "<h1> Cuantos hombres y mujeres estaban en el barco</h1> "
   ]
  },
  {
   "cell_type": "code",
   "execution_count": 6,
   "metadata": {},
   "outputs": [
    {
     "name": "stdout",
     "output_type": "stream",
     "text": [
      "Hubieron 843 hombres y 466 mujeres\n",
      "(1309, 11)\n"
     ]
    }
   ],
   "source": [
    "male = df['Sex'].value_counts()['male']\n",
    "female = df['Sex'].value_counts()['female']\n",
    "print(f'Hubieron {male} hombres y {female} mujeres')\n",
    "print(df.shape)\n"
   ]
  },
  {
   "cell_type": "markdown",
   "metadata": {},
   "source": [
    "<h1> Cuantas personas sobrevivieron y cuantas murieron </h1>"
   ]
  },
  {
   "cell_type": "code",
   "execution_count": 7,
   "metadata": {},
   "outputs": [
    {
     "name": "stdout",
     "output_type": "stream",
     "text": [
      "Sobrevivieron 500 personas\n",
      "Murieron 809 personas\n"
     ]
    }
   ],
   "source": [
    "# Cuantas personas sobrevivieron\n",
    "survived = df['Survived'].value_counts()[1]\n",
    "print(f'Sobrevivieron {survived} personas')\n",
    "# Cuantas personas murieron\n",
    "died = df['Survived'].value_counts()[0]\n",
    "print(f'Murieron {died} personas')\n"
   ]
  },
  {
   "cell_type": "markdown",
   "metadata": {},
   "source": [
    "<h1>  Cuanta gente sobrevivio en primer clase </h1>"
   ]
  },
  {
   "cell_type": "code",
   "execution_count": 8,
   "metadata": {},
   "outputs": [
    {
     "name": "stdout",
     "output_type": "stream",
     "text": [
      "Sobrevivieron 200 personas de primera clase\n"
     ]
    }
   ],
   "source": [
    "# Cuantas personas sobrevivieron en primera clase\n",
    "survived_class1 = df['Survived'][df['Pclass'] == 1].value_counts()[1]\n",
    "print(f'Sobrevivieron {survived_class1} personas de primera clase')"
   ]
  },
  {
   "cell_type": "markdown",
   "metadata": {},
   "source": [
    "<h1> Cual fue el promedio de edad de las personas que no sobrevivieron </h1>"
   ]
  },
  {
   "cell_type": "code",
   "execution_count": 9,
   "metadata": {},
   "outputs": [
    {
     "name": "stdout",
     "output_type": "stream",
     "text": [
      "El promedio de edad de las personas que no sobrevivieron fue 30.545363489499195\n"
     ]
    }
   ],
   "source": [
    "#Cual fue el promedio de edad de las personas que no sobrevivieron \n",
    "average_died = df['Age'][df['Survived'] == 0].mean()\n",
    "print(f'El promedio de edad de las personas que no sobrevivieron fue {average_died}')"
   ]
  },
  {
   "cell_type": "markdown",
   "metadata": {},
   "source": [
    "<h1> Cual fue el mayor costo del pasaje </h1>"
   ]
  },
  {
   "cell_type": "code",
   "execution_count": 10,
   "metadata": {},
   "outputs": [
    {
     "name": "stdout",
     "output_type": "stream",
     "text": [
      "El mayor costo del pasaje fue 512.3292\n"
     ]
    }
   ],
   "source": [
    "# Cual fue el mayor costo del pasaje\n",
    "max_fare = df['Fare'].max()\n",
    "print(f'El mayor costo del pasaje fue {max_fare}')\n"
   ]
  },
  {
   "cell_type": "markdown",
   "metadata": {},
   "source": [
    "<h1> Personas que sobrevivieron </h1>"
   ]
  },
  {
   "cell_type": "code",
   "execution_count": 11,
   "metadata": {},
   "outputs": [
    {
     "data": {
      "image/png": "[encoded data removed]",
      "text/plain": [
       "<Figure size 1000x500 with 1 Axes>"
      ]
     },
     "metadata": {},
     "output_type": "display_data"
    }
   ],
   "source": [
    "import matplotlib.pyplot as plt\n",
    "\n",
    "# Graficar la edad de las personas que sobrevivieron\n",
    "df['Age'][df['Survived'] == 1].plot.hist(width=7, figsize=(10, 5))\n",
    "plt.show()"
   ]
  },
  {
   "cell_type": "markdown",
   "metadata": {},
   "source": [
    "<h1>Personas que no sobrevivieron </h1>"
   ]
  },
  {
   "cell_type": "code",
   "execution_count": 12,
   "metadata": {},
   "outputs": [
    {
     "data": {
      "image/png": "[encoded data removed]",
      "text/plain": [
       "<Figure size 1000x500 with 1 Axes>"
      ]
     },
     "metadata": {},
     "output_type": "display_data"
    }
   ],
   "source": [
    "# Graficar la edad de las personas que no sobrevivieron\n",
    "df['Age'][df['Survived'] == 0].plot.hist(width=7, figsize=(10, 5))\n",
    "plt.show()"
   ]
  }
 ],
 "metadata": {
  "kernelspec": {
   "display_name": "venv",
   "language": "python",
   "name": "python3"
  },
  "language_info": {
   "codemirror_mode": {
    "name": "ipython",
    "version": 3
   },
   "file_extension": ".py",
   "mimetype": "text/x-python",
   "name": "python",
   "nbconvert_exporter": "python",
   "pygments_lexer": "ipython3",
   "version": "3.11.4"
  },
  "orig_nbformat": 4
 },
 "nbformat": 4,
 "nbformat_minor": 2
}
