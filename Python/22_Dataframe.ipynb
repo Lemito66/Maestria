{
 "cells": [
  {
   "cell_type": "code",
   "execution_count": 1,
   "metadata": {},
   "outputs": [],
   "source": [
    "diccionario = {'A': {\n",
    "    'm1': 1, 'm2': 2, 'm3': 3, 'm4': 4, 'm5': 5\n",
    "},\n",
    "    'B': {\n",
    "    'm1': 1, 'm2': 2, 'm3': 3, 'm4': 4, 'm5': 5\n",
    "},\n",
    "    'C': {\n",
    "    'm1': 1, 'm2': 2, 'm3': 3, 'm4': 4, 'm5': 5\n",
    "}}"
   ]
  },
  {
   "cell_type": "code",
   "execution_count": 2,
   "metadata": {},
   "outputs": [],
   "source": [
    "import pandas as pd"
   ]
  },
  {
   "cell_type": "code",
   "execution_count": 3,
   "metadata": {},
   "outputs": [],
   "source": [
    "example_pd = pd.DataFrame(diccionario)"
   ]
  },
  {
   "cell_type": "code",
   "execution_count": 4,
   "metadata": {},
   "outputs": [
    {
     "name": "stdout",
     "output_type": "stream",
     "text": [
      "    A  B  C\n",
      "m1  1  1  1\n",
      "m2  2  2  2\n",
      "m3  3  3  3\n",
      "m4  4  4  4\n",
      "m5  5  5  5\n"
     ]
    }
   ],
   "source": [
    "print(example_pd)"
   ]
  },
  {
   "cell_type": "code",
   "execution_count": 5,
   "metadata": {},
   "outputs": [
    {
     "name": "stdout",
     "output_type": "stream",
     "text": [
      "   m1  m2  m3  m4  m5\n",
      "A   1   2   3   4   5\n",
      "B   1   2   3   4   5\n",
      "C   1   2   3   4   5\n"
     ]
    }
   ],
   "source": [
    "# Transpuesta\n",
    "print(example_pd.T)"
   ]
  },
  {
   "cell_type": "code",
   "execution_count": 6,
   "metadata": {},
   "outputs": [
    {
     "data": {
      "text/plain": [
       "m1    1\n",
       "m2    2\n",
       "m3    3\n",
       "m4    4\n",
       "m5    5\n",
       "Name: A, dtype: int64"
      ]
     },
     "execution_count": 6,
     "metadata": {},
     "output_type": "execute_result"
    }
   ],
   "source": [
    "# Acceder a una columna\n",
    "print(example_pd['A'])"
   ]
  },
  {
   "cell_type": "code",
   "execution_count": 7,
   "metadata": {},
   "outputs": [
    {
     "name": "stdout",
     "output_type": "stream",
     "text": [
      "    A  B\n",
      "m1  1  1\n",
      "m2  2  2\n",
      "m3  3  3\n",
      "m4  4  4\n",
      "m5  5  5\n"
     ]
    }
   ],
   "source": [
    "# Acceder a dos columnas\n",
    "print(example_pd[['A', 'B']])"
   ]
  },
  {
   "cell_type": "code",
   "execution_count": 11,
   "metadata": {},
   "outputs": [
    {
     "name": "stdout",
     "output_type": "stream",
     "text": [
      "A    1\n",
      "B    1\n",
      "C    1\n",
      "Name: m1, dtype: int64\n",
      "A    1\n",
      "B    1\n",
      "C    1\n",
      "Name: m1, dtype: int64\n",
      "0\n",
      "0\n"
     ]
    }
   ],
   "source": [
    "# Acceder a una fila m1, loc sirve para nombre de fila\n",
    "print(example_pd.loc['m1'])\n",
    "# iloc es para acceder a una fila por su indice, iloc indice\n",
    "print(example_pd.iloc[0])\n",
    "\n",
    "\n",
    "\n"
   ]
  },
  {
   "cell_type": "code",
   "execution_count": null,
   "metadata": {},
   "outputs": [],
   "source": [
    "print(example_pd.index.get_loc('m1')) # Localice la posición de la fila m1"
   ]
  },
  {
   "cell_type": "code",
   "execution_count": null,
   "metadata": {},
   "outputs": [],
   "source": [
    "# Ahora la columna A\n",
    "print(example_pd.columns.get_loc('A'))"
   ]
  },
  {
   "cell_type": "code",
   "execution_count": 13,
   "metadata": {},
   "outputs": [
    {
     "name": "stdout",
     "output_type": "stream",
     "text": [
      "    A  B  C\n",
      "m2  2  2  2\n",
      "m3  3  3  3\n",
      "m4  4  4  4\n",
      "m5  5  5  5\n"
     ]
    }
   ],
   "source": [
    "print(example_pd.iloc[1:5]) # Acceder a la posición 0,0"
   ]
  },
  {
   "cell_type": "code",
   "execution_count": 14,
   "metadata": {},
   "outputs": [
    {
     "name": "stdout",
     "output_type": "stream",
     "text": [
      "1\n"
     ]
    }
   ],
   "source": [
    "print(example_pd.iloc[0, 0]) # Acceder a la posición 0,0"
   ]
  },
  {
   "cell_type": "code",
   "execution_count": 16,
   "metadata": {},
   "outputs": [
    {
     "name": "stdout",
     "output_type": "stream",
     "text": [
      "1\n",
      "    A  B  C\n",
      "m2  2  2  2\n",
      "m3  3  3  3\n",
      "m4  4  4  4\n"
     ]
    }
   ],
   "source": [
    "# Ahora con loc\n",
    "print(example_pd.loc['m1', 'A']) # Acceder a la posición 0,0\n",
    "print(example_pd.loc['m2':'m4']) # Acceder a la posición 0,0\n"
   ]
  },
  {
   "cell_type": "code",
   "execution_count": 19,
   "metadata": {},
   "outputs": [
    {
     "name": "stdout",
     "output_type": "stream",
     "text": [
      "m1    1\n",
      "m2    2\n",
      "Name: C, dtype: int64\n"
     ]
    }
   ],
   "source": [
    "print(example_pd['C'].iloc[:2]) "
   ]
  },
  {
   "cell_type": "code",
   "execution_count": 21,
   "metadata": {},
   "outputs": [
    {
     "name": "stdout",
     "output_type": "stream",
     "text": [
      "    B  C\n",
      "m2  2  2\n",
      "m3  3  3\n"
     ]
    }
   ],
   "source": [
    "print(example_pd.iloc[1:3,1:3]) "
   ]
  },
  {
   "cell_type": "code",
   "execution_count": 22,
   "metadata": {},
   "outputs": [
    {
     "name": "stdout",
     "output_type": "stream",
     "text": [
      "    B  C\n",
      "m2  2  2\n",
      "m3  3  3\n",
      "m4  4  4\n"
     ]
    }
   ],
   "source": [
    "# Ahora con loc\n",
    "print(example_pd.loc['m2':'m4', 'B':'C']) # Acceder a la posición 0,0"
   ]
  },
  {
   "cell_type": "code",
   "execution_count": 25,
   "metadata": {},
   "outputs": [
    {
     "name": "stdout",
     "output_type": "stream",
     "text": [
      "    B  C\n",
      "m2  2  2\n",
      "m3  3  3\n",
      "m4  4  4\n"
     ]
    }
   ],
   "source": [
    "print(example_pd.loc['m2':'m4', ['B','C']])"
   ]
  },
  {
   "cell_type": "code",
   "execution_count": 27,
   "metadata": {},
   "outputs": [
    {
     "name": "stdout",
     "output_type": "stream",
     "text": [
      "    B  C\n",
      "m1  1  1\n",
      "m3  3  3\n"
     ]
    }
   ],
   "source": [
    "# Con iloc\n",
    "print(example_pd.iloc[[0,2], [1,2]])"
   ]
  },
  {
   "cell_type": "code",
   "execution_count": 28,
   "metadata": {},
   "outputs": [
    {
     "name": "stdout",
     "output_type": "stream",
     "text": [
      "    A   B  C\n",
      "m1  1  10  1\n",
      "m2  2   2  2\n",
      "m3  3   3  3\n",
      "m4  4   4  4\n",
      "m5  5   5  5\n"
     ]
    }
   ],
   "source": [
    "example_pd['B'].loc['m1'] = 10\n",
    "print(example_pd)"
   ]
  },
  {
   "cell_type": "code",
   "execution_count": 29,
   "metadata": {},
   "outputs": [
    {
     "name": "stdout",
     "output_type": "stream",
     "text": [
      "10\n"
     ]
    }
   ],
   "source": [
    "# Extraer celda\n",
    "print(example_pd.at['m1', 'B'])"
   ]
  },
  {
   "cell_type": "code",
   "execution_count": 30,
   "metadata": {},
   "outputs": [
    {
     "name": "stdout",
     "output_type": "stream",
     "text": [
      "10\n"
     ]
    }
   ],
   "source": [
    "# iat\n",
    "print(example_pd.iat[0, 1])"
   ]
  },
  {
   "cell_type": "code",
   "execution_count": 32,
   "metadata": {},
   "outputs": [
    {
     "name": "stdout",
     "output_type": "stream",
     "text": [
      "A    3.0\n",
      "B    4.8\n",
      "C    3.0\n",
      "dtype: float64\n",
      "4.0\n"
     ]
    }
   ],
   "source": [
    "#mean promedio \n",
    "print(example_pd.mean())\n",
    "print(example_pd.iloc[0].mean())"
   ]
  },
  {
   "cell_type": "code",
   "execution_count": 34,
   "metadata": {},
   "outputs": [
    {
     "data": {
      "text/html": [
       "<div>\n",
       "<style scoped>\n",
       "    .dataframe tbody tr th:only-of-type {\n",
       "        vertical-align: middle;\n",
       "    }\n",
       "\n",
       "    .dataframe tbody tr th {\n",
       "        vertical-align: top;\n",
       "    }\n",
       "\n",
       "    .dataframe thead th {\n",
       "        text-align: right;\n",
       "    }\n",
       "</style>\n",
       "<table border=\"1\" class=\"dataframe\">\n",
       "  <thead>\n",
       "    <tr style=\"text-align: right;\">\n",
       "      <th></th>\n",
       "      <th>A</th>\n",
       "      <th>B</th>\n",
       "      <th>C</th>\n",
       "    </tr>\n",
       "  </thead>\n",
       "  <tbody>\n",
       "    <tr>\n",
       "      <th>m1</th>\n",
       "      <td>1</td>\n",
       "      <td>10</td>\n",
       "      <td>1</td>\n",
       "    </tr>\n",
       "    <tr>\n",
       "      <th>m2</th>\n",
       "      <td>2</td>\n",
       "      <td>2</td>\n",
       "      <td>2</td>\n",
       "    </tr>\n",
       "    <tr>\n",
       "      <th>m3</th>\n",
       "      <td>3</td>\n",
       "      <td>3</td>\n",
       "      <td>3</td>\n",
       "    </tr>\n",
       "    <tr>\n",
       "      <th>m4</th>\n",
       "      <td>4</td>\n",
       "      <td>4</td>\n",
       "      <td>4</td>\n",
       "    </tr>\n",
       "    <tr>\n",
       "      <th>m5</th>\n",
       "      <td>5</td>\n",
       "      <td>5</td>\n",
       "      <td>5</td>\n",
       "    </tr>\n",
       "    <tr>\n",
       "      <th>m1</th>\n",
       "      <td>1</td>\n",
       "      <td>10</td>\n",
       "      <td>1</td>\n",
       "    </tr>\n",
       "    <tr>\n",
       "      <th>m2</th>\n",
       "      <td>2</td>\n",
       "      <td>2</td>\n",
       "      <td>2</td>\n",
       "    </tr>\n",
       "    <tr>\n",
       "      <th>m3</th>\n",
       "      <td>3</td>\n",
       "      <td>3</td>\n",
       "      <td>3</td>\n",
       "    </tr>\n",
       "    <tr>\n",
       "      <th>m4</th>\n",
       "      <td>4</td>\n",
       "      <td>4</td>\n",
       "      <td>4</td>\n",
       "    </tr>\n",
       "    <tr>\n",
       "      <th>m5</th>\n",
       "      <td>5</td>\n",
       "      <td>5</td>\n",
       "      <td>5</td>\n",
       "    </tr>\n",
       "  </tbody>\n",
       "</table>\n",
       "</div>"
      ],
      "text/plain": [
       "    A   B  C\n",
       "m1  1  10  1\n",
       "m2  2   2  2\n",
       "m3  3   3  3\n",
       "m4  4   4  4\n",
       "m5  5   5  5\n",
       "m1  1  10  1\n",
       "m2  2   2  2\n",
       "m3  3   3  3\n",
       "m4  4   4  4\n",
       "m5  5   5  5"
      ]
     },
     "execution_count": 34,
     "metadata": {},
     "output_type": "execute_result"
    }
   ],
   "source": [
    "# concat\n",
    "# 0 de arriba a abajo, 1 de izquierda a derecha\n",
    "# axis 0 es para filas y axis 1 es para columnas\n",
    "pd.concat([example_pd, example_pd], axis=0)\n",
    "\n",
    "\n",
    "\n"
   ]
  },
  {
   "cell_type": "code",
   "execution_count": 40,
   "metadata": {},
   "outputs": [],
   "source": [
    "# Crear una nueva columna\n",
    "example_pd['D'] = example_pd['A'] + example_pd['B']"
   ]
  },
  {
   "cell_type": "code",
   "execution_count": 41,
   "metadata": {},
   "outputs": [
    {
     "data": {
      "text/html": [
       "<div>\n",
       "<style scoped>\n",
       "    .dataframe tbody tr th:only-of-type {\n",
       "        vertical-align: middle;\n",
       "    }\n",
       "\n",
       "    .dataframe tbody tr th {\n",
       "        vertical-align: top;\n",
       "    }\n",
       "\n",
       "    .dataframe thead th {\n",
       "        text-align: right;\n",
       "    }\n",
       "</style>\n",
       "<table border=\"1\" class=\"dataframe\">\n",
       "  <thead>\n",
       "    <tr style=\"text-align: right;\">\n",
       "      <th></th>\n",
       "      <th>A</th>\n",
       "      <th>B</th>\n",
       "      <th>C</th>\n",
       "      <th>D</th>\n",
       "    </tr>\n",
       "  </thead>\n",
       "  <tbody>\n",
       "    <tr>\n",
       "      <th>m1</th>\n",
       "      <td>1</td>\n",
       "      <td>10</td>\n",
       "      <td>1</td>\n",
       "      <td>11</td>\n",
       "    </tr>\n",
       "    <tr>\n",
       "      <th>m2</th>\n",
       "      <td>2</td>\n",
       "      <td>2</td>\n",
       "      <td>2</td>\n",
       "      <td>4</td>\n",
       "    </tr>\n",
       "    <tr>\n",
       "      <th>m3</th>\n",
       "      <td>3</td>\n",
       "      <td>3</td>\n",
       "      <td>3</td>\n",
       "      <td>6</td>\n",
       "    </tr>\n",
       "    <tr>\n",
       "      <th>m4</th>\n",
       "      <td>4</td>\n",
       "      <td>4</td>\n",
       "      <td>4</td>\n",
       "      <td>8</td>\n",
       "    </tr>\n",
       "    <tr>\n",
       "      <th>m5</th>\n",
       "      <td>5</td>\n",
       "      <td>5</td>\n",
       "      <td>5</td>\n",
       "      <td>10</td>\n",
       "    </tr>\n",
       "  </tbody>\n",
       "</table>\n",
       "</div>"
      ],
      "text/plain": [
       "    A   B  C   D\n",
       "m1  1  10  1  11\n",
       "m2  2   2  2   4\n",
       "m3  3   3  3   6\n",
       "m4  4   4  4   8\n",
       "m5  5   5  5  10"
      ]
     },
     "execution_count": 41,
     "metadata": {},
     "output_type": "execute_result"
    }
   ],
   "source": [
    "example_pd"
   ]
  },
  {
   "cell_type": "code",
   "execution_count": 42,
   "metadata": {},
   "outputs": [
    {
     "data": {
      "text/plain": [
       "<bound method DataFrame.info of     A   B  C   D\n",
       "m1  1  10  1  11\n",
       "m2  2   2  2   4\n",
       "m3  3   3  3   6\n",
       "m4  4   4  4   8\n",
       "m5  5   5  5  10>"
      ]
     },
     "execution_count": 42,
     "metadata": {},
     "output_type": "execute_result"
    }
   ],
   "source": [
    "example_pd.info"
   ]
  },
  {
   "cell_type": "code",
   "execution_count": 50,
   "metadata": {},
   "outputs": [
    {
     "name": "stdout",
     "output_type": "stream",
     "text": [
      "    A   B  C\n",
      "m1  1  10  1\n",
      "m2  2   2  2\n",
      "m3  3   3  3\n",
      "m4  4   4  4\n",
      "m5  5   5  5\n"
     ]
    },
    {
     "data": {
      "text/plain": [
       "A    3.0\n",
       "B    4.8\n",
       "C    3.0\n",
       "dtype: float64"
      ]
     },
     "execution_count": 50,
     "metadata": {},
     "output_type": "execute_result"
    }
   ],
   "source": [
    "# Sacar el promedio de una columna y sumarla a otra\n",
    "print(example_pd[['A','B', 'C']])\n",
    "example_pd[['A','B', 'C']].mean(axis=0)"
   ]
  }
 ],
 "metadata": {
  "kernelspec": {
   "display_name": "venv",
   "language": "python",
   "name": "python3"
  },
  "language_info": {
   "codemirror_mode": {
    "name": "ipython",
    "version": 3
   },
   "file_extension": ".py",
   "mimetype": "text/x-python",
   "name": "python",
   "nbconvert_exporter": "python",
   "pygments_lexer": "ipython3",
   "version": "3.11.4"
  },
  "orig_nbformat": 4
 },
 "nbformat": 4,
 "nbformat_minor": 2
}
