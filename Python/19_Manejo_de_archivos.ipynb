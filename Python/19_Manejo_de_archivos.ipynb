{
 "cells": [
  {
   "cell_type": "markdown",
   "metadata": {},
   "source": [
    "# Lectura de archivos"
   ]
  },
  {
   "cell_type": "code",
   "execution_count": 1,
   "metadata": {},
   "outputs": [],
   "source": [
    "# Así se hacia antes\n",
    "file = open('Archivos/Archivos/parrafos.txt', 'r')\n",
    "\n",
    "file.close()\n",
    "\n"
   ]
  },
  {
   "cell_type": "code",
   "execution_count": 2,
   "metadata": {},
   "outputs": [],
   "source": [
    "with open('Archivos/CreadosPorEmill/archivoEmill.txt', 'w') as file:\n",
    "    file.write('Hola Emill \\n')\n",
    "    file.write('Segunda Linea')"
   ]
  },
  {
   "cell_type": "code",
   "execution_count": 3,
   "metadata": {},
   "outputs": [],
   "source": [
    "with open('Archivos/CreadosPorEmill/archivoEmill.txt', 'a') as file:\n",
    "    #Append es otro modo para poder actualizar los archivos\n",
    "    file.write('\\nTercera Linea')"
   ]
  },
  {
   "cell_type": "code",
   "execution_count": 4,
   "metadata": {},
   "outputs": [],
   "source": [
    "week_days = ['Monday',\n",
    "             'Tuesday',\n",
    "             'Wednesday',\n",
    "             'Thursday',\n",
    "             'Friday',\n",
    "             'Saturday',\n",
    "             'Sunday']\n"
   ]
  },
  {
   "cell_type": "code",
   "execution_count": 5,
   "metadata": {},
   "outputs": [],
   "source": [
    "with open('Archivos/CreadosPorEmill/archivoEmill2.txt', 'w') as file:\n",
    "    for day in week_days:\n",
    "        file.write(day + '\\n')"
   ]
  },
  {
   "cell_type": "code",
   "execution_count": 6,
   "metadata": {},
   "outputs": [],
   "source": [
    "#Otra forma con writelines\n",
    "with open ('Archivos/CreadosPorEmill/archivoEmill3.txt', 'w') as file:\n",
    "    file.writelines('\\n'.join(week_days))"
   ]
  },
  {
   "cell_type": "markdown",
   "metadata": {},
   "source": [
    "# Leer mi archivo\n"
   ]
  },
  {
   "cell_type": "code",
   "execution_count": 1,
   "metadata": {},
   "outputs": [],
   "source": [
    "with open('Archivos/CreadosPorEmill/archivoEmill3.txt', 'r') as file:\n",
    "    variable = file.read()"
   ]
  },
  {
   "cell_type": "code",
   "execution_count": 2,
   "metadata": {},
   "outputs": [
    {
     "name": "stdout",
     "output_type": "stream",
     "text": [
      "Monday\n",
      "Tuesday\n",
      "Wednesday\n",
      "Thursday\n",
      "Friday\n",
      "Saturday\n",
      "Sunday\n"
     ]
    }
   ],
   "source": [
    "print(variable)"
   ]
  },
  {
   "cell_type": "markdown",
   "metadata": {},
   "source": [
    "- Leer primera linea y siguiente con readline()"
   ]
  },
  {
   "cell_type": "code",
   "execution_count": 9,
   "metadata": {},
   "outputs": [
    {
     "name": "stdout",
     "output_type": "stream",
     "text": [
      "Monday\n",
      "Tuesday\n",
      "Wedne\n"
     ]
    }
   ],
   "source": [
    "with open('Archivos/CreadosPorEmill/archivoEmill3.txt', 'r') as file:\n",
    "    print(file.readline(), end='')\n",
    "    print(file.readline(), end='')\n",
    "    # 5 primeras lineas\n",
    "    print(file.readline(5))"
   ]
  },
  {
   "cell_type": "code",
   "execution_count": 7,
   "metadata": {},
   "outputs": [
    {
     "name": "stdout",
     "output_type": "stream",
     "text": [
      "The Roman empire expanded very rapidly and it was the biggest empire in the world for a long time.\n",
      "An algebraic structure is a set with one or more finitary operations defined on it that satisfies a list of axioms.\n",
      "Renaissance started as a cultural movement in Italy in the Late Medieval period and later spread to the rest of Europe.\n",
      "The line of demarcation between prehistoric and historical times is crossed when people cease to live only in the present.\n",
      "Mathematicians seek out patterns and use them to formulate new conjectures.  \n",
      "A notational symbol that represents a number is called a numeral in mathematics. \n",
      "The process of extracting the underlying essence of a mathematical concept is called abstraction.\n",
      "Historically, people have frequently waged wars against each other in order to expand their empires.\n",
      "Ancient history indicates that various outside influences have helped formulate the culture and traditions of Eastern Europe.\n",
      "Mappings between sets which preserve structures are of special interest in many fields of mathematics. \n"
     ]
    }
   ],
   "source": [
    "# Ahora con with no es necesario cerrar el archivo\n",
    "with open('Archivos/Archivos/parrafos.txt', 'r') as file:\n",
    "    print(file.read())  # Lee todo el archivo"
   ]
  }
 ],
 "metadata": {
  "kernelspec": {
   "display_name": "venv",
   "language": "python",
   "name": "python3"
  },
  "language_info": {
   "codemirror_mode": {
    "name": "ipython",
    "version": 3
   },
   "file_extension": ".py",
   "mimetype": "text/x-python",
   "name": "python",
   "nbconvert_exporter": "python",
   "pygments_lexer": "ipython3",
   "version": "3.11.4"
  },
  "orig_nbformat": 4
 },
 "nbformat": 4,
 "nbformat_minor": 2
}
