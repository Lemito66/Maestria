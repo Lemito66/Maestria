{
 "cells": [
  {
   "cell_type": "markdown",
   "metadata": {},
   "source": [
    "- La cadena ingresada es palindrome?\n"
   ]
  },
  {
   "cell_type": "code",
   "execution_count": 1,
   "metadata": {},
   "outputs": [],
   "source": [
    "def is_palindrome(string):\n",
    "    string = string.replace(\" \", \"\").lower()\n",
    "    return string == string[::-1]"
   ]
  },
  {
   "cell_type": "markdown",
   "metadata": {},
   "source": [
    "- Pruebas\n"
   ]
  },
  {
   "cell_type": "code",
   "execution_count": 2,
   "metadata": {},
   "outputs": [
    {
     "name": "stdout",
     "output_type": "stream",
     "text": [
      "True\n",
      "True\n",
      "True\n",
      "True\n",
      "False\n",
      "True\n",
      "True\n",
      "False\n"
     ]
    }
   ],
   "source": [
    "print(is_palindrome(\"anita lava la tina\"))\n",
    "print(is_palindrome(\"ana\"))\n",
    "print(is_palindrome(\"ana ana\"))\n",
    "print(is_palindrome(\"ana ana ana\"))\n",
    "print(is_palindrome(\"Emill Logroño\"))\n",
    "print(is_palindrome(\"A man a plan a canal Panama\"))\n",
    "print(is_palindrome(\"Never odd or even\"))\n",
    "print(is_palindrome(\"Madam Arora teaches malayalam\"))"
   ]
  },
  {
   "cell_type": "markdown",
   "metadata": {},
   "source": [
    "- Hacer que el usuario ingrese 5 palabras por consola e indicarle, por cada palabra ingresada, si la letra de inicio es igual a la letra final (use una función que retorne True o False de ser el caso).\n"
   ]
  },
  {
   "cell_type": "code",
   "execution_count": 3,
   "metadata": {},
   "outputs": [],
   "source": [
    "def verify_word(word):\n",
    "    return word[0] == word[-1]"
   ]
  },
  {
   "cell_type": "code",
   "execution_count": 4,
   "metadata": {},
   "outputs": [
    {
     "name": "stdout",
     "output_type": "stream",
     "text": [
      "False\n",
      "False\n",
      "True\n",
      "True\n",
      "False\n"
     ]
    }
   ],
   "source": [
    "for i in range(5):\n",
    "    word = input(\"Ingrese una palabra: \")\n",
    "    print(verify_word(word.lower()))"
   ]
  },
  {
   "cell_type": "markdown",
   "metadata": {},
   "source": [
    "- Calcular la suma y el promedio de los dígitos que estén presentes en una cadena de texto\n"
   ]
  },
  {
   "cell_type": "code",
   "execution_count": 5,
   "metadata": {},
   "outputs": [],
   "source": [
    "def only_numbers(string):\n",
    "    return [int(character) for character in string if character.isdigit()]"
   ]
  },
  {
   "cell_type": "code",
   "execution_count": 6,
   "metadata": {},
   "outputs": [],
   "source": [
    "def sum_and_average(string):\n",
    "    numbers = only_numbers(string)\n",
    "    return sum(numbers), sum(numbers) / len(numbers)"
   ]
  },
  {
   "cell_type": "markdown",
   "metadata": {},
   "source": [
    "- Pruebas\n"
   ]
  },
  {
   "cell_type": "code",
   "execution_count": 7,
   "metadata": {},
   "outputs": [
    {
     "name": "stdout",
     "output_type": "stream",
     "text": [
      "(46, 4.181818181818182)\n",
      "(135, 3.13953488372093)\n",
      "(15, 3.0)\n",
      "(46, 4.181818181818182)\n",
      "(15, 3.0)\n"
     ]
    }
   ],
   "source": [
    "print(sum_and_average(\"a1b2c3d4e5f6g7h8i9j10\"))\n",
    "print(sum_and_average(\n",
    "    \"a1b2c3d4e5f6g7h8i9j10k11l12m13n14o15p16q17r18s19t20u21v22w23x24y25z26\"))\n",
    "print(sum_and_average(\"1,2,3,4,5\"))\n",
    "print(sum_and_average(\"1,2,3,4,5,6,7,8,9,10\"))\n",
    "print(sum_and_average(\"1 2 3 4 5\"))"
   ]
  },
  {
   "cell_type": "markdown",
   "metadata": {},
   "source": [
    "- 3. Has implementado tu diccionario Palabritas.com donde el usuario ingresa una palabra y tú le presentas la definición. Considera: (1) que independientemente de si el usuario ingresa mayúsculas, la búsqueda sea en minúsculas; (2) que el usuario ingrese sólo una palabra para poder hacer la búsqueda; (3) que independientemente de si el usuario ingresa espacios en blanco al inicio o al final de la palabra ésta sea válida.\n"
   ]
  },
  {
   "cell_type": "code",
   "execution_count": 8,
   "metadata": {},
   "outputs": [],
   "source": [
    "palabrita = {\n",
    "    \"hola\": \"saludo\",\n",
    "    \"adios\": \"despedida\",\n",
    "    \"casa\": \"lugar donde vives\",\n",
    "    \"perro\": \"animal\"\n",
    "}"
   ]
  },
  {
   "cell_type": "code",
   "execution_count": 9,
   "metadata": {},
   "outputs": [],
   "source": [
    "def only_one_word(word):\n",
    "    return len(word.split()) == 1"
   ]
  },
  {
   "cell_type": "code",
   "execution_count": 10,
   "metadata": {},
   "outputs": [],
   "source": [
    "def view_meaning(word):\n",
    "    if only_one_word(word):\n",
    "        word = word.strip().lower()\n",
    "        return palabrita[word] if word in palabrita else \"No existe esa palabra\"\n",
    "    else:\n",
    "        return \"Debe ingresar solo una palabra\""
   ]
  },
  {
   "cell_type": "markdown",
   "metadata": {},
   "source": [
    "- Pruebas\n"
   ]
  },
  {
   "cell_type": "code",
   "execution_count": 11,
   "metadata": {},
   "outputs": [
    {
     "name": "stdout",
     "output_type": "stream",
     "text": [
      "Debe ingresar solo una palabra\n",
      "lugar donde vives\n",
      "No existe esa palabra\n",
      "Debe ingresar solo una palabra\n",
      "Debe ingresar solo una palabra\n"
     ]
    }
   ],
   "source": [
    "print(view_meaning(\"casaa de mi mama\"))\n",
    "print(view_meaning(\"    casa     \"))\n",
    "print(view_meaning(\"    casaaaaaa     \"))\n",
    "print(view_meaning(\"I love pizza\"))\n",
    "print(view_meaning(\"\"))"
   ]
  }
 ],
 "metadata": {
  "kernelspec": {
   "display_name": "venv",
   "language": "python",
   "name": "python3"
  },
  "language_info": {
   "codemirror_mode": {
    "name": "ipython",
    "version": 3
   },
   "file_extension": ".py",
   "mimetype": "text/x-python",
   "name": "python",
   "nbconvert_exporter": "python",
   "pygments_lexer": "ipython3",
   "version": "3.11.4"
  },
  "orig_nbformat": 4
 },
 "nbformat": 4,
 "nbformat_minor": 2
}
