{
 "cells": [
  {
   "cell_type": "markdown",
   "metadata": {},
   "source": [
    "- 3. Lee el archivo hbacaortiz_10km.json"
   ]
  },
  {
   "cell_type": "code",
   "execution_count": 1,
   "metadata": {},
   "outputs": [],
   "source": [
    "import json"
   ]
  },
  {
   "cell_type": "code",
   "execution_count": 2,
   "metadata": {},
   "outputs": [],
   "source": [
    "with open('Archivos/Archivos/hbacaortiz_10km.json', 'r') as file:\n",
    "    data_hospital = json.load(file)"
   ]
  },
  {
   "cell_type": "markdown",
   "metadata": {},
   "source": [
    "- Nota, mirar"
   ]
  },
  {
   "cell_type": "markdown",
   "metadata": {},
   "source": [
    "```\n",
    "mirar en hospital_data[0]['entities']['hashtags'], hospital_data[0]['entities']['user_mentions']\n",
    "```"
   ]
  },
  {
   "cell_type": "code",
   "execution_count": 18,
   "metadata": {},
   "outputs": [],
   "source": [
    "# Recuperar todos los hashtags de los tweets del archivo hbacaortiz_10km.json\n",
    "from collections import Counter\n",
    "\n",
    "\n",
    "def most_common_hashtag(data, common, key_one, key_two):\n",
    "    hashtags = [tweet['entities'][key_one] for tweet in data]\n",
    "    hashtags = [hashtag[key_two] for tweet in hashtags for hashtag in tweet]\n",
    "\n",
    "    c = Counter(hashtags)\n",
    "    return c.most_common(common)"
   ]
  },
  {
   "cell_type": "code",
   "execution_count": 19,
   "metadata": {},
   "outputs": [
    {
     "name": "stdout",
     "output_type": "stream",
     "text": [
      "[('CuriosidadesMédicas', 17), ('ActivaTuMente', 13), ('MadurezPlena', 11), ('InfanciaPlena', 9), ('FelizLunes', 8), ('PrimerosAuxilios', 6), ('EcuadorProtegido', 4), ('SonríeEcuador', 3), ('Argentina', 2), ('Ecuador', 2)]\n",
      "[('hbacaortiz', 92), ('Salud_CZ9', 81), ('s', 21), ('MashiRafael', 7), ('EDMUNDOMY', 6), ('redaccionmedEC', 3), ('mpa_solidaria', 2), ('notiunoquito', 2), ('quitoradiofm', 2), ('Mishell2espinel', 1)]\n"
     ]
    }
   ],
   "source": [
    "print(most_common_hashtag(data_hospital, 10, 'hashtags', 'text'))\n",
    "print(most_common_hashtag(data_hospital, 10, 'user_mentions', 'screen_name'))"
   ]
  }
 ],
 "metadata": {
  "kernelspec": {
   "display_name": "venv",
   "language": "python",
   "name": "python3"
  },
  "language_info": {
   "codemirror_mode": {
    "name": "ipython",
    "version": 3
   },
   "file_extension": ".py",
   "mimetype": "text/x-python",
   "name": "python",
   "nbconvert_exporter": "python",
   "pygments_lexer": "ipython3",
   "version": "3.11.2"
  },
  "orig_nbformat": 4
 },
 "nbformat": 4,
 "nbformat_minor": 2
}
