{
 "cells": [
  {
   "cell_type": "code",
   "execution_count": 27,
   "metadata": {},
   "outputs": [
    {
     "name": "stdout",
     "output_type": "stream",
     "text": [
      "Hoy es Viernes!\n",
      "Hoy es \"Viernes\"!\n",
      "Emill's days'!\n"
     ]
    }
   ],
   "source": [
    "print('Hoy es Viernes!')\n",
    "print('Hoy es \"Viernes\"!') \n",
    "print(\"Emill\\'s days'!\")"
   ]
  },
  {
   "cell_type": "code",
   "execution_count": 28,
   "metadata": {},
   "outputs": [
    {
     "name": "stdout",
     "output_type": "stream",
     "text": [
      "Emill's days! 4\n"
     ]
    }
   ],
   "source": [
    "# Cadenas tipo f\n",
    "\n",
    "print(f'Emill\\'s days! {2+2}')"
   ]
  },
  {
   "cell_type": "code",
   "execution_count": 29,
   "metadata": {},
   "outputs": [
    {
     "name": "stdout",
     "output_type": "stream",
     "text": [
      "\n",
      "      Hola,\n",
      "      Soy Emill Logroño\n",
      "      alias lemito66\n",
      "      \n"
     ]
    }
   ],
   "source": [
    "# Cadenas largas\n",
    "\n",
    "print('''\n",
    "      Hola,\n",
    "      Soy Emill Logroño\n",
    "      alias lemito66\n",
    "      ''')"
   ]
  },
  {
   "cell_type": "code",
   "execution_count": 9,
   "metadata": {},
   "outputs": [
    {
     "name": "stdout",
     "output_type": "stream",
     "text": [
      "Estamos hoy en clase a las 8 pm\n"
     ]
    }
   ],
   "source": [
    "print(f'Estamos hoy en clase a las {8} pm')"
   ]
  },
  {
   "cell_type": "markdown",
   "metadata": {},
   "source": [
    "# Input"
   ]
  },
  {
   "cell_type": "code",
   "execution_count": 12,
   "metadata": {},
   "outputs": [
    {
     "name": "stdout",
     "output_type": "stream",
     "text": [
      "Hola 55!\n"
     ]
    }
   ],
   "source": [
    "name = input('Cual es tu nombre? ')\n",
    "print(f'Hola {name}!')"
   ]
  },
  {
   "cell_type": "code",
   "execution_count": 7,
   "metadata": {},
   "outputs": [
    {
     "ename": "SyntaxError",
     "evalue": "invalid syntax (4263567267.py, line 3)",
     "output_type": "error",
     "traceback": [
      "\u001b[1;36m  Cell \u001b[1;32mIn[7], line 3\u001b[1;36m\u001b[0m\n\u001b[1;33m    run input.py\u001b[0m\n\u001b[1;37m        ^\u001b[0m\n\u001b[1;31mSyntaxError\u001b[0m\u001b[1;31m:\u001b[0m invalid syntax\n"
     ]
    }
   ],
   "source": [
    "#Ejecutar el archivo en la terminal\n",
    "\n",
    "run input.py"
   ]
  },
  {
   "cell_type": "markdown",
   "metadata": {},
   "source": [
    "# Listas"
   ]
  },
  {
   "cell_type": "code",
   "execution_count": 10,
   "metadata": {},
   "outputs": [
    {
     "name": "stdout",
     "output_type": "stream",
     "text": [
      "Emill\n",
      "['Emill', 'Jorge', 'Carlos', 'Luis', 'Juan']\n",
      "Juan\n"
     ]
    }
   ],
   "source": [
    "names = ['Emill', 'Jorge', 'Carlos', 'Luis', 'Juan']\n",
    "print(names[0])\n",
    "# Primeros 5 elementos\n",
    "print(names[0:5])\n",
    "# Ultimo\n",
    "print(names[-1])"
   ]
  },
  {
   "cell_type": "code",
   "execution_count": 12,
   "metadata": {},
   "outputs": [
    {
     "data": {
      "text/plain": [
       "'Juan'"
      ]
     },
     "execution_count": 12,
     "metadata": {},
     "output_type": "execute_result"
    }
   ],
   "source": [
    "# Eliminar el ultimo elemento\n",
    "names.pop()"
   ]
  },
  {
   "cell_type": "code",
   "execution_count": 13,
   "metadata": {},
   "outputs": [
    {
     "name": "stdout",
     "output_type": "stream",
     "text": [
      "['Emill', 'Jorge', 'Carlos', 'Luis']\n"
     ]
    }
   ],
   "source": [
    "print(names)"
   ]
  }
 ],
 "metadata": {
  "kernelspec": {
   "display_name": "Python 3 (ipykernel)",
   "language": "python",
   "name": "python3"
  },
  "language_info": {
   "codemirror_mode": {
    "name": "ipython",
    "version": 3
   },
   "file_extension": ".py",
   "mimetype": "text/x-python",
   "name": "python",
   "nbconvert_exporter": "python",
   "pygments_lexer": "ipython3",
   "version": "3.11.4"
  }
 },
 "nbformat": 4,
 "nbformat_minor": 4
}
