{
 "cells": [
  {
   "cell_type": "markdown",
   "metadata": {},
   "source": [
    "# While"
   ]
  },
  {
   "cell_type": "code",
   "execution_count": 1,
   "metadata": {},
   "outputs": [
    {
     "name": "stdout",
     "output_type": "stream",
     "text": [
      "Hola\n"
     ]
    }
   ],
   "source": [
    "# Se ejecuta siempre y cuando la condicion sea verdadera\n",
    "\n",
    "while True:\n",
    "    print(\"Hola\")\n",
    "    break"
   ]
  },
  {
   "cell_type": "code",
   "execution_count": 8,
   "metadata": {},
   "outputs": [
    {
     "name": "stdout",
     "output_type": "stream",
     "text": [
      "Sus ventas fueron de: $55.0 de $1 dias\n"
     ]
    }
   ],
   "source": [
    "sum = 0\n",
    "day = 0\n",
    "while True:\n",
    "    sales = float(input(\"Introduce las ventas de hoy: \"))\n",
    "    sum += sales\n",
    "    day += 1\n",
    "    if sum > 50:\n",
    "        print(f'Sus ventas fueron de: ${sum} de {day} dias')\n",
    "        break\n",
    "    print(f'Tienes acumulados: ${sum} en {day} dias')\n",
    "else:\n",
    "    print(f'Sus ventas fueron de: ${sum} de ${day} dias')"
   ]
  },
  {
   "cell_type": "code",
   "execution_count": 9,
   "metadata": {},
   "outputs": [
    {
     "name": "stdout",
     "output_type": "stream",
     "text": [
      "1\n",
      "2\n",
      "3\n",
      "4\n",
      "5\n",
      "6\n",
      "7\n",
      "8\n",
      "9\n",
      "10\n",
      "Done\n"
     ]
    }
   ],
   "source": [
    "x = 1\n",
    "\n",
    "while(x <= 10):\n",
    "\tprint(x)\n",
    "\tx = x+1\n",
    "else:\n",
    "\tprint(\"Done\")"
   ]
  }
 ],
 "metadata": {
  "kernelspec": {
   "display_name": "venv",
   "language": "python",
   "name": "python3"
  },
  "language_info": {
   "codemirror_mode": {
    "name": "ipython",
    "version": 3
   },
   "file_extension": ".py",
   "mimetype": "text/x-python",
   "name": "python",
   "nbconvert_exporter": "python",
   "pygments_lexer": "ipython3",
   "version": "3.11.4"
  },
  "orig_nbformat": 4
 },
 "nbformat": 4,
 "nbformat_minor": 2
}
