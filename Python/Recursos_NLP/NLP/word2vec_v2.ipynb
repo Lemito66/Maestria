{
 "cells": [
  {
   "cell_type": "markdown",
   "id": "3ea9b301",
   "metadata": {},
   "source": [
    "# Modelado de texto"
   ]
  },
  {
   "cell_type": "code",
   "execution_count": 2,
   "id": "dc45d650",
   "metadata": {},
   "outputs": [],
   "source": [
    "import pandas as pd\n",
    "import nltk"
   ]
  },
  {
   "cell_type": "code",
   "execution_count": 1,
   "id": "7b7a5d2d",
   "metadata": {},
   "outputs": [],
   "source": [
    "import string"
   ]
  },
  {
   "cell_type": "code",
   "execution_count": 3,
   "id": "4ffea1c7",
   "metadata": {},
   "outputs": [
    {
     "name": "stderr",
     "output_type": "stream",
     "text": [
      "[nltk_data] Downloading package stopwords to\n",
      "[nltk_data]     C:\\Users\\elogrono\\AppData\\Roaming\\nltk_data...\n",
      "[nltk_data]   Package stopwords is already up-to-date!\n"
     ]
    },
    {
     "data": {
      "text/plain": [
       "True"
      ]
     },
     "execution_count": 3,
     "metadata": {},
     "output_type": "execute_result"
    }
   ],
   "source": [
    "nltk.download('stopwords')"
   ]
  },
  {
   "cell_type": "code",
   "execution_count": 4,
   "id": "2f99ed9b",
   "metadata": {},
   "outputs": [],
   "source": [
    "from unidecode import unidecode # Para eliminar acentos\n",
    "from nltk.tokenize import TweetTokenizer # Tokenizador de tweets, tokeniza el texto en palabras\n",
    "from string import punctuation # Signos de puntuacion\n",
    "from nltk.corpus import stopwords # Stopwords para español"
   ]
  },
  {
   "cell_type": "code",
   "execution_count": 5,
   "id": "189b07b4",
   "metadata": {},
   "outputs": [],
   "source": [
    "stop_words = [unidecode(stopW) for stopW in stopwords.words('spanish')] # Stopwords en español para eliminar del texto\n",
    "non_words = list(punctuation)\n",
    "non_words.extend(['¿', '¡', 'q', 'd', 'x', 'xq', '...', '..'])\n",
    "stop_words = stop_words + non_words"
   ]
  },
  {
   "cell_type": "code",
   "execution_count": 12,
   "id": "540f9623",
   "metadata": {},
   "outputs": [
    {
     "name": "stdout",
     "output_type": "stream",
     "text": [
      "['de', 'la', 'que', 'el', 'en', 'y', 'a', 'los', 'del', 'se', 'las', 'por', 'un', 'para', 'con', 'no', 'una', 'su', 'al', 'lo', 'como', 'mas', 'pero', 'sus', 'le', 'ya', 'o', 'este', 'si', 'porque', 'esta', 'entre', 'cuando', 'muy', 'sin', 'sobre', 'tambien', 'me', 'hasta', 'hay', 'donde', 'quien', 'desde', 'todo', 'nos', 'durante', 'todos', 'uno', 'les', 'ni', 'contra', 'otros', 'ese', 'eso', 'ante', 'ellos', 'e', 'esto', 'mi', 'antes', 'algunos', 'que', 'unos', 'yo', 'otro', 'otras', 'otra', 'el', 'tanto', 'esa', 'estos', 'mucho', 'quienes', 'nada', 'muchos', 'cual', 'poco', 'ella', 'estar', 'estas', 'algunas', 'algo', 'nosotros', 'mi', 'mis', 'tu', 'te', 'ti', 'tu', 'tus', 'ellas', 'nosotras', 'vosotros', 'vosotras', 'os', 'mio', 'mia', 'mios', 'mias', 'tuyo', 'tuya', 'tuyos', 'tuyas', 'suyo', 'suya', 'suyos', 'suyas', 'nuestro', 'nuestra', 'nuestros', 'nuestras', 'vuestro', 'vuestra', 'vuestros', 'vuestras', 'esos', 'esas', 'estoy', 'estas', 'esta', 'estamos', 'estais', 'estan', 'este', 'estes', 'estemos', 'esteis', 'esten', 'estare', 'estaras', 'estara', 'estaremos', 'estareis', 'estaran', 'estaria', 'estarias', 'estariamos', 'estariais', 'estarian', 'estaba', 'estabas', 'estabamos', 'estabais', 'estaban', 'estuve', 'estuviste', 'estuvo', 'estuvimos', 'estuvisteis', 'estuvieron', 'estuviera', 'estuvieras', 'estuvieramos', 'estuvierais', 'estuvieran', 'estuviese', 'estuvieses', 'estuviesemos', 'estuvieseis', 'estuviesen', 'estando', 'estado', 'estada', 'estados', 'estadas', 'estad', 'he', 'has', 'ha', 'hemos', 'habeis', 'han', 'haya', 'hayas', 'hayamos', 'hayais', 'hayan', 'habre', 'habras', 'habra', 'habremos', 'habreis', 'habran', 'habria', 'habrias', 'habriamos', 'habriais', 'habrian', 'habia', 'habias', 'habiamos', 'habiais', 'habian', 'hube', 'hubiste', 'hubo', 'hubimos', 'hubisteis', 'hubieron', 'hubiera', 'hubieras', 'hubieramos', 'hubierais', 'hubieran', 'hubiese', 'hubieses', 'hubiesemos', 'hubieseis', 'hubiesen', 'habiendo', 'habido', 'habida', 'habidos', 'habidas', 'soy', 'eres', 'es', 'somos', 'sois', 'son', 'sea', 'seas', 'seamos', 'seais', 'sean', 'sere', 'seras', 'sera', 'seremos', 'sereis', 'seran', 'seria', 'serias', 'seriamos', 'seriais', 'serian', 'era', 'eras', 'eramos', 'erais', 'eran', 'fui', 'fuiste', 'fue', 'fuimos', 'fuisteis', 'fueron', 'fuera', 'fueras', 'fueramos', 'fuerais', 'fueran', 'fuese', 'fueses', 'fuesemos', 'fueseis', 'fuesen', 'sintiendo', 'sentido', 'sentida', 'sentidos', 'sentidas', 'siente', 'sentid', 'tengo', 'tienes', 'tiene', 'tenemos', 'teneis', 'tienen', 'tenga', 'tengas', 'tengamos', 'tengais', 'tengan', 'tendre', 'tendras', 'tendra', 'tendremos', 'tendreis', 'tendran', 'tendria', 'tendrias', 'tendriamos', 'tendriais', 'tendrian', 'tenia', 'tenias', 'teniamos', 'teniais', 'tenian', 'tuve', 'tuviste', 'tuvo', 'tuvimos', 'tuvisteis', 'tuvieron', 'tuviera', 'tuvieras', 'tuvieramos', 'tuvierais', 'tuvieran', 'tuviese', 'tuvieses', 'tuviesemos', 'tuvieseis', 'tuviesen', 'teniendo', 'tenido', 'tenida', 'tenidos', 'tenidas', 'tened', '!', '\"', '#', '$', '%', '&', \"'\", '(', ')', '*', '+', ',', '-', '.', '/', ':', ';', '<', '=', '>', '?', '@', '[', '\\\\', ']', '^', '_', '`', '{', '|', '}', '~', '¿', '¡', 'q', 'd', 'x', 'xq', '...', '..']\n"
     ]
    }
   ],
   "source": [
    "print(stop_words)"
   ]
  },
  {
   "cell_type": "code",
   "execution_count": 11,
   "id": "ef10129c",
   "metadata": {},
   "outputs": [],
   "source": [
    "data = pd.read_excel('4_articles.xlsx')"
   ]
  },
  {
   "cell_type": "code",
   "execution_count": 13,
   "id": "7c1aed91",
   "metadata": {},
   "outputs": [
    {
     "data": {
      "text/html": [
       "<div>\n",
       "<style scoped>\n",
       "    .dataframe tbody tr th:only-of-type {\n",
       "        vertical-align: middle;\n",
       "    }\n",
       "\n",
       "    .dataframe tbody tr th {\n",
       "        vertical-align: top;\n",
       "    }\n",
       "\n",
       "    .dataframe thead th {\n",
       "        text-align: right;\n",
       "    }\n",
       "</style>\n",
       "<table border=\"1\" class=\"dataframe\">\n",
       "  <thead>\n",
       "    <tr style=\"text-align: right;\">\n",
       "      <th></th>\n",
       "      <th>Unnamed: 0</th>\n",
       "      <th>text_y</th>\n",
       "    </tr>\n",
       "  </thead>\n",
       "  <tbody>\n",
       "    <tr>\n",
       "      <th>0</th>\n",
       "      <td>0</td>\n",
       "      <td>\\n            bienvenidos a la segunda edición...</td>\n",
       "    </tr>\n",
       "    <tr>\n",
       "      <th>1</th>\n",
       "      <td>1</td>\n",
       "      <td>familiares y amigos de pedro aguilar, quien su...</td>\n",
       "    </tr>\n",
       "    <tr>\n",
       "      <th>2</th>\n",
       "      <td>2</td>\n",
       "      <td>los asaltantes llegaron con armas de fuego has...</td>\n",
       "    </tr>\n",
       "    <tr>\n",
       "      <th>3</th>\n",
       "      <td>3</td>\n",
       "      <td>según cnn en español, una encuesta de 2021 rev...</td>\n",
       "    </tr>\n",
       "    <tr>\n",
       "      <th>4</th>\n",
       "      <td>4</td>\n",
       "      <td>durante la filmación dos actores fallecieron t...</td>\n",
       "    </tr>\n",
       "  </tbody>\n",
       "</table>\n",
       "</div>"
      ],
      "text/plain": [
       "   Unnamed: 0                                             text_y\n",
       "0           0  \\n            bienvenidos a la segunda edición...\n",
       "1           1  familiares y amigos de pedro aguilar, quien su...\n",
       "2           2  los asaltantes llegaron con armas de fuego has...\n",
       "3           3  según cnn en español, una encuesta de 2021 rev...\n",
       "4           4  durante la filmación dos actores fallecieron t..."
      ]
     },
     "execution_count": 13,
     "metadata": {},
     "output_type": "execute_result"
    }
   ],
   "source": [
    "data.head()"
   ]
  },
  {
   "cell_type": "code",
   "execution_count": 14,
   "id": "8eeba55a",
   "metadata": {},
   "outputs": [],
   "source": [
    "#data.drop('Unnamed: 0', axis = 1, inplace = True)\n",
    "data = data['text_y']"
   ]
  },
  {
   "cell_type": "code",
   "execution_count": 15,
   "id": "00771ed4",
   "metadata": {},
   "outputs": [
    {
     "data": {
      "text/plain": [
       "(8992,)"
      ]
     },
     "execution_count": 15,
     "metadata": {},
     "output_type": "execute_result"
    }
   ],
   "source": [
    "data.shape"
   ]
  },
  {
   "cell_type": "code",
   "execution_count": 16,
   "id": "c660373a",
   "metadata": {},
   "outputs": [
    {
     "data": {
      "text/plain": [
       "0    \\n            bienvenidos a la segunda edición...\n",
       "1    familiares y amigos de pedro aguilar, quien su...\n",
       "2    los asaltantes llegaron con armas de fuego has...\n",
       "3    según cnn en español, una encuesta de 2021 rev...\n",
       "4    durante la filmación dos actores fallecieron t...\n",
       "Name: text_y, dtype: object"
      ]
     },
     "execution_count": 16,
     "metadata": {},
     "output_type": "execute_result"
    }
   ],
   "source": [
    "data.head()"
   ]
  },
  {
   "cell_type": "code",
   "execution_count": 17,
   "id": "f8228825",
   "metadata": {},
   "outputs": [
    {
     "data": {
      "text/plain": [
       "pandas.core.series.Series"
      ]
     },
     "execution_count": 17,
     "metadata": {},
     "output_type": "execute_result"
    }
   ],
   "source": [
    "type(data)"
   ]
  },
  {
   "cell_type": "code",
   "execution_count": 18,
   "id": "b9715100",
   "metadata": {},
   "outputs": [
    {
     "name": "stdout",
     "output_type": "stream",
     "text": [
      "8992\n"
     ]
    }
   ],
   "source": [
    "tknzr = TweetTokenizer()\n",
    "clean_sentences_split = []\n",
    "for dirty_sent in data:\n",
    "    # Se quitan los signos de puntuación y se tokeniza\n",
    "    tokens = [token.lower() for token in tknzr.tokenize(unidecode(dirty_sent))\n",
    "              if token.lower() not in stop_words]\n",
    "    \n",
    "    #processed_sentence = ' '.join(tokens) #las palabras limpias vuelven a formar la oración\n",
    "                                           #no se requiere esto con gensim\n",
    "    if tokens: # Agregar solo si hay tokens\n",
    "        clean_sentences_split.append(tokens) #save the clean prepocessed sentence in clean_sentences\n",
    "\n",
    "print(len(clean_sentences_split))"
   ]
  },
  {
   "cell_type": "markdown",
   "id": "0c2fb19f",
   "metadata": {},
   "source": [
    "- En una compresiion list el primer valor es lo que va a ingresar\n",
    "- Lo segundo es el bucle for [   for iterator in iterable ]\n",
    "- Tercero condicion [      if condition]\n",
    "- Con if else [ .... if condition else ....... for iterator in iterable]"
   ]
  },
  {
   "cell_type": "code",
   "execution_count": 19,
   "id": "76464dbf",
   "metadata": {
    "collapsed": true,
    "jupyter": {
     "outputs_hidden": true
    },
    "tags": []
   },
   "outputs": [
    {
     "data": {
      "text/plain": [
       "[['bienvenidos',\n",
       "  'segunda',\n",
       "  'edicion',\n",
       "  'apuesta',\n",
       "  'ecuador',\n",
       "  'iniciativa',\n",
       "  'invita',\n",
       "  'volar',\n",
       "  'alto',\n",
       "  'pyme',\n",
       "  'emprendimiento',\n",
       "  'disfrutar',\n",
       "  'retroalimentacion',\n",
       "  'coaches',\n",
       "  'inscribete',\n",
       "  'recibe',\n",
       "  'reconocimientos',\n",
       "  'potenciar',\n",
       "  'negocio',\n",
       "  'presentan',\n",
       "  'avalado',\n",
       "  'auspician',\n",
       "  'ejecutiva',\n",
       "  '10',\n",
       "  'anos',\n",
       "  'experiencia',\n",
       "  'enfocada',\n",
       "  'rol',\n",
       "  'sector',\n",
       "  'privado',\n",
       "  'desarrollo',\n",
       "  'economico',\n",
       "  'social',\n",
       "  'paises',\n",
       "  'inicio',\n",
       "  'carrera',\n",
       "  'laboratorio',\n",
       "  'innovacion',\n",
       "  'banco',\n",
       "  'interamericano',\n",
       "  'desarrollo',\n",
       "  'bid',\n",
       "  'rol',\n",
       "  'dentro',\n",
       "  'bid',\n",
       "  'apoyo',\n",
       "  'supervision',\n",
       "  '25',\n",
       "  'proyectos',\n",
       "  'diferentes',\n",
       "  'monto',\n",
       "  '15',\n",
       "  'millones',\n",
       "  'dolares',\n",
       "  'prestamos',\n",
       "  'asistencias',\n",
       "  'tecnicas',\n",
       "  'especialmente',\n",
       "  'dedicadas',\n",
       "  'fortalecimiento',\n",
       "  'crecimiento',\n",
       "  'pymes',\n",
       "  'ecuador',\n",
       "  'posteriormente',\n",
       "  'trabajo',\n",
       "  'londres',\n",
       "  'mobile',\n",
       "  'for',\n",
       "  'development',\n",
       "  'fundacion',\n",
       "  'gsma',\n",
       "  'dedicado',\n",
       "  'estimular',\n",
       "  'innovacion',\n",
       "  'digital',\n",
       "  'traves',\n",
       "  'proyectos',\n",
       "  'sectores',\n",
       "  'desatendidos',\n",
       "  'participacion',\n",
       "  'gsma',\n",
       "  'manejo',\n",
       "  'fondos',\n",
       "  'publicos',\n",
       "  'oportunidad',\n",
       "  'implementar',\n",
       "  'proyectos',\n",
       "  'paises',\n",
       "  'peru',\n",
       "  'benin',\n",
       "  'ruanda',\n",
       "  'kenia',\n",
       "  'espana',\n",
       "  'reino',\n",
       "  'unido',\n",
       "  'actualmente',\n",
       "  'desempena',\n",
       "  'gerente',\n",
       "  'proyecto',\n",
       "  'pyme',\n",
       "  'mastercard',\n",
       "  'ecuador',\n",
       "  'area',\n",
       "  'enfocada',\n",
       "  'diseno',\n",
       "  'soluciones',\n",
       "  'beneficios',\n",
       "  'micro',\n",
       "  'pequena',\n",
       "  'medianas',\n",
       "  'empresas',\n",
       "  'region',\n",
       "  'espera',\n",
       "  'apoyar',\n",
       "  'camino',\n",
       "  'digitalizacion',\n",
       "  'pyme',\n",
       "  'pais',\n",
       "  '27',\n",
       "  'anos',\n",
       "  'experiencia',\n",
       "  'sector',\n",
       "  'automotor',\n",
       "  'marcus',\n",
       "  'licenciado',\n",
       "  'administracion',\n",
       "  'comunicacion',\n",
       "  'social',\n",
       "  'mba',\n",
       "  'gestion',\n",
       "  'negocios',\n",
       "  'ingreso',\n",
       "  'gm',\n",
       "  '1995',\n",
       "  'marcus',\n",
       "  'oportunidad',\n",
       "  'ejercer',\n",
       "  'exitosamente',\n",
       "  'varias',\n",
       "  'posiciones',\n",
       "  'unidades',\n",
       "  'negocio',\n",
       "  'gm',\n",
       "  'sudamerica',\n",
       "  'gm',\n",
       "  'mercosur',\n",
       "  'areas',\n",
       "  'clave',\n",
       "  'negocio',\n",
       "  'manufactura',\n",
       "  'compras',\n",
       "  'cadena',\n",
       "  'suministros',\n",
       "  'ventas',\n",
       "  'proveedores',\n",
       "  'ademas',\n",
       "  'sido',\n",
       "  'reconocido',\n",
       "  'liderazgo',\n",
       "  'ejecucion',\n",
       "  'importantes',\n",
       "  'proyectos',\n",
       "  'sudamerica',\n",
       "  'sudafrica',\n",
       "  'tailandia',\n",
       "  '25',\n",
       "  'anos',\n",
       "  'experiencia',\n",
       "  'marketing',\n",
       "  'comunicacion',\n",
       "  'convencido',\n",
       "  'organizaciones',\n",
       "  'requieren',\n",
       "  'proposito',\n",
       "  'trascendente',\n",
       "  'actualmente',\n",
       "  'gerente',\n",
       "  'regional',\n",
       "  'sierra',\n",
       "  'director',\n",
       "  'comunicacion',\n",
       "  'pronaca',\n",
       "  'empresa',\n",
       "  '60',\n",
       "  'anos',\n",
       "  'mercado',\n",
       "  'existe',\n",
       "  'alimentar',\n",
       "  'bien',\n",
       "  'ecuatorianos',\n",
       "  'workingup',\n",
       "  'incubadora',\n",
       "  'empresas',\n",
       "  'acreditada',\n",
       "  'senescyt',\n",
       "  '2016',\n",
       "  'cuenta',\n",
       "  'experiencia',\n",
       "  'direccion',\n",
       "  'programas',\n",
       "  'incubacion',\n",
       "  'operacion',\n",
       "  'prestigiosas',\n",
       "  'convocatorias',\n",
       "  'emprendimiento',\n",
       "  'nivel',\n",
       "  'nacional',\n",
       "  'traves',\n",
       "  'workingup',\n",
       "  'canalizado',\n",
       "  '500',\n",
       "  'mil',\n",
       "  'dolares',\n",
       "  'capital',\n",
       "  'semilla',\n",
       "  'emprendedores',\n",
       "  'instituciones',\n",
       "  'publicas',\n",
       "  'privadas'],\n",
       " ['familiares',\n",
       "  'amigos',\n",
       "  'pedro',\n",
       "  'aguilar',\n",
       "  'sufrio',\n",
       "  'grave',\n",
       "  'accidente',\n",
       "  'ultima',\n",
       "  'valida',\n",
       "  'rally',\n",
       "  'nacional',\n",
       "  'gualaceo',\n",
       "  'trabajan',\n",
       "  'reunir',\n",
       "  'dinero',\n",
       "  'permita',\n",
       "  'cubrir',\n",
       "  'gastos',\n",
       "  'hospitalizacion',\n",
       "  'ello',\n",
       "  'invita',\n",
       "  'ciudadania',\n",
       "  'ser',\n",
       "  'parte',\n",
       "  'actividades',\n",
       "  'realizan',\n",
       "  'aguilar',\n",
       "  'pasado',\n",
       "  '7',\n",
       "  'octubre',\n",
       "  'participaba',\n",
       "  'copiloto',\n",
       "  'martin',\n",
       "  'vintimila',\n",
       "  'fallecio',\n",
       "  'recupera',\n",
       "  'forma',\n",
       "  'lenta',\n",
       "  'tarde',\n",
       "  'jueves',\n",
       "  '13',\n",
       "  'octubre',\n",
       "  '2022',\n",
       "  'retirarian',\n",
       "  'sedantes',\n",
       "  'conocer',\n",
       "  'reaccionaba',\n",
       "  'operacion',\n",
       "  'brazo',\n",
       "  'izquierdo',\n",
       "  'quedo',\n",
       "  'pendiente',\n",
       "  'viernes',\n",
       "  'acuerdo',\n",
       "  'recomendacion',\n",
       "  'medica',\n",
       "  'mientras',\n",
       "  'continua',\n",
       "  'promocion',\n",
       "  'hamburguesa',\n",
       "  'solidaria',\n",
       "  'valor',\n",
       "  '10',\n",
       "  'dolares',\n",
       "  'venta',\n",
       "  'realiza',\n",
       "  'dia',\n",
       "  'extendera',\n",
       "  'sabado',\n",
       "  '15',\n",
       "  'octubre',\n",
       "  'sanducheria',\n",
       "  'chic',\n",
       "  'ubicado',\n",
       "  'avenida',\n",
       "  'remigio',\n",
       "  'crespo',\n",
       "  'junto',\n",
       "  'sucursales',\n",
       "  'banco',\n",
       "  'pichincha',\n",
       "  'martha',\n",
       "  'jarrin',\n",
       "  'colaboradoras',\n",
       "  'cruzada',\n",
       "  'solidaria',\n",
       "  'mostro',\n",
       "  'emocionada',\n",
       "  'constatar',\n",
       "  'respuesta',\n",
       "  'ciudadania',\n",
       "  'superaron',\n",
       "  'todas',\n",
       "  'expectativas',\n",
       "  'agradecida',\n",
       "  'familia',\n",
       "  'aguilar',\n",
       "  'aseguro',\n",
       "  'organizan',\n",
       "  'rifa',\n",
       "  'cada',\n",
       "  'boleto',\n",
       "  'cuesta',\n",
       "  '10',\n",
       "  'dolares',\n",
       "  'ocho',\n",
       "  'premios',\n",
       "  'ademas',\n",
       "  'pretendan',\n",
       "  'aportar',\n",
       "  'economicamente',\n",
       "  'pueden',\n",
       "  'hacerlo',\n",
       "  'cuenta',\n",
       "  'ahorros',\n",
       "  'cooperativa',\n",
       "  'jep',\n",
       "  '4061240092',\n",
       "  '07',\n",
       "  'nombre',\n",
       "  'aguilar',\n",
       "  'moscoso',\n",
       "  'jorge',\n",
       "  'rodrigo',\n",
       "  'numero',\n",
       "  'cedula',\n",
       "  '01021359',\n",
       "  '77',\n",
       "  'mq'],\n",
       " ['asaltantes',\n",
       "  'llegaron',\n",
       "  'armas',\n",
       "  'fuego',\n",
       "  'joyeria',\n",
       "  'foto',\n",
       "  'captura',\n",
       "  'camaras',\n",
       "  'seguridad',\n",
       "  'captaron',\n",
       "  'momento',\n",
       "  'dos',\n",
       "  'personas',\n",
       "  'armadas',\n",
       "  'asaltaron',\n",
       "  'joyeria',\n",
       "  'portoviejo',\n",
       "  'manabi',\n",
       "  'video',\n",
       "  'puede',\n",
       "  'ver',\n",
       "  'hombre',\n",
       "  'dialoga',\n",
       "  'joven',\n",
       "  'trabaja',\n",
       "  'lugar',\n",
       "  'aparentando',\n",
       "  'ser',\n",
       "  'cliente',\n",
       "  'acto',\n",
       "  'seguido',\n",
       "  'saca',\n",
       "  'arma',\n",
       "  'fuego',\n",
       "  'somete',\n",
       "  'bruscamente',\n",
       "  'empleada',\n",
       "  'mujer',\n",
       "  'empieza',\n",
       "  'gritar',\n",
       "  'asustada',\n",
       "  'angustiada',\n",
       "  'tras',\n",
       "  'varios',\n",
       "  'segundos',\n",
       "  'hombre',\n",
       "  'armado',\n",
       "  'llama',\n",
       "  'segundo',\n",
       "  'hombre',\n",
       "  'vigilaba',\n",
       "  'puerta',\n",
       "  'negocio',\n",
       "  'juntos',\n",
       "  'empiezan',\n",
       "  'forcejear',\n",
       "  'vitrina',\n",
       "  'exito',\n",
       "  'embargo',\n",
       "  'luego',\n",
       "  'proceden',\n",
       "  'romper',\n",
       "  'vidrios',\n",
       "  'culata',\n",
       "  'arma',\n",
       "  'logrando',\n",
       "  'romperla',\n",
       "  'proceden',\n",
       "  'recoger',\n",
       "  'joyas',\n",
       "  'mujer',\n",
       "  'encuentra',\n",
       "  'sometida',\n",
       "  'hombres',\n",
       "  'suelo',\n",
       "  'luego',\n",
       "  'cumplir',\n",
       "  'cometido',\n",
       "  'dos',\n",
       "  'asaltantes',\n",
       "  'salieron',\n",
       "  'caminando',\n",
       "  'establecimiento',\n",
       "  'mientras',\n",
       "  'mujer',\n",
       "  'mira',\n",
       "  'piso',\n",
       "  'final',\n",
       "  'mujer',\n",
       "  'sale',\n",
       "  'establecimiento',\n",
       "  'gritando',\n",
       "  'ladrones',\n",
       "  'jueves',\n",
       "  '13',\n",
       "  'octubre',\n",
       "  '2022',\n",
       "  'autoridades',\n",
       "  'dado',\n",
       "  'declaraciones',\n",
       "  'respecto']]"
      ]
     },
     "execution_count": 19,
     "metadata": {},
     "output_type": "execute_result"
    }
   ],
   "source": [
    "clean_sentences_split[0:3]"
   ]
  },
  {
   "cell_type": "code",
   "execution_count": null,
   "id": "25632e98",
   "metadata": {},
   "outputs": [],
   "source": [
    "file_path = 'articles.txt'\n",
    "with open(file_path, 'w') as file:\n",
    "    for sentence in clean_sentences_split:\n",
    "        processed_sentence = ' '.join(sentence)\n",
    "        file.write(processed_sentence + '\\n')\n",
    "print(f'El array se ha guardado en {file_path}')"
   ]
  },
  {
   "cell_type": "code",
   "execution_count": null,
   "id": "2ed9d9f0",
   "metadata": {},
   "outputs": [],
   "source": [
    "#with open('articles.txt', 'r', encoding='utf-8') as file:\n",
    "    #documento = file.read()\n",
    "#print(len(documento))"
   ]
  },
  {
   "cell_type": "markdown",
   "id": "e868e3e6",
   "metadata": {},
   "source": [
    "## Entrenamiento del modelo Word2Vec"
   ]
  },
  {
   "cell_type": "code",
   "execution_count": null,
   "id": "fb81c32a",
   "metadata": {},
   "outputs": [],
   "source": [
    "import gensim\n",
    "from gensim.models import Word2Vec"
   ]
  },
  {
   "cell_type": "code",
   "execution_count": null,
   "id": "4f8a31ab",
   "metadata": {},
   "outputs": [],
   "source": [
    "model = Word2Vec(sentences=clean_sentences_split, vector_size=300, window=5, min_count=2) #size es parametro antiguo\n",
    "#Guardar el Modelo\n",
    "model.save('noticias_emb.bin')"
   ]
  },
  {
   "cell_type": "code",
   "execution_count": null,
   "id": "1568ef9f",
   "metadata": {},
   "outputs": [],
   "source": [
    "# Load pre-trained Word2Vec model.\n",
    "model = Word2Vec.load('noticias_emb.bin')"
   ]
  },
  {
   "cell_type": "code",
   "execution_count": null,
   "id": "e77b3894",
   "metadata": {
    "tags": []
   },
   "outputs": [],
   "source": [
    "#Rendimiento del modelo\n",
    "vector = model.wv['ecuador']\n",
    "print(vector)"
   ]
  },
  {
   "cell_type": "code",
   "execution_count": null,
   "id": "b98d659e",
   "metadata": {},
   "outputs": [],
   "source": [
    "palabras_cercanas = model.wv.most_similar(\"ecuador\", topn=10)\n",
    "palabras_cercanas"
   ]
  },
  {
   "cell_type": "code",
   "execution_count": null,
   "id": "ad5c41c6",
   "metadata": {},
   "outputs": [],
   "source": [
    "palabras_cercanas = model.wv.most_similar(\"emelec\", topn=10)\n",
    "palabras_cercanas"
   ]
  },
  {
   "cell_type": "code",
   "execution_count": null,
   "id": "867c2f2e",
   "metadata": {},
   "outputs": [],
   "source": [
    "palabras_cercanas = model.wv.most_similar(\"ambato\", topn=10)\n",
    "palabras_cercanas"
   ]
  },
  {
   "cell_type": "code",
   "execution_count": null,
   "id": "48f9f93c",
   "metadata": {},
   "outputs": [],
   "source": [
    "palabras_cercanas = model.wv.most_similar(\"correa\", topn=10)\n",
    "palabras_cercanas"
   ]
  },
  {
   "cell_type": "code",
   "execution_count": null,
   "id": "1cad1b29",
   "metadata": {},
   "outputs": [],
   "source": [
    "palabras_cercanas = model.wv.most_similar(\"presidente\", topn=10)\n",
    "palabras_cercanas"
   ]
  },
  {
   "cell_type": "code",
   "execution_count": null,
   "id": "c89d8eca",
   "metadata": {},
   "outputs": [],
   "source": [
    "palabras_cercanas = model.wv.most_similar(\"covid\", topn=10)\n",
    "palabras_cercanas"
   ]
  },
  {
   "cell_type": "code",
   "execution_count": null,
   "id": "6701c99b",
   "metadata": {},
   "outputs": [],
   "source": [
    "from sklearn.decomposition import PCA\n",
    "from matplotlib import pyplot"
   ]
  },
  {
   "cell_type": "code",
   "execution_count": null,
   "id": "ea1e26d3",
   "metadata": {},
   "outputs": [],
   "source": [
    "## Next you have some necessary steps part of the transformation of 300dim to 2D in order \n",
    "pca = PCA(n_components=2)"
   ]
  },
  {
   "cell_type": "code",
   "execution_count": null,
   "id": "d9313298",
   "metadata": {},
   "outputs": [],
   "source": [
    "# you can think of a group of words that make sense to be together/far away to view in the plot\n",
    "toplot_words = ['amor', 'bueno', 'feliz', 'corazon', 'paz',#words about positive feelings\n",
    "'champions', 'league', 'chelsea', 'emelec', 'barcelona',#futbal-related terms\n",
    "'facebook', 'youtube', 'instagram', 'twitter' #media-related words\n",
    "]"
   ]
  },
  {
   "cell_type": "code",
   "execution_count": null,
   "id": "8b031307",
   "metadata": {},
   "outputs": [],
   "source": [
    "toplot_vecs = [model.wv[w] for w in toplot_words] #getting the vectors for the specific words"
   ]
  },
  {
   "cell_type": "code",
   "execution_count": null,
   "id": "3c7968d4",
   "metadata": {},
   "outputs": [],
   "source": [
    "result = pca.fit_transform(toplot_vecs) #call to pca for transformation\n",
    "#print(result)\n",
    "# finally plotting...\n",
    "pyplot.scatter(result[:, 0], result[:, 1]) #result[:, 0] para eje x y result[:, 1] para eje y\n",
    "for i, word in enumerate(toplot_words):\n",
    "    pyplot.annotate(word, xy=(result[i, 0], result[i, 1]))\n",
    "pyplot.show()"
   ]
  },
  {
   "cell_type": "code",
   "execution_count": null,
   "id": "5aed25da",
   "metadata": {},
   "outputs": [],
   "source": [
    "similar_words = model.wv.most_similar(positive=['biden', 'mexico'], negative=['ee.uu'], topn=10)\n",
    "similar_words"
   ]
  },
  {
   "cell_type": "code",
   "execution_count": null,
   "id": "4bdc2f3b",
   "metadata": {},
   "outputs": [],
   "source": [
    "similar_words = model.wv.most_similar(positive=['flores', 'quito'], negative=['ambato'], topn=10)\n",
    "similar_words"
   ]
  },
  {
   "cell_type": "code",
   "execution_count": null,
   "id": "7515c7f6",
   "metadata": {},
   "outputs": [],
   "source": [
    "similar_words = model.wv.most_similar(positive=['asamblea', 'presidente'], negative=['asambleista'], topn=10)\n",
    "similar_words"
   ]
  },
  {
   "cell_type": "code",
   "execution_count": null,
   "id": "529705cd",
   "metadata": {},
   "outputs": [],
   "source": [
    "similar_words = model.wv.most_similar(positive=['emprendimiento', 'educacion'], negative=['empresa'],topn=10)\n",
    "similar_words"
   ]
  },
  {
   "cell_type": "code",
   "execution_count": null,
   "id": "3c4b4fee",
   "metadata": {},
   "outputs": [],
   "source": [
    "similar_words = model.wv.most_similar(positive=['salud', 'escuela'], negative=['hospital'], topn=10)\n",
    "similar_words"
   ]
  },
  {
   "cell_type": "code",
   "execution_count": null,
   "id": "d6bebd32",
   "metadata": {},
   "outputs": [],
   "source": [
    "similar_words = model.wv.most_similar(positive=['ladron', 'alcaldia'], negative=['sicariato'], topn=10)\n",
    "similar_words"
   ]
  },
  {
   "cell_type": "code",
   "execution_count": null,
   "id": "59005015",
   "metadata": {},
   "outputs": [],
   "source": [
    "similar_words = model.wv.most_similar(positive=['ciudad', 'ciudad'], negative=['pais'], topn=10)\n",
    "similar_words"
   ]
  },
  {
   "cell_type": "code",
   "execution_count": null,
   "id": "5d46380f",
   "metadata": {},
   "outputs": [],
   "source": [
    "similar_words = model.wv.most_similar(positive=['caces', 'salud'], negative=['educacion'], topn=10)\n",
    "similar_words"
   ]
  },
  {
   "cell_type": "code",
   "execution_count": null,
   "id": "654e3241",
   "metadata": {},
   "outputs": [],
   "source": [
    "similar_words = model.wv.most_similar(positive=['hospital', 'futbolista'], negative=['medico'], topn=10)\n",
    "similar_words"
   ]
  },
  {
   "cell_type": "code",
   "execution_count": null,
   "id": "b55296db",
   "metadata": {},
   "outputs": [],
   "source": [
    "# Calculate cosine similarity between word vectors\n",
    "sim1 = model.wv.similarity('obama', 'maduro')\n",
    "sim2 = model.wv.similarity('obama', 'trump')\n",
    "sim3 = model.wv.similarity('obama', 'shakira')\n",
    "print('Similarity between \"obama\" and \"maduro\":', sim1)\n",
    "print('Similarity between \"obama\" and \"trump\":', sim2)\n",
    "print('Similarity between \"obama\" and \"shakira\":', sim3)"
   ]
  },
  {
   "cell_type": "code",
   "execution_count": null,
   "id": "19fe12d6",
   "metadata": {},
   "outputs": [],
   "source": [
    "# Calculate cosine similarity between word vectors\n",
    "sim1 = model.wv.similarity('universidad', 'ciencia')\n",
    "sim2 = model.wv.similarity('universidad', 'investigacion')\n",
    "sim3 = model.wv.similarity('universidad', 'futbol')\n",
    "print('Similarity between \"universidad\" and \"ciencia\":', sim1)\n",
    "print('Similarity between \"universidad\" and \"investigacion\":', sim2)\n",
    "print('Similarity between \"universidad\" and \"futbol\":', sim3)"
   ]
  },
  {
   "cell_type": "code",
   "execution_count": null,
   "id": "d9939033",
   "metadata": {},
   "outputs": [],
   "source": [
    "# Calculate cosine similarity between word vectors\n",
    "sim1 = model.wv.similarity('medico', 'hospital')\n",
    "sim2 = model.wv.similarity('medico', 'cancha')\n",
    "sim3 = model.wv.similarity('medico', 'empresa')\n",
    "print('Similarity between \"medico\" and \"hospital\":', sim1)\n",
    "print('Similarity between \"medico\" and \"cancha\":', sim2)\n",
    "print('Similarity between \"medico\" and \"empresa\":', sim3)"
   ]
  },
  {
   "cell_type": "code",
   "execution_count": null,
   "id": "02a06c41",
   "metadata": {},
   "outputs": [],
   "source": [
    "# Calculate cosine similarity between word vectors\n",
    "sim1 = model.wv.similarity('emprendimiento', 'negocio')\n",
    "sim2 = model.wv.similarity('emprendimiento', 'innovacion')\n",
    "sim3 = model.wv.similarity('emprendimiento', 'desarrollo')\n",
    "print('Similarity between \"emprendimiento\" and \"negocio\":', sim1)\n",
    "print('Similarity between \"emprendimiento\" and \"innovacion\":', sim2)\n",
    "print('Similarity between \"emprendimiento\" and \"desarrollo\":', sim3)"
   ]
  },
  {
   "cell_type": "code",
   "execution_count": null,
   "id": "b8f3e3da",
   "metadata": {},
   "outputs": [],
   "source": [
    "# Calculate cosine similarity between word vectors\n",
    "sim1 = model.wv.similarity('coach', 'retroalimentacion')\n",
    "sim2 = model.wv.similarity('coach', 'equipo')\n",
    "sim3 = model.wv.similarity('coach', 'entrenadores')\n",
    "print('Similarity between \"coach\" and \"retroalimentacion\":', sim1)\n",
    "print('Similarity between \"coach\" and \"equipo\":', sim2)\n",
    "print('Similarity between \"coach\" and \"entrenadores\":', sim3)"
   ]
  },
  {
   "cell_type": "code",
   "execution_count": null,
   "id": "4c551e71",
   "metadata": {},
   "outputs": [],
   "source": [
    "# Calculate cosine similarity between word vectors\n",
    "sim1 = model.wv.similarity('experiencia', 'conocimiento')\n",
    "sim2 = model.wv.similarity('experiencia', 'habilidades')\n",
    "sim3 = model.wv.similarity('experiencia', 'aprendizaje')\n",
    "print('Similarity between \"experiencia\" and \"conocimiento\":', sim1)\n",
    "print('Similarity between \"experiencia\" and \"habilidades\":', sim2)\n",
    "print('Similarity between \"experiencia\" and \"aprendizaje\":', sim3)"
   ]
  },
  {
   "cell_type": "code",
   "execution_count": null,
   "id": "96ee48a3",
   "metadata": {},
   "outputs": [],
   "source": [
    "# Calculate cosine similarity between word vectors\n",
    "sim1 = model.wv.similarity('innovacion', 'tecnologia')\n",
    "sim2 = model.wv.similarity('innovacion', 'creatividad')\n",
    "sim3 = model.wv.similarity('innovacion', 'nuevo')\n",
    "print('Similarity between \"innovacion\" and \"tecnologia\":', sim1)\n",
    "print('Similarity between \"innovacion\" and \"creatividad\":', sim2)\n",
    "print('Similarity between \"innovacion\" and \"nuevo\":', sim3)"
   ]
  },
  {
   "cell_type": "code",
   "execution_count": null,
   "id": "5367c615",
   "metadata": {},
   "outputs": [],
   "source": []
  },
  {
   "cell_type": "code",
   "execution_count": null,
   "id": "18506d7a",
   "metadata": {},
   "outputs": [],
   "source": []
  }
 ],
 "metadata": {
  "kernelspec": {
   "display_name": "Python 3",
   "language": "python",
   "name": "python3"
  },
  "language_info": {
   "codemirror_mode": {
    "name": "ipython",
    "version": 3
   },
   "file_extension": ".py",
   "mimetype": "text/x-python",
   "name": "python",
   "nbconvert_exporter": "python",
   "pygments_lexer": "ipython3",
   "version": "3.11.4"
  }
 },
 "nbformat": 4,
 "nbformat_minor": 5
}
