{
 "cells": [
  {
   "cell_type": "markdown",
   "id": "3ea9b301",
   "metadata": {},
   "source": [
    "# Modelado de texto"
   ]
  },
  {
   "cell_type": "code",
   "execution_count": 1,
   "id": "dc45d650",
   "metadata": {},
   "outputs": [],
   "source": [
    "import pandas as pd\n",
    "import nltk"
   ]
  },
  {
   "cell_type": "code",
   "execution_count": 1,
   "id": "7b7a5d2d",
   "metadata": {},
   "outputs": [],
   "source": [
    "import string"
   ]
  },
  {
   "cell_type": "code",
   "execution_count": 2,
   "id": "4ffea1c7",
   "metadata": {},
   "outputs": [
    {
     "name": "stderr",
     "output_type": "stream",
     "text": [
      "[nltk_data] Downloading package stopwords to\n",
      "[nltk_data]     C:\\Users\\elogrono\\AppData\\Roaming\\nltk_data...\n",
      "[nltk_data]   Package stopwords is already up-to-date!\n"
     ]
    },
    {
     "data": {
      "text/plain": [
       "True"
      ]
     },
     "execution_count": 2,
     "metadata": {},
     "output_type": "execute_result"
    }
   ],
   "source": [
    "nltk.download('stopwords')"
   ]
  },
  {
   "cell_type": "code",
   "execution_count": 3,
   "id": "2f99ed9b",
   "metadata": {},
   "outputs": [],
   "source": [
    "from unidecode import unidecode # Para eliminar acentos\n",
    "from nltk.tokenize import TweetTokenizer # Tokenizador de tweets, tokeniza el texto en palabras\n",
    "from string import punctuation # Signos de puntuacion\n",
    "from nltk.corpus import stopwords # Stopwords para español"
   ]
  },
  {
   "cell_type": "code",
   "execution_count": 4,
   "id": "189b07b4",
   "metadata": {},
   "outputs": [],
   "source": [
    "stop_words = [unidecode(stopW) for stopW in stopwords.words('spanish')] # Stopwords en español para eliminar del texto\n",
    "non_words = list(punctuation)\n",
    "non_words.extend(['¿', '¡', 'q', 'd', 'x', 'xq', '...', '..'])\n",
    "stop_words = stop_words + non_words"
   ]
  },
  {
   "cell_type": "code",
   "execution_count": 5,
   "id": "540f9623",
   "metadata": {},
   "outputs": [
    {
     "name": "stdout",
     "output_type": "stream",
     "text": [
      "['de', 'la', 'que', 'el', 'en', 'y', 'a', 'los', 'del', 'se', 'las', 'por', 'un', 'para', 'con', 'no', 'una', 'su', 'al', 'lo', 'como', 'mas', 'pero', 'sus', 'le', 'ya', 'o', 'este', 'si', 'porque', 'esta', 'entre', 'cuando', 'muy', 'sin', 'sobre', 'tambien', 'me', 'hasta', 'hay', 'donde', 'quien', 'desde', 'todo', 'nos', 'durante', 'todos', 'uno', 'les', 'ni', 'contra', 'otros', 'ese', 'eso', 'ante', 'ellos', 'e', 'esto', 'mi', 'antes', 'algunos', 'que', 'unos', 'yo', 'otro', 'otras', 'otra', 'el', 'tanto', 'esa', 'estos', 'mucho', 'quienes', 'nada', 'muchos', 'cual', 'poco', 'ella', 'estar', 'estas', 'algunas', 'algo', 'nosotros', 'mi', 'mis', 'tu', 'te', 'ti', 'tu', 'tus', 'ellas', 'nosotras', 'vosotros', 'vosotras', 'os', 'mio', 'mia', 'mios', 'mias', 'tuyo', 'tuya', 'tuyos', 'tuyas', 'suyo', 'suya', 'suyos', 'suyas', 'nuestro', 'nuestra', 'nuestros', 'nuestras', 'vuestro', 'vuestra', 'vuestros', 'vuestras', 'esos', 'esas', 'estoy', 'estas', 'esta', 'estamos', 'estais', 'estan', 'este', 'estes', 'estemos', 'esteis', 'esten', 'estare', 'estaras', 'estara', 'estaremos', 'estareis', 'estaran', 'estaria', 'estarias', 'estariamos', 'estariais', 'estarian', 'estaba', 'estabas', 'estabamos', 'estabais', 'estaban', 'estuve', 'estuviste', 'estuvo', 'estuvimos', 'estuvisteis', 'estuvieron', 'estuviera', 'estuvieras', 'estuvieramos', 'estuvierais', 'estuvieran', 'estuviese', 'estuvieses', 'estuviesemos', 'estuvieseis', 'estuviesen', 'estando', 'estado', 'estada', 'estados', 'estadas', 'estad', 'he', 'has', 'ha', 'hemos', 'habeis', 'han', 'haya', 'hayas', 'hayamos', 'hayais', 'hayan', 'habre', 'habras', 'habra', 'habremos', 'habreis', 'habran', 'habria', 'habrias', 'habriamos', 'habriais', 'habrian', 'habia', 'habias', 'habiamos', 'habiais', 'habian', 'hube', 'hubiste', 'hubo', 'hubimos', 'hubisteis', 'hubieron', 'hubiera', 'hubieras', 'hubieramos', 'hubierais', 'hubieran', 'hubiese', 'hubieses', 'hubiesemos', 'hubieseis', 'hubiesen', 'habiendo', 'habido', 'habida', 'habidos', 'habidas', 'soy', 'eres', 'es', 'somos', 'sois', 'son', 'sea', 'seas', 'seamos', 'seais', 'sean', 'sere', 'seras', 'sera', 'seremos', 'sereis', 'seran', 'seria', 'serias', 'seriamos', 'seriais', 'serian', 'era', 'eras', 'eramos', 'erais', 'eran', 'fui', 'fuiste', 'fue', 'fuimos', 'fuisteis', 'fueron', 'fuera', 'fueras', 'fueramos', 'fuerais', 'fueran', 'fuese', 'fueses', 'fuesemos', 'fueseis', 'fuesen', 'sintiendo', 'sentido', 'sentida', 'sentidos', 'sentidas', 'siente', 'sentid', 'tengo', 'tienes', 'tiene', 'tenemos', 'teneis', 'tienen', 'tenga', 'tengas', 'tengamos', 'tengais', 'tengan', 'tendre', 'tendras', 'tendra', 'tendremos', 'tendreis', 'tendran', 'tendria', 'tendrias', 'tendriamos', 'tendriais', 'tendrian', 'tenia', 'tenias', 'teniamos', 'teniais', 'tenian', 'tuve', 'tuviste', 'tuvo', 'tuvimos', 'tuvisteis', 'tuvieron', 'tuviera', 'tuvieras', 'tuvieramos', 'tuvierais', 'tuvieran', 'tuviese', 'tuvieses', 'tuviesemos', 'tuvieseis', 'tuviesen', 'teniendo', 'tenido', 'tenida', 'tenidos', 'tenidas', 'tened', '!', '\"', '#', '$', '%', '&', \"'\", '(', ')', '*', '+', ',', '-', '.', '/', ':', ';', '<', '=', '>', '?', '@', '[', '\\\\', ']', '^', '_', '`', '{', '|', '}', '~', '¿', '¡', 'q', 'd', 'x', 'xq', '...', '..']\n"
     ]
    }
   ],
   "source": [
    "print(stop_words)"
   ]
  },
  {
   "cell_type": "code",
   "execution_count": 6,
   "id": "ef10129c",
   "metadata": {},
   "outputs": [],
   "source": [
    "data = pd.read_excel('4_articles.xlsx')"
   ]
  },
  {
   "cell_type": "code",
   "execution_count": 7,
   "id": "7c1aed91",
   "metadata": {},
   "outputs": [
    {
     "data": {
      "text/html": [
       "<div>\n",
       "<style scoped>\n",
       "    .dataframe tbody tr th:only-of-type {\n",
       "        vertical-align: middle;\n",
       "    }\n",
       "\n",
       "    .dataframe tbody tr th {\n",
       "        vertical-align: top;\n",
       "    }\n",
       "\n",
       "    .dataframe thead th {\n",
       "        text-align: right;\n",
       "    }\n",
       "</style>\n",
       "<table border=\"1\" class=\"dataframe\">\n",
       "  <thead>\n",
       "    <tr style=\"text-align: right;\">\n",
       "      <th></th>\n",
       "      <th>Unnamed: 0</th>\n",
       "      <th>text_y</th>\n",
       "    </tr>\n",
       "  </thead>\n",
       "  <tbody>\n",
       "    <tr>\n",
       "      <th>0</th>\n",
       "      <td>0</td>\n",
       "      <td>\\n            bienvenidos a la segunda edición...</td>\n",
       "    </tr>\n",
       "    <tr>\n",
       "      <th>1</th>\n",
       "      <td>1</td>\n",
       "      <td>familiares y amigos de pedro aguilar, quien su...</td>\n",
       "    </tr>\n",
       "    <tr>\n",
       "      <th>2</th>\n",
       "      <td>2</td>\n",
       "      <td>los asaltantes llegaron con armas de fuego has...</td>\n",
       "    </tr>\n",
       "    <tr>\n",
       "      <th>3</th>\n",
       "      <td>3</td>\n",
       "      <td>según cnn en español, una encuesta de 2021 rev...</td>\n",
       "    </tr>\n",
       "    <tr>\n",
       "      <th>4</th>\n",
       "      <td>4</td>\n",
       "      <td>durante la filmación dos actores fallecieron t...</td>\n",
       "    </tr>\n",
       "  </tbody>\n",
       "</table>\n",
       "</div>"
      ],
      "text/plain": [
       "   Unnamed: 0                                             text_y\n",
       "0           0  \\n            bienvenidos a la segunda edición...\n",
       "1           1  familiares y amigos de pedro aguilar, quien su...\n",
       "2           2  los asaltantes llegaron con armas de fuego has...\n",
       "3           3  según cnn en español, una encuesta de 2021 rev...\n",
       "4           4  durante la filmación dos actores fallecieron t..."
      ]
     },
     "execution_count": 7,
     "metadata": {},
     "output_type": "execute_result"
    }
   ],
   "source": [
    "data.head()"
   ]
  },
  {
   "cell_type": "code",
   "execution_count": 8,
   "id": "8eeba55a",
   "metadata": {},
   "outputs": [],
   "source": [
    "#data.drop('Unnamed: 0', axis = 1, inplace = True)\n",
    "data = data['text_y']"
   ]
  },
  {
   "cell_type": "code",
   "execution_count": 9,
   "id": "00771ed4",
   "metadata": {},
   "outputs": [
    {
     "data": {
      "text/plain": [
       "(8992,)"
      ]
     },
     "execution_count": 9,
     "metadata": {},
     "output_type": "execute_result"
    }
   ],
   "source": [
    "data.shape"
   ]
  },
  {
   "cell_type": "code",
   "execution_count": 10,
   "id": "c660373a",
   "metadata": {},
   "outputs": [
    {
     "data": {
      "text/plain": [
       "0    \\n            bienvenidos a la segunda edición...\n",
       "1    familiares y amigos de pedro aguilar, quien su...\n",
       "2    los asaltantes llegaron con armas de fuego has...\n",
       "3    según cnn en español, una encuesta de 2021 rev...\n",
       "4    durante la filmación dos actores fallecieron t...\n",
       "Name: text_y, dtype: object"
      ]
     },
     "execution_count": 10,
     "metadata": {},
     "output_type": "execute_result"
    }
   ],
   "source": [
    "data.head()"
   ]
  },
  {
   "cell_type": "code",
   "execution_count": 11,
   "id": "f8228825",
   "metadata": {},
   "outputs": [
    {
     "data": {
      "text/plain": [
       "pandas.core.series.Series"
      ]
     },
     "execution_count": 11,
     "metadata": {},
     "output_type": "execute_result"
    }
   ],
   "source": [
    "type(data)"
   ]
  },
  {
   "cell_type": "code",
   "execution_count": 12,
   "id": "b9715100",
   "metadata": {},
   "outputs": [
    {
     "name": "stdout",
     "output_type": "stream",
     "text": [
      "8992\n"
     ]
    }
   ],
   "source": [
    "tknzr = TweetTokenizer()\n",
    "clean_sentences_split = []\n",
    "for dirty_sent in data:\n",
    "    # Se quitan los signos de puntuación y se tokeniza\n",
    "    tokens = [token.lower() for token in tknzr.tokenize(unidecode(dirty_sent))\n",
    "              if token.lower() not in stop_words]\n",
    "    \n",
    "    #processed_sentence = ' '.join(tokens) #las palabras limpias vuelven a formar la oración\n",
    "                                           #no se requiere esto con gensim\n",
    "    if tokens: # Agregar solo si hay tokens\n",
    "        clean_sentences_split.append(tokens) #save the clean prepocessed sentence in clean_sentences\n",
    "\n",
    "print(len(clean_sentences_split))"
   ]
  },
  {
   "cell_type": "markdown",
   "id": "0c2fb19f",
   "metadata": {},
   "source": [
    "- En una compresiion list el primer valor es lo que va a ingresar\n",
    "- Lo segundo es el bucle for [   for iterator in iterable ]\n",
    "- Tercero condicion [      if condition]\n",
    "- Con if else [ .... if condition else ....... for iterator in iterable]"
   ]
  },
  {
   "cell_type": "code",
   "execution_count": 13,
   "id": "76464dbf",
   "metadata": {
    "collapsed": true,
    "jupyter": {
     "outputs_hidden": true
    },
    "tags": []
   },
   "outputs": [
    {
     "data": {
      "text/plain": [
       "[['bienvenidos',\n",
       "  'segunda',\n",
       "  'edicion',\n",
       "  'apuesta',\n",
       "  'ecuador',\n",
       "  'iniciativa',\n",
       "  'invita',\n",
       "  'volar',\n",
       "  'alto',\n",
       "  'pyme',\n",
       "  'emprendimiento',\n",
       "  'disfrutar',\n",
       "  'retroalimentacion',\n",
       "  'coaches',\n",
       "  'inscribete',\n",
       "  'recibe',\n",
       "  'reconocimientos',\n",
       "  'potenciar',\n",
       "  'negocio',\n",
       "  'presentan',\n",
       "  'avalado',\n",
       "  'auspician',\n",
       "  'ejecutiva',\n",
       "  '10',\n",
       "  'anos',\n",
       "  'experiencia',\n",
       "  'enfocada',\n",
       "  'rol',\n",
       "  'sector',\n",
       "  'privado',\n",
       "  'desarrollo',\n",
       "  'economico',\n",
       "  'social',\n",
       "  'paises',\n",
       "  'inicio',\n",
       "  'carrera',\n",
       "  'laboratorio',\n",
       "  'innovacion',\n",
       "  'banco',\n",
       "  'interamericano',\n",
       "  'desarrollo',\n",
       "  'bid',\n",
       "  'rol',\n",
       "  'dentro',\n",
       "  'bid',\n",
       "  'apoyo',\n",
       "  'supervision',\n",
       "  '25',\n",
       "  'proyectos',\n",
       "  'diferentes',\n",
       "  'monto',\n",
       "  '15',\n",
       "  'millones',\n",
       "  'dolares',\n",
       "  'prestamos',\n",
       "  'asistencias',\n",
       "  'tecnicas',\n",
       "  'especialmente',\n",
       "  'dedicadas',\n",
       "  'fortalecimiento',\n",
       "  'crecimiento',\n",
       "  'pymes',\n",
       "  'ecuador',\n",
       "  'posteriormente',\n",
       "  'trabajo',\n",
       "  'londres',\n",
       "  'mobile',\n",
       "  'for',\n",
       "  'development',\n",
       "  'fundacion',\n",
       "  'gsma',\n",
       "  'dedicado',\n",
       "  'estimular',\n",
       "  'innovacion',\n",
       "  'digital',\n",
       "  'traves',\n",
       "  'proyectos',\n",
       "  'sectores',\n",
       "  'desatendidos',\n",
       "  'participacion',\n",
       "  'gsma',\n",
       "  'manejo',\n",
       "  'fondos',\n",
       "  'publicos',\n",
       "  'oportunidad',\n",
       "  'implementar',\n",
       "  'proyectos',\n",
       "  'paises',\n",
       "  'peru',\n",
       "  'benin',\n",
       "  'ruanda',\n",
       "  'kenia',\n",
       "  'espana',\n",
       "  'reino',\n",
       "  'unido',\n",
       "  'actualmente',\n",
       "  'desempena',\n",
       "  'gerente',\n",
       "  'proyecto',\n",
       "  'pyme',\n",
       "  'mastercard',\n",
       "  'ecuador',\n",
       "  'area',\n",
       "  'enfocada',\n",
       "  'diseno',\n",
       "  'soluciones',\n",
       "  'beneficios',\n",
       "  'micro',\n",
       "  'pequena',\n",
       "  'medianas',\n",
       "  'empresas',\n",
       "  'region',\n",
       "  'espera',\n",
       "  'apoyar',\n",
       "  'camino',\n",
       "  'digitalizacion',\n",
       "  'pyme',\n",
       "  'pais',\n",
       "  '27',\n",
       "  'anos',\n",
       "  'experiencia',\n",
       "  'sector',\n",
       "  'automotor',\n",
       "  'marcus',\n",
       "  'licenciado',\n",
       "  'administracion',\n",
       "  'comunicacion',\n",
       "  'social',\n",
       "  'mba',\n",
       "  'gestion',\n",
       "  'negocios',\n",
       "  'ingreso',\n",
       "  'gm',\n",
       "  '1995',\n",
       "  'marcus',\n",
       "  'oportunidad',\n",
       "  'ejercer',\n",
       "  'exitosamente',\n",
       "  'varias',\n",
       "  'posiciones',\n",
       "  'unidades',\n",
       "  'negocio',\n",
       "  'gm',\n",
       "  'sudamerica',\n",
       "  'gm',\n",
       "  'mercosur',\n",
       "  'areas',\n",
       "  'clave',\n",
       "  'negocio',\n",
       "  'manufactura',\n",
       "  'compras',\n",
       "  'cadena',\n",
       "  'suministros',\n",
       "  'ventas',\n",
       "  'proveedores',\n",
       "  'ademas',\n",
       "  'sido',\n",
       "  'reconocido',\n",
       "  'liderazgo',\n",
       "  'ejecucion',\n",
       "  'importantes',\n",
       "  'proyectos',\n",
       "  'sudamerica',\n",
       "  'sudafrica',\n",
       "  'tailandia',\n",
       "  '25',\n",
       "  'anos',\n",
       "  'experiencia',\n",
       "  'marketing',\n",
       "  'comunicacion',\n",
       "  'convencido',\n",
       "  'organizaciones',\n",
       "  'requieren',\n",
       "  'proposito',\n",
       "  'trascendente',\n",
       "  'actualmente',\n",
       "  'gerente',\n",
       "  'regional',\n",
       "  'sierra',\n",
       "  'director',\n",
       "  'comunicacion',\n",
       "  'pronaca',\n",
       "  'empresa',\n",
       "  '60',\n",
       "  'anos',\n",
       "  'mercado',\n",
       "  'existe',\n",
       "  'alimentar',\n",
       "  'bien',\n",
       "  'ecuatorianos',\n",
       "  'workingup',\n",
       "  'incubadora',\n",
       "  'empresas',\n",
       "  'acreditada',\n",
       "  'senescyt',\n",
       "  '2016',\n",
       "  'cuenta',\n",
       "  'experiencia',\n",
       "  'direccion',\n",
       "  'programas',\n",
       "  'incubacion',\n",
       "  'operacion',\n",
       "  'prestigiosas',\n",
       "  'convocatorias',\n",
       "  'emprendimiento',\n",
       "  'nivel',\n",
       "  'nacional',\n",
       "  'traves',\n",
       "  'workingup',\n",
       "  'canalizado',\n",
       "  '500',\n",
       "  'mil',\n",
       "  'dolares',\n",
       "  'capital',\n",
       "  'semilla',\n",
       "  'emprendedores',\n",
       "  'instituciones',\n",
       "  'publicas',\n",
       "  'privadas'],\n",
       " ['familiares',\n",
       "  'amigos',\n",
       "  'pedro',\n",
       "  'aguilar',\n",
       "  'sufrio',\n",
       "  'grave',\n",
       "  'accidente',\n",
       "  'ultima',\n",
       "  'valida',\n",
       "  'rally',\n",
       "  'nacional',\n",
       "  'gualaceo',\n",
       "  'trabajan',\n",
       "  'reunir',\n",
       "  'dinero',\n",
       "  'permita',\n",
       "  'cubrir',\n",
       "  'gastos',\n",
       "  'hospitalizacion',\n",
       "  'ello',\n",
       "  'invita',\n",
       "  'ciudadania',\n",
       "  'ser',\n",
       "  'parte',\n",
       "  'actividades',\n",
       "  'realizan',\n",
       "  'aguilar',\n",
       "  'pasado',\n",
       "  '7',\n",
       "  'octubre',\n",
       "  'participaba',\n",
       "  'copiloto',\n",
       "  'martin',\n",
       "  'vintimila',\n",
       "  'fallecio',\n",
       "  'recupera',\n",
       "  'forma',\n",
       "  'lenta',\n",
       "  'tarde',\n",
       "  'jueves',\n",
       "  '13',\n",
       "  'octubre',\n",
       "  '2022',\n",
       "  'retirarian',\n",
       "  'sedantes',\n",
       "  'conocer',\n",
       "  'reaccionaba',\n",
       "  'operacion',\n",
       "  'brazo',\n",
       "  'izquierdo',\n",
       "  'quedo',\n",
       "  'pendiente',\n",
       "  'viernes',\n",
       "  'acuerdo',\n",
       "  'recomendacion',\n",
       "  'medica',\n",
       "  'mientras',\n",
       "  'continua',\n",
       "  'promocion',\n",
       "  'hamburguesa',\n",
       "  'solidaria',\n",
       "  'valor',\n",
       "  '10',\n",
       "  'dolares',\n",
       "  'venta',\n",
       "  'realiza',\n",
       "  'dia',\n",
       "  'extendera',\n",
       "  'sabado',\n",
       "  '15',\n",
       "  'octubre',\n",
       "  'sanducheria',\n",
       "  'chic',\n",
       "  'ubicado',\n",
       "  'avenida',\n",
       "  'remigio',\n",
       "  'crespo',\n",
       "  'junto',\n",
       "  'sucursales',\n",
       "  'banco',\n",
       "  'pichincha',\n",
       "  'martha',\n",
       "  'jarrin',\n",
       "  'colaboradoras',\n",
       "  'cruzada',\n",
       "  'solidaria',\n",
       "  'mostro',\n",
       "  'emocionada',\n",
       "  'constatar',\n",
       "  'respuesta',\n",
       "  'ciudadania',\n",
       "  'superaron',\n",
       "  'todas',\n",
       "  'expectativas',\n",
       "  'agradecida',\n",
       "  'familia',\n",
       "  'aguilar',\n",
       "  'aseguro',\n",
       "  'organizan',\n",
       "  'rifa',\n",
       "  'cada',\n",
       "  'boleto',\n",
       "  'cuesta',\n",
       "  '10',\n",
       "  'dolares',\n",
       "  'ocho',\n",
       "  'premios',\n",
       "  'ademas',\n",
       "  'pretendan',\n",
       "  'aportar',\n",
       "  'economicamente',\n",
       "  'pueden',\n",
       "  'hacerlo',\n",
       "  'cuenta',\n",
       "  'ahorros',\n",
       "  'cooperativa',\n",
       "  'jep',\n",
       "  '4061240092',\n",
       "  '07',\n",
       "  'nombre',\n",
       "  'aguilar',\n",
       "  'moscoso',\n",
       "  'jorge',\n",
       "  'rodrigo',\n",
       "  'numero',\n",
       "  'cedula',\n",
       "  '01021359',\n",
       "  '77',\n",
       "  'mq'],\n",
       " ['asaltantes',\n",
       "  'llegaron',\n",
       "  'armas',\n",
       "  'fuego',\n",
       "  'joyeria',\n",
       "  'foto',\n",
       "  'captura',\n",
       "  'camaras',\n",
       "  'seguridad',\n",
       "  'captaron',\n",
       "  'momento',\n",
       "  'dos',\n",
       "  'personas',\n",
       "  'armadas',\n",
       "  'asaltaron',\n",
       "  'joyeria',\n",
       "  'portoviejo',\n",
       "  'manabi',\n",
       "  'video',\n",
       "  'puede',\n",
       "  'ver',\n",
       "  'hombre',\n",
       "  'dialoga',\n",
       "  'joven',\n",
       "  'trabaja',\n",
       "  'lugar',\n",
       "  'aparentando',\n",
       "  'ser',\n",
       "  'cliente',\n",
       "  'acto',\n",
       "  'seguido',\n",
       "  'saca',\n",
       "  'arma',\n",
       "  'fuego',\n",
       "  'somete',\n",
       "  'bruscamente',\n",
       "  'empleada',\n",
       "  'mujer',\n",
       "  'empieza',\n",
       "  'gritar',\n",
       "  'asustada',\n",
       "  'angustiada',\n",
       "  'tras',\n",
       "  'varios',\n",
       "  'segundos',\n",
       "  'hombre',\n",
       "  'armado',\n",
       "  'llama',\n",
       "  'segundo',\n",
       "  'hombre',\n",
       "  'vigilaba',\n",
       "  'puerta',\n",
       "  'negocio',\n",
       "  'juntos',\n",
       "  'empiezan',\n",
       "  'forcejear',\n",
       "  'vitrina',\n",
       "  'exito',\n",
       "  'embargo',\n",
       "  'luego',\n",
       "  'proceden',\n",
       "  'romper',\n",
       "  'vidrios',\n",
       "  'culata',\n",
       "  'arma',\n",
       "  'logrando',\n",
       "  'romperla',\n",
       "  'proceden',\n",
       "  'recoger',\n",
       "  'joyas',\n",
       "  'mujer',\n",
       "  'encuentra',\n",
       "  'sometida',\n",
       "  'hombres',\n",
       "  'suelo',\n",
       "  'luego',\n",
       "  'cumplir',\n",
       "  'cometido',\n",
       "  'dos',\n",
       "  'asaltantes',\n",
       "  'salieron',\n",
       "  'caminando',\n",
       "  'establecimiento',\n",
       "  'mientras',\n",
       "  'mujer',\n",
       "  'mira',\n",
       "  'piso',\n",
       "  'final',\n",
       "  'mujer',\n",
       "  'sale',\n",
       "  'establecimiento',\n",
       "  'gritando',\n",
       "  'ladrones',\n",
       "  'jueves',\n",
       "  '13',\n",
       "  'octubre',\n",
       "  '2022',\n",
       "  'autoridades',\n",
       "  'dado',\n",
       "  'declaraciones',\n",
       "  'respecto']]"
      ]
     },
     "execution_count": 13,
     "metadata": {},
     "output_type": "execute_result"
    }
   ],
   "source": [
    "clean_sentences_split[0:3]"
   ]
  },
  {
   "cell_type": "code",
   "execution_count": 14,
   "id": "25632e98",
   "metadata": {},
   "outputs": [
    {
     "name": "stdout",
     "output_type": "stream",
     "text": [
      "El array se ha guardado en articles.txt\n"
     ]
    }
   ],
   "source": [
    "file_path = 'articles.txt'\n",
    "with open(file_path, 'w') as file:\n",
    "    for sentence in clean_sentences_split:\n",
    "        processed_sentence = ' '.join(sentence)\n",
    "        file.write(processed_sentence + '\\n')\n",
    "print(f'El array se ha guardado en {file_path}')"
   ]
  },
  {
   "cell_type": "code",
   "execution_count": null,
   "id": "2ed9d9f0",
   "metadata": {},
   "outputs": [],
   "source": [
    "#with open('articles.txt', 'r', encoding='utf-8') as file:\n",
    "    #documento = file.read()\n",
    "#print(len(documento))"
   ]
  },
  {
   "cell_type": "markdown",
   "id": "e868e3e6",
   "metadata": {},
   "source": [
    "## Entrenamiento del modelo Word2Vec"
   ]
  },
  {
   "cell_type": "code",
   "execution_count": 16,
   "id": "fb81c32a",
   "metadata": {},
   "outputs": [],
   "source": [
    "import gensim\n",
    "from gensim.models import Word2Vec"
   ]
  },
  {
   "cell_type": "code",
   "execution_count": 17,
   "id": "4f8a31ab",
   "metadata": {},
   "outputs": [],
   "source": [
    "model = Word2Vec(sentences=clean_sentences_split, vector_size=300, window=5, min_count=2) #size es parametro antiguo\n",
    "#Guardar el Modelo\n",
    "# El min count es para que solo tome en cuenta las palabras que aparecen al menos 2 veces\n",
    "# vector_size es el tamaño del vector de cada palabra\n",
    "model.save('noticias_emb.bin')"
   ]
  },
  {
   "cell_type": "code",
   "execution_count": 18,
   "id": "1568ef9f",
   "metadata": {},
   "outputs": [],
   "source": [
    "# Load pre-trained Word2Vec model.\n",
    "model = Word2Vec.load('noticias_emb.bin')"
   ]
  },
  {
   "cell_type": "code",
   "execution_count": 19,
   "id": "e77b3894",
   "metadata": {
    "tags": []
   },
   "outputs": [
    {
     "name": "stdout",
     "output_type": "stream",
     "text": [
      "[-2.61991262e-01  7.66185999e-01  5.52455068e-01  3.68411958e-01\n",
      "  9.59790528e-01  7.26065993e-01  5.69831252e-01  1.24251175e+00\n",
      "  6.66102588e-01 -1.36328125e+00  1.81338406e+00 -1.00739384e+00\n",
      "  1.15628314e+00  3.79530281e-01  1.47571683e-01 -1.04393709e+00\n",
      "  4.59963411e-01 -5.99579871e-01 -6.75415695e-01 -2.80143470e-01\n",
      " -1.98904008e-01 -2.51077026e-01  3.53681952e-01  1.56559914e-01\n",
      " -6.80896223e-01 -1.78592965e-01 -8.06641936e-01  4.33721989e-01\n",
      "  2.88822234e-01  2.71943331e-01 -7.37507105e-01  5.29244021e-02\n",
      " -5.82184136e-01 -7.64682531e-01  5.21633863e-01 -5.08650482e-01\n",
      "  1.63200748e+00  5.09447575e-01 -1.64493692e+00  4.59703691e-02\n",
      "  5.94951034e-01 -5.41553080e-01  5.07008359e-02 -9.51208055e-01\n",
      "  6.92238569e-01  4.14126068e-01  1.56439632e-01 -2.79243141e-01\n",
      "  3.12347800e-01 -1.09595203e+00 -2.81153083e-01  1.48053849e+00\n",
      "  4.16766889e-02 -5.91091029e-02 -6.14330769e-01 -6.29343390e-02\n",
      "  4.77543145e-01  1.78932454e-02  3.78693461e-01 -6.41915277e-02\n",
      "  1.69276729e-01 -5.24008095e-01  6.37151718e-01 -3.35281909e-01\n",
      " -2.59047747e-01 -8.11591148e-02  8.61963868e-01  9.39264661e-04\n",
      "  7.06133127e-01 -1.55197072e+00  2.09107459e-01  8.71703207e-01\n",
      "  7.09637046e-01 -5.40427625e-01  5.85609436e-01 -1.20843148e+00\n",
      " -2.57659942e-01 -1.02946043e+00  2.02577394e-02  5.15184820e-01\n",
      " -9.85743701e-01  7.92683244e-01  4.25135851e-01  7.21479714e-01\n",
      " -4.12612915e-01  1.09933175e-01  6.03563547e-01 -5.05793929e-01\n",
      "  1.27270088e-01  8.23569596e-02 -3.04578215e-01 -8.30537975e-01\n",
      "  3.97658318e-01  3.35358113e-01  2.52916873e-01  1.32590783e+00\n",
      "  5.76615810e-01 -3.23763303e-02  7.07771897e-01  3.35590571e-01\n",
      " -8.74556720e-01  1.15128003e-01  5.06829202e-01 -3.80839080e-01\n",
      "  2.24230881e-03  3.68281752e-01  2.47438043e-01 -3.18480402e-01\n",
      " -7.27173626e-01  3.87493759e-01 -9.59473372e-01  4.98104662e-01\n",
      " -7.61226267e-02  3.33325714e-01  5.32057047e-01  4.68005419e-01\n",
      "  9.72424984e-01  2.77399421e-01  9.24962580e-01  3.69684428e-01\n",
      " -6.45718336e-01 -5.03963828e-01  2.33518958e+00  1.01309609e+00\n",
      " -1.09797716e+00  3.93228084e-01  5.83249986e-01 -2.89137483e-01\n",
      "  2.30715901e-01  1.75955272e+00  6.45420194e-01 -2.60707773e-02\n",
      "  9.71862823e-02 -6.63368165e-01  1.12377858e+00  1.03624678e+00\n",
      " -1.10515416e+00  7.77859449e-01 -7.13729799e-01  4.52022702e-01\n",
      "  3.07140797e-01 -4.76722330e-01 -1.21812415e+00  6.44379795e-01\n",
      " -1.18428028e+00 -9.73342538e-01  4.72760916e-01  1.64329693e-01\n",
      "  4.34492737e-01  1.34369686e-01 -1.43489584e-01  7.18189895e-01\n",
      "  2.03905568e-01 -8.18184465e-02 -3.48441862e-02 -1.01254988e+00\n",
      "  6.73085004e-02 -5.03041148e-01 -4.01098788e-01  1.25812972e+00\n",
      " -1.22792892e-01 -7.58049130e-01 -1.02378745e-02  7.64491037e-02\n",
      "  3.25865000e-01 -8.99007499e-01  1.48025286e+00  2.64806330e-01\n",
      "  3.86743486e-01  5.71385264e-01  3.30495417e-01 -5.73729947e-02\n",
      "  5.85272312e-01 -2.13134393e-01 -6.08808219e-01  3.99989784e-01\n",
      "  9.22980428e-01  1.60876715e+00  6.39465392e-01 -9.61923659e-01\n",
      " -6.70721710e-01 -1.55640140e-01  6.88027442e-01  2.96460360e-01\n",
      " -1.06359708e+00 -6.75964773e-01  1.01832688e+00  9.68436420e-01\n",
      " -1.03254759e+00  5.92538007e-02  9.64774489e-01  7.30319619e-01\n",
      " -6.66944385e-02  3.27624112e-01  4.70285594e-01 -7.45385468e-01\n",
      " -3.51231575e-01 -6.45468533e-01 -6.52172491e-02  1.05100465e+00\n",
      "  5.15809536e-01  1.23350394e+00 -9.40707028e-01 -9.77332413e-01\n",
      "  7.78086722e-01  9.21196759e-01  3.27995420e-01  8.82412910e-01\n",
      "  1.73680469e-01 -2.62515068e-01 -5.11764526e-01  1.26420334e-01\n",
      " -1.90298617e-01 -1.37227833e+00 -1.46266133e-01 -3.68388176e-01\n",
      " -9.36728954e-01 -7.85644710e-01 -1.51134402e-01 -2.20698580e-01\n",
      "  2.66866595e-01 -5.56140184e-01 -7.03152716e-01  8.51791143e-01\n",
      "  1.10922086e+00 -6.31074786e-01 -2.77987532e-02 -8.85080278e-01\n",
      " -5.19879580e-01 -3.58393677e-02 -4.54638183e-01 -1.32034481e+00\n",
      "  3.14228773e-01 -7.65573144e-01  2.05081478e-01 -7.29660869e-01\n",
      "  3.36978920e-02  7.23534584e-01  1.28530478e+00 -9.50514615e-01\n",
      "  8.51437032e-01  2.59125173e-01 -4.09244783e-02  3.89990717e-01\n",
      "  5.78320444e-01 -1.34071982e+00  1.38531089e-01  1.15599024e+00\n",
      "  4.92055088e-01  1.32260275e+00 -5.75016618e-01 -7.51480877e-01\n",
      "  1.61559388e-01 -4.29355472e-01 -9.63180423e-01 -3.69740099e-01\n",
      "  1.74616110e+00 -4.18908238e-01 -1.22624457e+00  5.90766847e-01\n",
      "  3.88936877e-01 -3.85732114e-01  1.06444526e+00 -4.50784892e-01\n",
      " -1.21129692e-01 -1.57386959e-01  3.79523814e-01  4.97537732e-01\n",
      " -5.99433005e-01 -4.60823059e-01  5.74401200e-01  3.08779448e-01\n",
      "  9.18679386e-02 -3.78857076e-01 -6.95805311e-01  1.21322796e-01\n",
      " -1.89310476e-01  4.25633997e-01  1.99344426e-01  1.56968641e+00\n",
      "  9.40850616e-01 -1.34952509e+00  1.17626512e+00 -1.24166019e-01\n",
      "  4.69113141e-01 -9.56125200e-01 -6.64725959e-01  1.64930367e+00\n",
      "  2.16688663e-01 -2.60989338e-01  1.22752294e-01  1.68662405e+00\n",
      " -1.60381353e+00  9.71875429e-01  1.47763085e+00  4.88234721e-02\n",
      " -4.68824923e-01 -6.78311169e-01  5.37686050e-01  6.73141062e-01]\n"
     ]
    }
   ],
   "source": [
    "#Rendimiento del modelo\n",
    "vector = model.wv['ecuador']\n",
    "print(vector)"
   ]
  },
  {
   "cell_type": "code",
   "execution_count": 20,
   "id": "b98d659e",
   "metadata": {},
   "outputs": [
    {
     "data": {
      "text/plain": [
       "[('pais', 0.7245911359786987),\n",
       " ('unidos', 0.6784948706626892),\n",
       " ('ecuad', 0.6742708683013916),\n",
       " ('europa', 0.6740425229072571),\n",
       " ('peru', 0.66597980260849),\n",
       " ('mexico', 0.6231278777122498),\n",
       " ('escandinavia', 0.618388295173645),\n",
       " ('relacionadas', 0.6164857745170593),\n",
       " ('relaciondas', 0.6158590316772461),\n",
       " ('acontecio', 0.6130563616752625)]"
      ]
     },
     "execution_count": 20,
     "metadata": {},
     "output_type": "execute_result"
    }
   ],
   "source": [
    "palabras_cercanas = model.wv.most_similar(\"ecuador\", topn=10)\n",
    "palabras_cercanas"
   ]
  },
  {
   "cell_type": "code",
   "execution_count": 21,
   "id": "ad5c41c6",
   "metadata": {},
   "outputs": [
    {
     "data": {
      "text/plain": [
       "[('barcelona', 0.9803011417388916),\n",
       " ('aucas', 0.977253794670105),\n",
       " ('sc', 0.9754596948623657),\n",
       " ('fc', 0.9572145342826843),\n",
       " ('delfin', 0.9545479416847229),\n",
       " ('astillero', 0.9447503685951233),\n",
       " ('orense', 0.9426634907722473),\n",
       " ('visitante', 0.9360326528549194),\n",
       " ('golea', 0.9323559999465942),\n",
       " ('independiente', 0.931757926940918)]"
      ]
     },
     "execution_count": 21,
     "metadata": {},
     "output_type": "execute_result"
    }
   ],
   "source": [
    "palabras_cercanas = model.wv.most_similar(\"emelec\", topn=10)\n",
    "palabras_cercanas"
   ]
  },
  {
   "cell_type": "code",
   "execution_count": 22,
   "id": "867c2f2e",
   "metadata": {},
   "outputs": [
    {
     "data": {
      "text/plain": [
       "[('machala', 0.947029173374176),\n",
       " ('monte', 0.9442923069000244),\n",
       " ('pascuales', 0.9426481127738953),\n",
       " ('ubicada', 0.940095067024231),\n",
       " ('portoviejo', 0.9394509196281433),\n",
       " ('bellavista', 0.9363991022109985),\n",
       " ('riobamba', 0.935188889503479),\n",
       " ('caraquez', 0.9348723292350769),\n",
       " ('manta', 0.9330469965934753),\n",
       " ('daule', 0.9308971166610718)]"
      ]
     },
     "execution_count": 22,
     "metadata": {},
     "output_type": "execute_result"
    }
   ],
   "source": [
    "palabras_cercanas = model.wv.most_similar(\"ambato\", topn=10)\n",
    "palabras_cercanas"
   ]
  },
  {
   "cell_type": "code",
   "execution_count": 23,
   "id": "48f9f93c",
   "metadata": {},
   "outputs": [
    {
     "data": {
      "text/plain": [
       "[('expresidente', 0.9656447768211365),\n",
       " ('rafael', 0.9479016661643982),\n",
       " ('luque', 0.9452055096626282),\n",
       " ('lenin', 0.9371289014816284),\n",
       " ('avellan', 0.9284772872924805),\n",
       " ('borrero', 0.9179831743240356),\n",
       " ('ulloa', 0.9177480340003967),\n",
       " ('legislador', 0.917218029499054),\n",
       " ('vladimir', 0.9169743657112122),\n",
       " ('exsecretario', 0.9159059524536133)]"
      ]
     },
     "execution_count": 23,
     "metadata": {},
     "output_type": "execute_result"
    }
   ],
   "source": [
    "palabras_cercanas = model.wv.most_similar(\"correa\", topn=10)\n",
    "palabras_cercanas"
   ]
  },
  {
   "cell_type": "code",
   "execution_count": 24,
   "id": "1cad1b29",
   "metadata": {},
   "outputs": [
    {
     "data": {
      "text/plain": [
       "[('republica', 0.8926592469215393),\n",
       " ('vladimir', 0.8861210346221924),\n",
       " ('volodimir', 0.8848218321800232),\n",
       " ('iza', 0.876432478427887),\n",
       " ('leonidas', 0.8727254867553711),\n",
       " ('biden', 0.8717586994171143),\n",
       " ('lasso', 0.8697616457939148),\n",
       " ('guillermo', 0.8647652268409729),\n",
       " ('gianni', 0.8626041412353516),\n",
       " ('joe', 0.8615625500679016)]"
      ]
     },
     "execution_count": 24,
     "metadata": {},
     "output_type": "execute_result"
    }
   ],
   "source": [
    "palabras_cercanas = model.wv.most_similar(\"presidente\", topn=10)\n",
    "palabras_cercanas"
   ]
  },
  {
   "cell_type": "code",
   "execution_count": 25,
   "id": "c89d8eca",
   "metadata": {},
   "outputs": [
    {
     "data": {
      "text/plain": [
       "[('pandemia', 0.8949280381202698),\n",
       " ('coronavirus', 0.8377034068107605),\n",
       " ('influenza', 0.83269202709198),\n",
       " ('contagios', 0.8287535905838013),\n",
       " ('aviar', 0.8158444762229919),\n",
       " ('brote', 0.8154146075248718),\n",
       " ('rebrote', 0.807594358921051),\n",
       " ('virus', 0.7981782555580139),\n",
       " ('gripe', 0.7963671684265137),\n",
       " ('viruela', 0.7957993149757385)]"
      ]
     },
     "execution_count": 25,
     "metadata": {},
     "output_type": "execute_result"
    }
   ],
   "source": [
    "palabras_cercanas = model.wv.most_similar(\"covid\", topn=10)\n",
    "palabras_cercanas"
   ]
  },
  {
   "cell_type": "code",
   "execution_count": 29,
   "id": "6701c99b",
   "metadata": {},
   "outputs": [],
   "source": [
    "from sklearn.decomposition import PCA\n",
    "from matplotlib import pyplot"
   ]
  },
  {
   "cell_type": "code",
   "execution_count": 30,
   "id": "ea1e26d3",
   "metadata": {},
   "outputs": [],
   "source": [
    "## Next you have some necessary steps part of the transformation of 300dim to 2D in order \n",
    "pca = PCA(n_components=2)"
   ]
  },
  {
   "cell_type": "code",
   "execution_count": 31,
   "id": "d9313298",
   "metadata": {},
   "outputs": [],
   "source": [
    "# you can think of a group of words that make sense to be together/far away to view in the plot\n",
    "toplot_words = ['amor', 'bueno', 'feliz', 'corazon', 'paz',#words about positive feelings\n",
    "'champions', 'league', 'chelsea', 'emelec', 'barcelona',#futbal-related terms\n",
    "'facebook', 'youtube', 'instagram', 'twitter' #media-related words\n",
    "]"
   ]
  },
  {
   "cell_type": "code",
   "execution_count": 32,
   "id": "8b031307",
   "metadata": {},
   "outputs": [],
   "source": [
    "toplot_vecs = [model.wv[w] for w in toplot_words] #getting the vectors for the specific words"
   ]
  },
  {
   "cell_type": "code",
   "execution_count": 33,
   "id": "3c7968d4",
   "metadata": {},
   "outputs": [
    {
     "data": {
      "image/png": "[encoded data removed]",
      "text/plain": [
       "<Figure size 640x480 with 1 Axes>"
      ]
     },
     "metadata": {},
     "output_type": "display_data"
    }
   ],
   "source": [
    "result = pca.fit_transform(toplot_vecs) #call to pca for transformation\n",
    "#print(result)\n",
    "# finally plotting...\n",
    "pyplot.scatter(result[:, 0], result[:, 1]) #result[:, 0] para eje x y result[:, 1] para eje y\n",
    "for i, word in enumerate(toplot_words):\n",
    "    pyplot.annotate(word, xy=(result[i, 0], result[i, 1]))\n",
    "pyplot.show()"
   ]
  },
  {
   "cell_type": "code",
   "execution_count": 34,
   "id": "5aed25da",
   "metadata": {},
   "outputs": [
    {
     "data": {
      "text/plain": [
       "[('visita', 0.7915116548538208),\n",
       " ('lula', 0.7771177887916565),\n",
       " ('ceremonia', 0.7674024701118469),\n",
       " ('wikileaks', 0.7663771510124207),\n",
       " ('mexicano', 0.7617402076721191),\n",
       " ('viajara', 0.7599804401397705),\n",
       " ('abdelfatah', 0.7586992979049683),\n",
       " ('bento', 0.7530069947242737),\n",
       " ('inacio', 0.7509164810180664),\n",
       " ('venezuela', 0.7508077025413513)]"
      ]
     },
     "execution_count": 34,
     "metadata": {},
     "output_type": "execute_result"
    }
   ],
   "source": [
    "similar_words = model.wv.most_similar(positive=['biden', 'mexico'], negative=['ee.uu'], topn=10)\n",
    "similar_words"
   ]
  },
  {
   "cell_type": "code",
   "execution_count": 35,
   "id": "4bdc2f3b",
   "metadata": {},
   "outputs": [
    {
     "data": {
      "text/plain": [
       "[('empresario', 0.6481930613517761),\n",
       " ('alocucion', 0.6469662189483643),\n",
       " ('moraga', 0.6383079886436462),\n",
       " ('hoyle', 0.635648787021637),\n",
       " ('desvirtuo', 0.6341490745544434),\n",
       " ('carta', 0.6309614777565002),\n",
       " ('luque', 0.6267692446708679),\n",
       " ('manifesto', 0.624697744846344),\n",
       " ('curriculum', 0.6243391036987305),\n",
       " ('banegas', 0.6230524182319641)]"
      ]
     },
     "execution_count": 35,
     "metadata": {},
     "output_type": "execute_result"
    }
   ],
   "source": [
    "similar_words = model.wv.most_similar(positive=['flores', 'quito'], negative=['ambato'], topn=10)\n",
    "similar_words"
   ]
  },
  {
   "cell_type": "code",
   "execution_count": null,
   "id": "7515c7f6",
   "metadata": {},
   "outputs": [],
   "source": [
    "similar_words = model.wv.most_similar(positive=['asamblea', 'presidente'], negative=['asambleista'], topn=10)\n",
    "similar_words"
   ]
  },
  {
   "cell_type": "code",
   "execution_count": null,
   "id": "529705cd",
   "metadata": {},
   "outputs": [],
   "source": [
    "similar_words = model.wv.most_similar(positive=['emprendimiento', 'educacion'], negative=['empresa'],topn=10)\n",
    "similar_words"
   ]
  },
  {
   "cell_type": "code",
   "execution_count": null,
   "id": "3c4b4fee",
   "metadata": {},
   "outputs": [],
   "source": [
    "similar_words = model.wv.most_similar(positive=['salud', 'escuela'], negative=['hospital'], topn=10)\n",
    "similar_words"
   ]
  },
  {
   "cell_type": "code",
   "execution_count": null,
   "id": "d6bebd32",
   "metadata": {},
   "outputs": [],
   "source": [
    "similar_words = model.wv.most_similar(positive=['ladron', 'alcaldia'], negative=['sicariato'], topn=10)\n",
    "similar_words"
   ]
  },
  {
   "cell_type": "code",
   "execution_count": null,
   "id": "59005015",
   "metadata": {},
   "outputs": [],
   "source": [
    "similar_words = model.wv.most_similar(positive=['ciudad', 'ciudad'], negative=['pais'], topn=10)\n",
    "similar_words"
   ]
  },
  {
   "cell_type": "code",
   "execution_count": null,
   "id": "5d46380f",
   "metadata": {},
   "outputs": [],
   "source": [
    "similar_words = model.wv.most_similar(positive=['caces', 'salud'], negative=['educacion'], topn=10)\n",
    "similar_words"
   ]
  },
  {
   "cell_type": "code",
   "execution_count": null,
   "id": "654e3241",
   "metadata": {},
   "outputs": [],
   "source": [
    "similar_words = model.wv.most_similar(positive=['hospital', 'futbolista'], negative=['medico'], topn=10)\n",
    "similar_words"
   ]
  },
  {
   "cell_type": "code",
   "execution_count": null,
   "id": "b55296db",
   "metadata": {},
   "outputs": [],
   "source": [
    "# Calculate cosine similarity between word vectors\n",
    "sim1 = model.wv.similarity('obama', 'maduro')\n",
    "sim2 = model.wv.similarity('obama', 'trump')\n",
    "sim3 = model.wv.similarity('obama', 'shakira')\n",
    "print('Similarity between \"obama\" and \"maduro\":', sim1)\n",
    "print('Similarity between \"obama\" and \"trump\":', sim2)\n",
    "print('Similarity between \"obama\" and \"shakira\":', sim3)"
   ]
  },
  {
   "cell_type": "code",
   "execution_count": null,
   "id": "19fe12d6",
   "metadata": {},
   "outputs": [],
   "source": [
    "# Calculate cosine similarity between word vectors\n",
    "sim1 = model.wv.similarity('universidad', 'ciencia')\n",
    "sim2 = model.wv.similarity('universidad', 'investigacion')\n",
    "sim3 = model.wv.similarity('universidad', 'futbol')\n",
    "print('Similarity between \"universidad\" and \"ciencia\":', sim1)\n",
    "print('Similarity between \"universidad\" and \"investigacion\":', sim2)\n",
    "print('Similarity between \"universidad\" and \"futbol\":', sim3)"
   ]
  },
  {
   "cell_type": "code",
   "execution_count": null,
   "id": "d9939033",
   "metadata": {},
   "outputs": [],
   "source": [
    "# Calculate cosine similarity between word vectors\n",
    "sim1 = model.wv.similarity('medico', 'hospital')\n",
    "sim2 = model.wv.similarity('medico', 'cancha')\n",
    "sim3 = model.wv.similarity('medico', 'empresa')\n",
    "print('Similarity between \"medico\" and \"hospital\":', sim1)\n",
    "print('Similarity between \"medico\" and \"cancha\":', sim2)\n",
    "print('Similarity between \"medico\" and \"empresa\":', sim3)"
   ]
  },
  {
   "cell_type": "code",
   "execution_count": null,
   "id": "02a06c41",
   "metadata": {},
   "outputs": [],
   "source": [
    "# Calculate cosine similarity between word vectors\n",
    "sim1 = model.wv.similarity('emprendimiento', 'negocio')\n",
    "sim2 = model.wv.similarity('emprendimiento', 'innovacion')\n",
    "sim3 = model.wv.similarity('emprendimiento', 'desarrollo')\n",
    "print('Similarity between \"emprendimiento\" and \"negocio\":', sim1)\n",
    "print('Similarity between \"emprendimiento\" and \"innovacion\":', sim2)\n",
    "print('Similarity between \"emprendimiento\" and \"desarrollo\":', sim3)"
   ]
  },
  {
   "cell_type": "code",
   "execution_count": null,
   "id": "b8f3e3da",
   "metadata": {},
   "outputs": [],
   "source": [
    "# Calculate cosine similarity between word vectors\n",
    "sim1 = model.wv.similarity('coach', 'retroalimentacion')\n",
    "sim2 = model.wv.similarity('coach', 'equipo')\n",
    "sim3 = model.wv.similarity('coach', 'entrenadores')\n",
    "print('Similarity between \"coach\" and \"retroalimentacion\":', sim1)\n",
    "print('Similarity between \"coach\" and \"equipo\":', sim2)\n",
    "print('Similarity between \"coach\" and \"entrenadores\":', sim3)"
   ]
  },
  {
   "cell_type": "code",
   "execution_count": null,
   "id": "4c551e71",
   "metadata": {},
   "outputs": [],
   "source": [
    "# Calculate cosine similarity between word vectors\n",
    "sim1 = model.wv.similarity('experiencia', 'conocimiento')\n",
    "sim2 = model.wv.similarity('experiencia', 'habilidades')\n",
    "sim3 = model.wv.similarity('experiencia', 'aprendizaje')\n",
    "print('Similarity between \"experiencia\" and \"conocimiento\":', sim1)\n",
    "print('Similarity between \"experiencia\" and \"habilidades\":', sim2)\n",
    "print('Similarity between \"experiencia\" and \"aprendizaje\":', sim3)"
   ]
  },
  {
   "cell_type": "code",
   "execution_count": null,
   "id": "96ee48a3",
   "metadata": {},
   "outputs": [],
   "source": [
    "# Calculate cosine similarity between word vectors\n",
    "sim1 = model.wv.similarity('innovacion', 'tecnologia')\n",
    "sim2 = model.wv.similarity('innovacion', 'creatividad')\n",
    "sim3 = model.wv.similarity('innovacion', 'nuevo')\n",
    "print('Similarity between \"innovacion\" and \"tecnologia\":', sim1)\n",
    "print('Similarity between \"innovacion\" and \"creatividad\":', sim2)\n",
    "print('Similarity between \"innovacion\" and \"nuevo\":', sim3)"
   ]
  },
  {
   "cell_type": "code",
   "execution_count": null,
   "id": "5367c615",
   "metadata": {},
   "outputs": [],
   "source": []
  },
  {
   "cell_type": "code",
   "execution_count": null,
   "id": "18506d7a",
   "metadata": {},
   "outputs": [],
   "source": []
  }
 ],
 "metadata": {
  "kernelspec": {
   "display_name": "Python 3",
   "language": "python",
   "name": "python3"
  },
  "language_info": {
   "codemirror_mode": {
    "name": "ipython",
    "version": 3
   },
   "file_extension": ".py",
   "mimetype": "text/x-python",
   "name": "python",
   "nbconvert_exporter": "python",
   "pygments_lexer": "ipython3",
   "version": "3.11.4"
  }
 },
 "nbformat": 4,
 "nbformat_minor": 5
}
