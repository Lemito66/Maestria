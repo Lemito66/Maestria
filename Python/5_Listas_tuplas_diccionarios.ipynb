{
 "cells": [
  {
   "cell_type": "code",
   "execution_count": 1,
   "metadata": {},
   "outputs": [
    {
     "name": "stdout",
     "output_type": "stream",
     "text": [
      "[1, 2, 3, 4, 5]\n"
     ]
    }
   ],
   "source": [
    "list_one = [1, 2, 3, 4, 5]\n",
    "list_two = [6, 7, 8, 9, 10]\n",
    "print(list_one)"
   ]
  },
  {
   "cell_type": "code",
   "execution_count": 2,
   "metadata": {},
   "outputs": [
    {
     "name": "stdout",
     "output_type": "stream",
     "text": [
      "[1, 2, 3, 4, 5, 6]\n"
     ]
    }
   ],
   "source": [
    "# Insertar al final de la lista\n",
    "list_one.append(6)\n",
    "\n",
    "print(list_one)"
   ]
  },
  {
   "cell_type": "code",
   "execution_count": 3,
   "metadata": {},
   "outputs": [
    {
     "name": "stdout",
     "output_type": "stream",
     "text": [
      "[1, 2, 3, 4, 5]\n"
     ]
    }
   ],
   "source": [
    "# Remove, remueve el primer elemento que coincida con el valor\n",
    "list_one.remove(6)\n",
    "print(list_one)"
   ]
  },
  {
   "cell_type": "code",
   "execution_count": 4,
   "metadata": {},
   "outputs": [
    {
     "name": "stdout",
     "output_type": "stream",
     "text": [
      "4\n"
     ]
    }
   ],
   "source": [
    "# index devuelve el indice del elemento\n",
    "print(list_one.index(5))"
   ]
  },
  {
   "cell_type": "code",
   "execution_count": 5,
   "metadata": {},
   "outputs": [
    {
     "name": "stdout",
     "output_type": "stream",
     "text": [
      "1\n"
     ]
    }
   ],
   "source": [
    "# count devuelve la cantidad de veces que aparece el elemento\n",
    "print(list_one.count(5))"
   ]
  },
  {
   "cell_type": "markdown",
   "metadata": {},
   "source": [
    "# Tuplas"
   ]
  },
  {
   "cell_type": "code",
   "execution_count": 6,
   "metadata": {},
   "outputs": [
    {
     "name": "stdout",
     "output_type": "stream",
     "text": [
      "(1, 2, 3, 4, 5, 1)\n"
     ]
    }
   ],
   "source": [
    "# Las tuplas son inmutables, las listas son mutables\n",
    "\n",
    "my_tuple = (1, 2, 3, 4, 5, 1)\n",
    "print(my_tuple)"
   ]
  },
  {
   "cell_type": "code",
   "execution_count": 7,
   "metadata": {},
   "outputs": [
    {
     "name": "stdout",
     "output_type": "stream",
     "text": [
      "6\n"
     ]
    }
   ],
   "source": [
    "# Longitud\n",
    "print(len(my_tuple))"
   ]
  },
  {
   "cell_type": "code",
   "execution_count": 8,
   "metadata": {},
   "outputs": [
    {
     "data": {
      "text/plain": [
       "0"
      ]
     },
     "execution_count": 8,
     "metadata": {},
     "output_type": "execute_result"
    }
   ],
   "source": [
    "#my_tuple.append() # No se puede hacer\n",
    "#my_tuple.remove() # No se puede hacer\n",
    "#my_tuple.index() # No se puede hacer\n",
    "# Lo que si se puede hacer \n",
    "my_tuple.count(1) # Si se puede hacer\n",
    "my_tuple.index(1) # Si se puede hacer\n"
   ]
  },
  {
   "cell_type": "code",
   "execution_count": 9,
   "metadata": {},
   "outputs": [
    {
     "name": "stdout",
     "output_type": "stream",
     "text": [
      "\u001b[1;31mSignature:\u001b[0m \u001b[0mmy_tuple\u001b[0m\u001b[1;33m.\u001b[0m\u001b[0mindex\u001b[0m\u001b[1;33m(\u001b[0m\u001b[0mvalue\u001b[0m\u001b[1;33m,\u001b[0m \u001b[0mstart\u001b[0m\u001b[1;33m=\u001b[0m\u001b[1;36m0\u001b[0m\u001b[1;33m,\u001b[0m \u001b[0mstop\u001b[0m\u001b[1;33m=\u001b[0m\u001b[1;36m9223372036854775807\u001b[0m\u001b[1;33m,\u001b[0m \u001b[1;33m/\u001b[0m\u001b[1;33m)\u001b[0m\u001b[1;33m\u001b[0m\u001b[1;33m\u001b[0m\u001b[0m\n",
      "\u001b[1;31mDocstring:\u001b[0m\n",
      "Return first index of value.\n",
      "\n",
      "Raises ValueError if the value is not present.\n",
      "\u001b[1;31mType:\u001b[0m      builtin_function_or_method"
     ]
    }
   ],
   "source": [
    "# Saber la documentación de la función\n",
    "my_tuple.index?"
   ]
  },
  {
   "cell_type": "code",
   "execution_count": 10,
   "metadata": {},
   "outputs": [
    {
     "data": {
      "text/plain": [
       "5"
      ]
     },
     "execution_count": 10,
     "metadata": {},
     "output_type": "execute_result"
    }
   ],
   "source": [
    "# Buscar el valor desde la posición 2\n",
    "my_tuple.index(1, 2)"
   ]
  },
  {
   "cell_type": "code",
   "execution_count": 11,
   "metadata": {},
   "outputs": [
    {
     "name": "stdout",
     "output_type": "stream",
     "text": [
      "(1, 2, 3, 4, 5, 1, 1, 2, 3, 4, 5)\n"
     ]
    }
   ],
   "source": [
    "# transformar una lista en una tupla\n",
    "transform_list_to_tuple = my_tuple + tuple(list_one)\n",
    "print(transform_list_to_tuple)\n"
   ]
  },
  {
   "cell_type": "markdown",
   "metadata": {},
   "source": [
    "# Set"
   ]
  },
  {
   "cell_type": "code",
   "execution_count": 12,
   "metadata": {},
   "outputs": [],
   "source": [
    "fruits = {'apple', 'banana', 'cherry', 'tomato'}\n",
    "vegetables = {'tomato', 'potato', 'carrot'}"
   ]
  },
  {
   "cell_type": "code",
   "execution_count": 13,
   "metadata": {},
   "outputs": [
    {
     "name": "stdout",
     "output_type": "stream",
     "text": [
      "<class 'set'>\n",
      "<class 'set'>\n"
     ]
    }
   ],
   "source": [
    "print(type(fruits))\n",
    "print(type(vegetables))"
   ]
  },
  {
   "cell_type": "code",
   "execution_count": 14,
   "metadata": {},
   "outputs": [
    {
     "name": "stdout",
     "output_type": "stream",
     "text": [
      "{'banana', 'carrot', 'apple', 'tomato', 'potato', 'cherry'}\n",
      "{'tomato'}\n",
      "{'banana', 'apple', 'cherry'}\n"
     ]
    }
   ],
   "source": [
    "# En conjuntos no se mantienen el orden ni repetidos\n",
    "union_set = fruits.union(vegetables)\n",
    "print(union_set)\n",
    "intersection_set = fruits.intersection(vegetables)\n",
    "print(intersection_set)\n",
    "difference_set = fruits.difference(vegetables)\n",
    "print(difference_set)"
   ]
  },
  {
   "cell_type": "markdown",
   "metadata": {},
   "source": [
    "# Diccionarios"
   ]
  },
  {
   "cell_type": "code",
   "execution_count": 15,
   "metadata": {},
   "outputs": [
    {
     "name": "stdout",
     "output_type": "stream",
     "text": [
      "5\n"
     ]
    }
   ],
   "source": [
    "dictionary_of_best_friends = {\n",
    "    'mejores_amigos': ['Ana', 'Tomas'],\n",
    "    'conocidos': ['Juan', 'Pedro'],\n",
    "    'enemigos': ['Carlos', 'Luis'],\n",
    "    'familia': ['Mama', 'Papa'],\n",
    "    'compañeros': ['Maria', 'Jose'],\n",
    "    \n",
    "}\n",
    "\n",
    "print(len(dictionary_of_best_friends))"
   ]
  },
  {
   "cell_type": "code",
   "execution_count": 16,
   "metadata": {},
   "outputs": [
    {
     "name": "stdout",
     "output_type": "stream",
     "text": [
      "['Maria', 'Jose']\n"
     ]
    }
   ],
   "source": [
    "#Acceder a los compañeros\n",
    "print(dictionary_of_best_friends['compañeros'])"
   ]
  },
  {
   "cell_type": "code",
   "execution_count": 17,
   "metadata": {},
   "outputs": [
    {
     "name": "stdout",
     "output_type": "stream",
     "text": [
      "dict_keys(['mejores_amigos', 'conocidos', 'enemigos', 'familia', 'compañeros'])\n",
      "dict_values([['Ana', 'Tomas'], ['Juan', 'Pedro'], ['Carlos', 'Luis'], ['Mama', 'Papa'], ['Maria', 'Jose']])\n",
      "dict_items([('mejores_amigos', ['Ana', 'Tomas']), ('conocidos', ['Juan', 'Pedro']), ('enemigos', ['Carlos', 'Luis']), ('familia', ['Mama', 'Papa']), ('compañeros', ['Maria', 'Jose'])])\n"
     ]
    }
   ],
   "source": [
    "#Funciones del diccionario\n",
    "print(dictionary_of_best_friends.keys()) # Devuelve las claves\n",
    "print(dictionary_of_best_friends.values()) # Devuelve los valores\n",
    "print(dictionary_of_best_friends.items()) # Devuelve los items\n"
   ]
  },
  {
   "cell_type": "code",
   "execution_count": 18,
   "metadata": {},
   "outputs": [],
   "source": [
    "# Añadir un nuevo amigo\n",
    "\n",
    "dictionary_of_best_friends['mejores_amigos'].append('Luis')\n",
    "\n"
   ]
  },
  {
   "cell_type": "code",
   "execution_count": 19,
   "metadata": {},
   "outputs": [
    {
     "name": "stdout",
     "output_type": "stream",
     "text": [
      "['Ana', 'Tomas', 'Luis']\n"
     ]
    }
   ],
   "source": [
    "print(dictionary_of_best_friends['mejores_amigos'])"
   ]
  },
  {
   "cell_type": "code",
   "execution_count": 20,
   "metadata": {},
   "outputs": [],
   "source": [
    "# Añadir una nueva clave\n",
    "\n",
    "dictionary_of_best_friends['conocidos'] = ['Luisa', 'Maria']"
   ]
  },
  {
   "cell_type": "code",
   "execution_count": 21,
   "metadata": {},
   "outputs": [
    {
     "name": "stdout",
     "output_type": "stream",
     "text": [
      "{'mejores_amigos': ['Ana', 'Tomas', 'Luis'], 'conocidos': ['Luisa', 'Maria'], 'enemigos': ['Carlos', 'Luis'], 'familia': ['Mama', 'Papa'], 'compañeros': ['Maria', 'Jose']}\n"
     ]
    }
   ],
   "source": [
    "print(dictionary_of_best_friends)"
   ]
  },
  {
   "cell_type": "code",
   "execution_count": 22,
   "metadata": {},
   "outputs": [
    {
     "name": "stdout",
     "output_type": "stream",
     "text": [
      "{'mejores_amigos': ['Ana', 'Tomas', 'Luis'], 'conocidos': ['Luisa', 'Maria'], 'enemigos': ['Carlos', 'Luis'], 'familia': ['Mama', 'Papa'], 'compañeros': ['Maria', 'Jose'], 'vecinos': ['Juan', 'Pedro', 'Luisa']}\n"
     ]
    }
   ],
   "source": [
    "#Juntar un diccionario con otro\n",
    "neiborhood_friends = { \n",
    "    'vecinos': ['Juan', 'Pedro', 'Luisa']\n",
    "}\n",
    "\n",
    "dictionary_of_best_friends.update(neiborhood_friends)\n",
    "\n",
    "print(dictionary_of_best_friends)"
   ]
  },
  {
   "cell_type": "code",
   "execution_count": 23,
   "metadata": {},
   "outputs": [
    {
     "name": "stdout",
     "output_type": "stream",
     "text": [
      "['Juan', 'Pedro', 'Luisa']\n"
     ]
    }
   ],
   "source": [
    "# Sacando el valor de una clave\n",
    "print(dictionary_of_best_friends.pop('vecinos'))"
   ]
  }
 ],
 "metadata": {
  "kernelspec": {
   "display_name": "venv",
   "language": "python",
   "name": "python3"
  },
  "language_info": {
   "codemirror_mode": {
    "name": "ipython",
    "version": 3
   },
   "file_extension": ".py",
   "mimetype": "text/x-python",
   "name": "python",
   "nbconvert_exporter": "python",
   "pygments_lexer": "ipython3",
   "version": "3.11.4"
  },
  "orig_nbformat": 4
 },
 "nbformat": 4,
 "nbformat_minor": 2
}
