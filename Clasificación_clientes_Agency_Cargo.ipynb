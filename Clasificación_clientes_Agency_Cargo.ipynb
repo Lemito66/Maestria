{
  "nbformat": 4,
  "nbformat_minor": 0,
  "metadata": {
    "colab": {
      "provenance": [],
      "include_colab_link": true
    },
    "kernelspec": {
      "name": "python3",
      "display_name": "Python 3"
    },
    "language_info": {
      "name": "python"
    }
  },
  "cells": [
    {
      "cell_type": "markdown",
      "metadata": {
        "id": "view-in-github",
        "colab_type": "text"
      },
      "source": [
        "<a href=\"https://colab.research.google.com/github/Lemito66/Maestria/blob/master/Clasificaci%C3%B3n_clientes_Agency_Cargo.ipynb\" target=\"_parent\"><img src=\"https://colab.research.google.com/assets/colab-badge.svg\" alt=\"Open In Colab\"/></a>"
      ]
    },
    {
      "cell_type": "code",
      "source": [
        "import sys\n",
        "import numpy as np\n",
        "import pandas as pd\n",
        "import scipy\n",
        "import scipy.stats as stats\n",
        "import seaborn as sns\n",
        "import matplotlib\n",
        "import matplotlib.pyplot as plt\n",
        "from datetime import date"
      ],
      "metadata": {
        "id": "gD4DntPQITWn"
      },
      "execution_count": null,
      "outputs": []
    },
    {
      "cell_type": "code",
      "execution_count": null,
      "metadata": {
        "id": "p-_mYJDIIJuc"
      },
      "outputs": [],
      "source": [
        "sales = pd.read_excel('Agency Cargo 2022Rev.xlsx')"
      ]
    },
    {
      "cell_type": "markdown",
      "source": [
        "# Preparación de los datos"
      ],
      "metadata": {
        "id": "pvMTO0T9nXNQ"
      }
    },
    {
      "cell_type": "code",
      "source": [
        "# Me aseguro que las fechas estén en formato de fecha.\n",
        "sales['AWB Date'] = pd.to_datetime(sales['AWB Date'])\n",
        "\n",
        "sales.sort_values(by='AWB Date', ascending = False).head()"
      ],
      "metadata": {
        "id": "E5_gVv7MAtbn",
        "colab": {
          "base_uri": "https://localhost:8080/",
          "height": 457
        },
        "outputId": "967b47c3-6f10-44ce-b1cf-f1fe362a1a58"
      },
      "execution_count": null,
      "outputs": [
        {
          "output_type": "execute_result",
          "data": {
            "text/plain": [
              "        IT  Cod aerolínea     AWB No. SP   Wgt Charge  Tax AWB*  Due Carrier  \\\n",
              "6119  6120            235  235-6136 1005  8971.799805         0    35.000000   \n",
              "6117  6118            235  235-6136 0983  8611.610352         0    35.000000   \n",
              "6749  6750            369  369-8604 1616   454.079987         0   113.000000   \n",
              "6748  6749            369  369-8604 1605   831.299988         0   188.000000   \n",
              "2846  2847            145  145-0955 4031  2691.209961         0   224.059998   \n",
              "\n",
              "      Wgt Charge.1  Due Agent   AWB Date  Mes  ...    BXS  PCS  Neto  Volumen  \\\n",
              "6119           0.0        0.0 2022-12-31   12  ...  52.00  113  2296     2361   \n",
              "6117           0.0        0.0 2022-12-31   12  ...  46.25   98  2783     2861   \n",
              "6749           0.0        0.0 2022-12-31   12  ...   4.00    8   159      176   \n",
              "6748           0.0        0.0 2022-12-31   12  ...   7.00   23   326      326   \n",
              "2846           0.0        0.0 2022-12-31   12  ...  14.25   28   762      823   \n",
              "\n",
              "      RATE      ID CLIENTE  Due Agent.1          AWB  Handling    Total AWB  \n",
              "6119  3.80  21080321757996         12.5  9019.299805         0  9019.299805  \n",
              "6117  3.01      DMCC182926         59.0  8705.610352         0  8705.610352  \n",
              "6749  2.58     91244343806         20.0   587.080017         0   587.080017  \n",
              "6748  2.55   1725765406001         49.0  1068.300049         0  1068.300049  \n",
              "2846  3.27   1791405390001         99.0  3014.270020         0  3014.270020  \n",
              "\n",
              "[5 rows x 32 columns]"
            ],
            "text/html": [
              "\n",
              "  <div id=\"df-4f5f7315-3913-470f-9a75-d0c9a1b7f58c\" class=\"colab-df-container\">\n",
              "    <div>\n",
              "<style scoped>\n",
              "    .dataframe tbody tr th:only-of-type {\n",
              "        vertical-align: middle;\n",
              "    }\n",
              "\n",
              "    .dataframe tbody tr th {\n",
              "        vertical-align: top;\n",
              "    }\n",
              "\n",
              "    .dataframe thead th {\n",
              "        text-align: right;\n",
              "    }\n",
              "</style>\n",
              "<table border=\"1\" class=\"dataframe\">\n",
              "  <thead>\n",
              "    <tr style=\"text-align: right;\">\n",
              "      <th></th>\n",
              "      <th>IT</th>\n",
              "      <th>Cod aerolínea</th>\n",
              "      <th>AWB No. SP</th>\n",
              "      <th>Wgt Charge</th>\n",
              "      <th>Tax AWB*</th>\n",
              "      <th>Due Carrier</th>\n",
              "      <th>Wgt Charge.1</th>\n",
              "      <th>Due Agent</th>\n",
              "      <th>AWB Date</th>\n",
              "      <th>Mes</th>\n",
              "      <th>...</th>\n",
              "      <th>BXS</th>\n",
              "      <th>PCS</th>\n",
              "      <th>Neto</th>\n",
              "      <th>Volumen</th>\n",
              "      <th>RATE</th>\n",
              "      <th>ID CLIENTE</th>\n",
              "      <th>Due Agent.1</th>\n",
              "      <th>AWB</th>\n",
              "      <th>Handling</th>\n",
              "      <th>Total AWB</th>\n",
              "    </tr>\n",
              "  </thead>\n",
              "  <tbody>\n",
              "    <tr>\n",
              "      <th>6119</th>\n",
              "      <td>6120</td>\n",
              "      <td>235</td>\n",
              "      <td>235-6136 1005</td>\n",
              "      <td>8971.799805</td>\n",
              "      <td>0</td>\n",
              "      <td>35.000000</td>\n",
              "      <td>0.0</td>\n",
              "      <td>0.0</td>\n",
              "      <td>2022-12-31</td>\n",
              "      <td>12</td>\n",
              "      <td>...</td>\n",
              "      <td>52.00</td>\n",
              "      <td>113</td>\n",
              "      <td>2296</td>\n",
              "      <td>2361</td>\n",
              "      <td>3.80</td>\n",
              "      <td>21080321757996</td>\n",
              "      <td>12.5</td>\n",
              "      <td>9019.299805</td>\n",
              "      <td>0</td>\n",
              "      <td>9019.299805</td>\n",
              "    </tr>\n",
              "    <tr>\n",
              "      <th>6117</th>\n",
              "      <td>6118</td>\n",
              "      <td>235</td>\n",
              "      <td>235-6136 0983</td>\n",
              "      <td>8611.610352</td>\n",
              "      <td>0</td>\n",
              "      <td>35.000000</td>\n",
              "      <td>0.0</td>\n",
              "      <td>0.0</td>\n",
              "      <td>2022-12-31</td>\n",
              "      <td>12</td>\n",
              "      <td>...</td>\n",
              "      <td>46.25</td>\n",
              "      <td>98</td>\n",
              "      <td>2783</td>\n",
              "      <td>2861</td>\n",
              "      <td>3.01</td>\n",
              "      <td>DMCC182926</td>\n",
              "      <td>59.0</td>\n",
              "      <td>8705.610352</td>\n",
              "      <td>0</td>\n",
              "      <td>8705.610352</td>\n",
              "    </tr>\n",
              "    <tr>\n",
              "      <th>6749</th>\n",
              "      <td>6750</td>\n",
              "      <td>369</td>\n",
              "      <td>369-8604 1616</td>\n",
              "      <td>454.079987</td>\n",
              "      <td>0</td>\n",
              "      <td>113.000000</td>\n",
              "      <td>0.0</td>\n",
              "      <td>0.0</td>\n",
              "      <td>2022-12-31</td>\n",
              "      <td>12</td>\n",
              "      <td>...</td>\n",
              "      <td>4.00</td>\n",
              "      <td>8</td>\n",
              "      <td>159</td>\n",
              "      <td>176</td>\n",
              "      <td>2.58</td>\n",
              "      <td>91244343806</td>\n",
              "      <td>20.0</td>\n",
              "      <td>587.080017</td>\n",
              "      <td>0</td>\n",
              "      <td>587.080017</td>\n",
              "    </tr>\n",
              "    <tr>\n",
              "      <th>6748</th>\n",
              "      <td>6749</td>\n",
              "      <td>369</td>\n",
              "      <td>369-8604 1605</td>\n",
              "      <td>831.299988</td>\n",
              "      <td>0</td>\n",
              "      <td>188.000000</td>\n",
              "      <td>0.0</td>\n",
              "      <td>0.0</td>\n",
              "      <td>2022-12-31</td>\n",
              "      <td>12</td>\n",
              "      <td>...</td>\n",
              "      <td>7.00</td>\n",
              "      <td>23</td>\n",
              "      <td>326</td>\n",
              "      <td>326</td>\n",
              "      <td>2.55</td>\n",
              "      <td>1725765406001</td>\n",
              "      <td>49.0</td>\n",
              "      <td>1068.300049</td>\n",
              "      <td>0</td>\n",
              "      <td>1068.300049</td>\n",
              "    </tr>\n",
              "    <tr>\n",
              "      <th>2846</th>\n",
              "      <td>2847</td>\n",
              "      <td>145</td>\n",
              "      <td>145-0955 4031</td>\n",
              "      <td>2691.209961</td>\n",
              "      <td>0</td>\n",
              "      <td>224.059998</td>\n",
              "      <td>0.0</td>\n",
              "      <td>0.0</td>\n",
              "      <td>2022-12-31</td>\n",
              "      <td>12</td>\n",
              "      <td>...</td>\n",
              "      <td>14.25</td>\n",
              "      <td>28</td>\n",
              "      <td>762</td>\n",
              "      <td>823</td>\n",
              "      <td>3.27</td>\n",
              "      <td>1791405390001</td>\n",
              "      <td>99.0</td>\n",
              "      <td>3014.270020</td>\n",
              "      <td>0</td>\n",
              "      <td>3014.270020</td>\n",
              "    </tr>\n",
              "  </tbody>\n",
              "</table>\n",
              "<p>5 rows × 32 columns</p>\n",
              "</div>\n",
              "    <div class=\"colab-df-buttons\">\n",
              "\n",
              "  <div class=\"colab-df-container\">\n",
              "    <button class=\"colab-df-convert\" onclick=\"convertToInteractive('df-4f5f7315-3913-470f-9a75-d0c9a1b7f58c')\"\n",
              "            title=\"Convert this dataframe to an interactive table.\"\n",
              "            style=\"display:none;\">\n",
              "\n",
              "  <svg xmlns=\"http://www.w3.org/2000/svg\" height=\"24px\" viewBox=\"0 -960 960 960\">\n",
              "    <path d=\"M120-120v-720h720v720H120Zm60-500h600v-160H180v160Zm220 220h160v-160H400v160Zm0 220h160v-160H400v160ZM180-400h160v-160H180v160Zm440 0h160v-160H620v160ZM180-180h160v-160H180v160Zm440 0h160v-160H620v160Z\"/>\n",
              "  </svg>\n",
              "    </button>\n",
              "\n",
              "  <style>\n",
              "    .colab-df-container {\n",
              "      display:flex;\n",
              "      gap: 12px;\n",
              "    }\n",
              "\n",
              "    .colab-df-convert {\n",
              "      background-color: #E8F0FE;\n",
              "      border: none;\n",
              "      border-radius: 50%;\n",
              "      cursor: pointer;\n",
              "      display: none;\n",
              "      fill: #1967D2;\n",
              "      height: 32px;\n",
              "      padding: 0 0 0 0;\n",
              "      width: 32px;\n",
              "    }\n",
              "\n",
              "    .colab-df-convert:hover {\n",
              "      background-color: #E2EBFA;\n",
              "      box-shadow: 0px 1px 2px rgba(60, 64, 67, 0.3), 0px 1px 3px 1px rgba(60, 64, 67, 0.15);\n",
              "      fill: #174EA6;\n",
              "    }\n",
              "\n",
              "    .colab-df-buttons div {\n",
              "      margin-bottom: 4px;\n",
              "    }\n",
              "\n",
              "    [theme=dark] .colab-df-convert {\n",
              "      background-color: #3B4455;\n",
              "      fill: #D2E3FC;\n",
              "    }\n",
              "\n",
              "    [theme=dark] .colab-df-convert:hover {\n",
              "      background-color: #434B5C;\n",
              "      box-shadow: 0px 1px 3px 1px rgba(0, 0, 0, 0.15);\n",
              "      filter: drop-shadow(0px 1px 2px rgba(0, 0, 0, 0.3));\n",
              "      fill: #FFFFFF;\n",
              "    }\n",
              "  </style>\n",
              "\n",
              "    <script>\n",
              "      const buttonEl =\n",
              "        document.querySelector('#df-4f5f7315-3913-470f-9a75-d0c9a1b7f58c button.colab-df-convert');\n",
              "      buttonEl.style.display =\n",
              "        google.colab.kernel.accessAllowed ? 'block' : 'none';\n",
              "\n",
              "      async function convertToInteractive(key) {\n",
              "        const element = document.querySelector('#df-4f5f7315-3913-470f-9a75-d0c9a1b7f58c');\n",
              "        const dataTable =\n",
              "          await google.colab.kernel.invokeFunction('convertToInteractive',\n",
              "                                                    [key], {});\n",
              "        if (!dataTable) return;\n",
              "\n",
              "        const docLinkHtml = 'Like what you see? Visit the ' +\n",
              "          '<a target=\"_blank\" href=https://colab.research.google.com/notebooks/data_table.ipynb>data table notebook</a>'\n",
              "          + ' to learn more about interactive tables.';\n",
              "        element.innerHTML = '';\n",
              "        dataTable['output_type'] = 'display_data';\n",
              "        await google.colab.output.renderOutput(dataTable, element);\n",
              "        const docLink = document.createElement('div');\n",
              "        docLink.innerHTML = docLinkHtml;\n",
              "        element.appendChild(docLink);\n",
              "      }\n",
              "    </script>\n",
              "  </div>\n",
              "\n",
              "\n",
              "<div id=\"df-0eacdff5-2fac-4d20-a44c-44ec6192d606\">\n",
              "  <button class=\"colab-df-quickchart\" onclick=\"quickchart('df-0eacdff5-2fac-4d20-a44c-44ec6192d606')\"\n",
              "            title=\"Suggest charts.\"\n",
              "            style=\"display:none;\">\n",
              "\n",
              "<svg xmlns=\"http://www.w3.org/2000/svg\" height=\"24px\"viewBox=\"0 0 24 24\"\n",
              "     width=\"24px\">\n",
              "    <g>\n",
              "        <path d=\"M19 3H5c-1.1 0-2 .9-2 2v14c0 1.1.9 2 2 2h14c1.1 0 2-.9 2-2V5c0-1.1-.9-2-2-2zM9 17H7v-7h2v7zm4 0h-2V7h2v10zm4 0h-2v-4h2v4z\"/>\n",
              "    </g>\n",
              "</svg>\n",
              "  </button>\n",
              "\n",
              "<style>\n",
              "  .colab-df-quickchart {\n",
              "      --bg-color: #E8F0FE;\n",
              "      --fill-color: #1967D2;\n",
              "      --hover-bg-color: #E2EBFA;\n",
              "      --hover-fill-color: #174EA6;\n",
              "      --disabled-fill-color: #AAA;\n",
              "      --disabled-bg-color: #DDD;\n",
              "  }\n",
              "\n",
              "  [theme=dark] .colab-df-quickchart {\n",
              "      --bg-color: #3B4455;\n",
              "      --fill-color: #D2E3FC;\n",
              "      --hover-bg-color: #434B5C;\n",
              "      --hover-fill-color: #FFFFFF;\n",
              "      --disabled-bg-color: #3B4455;\n",
              "      --disabled-fill-color: #666;\n",
              "  }\n",
              "\n",
              "  .colab-df-quickchart {\n",
              "    background-color: var(--bg-color);\n",
              "    border: none;\n",
              "    border-radius: 50%;\n",
              "    cursor: pointer;\n",
              "    display: none;\n",
              "    fill: var(--fill-color);\n",
              "    height: 32px;\n",
              "    padding: 0;\n",
              "    width: 32px;\n",
              "  }\n",
              "\n",
              "  .colab-df-quickchart:hover {\n",
              "    background-color: var(--hover-bg-color);\n",
              "    box-shadow: 0 1px 2px rgba(60, 64, 67, 0.3), 0 1px 3px 1px rgba(60, 64, 67, 0.15);\n",
              "    fill: var(--button-hover-fill-color);\n",
              "  }\n",
              "\n",
              "  .colab-df-quickchart-complete:disabled,\n",
              "  .colab-df-quickchart-complete:disabled:hover {\n",
              "    background-color: var(--disabled-bg-color);\n",
              "    fill: var(--disabled-fill-color);\n",
              "    box-shadow: none;\n",
              "  }\n",
              "\n",
              "  .colab-df-spinner {\n",
              "    border: 2px solid var(--fill-color);\n",
              "    border-color: transparent;\n",
              "    border-bottom-color: var(--fill-color);\n",
              "    animation:\n",
              "      spin 1s steps(1) infinite;\n",
              "  }\n",
              "\n",
              "  @keyframes spin {\n",
              "    0% {\n",
              "      border-color: transparent;\n",
              "      border-bottom-color: var(--fill-color);\n",
              "      border-left-color: var(--fill-color);\n",
              "    }\n",
              "    20% {\n",
              "      border-color: transparent;\n",
              "      border-left-color: var(--fill-color);\n",
              "      border-top-color: var(--fill-color);\n",
              "    }\n",
              "    30% {\n",
              "      border-color: transparent;\n",
              "      border-left-color: var(--fill-color);\n",
              "      border-top-color: var(--fill-color);\n",
              "      border-right-color: var(--fill-color);\n",
              "    }\n",
              "    40% {\n",
              "      border-color: transparent;\n",
              "      border-right-color: var(--fill-color);\n",
              "      border-top-color: var(--fill-color);\n",
              "    }\n",
              "    60% {\n",
              "      border-color: transparent;\n",
              "      border-right-color: var(--fill-color);\n",
              "    }\n",
              "    80% {\n",
              "      border-color: transparent;\n",
              "      border-right-color: var(--fill-color);\n",
              "      border-bottom-color: var(--fill-color);\n",
              "    }\n",
              "    90% {\n",
              "      border-color: transparent;\n",
              "      border-bottom-color: var(--fill-color);\n",
              "    }\n",
              "  }\n",
              "</style>\n",
              "\n",
              "  <script>\n",
              "    async function quickchart(key) {\n",
              "      const quickchartButtonEl =\n",
              "        document.querySelector('#' + key + ' button');\n",
              "      quickchartButtonEl.disabled = true;  // To prevent multiple clicks.\n",
              "      quickchartButtonEl.classList.add('colab-df-spinner');\n",
              "      try {\n",
              "        const charts = await google.colab.kernel.invokeFunction(\n",
              "            'suggestCharts', [key], {});\n",
              "      } catch (error) {\n",
              "        console.error('Error during call to suggestCharts:', error);\n",
              "      }\n",
              "      quickchartButtonEl.classList.remove('colab-df-spinner');\n",
              "      quickchartButtonEl.classList.add('colab-df-quickchart-complete');\n",
              "    }\n",
              "    (() => {\n",
              "      let quickchartButtonEl =\n",
              "        document.querySelector('#df-0eacdff5-2fac-4d20-a44c-44ec6192d606 button');\n",
              "      quickchartButtonEl.style.display =\n",
              "        google.colab.kernel.accessAllowed ? 'block' : 'none';\n",
              "    })();\n",
              "  </script>\n",
              "</div>\n",
              "    </div>\n",
              "  </div>\n"
            ]
          },
          "metadata": {},
          "execution_count": 66
        }
      ]
    },
    {
      "cell_type": "markdown",
      "source": [
        "# Generación de las estadísticas"
      ],
      "metadata": {
        "id": "WPcIkWKwrPdf"
      }
    },
    {
      "cell_type": "code",
      "source": [
        "# Calcular las estadisticas: Fecha de la última compra de cada cliente (Recency), número de meses con compra por cliente (Frequency), suma de las ventas por cada cliente (Monetary).\n",
        "sales_stats = sales.pivot_table(values=['AWB Date', 'Mes', 'Total AWB'], index= ['ID CLIENTE'], aggfunc={'AWB Date': max, 'Mes': pd.Series.nunique, 'Total AWB': sum})\n",
        "\n",
        "# Ordenar por la columna 'Total AWB' en orden descendente (mayor a menor)\n",
        "sales_stats = sales_stats.sort_values(by='Total AWB', ascending=False)\n",
        "\n",
        "print(sales_stats)"
      ],
      "metadata": {
        "colab": {
          "base_uri": "https://localhost:8080/"
        },
        "id": "WaQ2BfHrFOZa",
        "outputId": "57476d03-a62d-4253-8a41-ef7ddc531ebd"
      },
      "execution_count": null,
      "outputs": [
        {
          "output_type": "stream",
          "name": "stdout",
          "text": [
            "                 AWB Date  Mes     Total AWB\n",
            "ID CLIENTE                                  \n",
            "5003103483     2022-12-30   12  7.458350e+06\n",
            "21080321757996 2022-12-31   12  3.091667e+06\n",
            "NL858608650B01 2022-12-31   12  2.157416e+06\n",
            "01306202210202 2022-12-31    6  1.627807e+06\n",
            "1712385        2022-12-29   12  1.298624e+06\n",
            "...                   ...  ...           ...\n",
            "110105311115   2022-04-10    2  2.942660e+03\n",
            "1791265009001  2022-11-13    2  2.850840e+03\n",
            "18697021716853 2022-05-22    1  1.580400e+03\n",
            "0590060240001  2022-11-21    1  5.711000e+02\n",
            "C2043234600    2022-01-11    1  5.091000e+02\n",
            "\n",
            "[100 rows x 3 columns]\n"
          ]
        }
      ]
    },
    {
      "cell_type": "markdown",
      "source": [
        "## Mejorar la lectura del DataFrame"
      ],
      "metadata": {
        "id": "fR457jw4or1c"
      }
    },
    {
      "cell_type": "markdown",
      "source": [
        "Para una mejor visualización del dataframe y lo que significa cada columna voy a cambiarlas de la siguiente forma:\n",
        "\n",
        "1. Agregar una nueva columna llamada \"R\" que tenga el número de días que han pasado desde su última compra en \"Order Date\"\n",
        "2. Renombrar \"Order ID\" a \"F\".\n",
        "3. Renombrar \"Sales\" a \"M\".\n",
        "4. Remover la columna \"Order Date\" que ya no necesito."
      ],
      "metadata": {
        "id": "4zxAxikZn9VR"
      }
    },
    {
      "cell_type": "code",
      "source": [
        "# Transformar la \"fecha de la ultima compra\" a \"dias desde la ultima compra\"\n",
        "FREQUENCY = 'F'\n",
        "RECENCY = 'R'\n",
        "MONETARY = 'M'\n",
        "sales_frm = sales_stats.copy()\n",
        "\n",
        "today = sales['AWB Date'].max()\n",
        "sales_frm[RECENCY] = (today - sales_frm['AWB Date']).dt.days\n",
        "\n",
        "# Renombrar columnas para mejor lectura y remover las que ya no necesito\n",
        "sales_frm = sales_frm.rename(columns={\"Mes\": FREQUENCY, \"Total AWB\": MONETARY})\n",
        "sales_frm = sales_frm.drop(columns=['AWB Date'])\n",
        "\n",
        "print(sales_frm)\n",
        "print(type(sales_frm))"
      ],
      "metadata": {
        "colab": {
          "base_uri": "https://localhost:8080/"
        },
        "id": "3WiYiLbSF08g",
        "outputId": "9d648c5b-e974-40b1-8416-2bb29ef47dfb"
      },
      "execution_count": null,
      "outputs": [
        {
          "output_type": "stream",
          "name": "stdout",
          "text": [
            "                 F             M    R\n",
            "ID CLIENTE                           \n",
            "5003103483      12  7.458350e+06    1\n",
            "21080321757996  12  3.091667e+06    0\n",
            "NL858608650B01  12  2.157416e+06    0\n",
            "01306202210202   6  1.627807e+06    0\n",
            "1712385         12  1.298624e+06    2\n",
            "...             ..           ...  ...\n",
            "110105311115     2  2.942660e+03  265\n",
            "1791265009001    2  2.850840e+03   48\n",
            "18697021716853   1  1.580400e+03  223\n",
            "0590060240001    1  5.711000e+02   40\n",
            "C2043234600      1  5.091000e+02  354\n",
            "\n",
            "[100 rows x 3 columns]\n",
            "<class 'pandas.core.frame.DataFrame'>\n"
          ]
        }
      ]
    },
    {
      "cell_type": "code",
      "source": [
        "#Prueba para visualizar las fechas del cliente con compras más recientes\n",
        "sales[sales['ID CLIENTE'] == '110105311115'].sort_values(by='AWB Date', ascending=False).head()\n",
        "cliente_especifico = customers_scores_df.loc[customers_scores_df.index == '110105311115']\n",
        "print(cliente_especifico)"
      ],
      "metadata": {
        "colab": {
          "base_uri": "https://localhost:8080/"
        },
        "id": "Lct313FbSRMi",
        "outputId": "9795d827-d50f-46c8-d54c-f5849a2d680b"
      },
      "execution_count": null,
      "outputs": [
        {
          "output_type": "stream",
          "name": "stdout",
          "text": [
            "              F            M    R Fscore Mscore Rscore ScoreTOTAL\n",
            "ID CLIENTE                                                       \n",
            "110105311115  2  2942.660034  265      D      D      D        DDD\n"
          ]
        }
      ]
    },
    {
      "cell_type": "markdown",
      "source": [
        "# Calificación de clientes"
      ],
      "metadata": {
        "id": "IkNIj043pCvp"
      }
    },
    {
      "cell_type": "markdown",
      "source": [
        "Por cada columna F, R y M de los clientes se puede dar una calificación de la 'A' a la 'D' donde 'A' puede ser por ejemplo un cliente más fidelizado  y 'D' es un cliente menos fidelizado.\n"
      ],
      "metadata": {
        "id": "3jcrcgdIpHsu"
      }
    },
    {
      "cell_type": "markdown",
      "source": [
        "## Funciones de ayuda\n",
        "Estas son tres funciones que permiten generar una calificacón por cada columna F, R y M de un dataframe."
      ],
      "metadata": {
        "id": "jbqjhtJip9hB"
      }
    },
    {
      "cell_type": "code",
      "source": [
        "# Función que ayuda a saber si un número está dentro de un rango o no.\n",
        "def between(value, min_limit, max_limit):\n",
        "  return (value >= min_limit) & (value < max_limit)"
      ],
      "metadata": {
        "id": "8VGbBFS1dzlO"
      },
      "execution_count": null,
      "outputs": []
    },
    {
      "cell_type": "code",
      "source": [
        "# Función que ayuda a dar un score a cualquier columna de un FRM dataframe\n",
        "def add_score_for(df, column, reverse=False):\n",
        "  Q1 = df[column].quantile(0.25)\n",
        "  Q2 = df[column].quantile(0.50)\n",
        "  Q3 = df[column].quantile(0.75)\n",
        "\n",
        "  print(f'Q1 de {column}: {Q1}')\n",
        "  print(f'Q2 de {column}: {Q2}')\n",
        "  print(f'Q3 de {column}: {Q3}')\n",
        "\n",
        "  min_limit = df[column].min()\n",
        "  max_limit = df[column].max() + 1\n",
        "\n",
        "  print(f'min {column}: {min_limit}')\n",
        "  print(f'max {column}: {max_limit}')\n",
        "\n",
        "  scale = ['A', 'B', 'C', 'D']\n",
        "\n",
        "  if (reverse):\n",
        "    scale.reverse()\n",
        "\n",
        "  df.loc[between(df[column], min_limit, Q1), column + 'score'] = scale[3]\n",
        "  df.loc[between(df[column], Q1, Q2), column + 'score'] = scale[2]\n",
        "  df.loc[between(df[column], Q2, Q3), column + 'score'] = scale[1]\n",
        "  df.loc[between(df[column], Q3, max_limit), column + 'score'] = scale[0]\n",
        "\n",
        "#  df.loc[between(df[column], Q3, max_limit), column + 'score'] = scale[0]\n",
        "#  df.loc[between(df[column], Q2, Q3), column + 'score'] = scale[1]\n",
        "#  df.loc[between(df[column], Q1, Q2), column + 'score'] = scale[2]\n",
        "#  df.loc[between(df[column], min_limit, Q1), column + 'score'] = scale[3]"
      ],
      "metadata": {
        "id": "U9DTJyX4a5X2"
      },
      "execution_count": null,
      "outputs": []
    },
    {
      "cell_type": "code",
      "source": [
        "def score_customers(df):\n",
        "  score_df = df.copy()\n",
        "  add_score_for(score_df, FREQUENCY)\n",
        "  add_score_for(score_df, MONETARY)\n",
        "  add_score_for(score_df, RECENCY, True)\n",
        "\n",
        "  return score_df\n"
      ],
      "metadata": {
        "id": "GeBOe0ZNjjrO"
      },
      "execution_count": null,
      "outputs": []
    },
    {
      "cell_type": "markdown",
      "source": [
        "Ahora puedo usar cualquier dataframe que tenga las columnas F, R y M y obtener la calificación de los clientes."
      ],
      "metadata": {
        "id": "ANn3xYLMqPuY"
      }
    },
    {
      "cell_type": "code",
      "source": [
        "customers_scores_df = score_customers(sales_frm)\n",
        "print (customers_scores_df)"
      ],
      "metadata": {
        "colab": {
          "base_uri": "https://localhost:8080/"
        },
        "id": "iXqt1pT-iNQy",
        "outputId": "429400b0-c31b-46d7-cc4a-e5867e96da63"
      },
      "execution_count": null,
      "outputs": [
        {
          "output_type": "stream",
          "name": "stdout",
          "text": [
            "Q1 de F: 3.0\n",
            "Q2 de F: 7.0\n",
            "Q3 de F: 10.0\n",
            "min F: 1\n",
            "max F: 13\n",
            "Q1 de M: 40983.797775268555\n",
            "Q2 de M: 111704.0947265625\n",
            "Q3 de M: 365367.0651855469\n",
            "min M: 509.1000061035156\n",
            "max M: 7458350.801086426\n",
            "Q1 de R: 1.0\n",
            "Q2 de R: 8.5\n",
            "Q3 de R: 153.0\n",
            "min R: 0\n",
            "max R: 355\n",
            "                 F             M    R Fscore Mscore Rscore\n",
            "ID CLIENTE                                                \n",
            "5003103483      12  7.458350e+06    1      A      A      B\n",
            "21080321757996  12  3.091667e+06    0      A      A      A\n",
            "NL858608650B01  12  2.157416e+06    0      A      A      A\n",
            "01306202210202   6  1.627807e+06    0      C      A      A\n",
            "1712385         12  1.298624e+06    2      A      A      B\n",
            "...             ..           ...  ...    ...    ...    ...\n",
            "110105311115     2  2.942660e+03  265      D      D      D\n",
            "1791265009001    2  2.850840e+03   48      D      D      C\n",
            "18697021716853   1  1.580400e+03  223      D      D      D\n",
            "0590060240001    1  5.711000e+02   40      D      D      C\n",
            "C2043234600      1  5.091000e+02  354      D      D      D\n",
            "\n",
            "[100 rows x 6 columns]\n"
          ]
        }
      ]
    },
    {
      "cell_type": "markdown",
      "source": [
        "# Interpretación de los datos\n",
        "Esto es solo para probar qué información se puede sacar del dataframe con resultados, no tiene ningún objetivo en particular."
      ],
      "metadata": {
        "id": "Xq0kom0Nqps1"
      }
    },
    {
      "cell_type": "code",
      "source": [
        "def describe_customer_scores(customers_score):\n",
        "  F = FREQUENCY + 'score'\n",
        "  R = RECENCY + 'score'\n",
        "  M = MONETARY + 'score'\n",
        "  total = len(customers_score)\n",
        "\n",
        "  clientes_AAA = customers_score[(customers_score[F] == 'A') & (customers_score[R] == 'A') & (customers_score[M] == 'A')]\n",
        "  clientes_DDD = customers_score[(customers_score[F] == 'D') & (customers_score[R] == 'D') & (customers_score[M] == 'D')]\n",
        "\n",
        "  print (f'{round(len(clientes_AAA) * 100 / total, 2)}% son clientes AAA.')\n",
        "  print (f'{round(len(clientes_DDD) * 100 / total, 2)}% son clientes DDD.')\n"
      ],
      "metadata": {
        "id": "7uSLU2Zcku8N"
      },
      "execution_count": null,
      "outputs": []
    },
    {
      "cell_type": "code",
      "source": [
        "describe_customer_scores(customers_scores_df)"
      ],
      "metadata": {
        "colab": {
          "base_uri": "https://localhost:8080/"
        },
        "id": "i6WoDp1ck60l",
        "outputId": "32e06d5c-60ad-4e23-dc3d-237a8b9337b3"
      },
      "execution_count": null,
      "outputs": [
        {
          "output_type": "stream",
          "name": "stdout",
          "text": [
            "7.0% son clientes AAA.\n",
            "8.0% son clientes DDD.\n"
          ]
        }
      ]
    },
    {
      "cell_type": "code",
      "source": [
        "# Clientes que gastan y venian bastantes veces, pero dejaron de venir.\n",
        "foo = customers_scores_df[(customers_scores_df['Fscore'] == 'A') & (customers_scores_df['Mscore'] == 'A') & (customers_scores_df['Rscore'].isin(['C', 'D']))]\n",
        "print(len(foo))\n"
      ],
      "metadata": {
        "colab": {
          "base_uri": "https://localhost:8080/"
        },
        "id": "6T_AnbovCn73",
        "outputId": "e56c1dfe-b493-4a7b-fd15-a60eaecfcf69"
      },
      "execution_count": null,
      "outputs": [
        {
          "output_type": "stream",
          "name": "stdout",
          "text": [
            "1\n"
          ]
        }
      ]
    },
    {
      "cell_type": "code",
      "source": [
        "# Clientes que gastan, vienen poco, vinieron recien (Clientes nuevos) -> Fidelizar.\n",
        "foo = customers_scores_df[(customers_scores_df['Fscore'].isin(['C', 'D'])) & (customers_scores_df['Mscore'] == 'A') & (customers_scores_df['Rscore'].isin(['A', 'B']))]\n",
        "print(len(foo))\n",
        "print(foo)\n"
      ],
      "metadata": {
        "colab": {
          "base_uri": "https://localhost:8080/"
        },
        "id": "mrn-bbJWEPY9",
        "outputId": "7daa8192-4e38-4fc7-d936-b2a057a0adf1"
      },
      "execution_count": null,
      "outputs": [
        {
          "output_type": "stream",
          "name": "stdout",
          "text": [
            "1\n",
            "                F             M  R Fscore Mscore Rscore\n",
            "ID CLIENTE                                             \n",
            "01306202210202  6  1.627807e+06  0      C      A      A\n"
          ]
        }
      ]
    },
    {
      "cell_type": "markdown",
      "source": [
        "# PRUEBAS\n",
        "\n",
        "PREUBAS PARA AJUSTA LOS SCORES."
      ],
      "metadata": {
        "id": "0G_-Fk6RoESQ"
      }
    },
    {
      "cell_type": "code",
      "source": [
        "# Función para asignar puntuaciones personalizadas a una columna\n",
        "def add_score_for(df, column, q_values, reverse=False):\n",
        "    min_limit = df[column].min()\n",
        "    max_limit = df[column].max() + 1\n",
        "\n",
        "    scale = ['A', 'B', 'C', 'D']\n",
        "    if reverse:\n",
        "        scale.reverse()\n",
        "\n",
        "    df[f'{column}score'] = 'D'  # Inicializa con la peor puntuación 'D'\n",
        "\n",
        "    q1, q2, q3 = q_values\n",
        "\n",
        "    condition = (df[column] >= q3) & (df[column] <= max_limit)\n",
        "    df.loc[condition, f'{column}score'] = scale[0]\n",
        "\n",
        "    condition = (df[column] >= q2) & (df[column] < q3)\n",
        "    df.loc[condition, f'{column}score'] = scale[1]\n",
        "\n",
        "    condition = (df[column] >= q1) & (df[column] < q2)\n",
        "    df.loc[condition, f'{column}score'] = scale[2]\n",
        "\n",
        "    condition = (df[column] >= min_limit) & (df[column] < q1)\n",
        "    df.loc[condition, f'{column}score'] = scale[3]\n",
        "\n",
        "# Función para puntuar a los clientes\n",
        "def score_customers(df, q_values):\n",
        "    score_df = df.copy()\n",
        "    for column, q_values_column, reverse in q_values:\n",
        "        add_score_for(score_df, column, q_values_column, reverse)\n",
        "    return score_df\n",
        "\n",
        "# Tu DataFrame de ventas\n",
        "sales_frm\n",
        "\n",
        "# Definición de los valores de q para cada columna\n",
        "q_values = [\n",
        "    ('F', (df['F'].quantile(0.25), df['F'].quantile(0.50), df['F'].quantile(0.75)), False),\n",
        "    ('M', (df['M'].quantile(0.25), df['M'].quantile(0.50), df['M'].quantile(0.75)), False),\n",
        "    ('R', (30, 60, 90), True)\n",
        "]\n",
        "\n",
        "# Asignar las puntuaciones personalizadas\n",
        "customers_scores_df = score_customers(sales_frm, q_values)\n",
        "print(customers_scores_df)\n",
        "print(q_values)"
      ],
      "metadata": {
        "colab": {
          "base_uri": "https://localhost:8080/"
        },
        "id": "BR1ye1BMtURY",
        "outputId": "a9f6ad30-41b9-426b-84a0-c76ce3c457ec"
      },
      "execution_count": null,
      "outputs": [
        {
          "output_type": "stream",
          "name": "stdout",
          "text": [
            "                 F             M    R Fscore Mscore Rscore\n",
            "ID CLIENTE                                                \n",
            "5003103483      12  7.458350e+06    1      A      A      A\n",
            "21080321757996  12  3.091667e+06    0      A      A      A\n",
            "NL858608650B01  12  2.157416e+06    0      A      A      A\n",
            "01306202210202   6  1.627807e+06    0      C      A      A\n",
            "1712385         12  1.298624e+06    2      A      A      A\n",
            "...             ..           ...  ...    ...    ...    ...\n",
            "110105311115     2  2.942660e+03  265      D      D      D\n",
            "1791265009001    2  2.850840e+03   48      D      D      B\n",
            "18697021716853   1  1.580400e+03  223      D      D      D\n",
            "0590060240001    1  5.711000e+02   40      D      D      B\n",
            "C2043234600      1  5.091000e+02  354      D      D      D\n",
            "\n",
            "[100 rows x 6 columns]\n",
            "[('F', (3.0, 7.0, 10.0), False), ('M', (40983.797775268555, 111704.0947265625, 365367.0651855469), False), ('R', (30, 60, 90), True)]\n"
          ]
        }
      ]
    },
    {
      "cell_type": "code",
      "source": [
        "customers_scores_df['ScoreTOTAL'] = customers_scores_df['Fscore']+customers_scores_df['Mscore']+customers_scores_df['Rscore']\n",
        "print(customers_scores_df)\n",
        "print(type(customers_scores_df))"
      ],
      "metadata": {
        "colab": {
          "base_uri": "https://localhost:8080/"
        },
        "id": "h2e7JkcZ-TEE",
        "outputId": "f7ab669a-3eda-4404-9740-9d4e354261f5"
      },
      "execution_count": null,
      "outputs": [
        {
          "output_type": "stream",
          "name": "stdout",
          "text": [
            "                 F             M    R Fscore Mscore Rscore ScoreTOTAL\n",
            "ID CLIENTE                                                           \n",
            "5003103483      12  7.458350e+06    1      A      A      A        AAA\n",
            "21080321757996  12  3.091667e+06    0      A      A      A        AAA\n",
            "NL858608650B01  12  2.157416e+06    0      A      A      A        AAA\n",
            "01306202210202   6  1.627807e+06    0      C      A      A        CAA\n",
            "1712385         12  1.298624e+06    2      A      A      A        AAA\n",
            "...             ..           ...  ...    ...    ...    ...        ...\n",
            "110105311115     2  2.942660e+03  265      D      D      D        DDD\n",
            "1791265009001    2  2.850840e+03   48      D      D      B        DDB\n",
            "18697021716853   1  1.580400e+03  223      D      D      D        DDD\n",
            "0590060240001    1  5.711000e+02   40      D      D      B        DDB\n",
            "C2043234600      1  5.091000e+02  354      D      D      D        DDD\n",
            "\n",
            "[100 rows x 7 columns]\n",
            "<class 'pandas.core.frame.DataFrame'>\n"
          ]
        }
      ]
    },
    {
      "cell_type": "code",
      "source": [
        "customers_scores_df.groupby('ScoreTOTAL')['ID CLIENTE'].nunique()"
      ],
      "metadata": {
        "colab": {
          "base_uri": "https://localhost:8080/",
          "height": 334
        },
        "id": "AJ_67T18Ej4N",
        "outputId": "e0ddee78-b99b-47b4-cd1e-513e9b11ed4f"
      },
      "execution_count": null,
      "outputs": [
        {
          "output_type": "error",
          "ename": "KeyError",
          "evalue": "ignored",
          "traceback": [
            "\u001b[0;31m---------------------------------------------------------------------------\u001b[0m",
            "\u001b[0;31mKeyError\u001b[0m                                  Traceback (most recent call last)",
            "\u001b[0;32m<ipython-input-121-2abd00e20253>\u001b[0m in \u001b[0;36m<cell line: 1>\u001b[0;34m()\u001b[0m\n\u001b[0;32m----> 1\u001b[0;31m \u001b[0mcustomers_scores_df\u001b[0m\u001b[0;34m.\u001b[0m\u001b[0mgroupby\u001b[0m\u001b[0;34m(\u001b[0m\u001b[0;34m'ScoreTOTAL'\u001b[0m\u001b[0;34m)\u001b[0m\u001b[0;34m[\u001b[0m\u001b[0;34m'ID CLIENTE'\u001b[0m\u001b[0;34m]\u001b[0m\u001b[0;34m.\u001b[0m\u001b[0mnunique\u001b[0m\u001b[0;34m(\u001b[0m\u001b[0;34m)\u001b[0m\u001b[0;34m\u001b[0m\u001b[0;34m\u001b[0m\u001b[0m\n\u001b[0m",
            "\u001b[0;32m/usr/local/lib/python3.10/dist-packages/pandas/core/frame.py\u001b[0m in \u001b[0;36mgroupby\u001b[0;34m(self, by, axis, level, as_index, sort, group_keys, squeeze, observed, dropna)\u001b[0m\n\u001b[1;32m   8400\u001b[0m         \u001b[0maxis\u001b[0m \u001b[0;34m=\u001b[0m \u001b[0mself\u001b[0m\u001b[0;34m.\u001b[0m\u001b[0m_get_axis_number\u001b[0m\u001b[0;34m(\u001b[0m\u001b[0maxis\u001b[0m\u001b[0;34m)\u001b[0m\u001b[0;34m\u001b[0m\u001b[0;34m\u001b[0m\u001b[0m\n\u001b[1;32m   8401\u001b[0m \u001b[0;34m\u001b[0m\u001b[0m\n\u001b[0;32m-> 8402\u001b[0;31m         return DataFrameGroupBy(\n\u001b[0m\u001b[1;32m   8403\u001b[0m             \u001b[0mobj\u001b[0m\u001b[0;34m=\u001b[0m\u001b[0mself\u001b[0m\u001b[0;34m,\u001b[0m\u001b[0;34m\u001b[0m\u001b[0;34m\u001b[0m\u001b[0m\n\u001b[1;32m   8404\u001b[0m             \u001b[0mkeys\u001b[0m\u001b[0;34m=\u001b[0m\u001b[0mby\u001b[0m\u001b[0;34m,\u001b[0m\u001b[0;34m\u001b[0m\u001b[0;34m\u001b[0m\u001b[0m\n",
            "\u001b[0;32m/usr/local/lib/python3.10/dist-packages/pandas/core/groupby/groupby.py\u001b[0m in \u001b[0;36m__init__\u001b[0;34m(self, obj, keys, axis, level, grouper, exclusions, selection, as_index, sort, group_keys, squeeze, observed, mutated, dropna)\u001b[0m\n\u001b[1;32m    963\u001b[0m             \u001b[0;32mfrom\u001b[0m \u001b[0mpandas\u001b[0m\u001b[0;34m.\u001b[0m\u001b[0mcore\u001b[0m\u001b[0;34m.\u001b[0m\u001b[0mgroupby\u001b[0m\u001b[0;34m.\u001b[0m\u001b[0mgrouper\u001b[0m \u001b[0;32mimport\u001b[0m \u001b[0mget_grouper\u001b[0m\u001b[0;34m\u001b[0m\u001b[0;34m\u001b[0m\u001b[0m\n\u001b[1;32m    964\u001b[0m \u001b[0;34m\u001b[0m\u001b[0m\n\u001b[0;32m--> 965\u001b[0;31m             grouper, exclusions, obj = get_grouper(\n\u001b[0m\u001b[1;32m    966\u001b[0m                 \u001b[0mobj\u001b[0m\u001b[0;34m,\u001b[0m\u001b[0;34m\u001b[0m\u001b[0;34m\u001b[0m\u001b[0m\n\u001b[1;32m    967\u001b[0m                 \u001b[0mkeys\u001b[0m\u001b[0;34m,\u001b[0m\u001b[0;34m\u001b[0m\u001b[0;34m\u001b[0m\u001b[0m\n",
            "\u001b[0;32m/usr/local/lib/python3.10/dist-packages/pandas/core/groupby/grouper.py\u001b[0m in \u001b[0;36mget_grouper\u001b[0;34m(obj, key, axis, level, sort, observed, mutated, validate, dropna)\u001b[0m\n\u001b[1;32m    886\u001b[0m                 \u001b[0min_axis\u001b[0m\u001b[0;34m,\u001b[0m \u001b[0mlevel\u001b[0m\u001b[0;34m,\u001b[0m \u001b[0mgpr\u001b[0m \u001b[0;34m=\u001b[0m \u001b[0;32mFalse\u001b[0m\u001b[0;34m,\u001b[0m \u001b[0mgpr\u001b[0m\u001b[0;34m,\u001b[0m \u001b[0;32mNone\u001b[0m\u001b[0;34m\u001b[0m\u001b[0;34m\u001b[0m\u001b[0m\n\u001b[1;32m    887\u001b[0m             \u001b[0;32melse\u001b[0m\u001b[0;34m:\u001b[0m\u001b[0;34m\u001b[0m\u001b[0;34m\u001b[0m\u001b[0m\n\u001b[0;32m--> 888\u001b[0;31m                 \u001b[0;32mraise\u001b[0m \u001b[0mKeyError\u001b[0m\u001b[0;34m(\u001b[0m\u001b[0mgpr\u001b[0m\u001b[0;34m)\u001b[0m\u001b[0;34m\u001b[0m\u001b[0;34m\u001b[0m\u001b[0m\n\u001b[0m\u001b[1;32m    889\u001b[0m         \u001b[0;32melif\u001b[0m \u001b[0misinstance\u001b[0m\u001b[0;34m(\u001b[0m\u001b[0mgpr\u001b[0m\u001b[0;34m,\u001b[0m \u001b[0mGrouper\u001b[0m\u001b[0;34m)\u001b[0m \u001b[0;32mand\u001b[0m \u001b[0mgpr\u001b[0m\u001b[0;34m.\u001b[0m\u001b[0mkey\u001b[0m \u001b[0;32mis\u001b[0m \u001b[0;32mnot\u001b[0m \u001b[0;32mNone\u001b[0m\u001b[0;34m:\u001b[0m\u001b[0;34m\u001b[0m\u001b[0;34m\u001b[0m\u001b[0m\n\u001b[1;32m    890\u001b[0m             \u001b[0;31m# Add key to exclusions\u001b[0m\u001b[0;34m\u001b[0m\u001b[0;34m\u001b[0m\u001b[0m\n",
            "\u001b[0;31mKeyError\u001b[0m: 'ScoreTOTAL'"
          ]
        }
      ]
    },
    {
      "cell_type": "code",
      "source": [
        "#Prueba para visualizar las fechas del cliente con compras más recientes\n",
        "sales[sales['ID CLIENTE'] == '9715236882'].sort_values(by='AWB Date', ascending=False).head()\n",
        "cliente_especifico = customers_scores_df.loc[customers_scores_df.index == '9715236882']\n",
        "print(cliente_especifico)"
      ],
      "metadata": {
        "colab": {
          "base_uri": "https://localhost:8080/"
        },
        "id": "ZI5eNJ4QwoJI",
        "outputId": "ed6741cb-3255-48e8-cb48-5585873ec573"
      },
      "execution_count": null,
      "outputs": [
        {
          "output_type": "stream",
          "name": "stdout",
          "text": [
            "            F              M   R Fscore Mscore Rscore\n",
            "ID CLIENTE                                           \n",
            "9715236882  9  587422.739624  94      B      A      D\n"
          ]
        }
      ]
    },
    {
      "cell_type": "code",
      "source": [
        "def describe_customer_scores(customers_score):\n",
        "  F = FREQUENCY + 'score'\n",
        "  R = RECENCY + 'score'\n",
        "  M = MONETARY + 'score'\n",
        "  total = len(customers_score)\n",
        "\n",
        "  clientes_AAA = customers_score[(customers_score[F] == 'A') & (customers_score[R] == 'A') & (customers_score[M] == 'A')]\n",
        "  clientes_DDD = customers_score[(customers_score[F] == 'D') & (customers_score[R] == 'D') & (customers_score[M] == 'D')]\n",
        "\n",
        "  print (f'{round(len(clientes_AAA) * 100 / total, 2)}% son clientes AAA.')\n",
        "  print (f'{round(len(clientes_DDD) * 100 / total, 2)}% son clientes DDD.')\n"
      ],
      "metadata": {
        "id": "wy5DEK__wbyk"
      },
      "execution_count": null,
      "outputs": []
    },
    {
      "cell_type": "code",
      "source": [
        "describe_customer_scores(customers_scores_df)"
      ],
      "metadata": {
        "colab": {
          "base_uri": "https://localhost:8080/"
        },
        "id": "0kRUpk3AwfIk",
        "outputId": "78b2d9a0-f867-41f1-a976-23e8027ac6bc"
      },
      "execution_count": null,
      "outputs": [
        {
          "output_type": "stream",
          "name": "stdout",
          "text": [
            "13.0% son clientes AAA.\n",
            "9.0% son clientes DDD.\n"
          ]
        }
      ]
    },
    {
      "cell_type": "code",
      "source": [
        "# Ejemplo de un DataFrame con columnas F, M y R\n",
        "df = sales_frm\n",
        "\n",
        "# Define una función para asignar puntajes personalizados a una columna\n",
        "def assign_custom_scores(df, column, q1, q2, q3, reverse=False):\n",
        "    scale = ['A', 'B', 'C', 'D']\n",
        "    df[f'{column}score'] = pd.cut(df[column], bins=[-float(\"inf\"), q1, q2, q3, float(\"inf\")], labels=scale)\n",
        "\n",
        "    if (reverse):\n",
        "      scale.reverse()\n",
        "\n",
        "# Valores de cuartiles personalizados para cada columna\n",
        "q1_F = 3\n",
        "q2_F = 7\n",
        "q3_F = 10\n",
        "\n",
        "q1_M = 40983.797775268555\n",
        "q2_M = 111704.0947265625\n",
        "q3_M = 365367.0651855469\n",
        "\n",
        "q1_R = 30\n",
        "q2_R = 60\n",
        "q3_R = 90\n",
        "\n",
        "# Asigna puntajes personalizados para cada columna\n",
        "assign_custom_scores(df, 'F', q1_F, q2_F, q3_F)\n",
        "assign_custom_scores(df, 'M', q1_M, q2_M, q3_M)\n",
        "assign_custom_scores(df, 'R', q1_R, q2_R, q3_R)\n",
        "\n",
        "print(df)"
      ],
      "metadata": {
        "colab": {
          "base_uri": "https://localhost:8080/"
        },
        "id": "8qcWLGeSoxBB",
        "outputId": "4e025f34-9cfe-48dd-827c-327a961f95dc"
      },
      "execution_count": null,
      "outputs": [
        {
          "output_type": "stream",
          "name": "stdout",
          "text": [
            "                 F             M    R Fscore Mscore Rscore\n",
            "ID CLIENTE                                                \n",
            "5003103483      12  7.458350e+06    1      D      D      A\n",
            "21080321757996  12  3.091667e+06    0      D      D      A\n",
            "NL858608650B01  12  2.157416e+06    0      D      D      A\n",
            "01306202210202   6  1.627807e+06    0      B      D      A\n",
            "1712385         12  1.298624e+06    2      D      D      A\n",
            "...             ..           ...  ...    ...    ...    ...\n",
            "110105311115     2  2.942660e+03  265      A      A      D\n",
            "1791265009001    2  2.850840e+03   48      A      A      B\n",
            "18697021716853   1  1.580400e+03  223      A      A      D\n",
            "0590060240001    1  5.711000e+02   40      A      A      B\n",
            "C2043234600      1  5.091000e+02  354      A      A      D\n",
            "\n",
            "[100 rows x 6 columns]\n"
          ]
        }
      ]
    },
    {
      "cell_type": "code",
      "source": [
        "# Clientes con alta frecuencia pero baja recency y baja consumo monetario\n",
        "# No vienen ultimamente y no compran. :/\n",
        "foo = customers_scores_df[(customers_scores_df['Mscore'].isin(['D'])) & (customers_scores_df['Rscore'].isin(['D']))]\n",
        "print(len(foo))\n",
        "print(foo)"
      ],
      "metadata": {
        "colab": {
          "base_uri": "https://localhost:8080/"
        },
        "id": "QjJEqZKMFkZU",
        "outputId": "1a53d17e-928e-4ab9-e715-3f64cfa1b130"
      },
      "execution_count": null,
      "outputs": [
        {
          "output_type": "stream",
          "name": "stdout",
          "text": [
            "13\n",
            "                      F             M    R Fscore Mscore Rscore\n",
            "ID CLIENTE                                                     \n",
            "1792062616001         5  37430.929993  223      C      D      D\n",
            "692173979             4  36167.309631  259      C      D      D\n",
            "NL818325835B01        2  30878.759888  321      D      D      D\n",
            "1791262212001         4  28103.750000  267      C      D      D\n",
            "1792130034001         3  27177.220337  286      D      D      D\n",
            "1728025725001         1  18623.300049  335      D      D      D\n",
            "USCI9131011559976692  2   7717.200195  330      D      D      D\n",
            "11459205335           2   7273.879883  229      D      D      D\n",
            "CZ06550690            3   5174.130005  204      D      D      D\n",
            "454408846             1   3301.699951  267      D      D      D\n",
            "110105311115          2   2942.660034  265      D      D      D\n",
            "18697021716853        1   1580.399994  223      D      D      D\n",
            "C2043234600           1    509.100006  354      D      D      D\n"
          ]
        }
      ]
    },
    {
      "cell_type": "code",
      "source": [
        "def add_score_custom2(df, column, q1, q2, q3, reverse=False):\n",
        "    min_limit2 = df[column].min()\n",
        "    max_limit2 = df[column].max() + 1\n",
        "\n",
        "    print(f'min {column}: {min_limit2}')\n",
        "    print(f'max {column}: {max_limit2}')\n",
        "\n",
        "    scale = ['A', 'B', 'C', 'D']\n",
        "\n",
        "    if (reverse):\n",
        "        scale.reverse()\n",
        "\n",
        "    df.loc[between(df[column], min_limit2, q1), column + 'score'] = scale[3]\n",
        "    df.loc[between(df[column], q1, q2), column + 'score'] = scale[2]\n",
        "    df.loc[between(df[column], q2, q3), column + 'score'] = scale[1]\n",
        "    df.loc[between(df[column], q3, max_limit2), column + 'score'] = scale[0]"
      ],
      "metadata": {
        "id": "5cbg0uLLc-4I"
      },
      "execution_count": null,
      "outputs": []
    },
    {
      "cell_type": "code",
      "source": [
        "# Definir los valores de cuartiles personalizados para cada columna\n",
        "custom_q1_F = 3  # Reemplaza con el valor Q1 deseado para la columna FREQUENCY\n",
        "custom_q2_F = 7  # Reemplaza con el valor Q2 deseado para la columna FREQUENCY\n",
        "custom_q3_F = 10  # Reemplaza con el valor Q3 deseado para la columna FREQUENCY\n",
        "\n",
        "custom_q1_M = 5000  # Reemplaza con el valor Q1 deseado para la columna MONETARY\n",
        "custom_q2_M = 111704.0947265625  # Reemplaza con el valor Q2 deseado para la columna MONETARY\n",
        "custom_q3_M = 20000  # Reemplaza con el valor Q3 deseado para la columna MONETARY\n",
        "\n",
        "custom_q1_R = 10  # Reemplaza con el valor Q1 deseado para la columna RECENCY\n",
        "custom_q2_R = 20  # Reemplaza con el valor Q2 deseado para la columna RECENCY\n",
        "custom_q3_R = 31  # Reemplaza con el valor Q3 deseado para la columna RECENCY\n",
        "\n",
        "\n",
        "\n",
        "def score_customers2(df):\n",
        "  score_df2 = df.copy()\n",
        "  add_score_for2(score_df2, FREQUENCY, custom_q1_F, custom_q2_F, custom_q3_F)\n",
        "  add_score_for2(score_df2, MONETARY, custom_q1_M, custom_q2_M, custom_q3_M)\n",
        "  add_score_for2(score_df2, RECENCY, custom_q1_R, custom_q2_R, custom_q3_R, True)\n",
        "\n",
        "  return score_df2"
      ],
      "metadata": {
        "id": "bC7P_2r7l2YL"
      },
      "execution_count": null,
      "outputs": []
    },
    {
      "cell_type": "code",
      "source": [
        "customers_scores_df2 = score_customers2(sales_frm)\n",
        "print (customers_scores_df2)"
      ],
      "metadata": {
        "colab": {
          "base_uri": "https://localhost:8080/",
          "height": 310
        },
        "id": "NZflGpCYg7mi",
        "outputId": "a844e391-2644-4597-d2a7-f99b6bc1d0c4"
      },
      "execution_count": null,
      "outputs": [
        {
          "output_type": "error",
          "ename": "NameError",
          "evalue": "ignored",
          "traceback": [
            "\u001b[0;31m---------------------------------------------------------------------------\u001b[0m",
            "\u001b[0;31mNameError\u001b[0m                                 Traceback (most recent call last)",
            "\u001b[0;32m<ipython-input-80-718d04236245>\u001b[0m in \u001b[0;36m<cell line: 1>\u001b[0;34m()\u001b[0m\n\u001b[0;32m----> 1\u001b[0;31m \u001b[0mcustomers_scores_df2\u001b[0m \u001b[0;34m=\u001b[0m \u001b[0mscore_customers2\u001b[0m\u001b[0;34m(\u001b[0m\u001b[0msales_frm\u001b[0m\u001b[0;34m)\u001b[0m\u001b[0;34m\u001b[0m\u001b[0;34m\u001b[0m\u001b[0m\n\u001b[0m\u001b[1;32m      2\u001b[0m \u001b[0mprint\u001b[0m \u001b[0;34m(\u001b[0m\u001b[0mcustomers_scores_df2\u001b[0m\u001b[0;34m)\u001b[0m\u001b[0;34m\u001b[0m\u001b[0;34m\u001b[0m\u001b[0m\n",
            "\u001b[0;32m<ipython-input-79-8f94ad2c6dc9>\u001b[0m in \u001b[0;36mscore_customers2\u001b[0;34m(df)\u001b[0m\n\u001b[1;32m     16\u001b[0m \u001b[0;32mdef\u001b[0m \u001b[0mscore_customers2\u001b[0m\u001b[0;34m(\u001b[0m\u001b[0mdf\u001b[0m\u001b[0;34m)\u001b[0m\u001b[0;34m:\u001b[0m\u001b[0;34m\u001b[0m\u001b[0;34m\u001b[0m\u001b[0m\n\u001b[1;32m     17\u001b[0m   \u001b[0mscore_df2\u001b[0m \u001b[0;34m=\u001b[0m \u001b[0mdf\u001b[0m\u001b[0;34m.\u001b[0m\u001b[0mcopy\u001b[0m\u001b[0;34m(\u001b[0m\u001b[0;34m)\u001b[0m\u001b[0;34m\u001b[0m\u001b[0;34m\u001b[0m\u001b[0m\n\u001b[0;32m---> 18\u001b[0;31m   \u001b[0madd_score_for2\u001b[0m\u001b[0;34m(\u001b[0m\u001b[0mscore_df2\u001b[0m\u001b[0;34m,\u001b[0m \u001b[0mFREQUENCY\u001b[0m\u001b[0;34m,\u001b[0m \u001b[0mcustom_q1_F\u001b[0m\u001b[0;34m,\u001b[0m \u001b[0mcustom_q2_F\u001b[0m\u001b[0;34m,\u001b[0m \u001b[0mcustom_q3_F\u001b[0m\u001b[0;34m)\u001b[0m\u001b[0;34m\u001b[0m\u001b[0;34m\u001b[0m\u001b[0m\n\u001b[0m\u001b[1;32m     19\u001b[0m   \u001b[0madd_score_for2\u001b[0m\u001b[0;34m(\u001b[0m\u001b[0mscore_df2\u001b[0m\u001b[0;34m,\u001b[0m \u001b[0mMONETARY\u001b[0m\u001b[0;34m,\u001b[0m \u001b[0mcustom_q1_M\u001b[0m\u001b[0;34m,\u001b[0m \u001b[0mcustom_q2_M\u001b[0m\u001b[0;34m,\u001b[0m \u001b[0mcustom_q3_M\u001b[0m\u001b[0;34m)\u001b[0m\u001b[0;34m\u001b[0m\u001b[0;34m\u001b[0m\u001b[0m\n\u001b[1;32m     20\u001b[0m   \u001b[0madd_score_for2\u001b[0m\u001b[0;34m(\u001b[0m\u001b[0mscore_df2\u001b[0m\u001b[0;34m,\u001b[0m \u001b[0mRECENCY\u001b[0m\u001b[0;34m,\u001b[0m \u001b[0mcustom_q1_R\u001b[0m\u001b[0;34m,\u001b[0m \u001b[0mcustom_q2_R\u001b[0m\u001b[0;34m,\u001b[0m \u001b[0mcustom_q3_R\u001b[0m\u001b[0;34m,\u001b[0m \u001b[0;32mTrue\u001b[0m\u001b[0;34m)\u001b[0m\u001b[0;34m\u001b[0m\u001b[0;34m\u001b[0m\u001b[0m\n",
            "\u001b[0;31mNameError\u001b[0m: name 'add_score_for2' is not defined"
          ]
        }
      ]
    }
  ]
}